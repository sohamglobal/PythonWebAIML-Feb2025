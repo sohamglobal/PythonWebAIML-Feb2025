{
  "nbformat": 4,
  "nbformat_minor": 0,
  "metadata": {
    "colab": {
      "provenance": []
    },
    "kernelspec": {
      "name": "python3",
      "display_name": "Python 3"
    },
    "language_info": {
      "name": "python"
    }
  },
  "cells": [
    {
      "cell_type": "code",
      "execution_count": 7,
      "metadata": {
        "id": "UTQplhJ0mByu"
      },
      "outputs": [],
      "source": [
        "import pandas\n",
        "from sklearn.tree import DecisionTreeClassifier\n",
        "from sklearn.model_selection import train_test_split\n",
        "from sklearn.metrics import accuracy_score"
      ]
    },
    {
      "cell_type": "code",
      "source": [
        "url=\"https://raw.githubusercontent.com/sohamglobal/datasets/refs/heads/main/moviechoice.csv\"\n",
        "df=pandas.read_csv(url)\n",
        "print(df)"
      ],
      "metadata": {
        "colab": {
          "base_uri": "https://localhost:8080/"
        },
        "id": "LGLBgaCbmSwD",
        "outputId": "9c039d3c-4464-4163-e95a-199a7ab09ff9"
      },
      "execution_count": 2,
      "outputs": [
        {
          "output_type": "stream",
          "name": "stdout",
          "text": [
            "    gender  age  locality      genre\n",
            "0        1   18         1    Fantasy\n",
            "1        1   20         1    Fantasy\n",
            "2        1   23         1    Fantasy\n",
            "3        1   25         1    Fantasy\n",
            "4        1   18         2     Comedy\n",
            "..     ...  ...       ...        ...\n",
            "67       2   50         2  Mythology\n",
            "68       2   53         2  Mythology\n",
            "69       2   55         2  Mythology\n",
            "70       2   58         2  Mythology\n",
            "71       2   60         2  Mythology\n",
            "\n",
            "[72 rows x 4 columns]\n"
          ]
        }
      ]
    },
    {
      "cell_type": "code",
      "source": [
        "features=df[['gender','age','locality']]\n",
        "labels=df['genre']"
      ],
      "metadata": {
        "id": "xrRCHuk8oEoy"
      },
      "execution_count": 3,
      "outputs": []
    },
    {
      "cell_type": "code",
      "source": [
        "total=0\n",
        "for i in range(1,11):\n",
        "  #split 10 times differently\n",
        "  features_train,features_test,labels_train,labels_test=train_test_split(features,labels,test_size=0.2)\n",
        "  #build the model for every training dataset\n",
        "  model=DecisionTreeClassifier()\n",
        "  model.fit(features_train,labels_train)\n",
        "  #find the result with testing data\n",
        "  result=model.predict(features_test)\n",
        "  #compare the model result with the actual labels\n",
        "  score=accuracy_score(result,labels_test)\n",
        "  #print(score)\n",
        "  total+=score\n",
        "\n",
        "avg=(total/10)*100\n",
        "print('Average accuracy score of the model : %.2f%%' %avg)\n",
        "if avg>80:\n",
        "  print('This model can be deployed in an application for users')\n",
        "else:\n",
        "  print('This model requires more data and training')\n"
      ],
      "metadata": {
        "colab": {
          "base_uri": "https://localhost:8080/"
        },
        "id": "meatcspotX7e",
        "outputId": "5b7eb7ff-f600-4cd8-e400-fb2d83b4a3da"
      },
      "execution_count": 36,
      "outputs": [
        {
          "output_type": "stream",
          "name": "stdout",
          "text": [
            "Average accuracy score of the model : 97.33%\n",
            "This model can be deployed in an application for users\n"
          ]
        }
      ]
    }
  ]
}