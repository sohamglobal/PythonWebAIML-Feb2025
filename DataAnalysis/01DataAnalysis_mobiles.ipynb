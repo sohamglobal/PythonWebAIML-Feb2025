{
  "nbformat": 4,
  "nbformat_minor": 0,
  "metadata": {
    "colab": {
      "provenance": []
    },
    "kernelspec": {
      "name": "python3",
      "display_name": "Python 3"
    },
    "language_info": {
      "name": "python"
    }
  },
  "cells": [
    {
      "cell_type": "markdown",
      "source": [
        "**Simple data analysis of mobiles sold**"
      ],
      "metadata": {
        "id": "jGDtvIh2pXRu"
      }
    },
    {
      "cell_type": "code",
      "execution_count": 1,
      "metadata": {
        "id": "6ap27JVqjoV2"
      },
      "outputs": [],
      "source": [
        "import pandas"
      ]
    },
    {
      "cell_type": "code",
      "source": [
        "url=\"https://raw.githubusercontent.com/sohamglobal/datasets/refs/heads/main/Flipkart_Mobiles.csv\"\n",
        "df=pandas.read_csv(url)\n",
        "print(df)"
      ],
      "metadata": {
        "colab": {
          "base_uri": "https://localhost:8080/"
        },
        "id": "R2HlfvLPpclr",
        "outputId": "acb162ed-0cc4-42a7-ae90-04e21afbf726"
      },
      "execution_count": 2,
      "outputs": [
        {
          "output_type": "stream",
          "name": "stdout",
          "text": [
            "        Brand   Model            Color Memory Storage  Rating  Selling Price  \\\n",
            "0        OPPO     A53  Moonlight Black   4 GB   64 GB     4.5          11990   \n",
            "1        OPPO     A53       Mint Cream   4 GB   64 GB     4.5          11990   \n",
            "2        OPPO     A53  Moonlight Black   6 GB  128 GB     4.3          13990   \n",
            "3        OPPO     A53       Mint Cream   6 GB  128 GB     4.3          13990   \n",
            "4        OPPO     A53   Electric Black   4 GB   64 GB     4.5          11990   \n",
            "...       ...     ...              ...    ...     ...     ...            ...   \n",
            "3109  SAMSUNG  M52 5G    Blazing Black   6 GB  128 GB     4.3          25990   \n",
            "3110  SAMSUNG  M52 5G         Icy Blue   6 GB  128 GB     4.3          25489   \n",
            "3111  SAMSUNG  M52 5G         Icy Blue   8 GB  128 GB     4.3          27239   \n",
            "3112  SAMSUNG  M52 5G      Slate Black   8 GB  128 GB     4.2          22989   \n",
            "3113  SAMSUNG  M52 5G         Sky Blue   8 GB  128 GB     4.2          20350   \n",
            "\n",
            "      Original Price  \n",
            "0              15990  \n",
            "1              15990  \n",
            "2              17990  \n",
            "3              17990  \n",
            "4              15990  \n",
            "...              ...  \n",
            "3109           25990  \n",
            "3110           28449  \n",
            "3111           31489  \n",
            "3112           22989  \n",
            "3113           22595  \n",
            "\n",
            "[3114 rows x 8 columns]\n"
          ]
        }
      ]
    },
    {
      "cell_type": "markdown",
      "source": [
        "**Top 5 performing mobile brands**"
      ],
      "metadata": {
        "id": "SkVviEG0qfJs"
      }
    },
    {
      "cell_type": "code",
      "source": [
        "top_brands=df['Brand'].value_counts().head(5)\n",
        "print(top_brands)"
      ],
      "metadata": {
        "colab": {
          "base_uri": "https://localhost:8080/"
        },
        "id": "G5Zctos5p0sD",
        "outputId": "bdeb8c3f-8459-49d9-882d-270f7ff83edf"
      },
      "execution_count": 3,
      "outputs": [
        {
          "output_type": "stream",
          "name": "stdout",
          "text": [
            "Brand\n",
            "SAMSUNG    719\n",
            "Apple      387\n",
            "realme     327\n",
            "OPPO       260\n",
            "Nokia      213\n",
            "Name: count, dtype: int64\n"
          ]
        }
      ]
    },
    {
      "cell_type": "markdown",
      "source": [
        "**Top 10 Brand percentage share**"
      ],
      "metadata": {
        "id": "5gmR9p6bq7Kk"
      }
    },
    {
      "cell_type": "code",
      "source": [
        "brand_count=df['Brand'].value_counts()\n",
        "print(brand_count.sum())"
      ],
      "metadata": {
        "colab": {
          "base_uri": "https://localhost:8080/"
        },
        "id": "LyEBHGcgqn_P",
        "outputId": "11534757-dd0d-4435-eeec-a2e495ff5d0b"
      },
      "execution_count": 4,
      "outputs": [
        {
          "output_type": "stream",
          "name": "stdout",
          "text": [
            "3114\n"
          ]
        }
      ]
    },
    {
      "cell_type": "code",
      "source": [
        "print(brand_count)"
      ],
      "metadata": {
        "colab": {
          "base_uri": "https://localhost:8080/"
        },
        "id": "2EmnXBlhrb74",
        "outputId": "0a6fe79b-83df-4797-b731-19043dee22c9"
      },
      "execution_count": 5,
      "outputs": [
        {
          "output_type": "stream",
          "name": "stdout",
          "text": [
            "Brand\n",
            "SAMSUNG         719\n",
            "Apple           387\n",
            "realme          327\n",
            "OPPO            260\n",
            "Nokia           213\n",
            "Xiaomi          198\n",
            "Infinix         151\n",
            "GIONEE          129\n",
            "vivo            124\n",
            "Lenovo          121\n",
            "ASUS            118\n",
            "Motorola        105\n",
            "LG               99\n",
            "POCO             74\n",
            "HTC              55\n",
            "Google Pixel     29\n",
            "IQOO              5\n",
            "Name: count, dtype: int64\n"
          ]
        }
      ]
    },
    {
      "cell_type": "code",
      "source": [
        "brand_perc=(brand_count/brand_count.sum())*100\n",
        "brand_distribution=pandas.DataFrame({'Count':brand_count,'Percentage':brand_perc})\n",
        "print(brand_distribution)"
      ],
      "metadata": {
        "colab": {
          "base_uri": "https://localhost:8080/"
        },
        "id": "70f8zL89r4sM",
        "outputId": "d9b7c239-79a8-4284-eb84-01d07211416c"
      },
      "execution_count": 6,
      "outputs": [
        {
          "output_type": "stream",
          "name": "stdout",
          "text": [
            "              Count  Percentage\n",
            "Brand                          \n",
            "SAMSUNG         719   23.089274\n",
            "Apple           387   12.427746\n",
            "realme          327   10.500963\n",
            "OPPO            260    8.349390\n",
            "Nokia           213    6.840077\n",
            "Xiaomi          198    6.358382\n",
            "Infinix         151    4.849069\n",
            "GIONEE          129    4.142582\n",
            "vivo            124    3.982017\n",
            "Lenovo          121    3.885678\n",
            "ASUS            118    3.789338\n",
            "Motorola        105    3.371869\n",
            "LG               99    3.179191\n",
            "POCO             74    2.376365\n",
            "HTC              55    1.766217\n",
            "Google Pixel     29    0.931278\n",
            "IQOO              5    0.160565\n"
          ]
        }
      ]
    },
    {
      "cell_type": "markdown",
      "source": [
        "**Mobile sales on Color**"
      ],
      "metadata": {
        "id": "3IMlQb3Asyht"
      }
    },
    {
      "cell_type": "code",
      "source": [
        "top_colors=df['Color'].value_counts().head()\n",
        "print(top_colors)"
      ],
      "metadata": {
        "colab": {
          "base_uri": "https://localhost:8080/"
        },
        "id": "pRQ_ijrHs2-Q",
        "outputId": "6bec2406-502f-4801-b037-375cc3c8bf45"
      },
      "execution_count": 7,
      "outputs": [
        {
          "output_type": "stream",
          "name": "stdout",
          "text": [
            "Color\n",
            "Black     489\n",
            "Gold      195\n",
            "White     154\n",
            "Blue      146\n",
            "Silver    104\n",
            "Name: count, dtype: int64\n"
          ]
        }
      ]
    },
    {
      "cell_type": "markdown",
      "source": [
        "**Best rated mobiles**"
      ],
      "metadata": {
        "id": "1ElshMxft0is"
      }
    },
    {
      "cell_type": "code",
      "source": [
        "best_rated_mobiles=df[['Model','Brand','Rating']].sort_values(by='Rating',ascending=False).head(15)\n",
        "print(best_rated_mobiles)"
      ],
      "metadata": {
        "colab": {
          "base_uri": "https://localhost:8080/"
        },
        "id": "WRImheBstzlY",
        "outputId": "47a9649a-fe1c-48aa-e668-b290b2251551"
      },
      "execution_count": 8,
      "outputs": [
        {
          "output_type": "stream",
          "name": "stdout",
          "text": [
            "                   Model    Brand  Rating\n",
            "2789             X60 Pro     vivo     5.0\n",
            "2791               X50       vivo     5.0\n",
            "2799                  S2     vivo     5.0\n",
            "2021      SM-B310EZDDINS  SAMSUNG     5.0\n",
            "1348      iPhone 7 Plus     Apple     5.0\n",
            "1252      iPhone 7 Plus     Apple     5.0\n",
            "2797                 Z1x     vivo     5.0\n",
            "2771                Y33T     vivo     4.9\n",
            "3061                9 5G   realme     4.8\n",
            "3062                9 5G   realme     4.8\n",
            "1356          iPhone XS     Apple     4.7\n",
            "1192  iPhone 11 Pro Max     Apple     4.7\n",
            "1313  iPhone 11 Pro Max     Apple     4.7\n",
            "1363           iPhone 7     Apple     4.7\n",
            "244                U11+       HTC     4.7\n"
          ]
        }
      ]
    },
    {
      "cell_type": "markdown",
      "source": [
        "**Models offering high discounts**"
      ],
      "metadata": {
        "id": "Ls87GL2Lv0F4"
      }
    },
    {
      "cell_type": "code",
      "source": [
        "df['Discount']=df['Original Price']-df['Selling Price']\n",
        "print(df)"
      ],
      "metadata": {
        "colab": {
          "base_uri": "https://localhost:8080/"
        },
        "id": "9ELk92A_vyBV",
        "outputId": "d3f246f2-632b-47e8-c502-eda1985f65e3"
      },
      "execution_count": 9,
      "outputs": [
        {
          "output_type": "stream",
          "name": "stdout",
          "text": [
            "        Brand   Model            Color Memory Storage  Rating  Selling Price  \\\n",
            "0        OPPO     A53  Moonlight Black   4 GB   64 GB     4.5          11990   \n",
            "1        OPPO     A53       Mint Cream   4 GB   64 GB     4.5          11990   \n",
            "2        OPPO     A53  Moonlight Black   6 GB  128 GB     4.3          13990   \n",
            "3        OPPO     A53       Mint Cream   6 GB  128 GB     4.3          13990   \n",
            "4        OPPO     A53   Electric Black   4 GB   64 GB     4.5          11990   \n",
            "...       ...     ...              ...    ...     ...     ...            ...   \n",
            "3109  SAMSUNG  M52 5G    Blazing Black   6 GB  128 GB     4.3          25990   \n",
            "3110  SAMSUNG  M52 5G         Icy Blue   6 GB  128 GB     4.3          25489   \n",
            "3111  SAMSUNG  M52 5G         Icy Blue   8 GB  128 GB     4.3          27239   \n",
            "3112  SAMSUNG  M52 5G      Slate Black   8 GB  128 GB     4.2          22989   \n",
            "3113  SAMSUNG  M52 5G         Sky Blue   8 GB  128 GB     4.2          20350   \n",
            "\n",
            "      Original Price  Discount  \n",
            "0              15990      4000  \n",
            "1              15990      4000  \n",
            "2              17990      4000  \n",
            "3              17990      4000  \n",
            "4              15990      4000  \n",
            "...              ...       ...  \n",
            "3109           25990         0  \n",
            "3110           28449      2960  \n",
            "3111           31489      4250  \n",
            "3112           22989         0  \n",
            "3113           22595      2245  \n",
            "\n",
            "[3114 rows x 9 columns]\n"
          ]
        }
      ]
    },
    {
      "cell_type": "code",
      "source": [
        "top_discounts=df[['Model','Brand','Original Price','Selling Price','Discount']].sort_values('Discount',ascending=False).head(10)\n",
        "print(top_discounts)"
      ],
      "metadata": {
        "colab": {
          "base_uri": "https://localhost:8080/"
        },
        "id": "i6xJG7gewMDI",
        "outputId": "70b4839e-462b-4eed-c8f9-77c8120f5e7d"
      },
      "execution_count": 11,
      "outputs": [
        {
          "output_type": "stream",
          "name": "stdout",
          "text": [
            "               Model     Brand  Original Price  Selling Price  Discount\n",
            "2346           Razr   Motorola          149999          74999     75000\n",
            "2318           Razr   Motorola          149999          74999     75000\n",
            "2316        Razr 5G   Motorola          149999          89999     60000\n",
            "443             ROG       ASUS           83999          26499     57500\n",
            "318            Wing         LG           80000          29999     50001\n",
            "335            Wing         LG           80000          29999     50001\n",
            "1455  iPhone XS Max      Apple          124900          78999     45901\n",
            "1450  iPhone XS Max      Apple          124900          78999     45901\n",
            "1461  iPhone XS Max      Apple          124900          78999     45901\n",
            "305             G8X         LG           70000          27990     42010\n"
          ]
        }
      ]
    },
    {
      "cell_type": "markdown",
      "source": [
        "**Lowest rated mobiles**"
      ],
      "metadata": {
        "id": "m4RxnSQbxN8R"
      }
    },
    {
      "cell_type": "code",
      "source": [
        "lowest_rated_mobiles=df[['Model','Brand','Rating']].sort_values('Rating').head(5)\n",
        "print(lowest_rated_mobiles)"
      ],
      "metadata": {
        "colab": {
          "base_uri": "https://localhost:8080/"
        },
        "id": "NrOHVHEzxQpZ",
        "outputId": "aaf4a4e1-1d35-4014-bbc6-34bb5cf00c18"
      },
      "execution_count": 12,
      "outputs": [
        {
          "output_type": "stream",
          "name": "stdout",
          "text": [
            "              Model     Brand  Rating\n",
            "2619  Redmi Note 8     Xiaomi     2.3\n",
            "2362    Quench X T3  Motorola     2.4\n",
            "866             M7     GIONEE     2.7\n",
            "885             M7     GIONEE     2.7\n",
            "872            S11     GIONEE     2.8\n"
          ]
        }
      ]
    },
    {
      "cell_type": "code",
      "source": [
        "comp=input('Enter brand : ')\n",
        "mobiles=df[df['Brand']==comp]\n",
        "print(mobiles[['Model','Rating','Original Price']].sort_values('Original Price',ascending=False).head(10))"
      ],
      "metadata": {
        "colab": {
          "base_uri": "https://localhost:8080/"
        },
        "id": "2EbLWrFnyd8b",
        "outputId": "a0bfd726-9a70-4c98-b875-62b5b28a2c77"
      },
      "execution_count": 20,
      "outputs": [
        {
          "output_type": "stream",
          "name": "stdout",
          "text": [
            "Enter brand : Motorola\n",
            "                Model  Rating  Original Price\n",
            "2318            Razr      3.8          149999\n",
            "2316         Razr 5G      4.0          149999\n",
            "2346            Razr      3.8          149999\n",
            "2345           Edge+      4.1           89999\n",
            "2389         Z2 Force     4.1           44999\n",
            "2320         Edge 20      4.4           34999\n",
            "2311         Edge 20      4.4           34999\n",
            "2359          Z2 Play     4.4           27999\n",
            "2358          Z2 Play     4.4           27999\n",
            "2305  Edge 20 Fusion      NaN           25999\n"
          ]
        }
      ]
    }
  ]
}