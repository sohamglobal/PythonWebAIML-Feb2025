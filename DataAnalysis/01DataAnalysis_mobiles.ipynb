{
  "nbformat": 4,
  "nbformat_minor": 0,
  "metadata": {
    "colab": {
      "provenance": []
    },
    "kernelspec": {
      "name": "python3",
      "display_name": "Python 3"
    },
    "language_info": {
      "name": "python"
    }
  },
  "cells": [
    {
      "cell_type": "markdown",
      "source": [
        "**Simple data analysis of mobiles sold**"
      ],
      "metadata": {
        "id": "jGDtvIh2pXRu"
      }
    },
    {
      "cell_type": "code",
      "execution_count": 1,
      "metadata": {
        "id": "6ap27JVqjoV2"
      },
      "outputs": [],
      "source": [
        "import pandas"
      ]
    },
    {
      "cell_type": "code",
      "source": [
        "url=\"https://raw.githubusercontent.com/sohamglobal/datasets/refs/heads/main/Flipkart_Mobiles.csv\"\n",
        "df=pandas.read_csv(url)\n",
        "print(df)"
      ],
      "metadata": {
        "colab": {
          "base_uri": "https://localhost:8080/"
        },
        "id": "R2HlfvLPpclr",
        "outputId": "da0d5154-6684-477f-dfe3-74f99f693dd8"
      },
      "execution_count": 2,
      "outputs": [
        {
          "output_type": "stream",
          "name": "stdout",
          "text": [
            "        Brand   Model            Color Memory Storage  Rating  Selling Price  \\\n",
            "0        OPPO     A53  Moonlight Black   4 GB   64 GB     4.5          11990   \n",
            "1        OPPO     A53       Mint Cream   4 GB   64 GB     4.5          11990   \n",
            "2        OPPO     A53  Moonlight Black   6 GB  128 GB     4.3          13990   \n",
            "3        OPPO     A53       Mint Cream   6 GB  128 GB     4.3          13990   \n",
            "4        OPPO     A53   Electric Black   4 GB   64 GB     4.5          11990   \n",
            "...       ...     ...              ...    ...     ...     ...            ...   \n",
            "3109  SAMSUNG  M52 5G    Blazing Black   6 GB  128 GB     4.3          25990   \n",
            "3110  SAMSUNG  M52 5G         Icy Blue   6 GB  128 GB     4.3          25489   \n",
            "3111  SAMSUNG  M52 5G         Icy Blue   8 GB  128 GB     4.3          27239   \n",
            "3112  SAMSUNG  M52 5G      Slate Black   8 GB  128 GB     4.2          22989   \n",
            "3113  SAMSUNG  M52 5G         Sky Blue   8 GB  128 GB     4.2          20350   \n",
            "\n",
            "      Original Price  \n",
            "0              15990  \n",
            "1              15990  \n",
            "2              17990  \n",
            "3              17990  \n",
            "4              15990  \n",
            "...              ...  \n",
            "3109           25990  \n",
            "3110           28449  \n",
            "3111           31489  \n",
            "3112           22989  \n",
            "3113           22595  \n",
            "\n",
            "[3114 rows x 8 columns]\n"
          ]
        }
      ]
    },
    {
      "cell_type": "markdown",
      "source": [
        "**Top 5 performing mobile brands**"
      ],
      "metadata": {
        "id": "SkVviEG0qfJs"
      }
    },
    {
      "cell_type": "code",
      "source": [
        "top_brands=df['Brand'].value_counts().head(5)\n",
        "print(top_brands)"
      ],
      "metadata": {
        "colab": {
          "base_uri": "https://localhost:8080/"
        },
        "id": "G5Zctos5p0sD",
        "outputId": "68ae7b52-48cd-4460-bcea-c32b59d20dc1"
      },
      "execution_count": 3,
      "outputs": [
        {
          "output_type": "stream",
          "name": "stdout",
          "text": [
            "Brand\n",
            "SAMSUNG    719\n",
            "Apple      387\n",
            "realme     327\n",
            "OPPO       260\n",
            "Nokia      213\n",
            "Name: count, dtype: int64\n"
          ]
        }
      ]
    },
    {
      "cell_type": "markdown",
      "source": [
        "**Top 10 Brand percentage share**"
      ],
      "metadata": {
        "id": "5gmR9p6bq7Kk"
      }
    },
    {
      "cell_type": "code",
      "source": [
        "brand_count=df['Brand'].value_counts()\n",
        "print(brand_count.sum())"
      ],
      "metadata": {
        "colab": {
          "base_uri": "https://localhost:8080/"
        },
        "id": "LyEBHGcgqn_P",
        "outputId": "1b2cc4bf-2ffe-471b-f040-96843044cefe"
      },
      "execution_count": 4,
      "outputs": [
        {
          "output_type": "stream",
          "name": "stdout",
          "text": [
            "3114\n"
          ]
        }
      ]
    },
    {
      "cell_type": "code",
      "source": [
        "print(brand_count)"
      ],
      "metadata": {
        "colab": {
          "base_uri": "https://localhost:8080/"
        },
        "id": "2EmnXBlhrb74",
        "outputId": "df6a3d75-ebd3-4ea6-e46c-74e2546c2e00"
      },
      "execution_count": 6,
      "outputs": [
        {
          "output_type": "stream",
          "name": "stdout",
          "text": [
            "Brand\n",
            "SAMSUNG         719\n",
            "Apple           387\n",
            "realme          327\n",
            "OPPO            260\n",
            "Nokia           213\n",
            "Xiaomi          198\n",
            "Infinix         151\n",
            "GIONEE          129\n",
            "vivo            124\n",
            "Lenovo          121\n",
            "ASUS            118\n",
            "Motorola        105\n",
            "LG               99\n",
            "POCO             74\n",
            "HTC              55\n",
            "Google Pixel     29\n",
            "IQOO              5\n",
            "Name: count, dtype: int64\n"
          ]
        }
      ]
    },
    {
      "cell_type": "code",
      "source": [
        "brand_perc=(brand_count/brand_count.sum())*100\n",
        "brand_distribution=pandas.DataFrame({'Count':brand_count,'Percentage':brand_perc})\n",
        "print(brand_distribution)"
      ],
      "metadata": {
        "colab": {
          "base_uri": "https://localhost:8080/"
        },
        "id": "70f8zL89r4sM",
        "outputId": "7e871843-03fc-45b0-82da-0ec0eb3bb01d"
      },
      "execution_count": 7,
      "outputs": [
        {
          "output_type": "stream",
          "name": "stdout",
          "text": [
            "              Count  Percentage\n",
            "Brand                          \n",
            "SAMSUNG         719   23.089274\n",
            "Apple           387   12.427746\n",
            "realme          327   10.500963\n",
            "OPPO            260    8.349390\n",
            "Nokia           213    6.840077\n",
            "Xiaomi          198    6.358382\n",
            "Infinix         151    4.849069\n",
            "GIONEE          129    4.142582\n",
            "vivo            124    3.982017\n",
            "Lenovo          121    3.885678\n",
            "ASUS            118    3.789338\n",
            "Motorola        105    3.371869\n",
            "LG               99    3.179191\n",
            "POCO             74    2.376365\n",
            "HTC              55    1.766217\n",
            "Google Pixel     29    0.931278\n",
            "IQOO              5    0.160565\n"
          ]
        }
      ]
    },
    {
      "cell_type": "markdown",
      "source": [
        "**Mobile sales on Color**"
      ],
      "metadata": {
        "id": "3IMlQb3Asyht"
      }
    },
    {
      "cell_type": "code",
      "source": [
        "top_colors=df['Color'].value_counts().head()\n",
        "print(top_colors)"
      ],
      "metadata": {
        "colab": {
          "base_uri": "https://localhost:8080/"
        },
        "id": "pRQ_ijrHs2-Q",
        "outputId": "f20d6f82-c39e-4b3d-af0e-2cc86586e8f5"
      },
      "execution_count": 8,
      "outputs": [
        {
          "output_type": "stream",
          "name": "stdout",
          "text": [
            "Color\n",
            "Black     489\n",
            "Gold      195\n",
            "White     154\n",
            "Blue      146\n",
            "Silver    104\n",
            "Name: count, dtype: int64\n"
          ]
        }
      ]
    },
    {
      "cell_type": "markdown",
      "source": [
        "**Best rated mobiles**"
      ],
      "metadata": {
        "id": "1ElshMxft0is"
      }
    },
    {
      "cell_type": "code",
      "source": [
        "best_rated_mobiles=df[['Model','Brand','Rating']].sort_values(by='Rating',ascending=False).head(15)\n",
        "print(best_rated_mobiles)"
      ],
      "metadata": {
        "colab": {
          "base_uri": "https://localhost:8080/"
        },
        "id": "WRImheBstzlY",
        "outputId": "1801d409-ab7c-43d5-e9f8-339b30b5bf9b"
      },
      "execution_count": 9,
      "outputs": [
        {
          "output_type": "stream",
          "name": "stdout",
          "text": [
            "                   Model    Brand  Rating\n",
            "2789             X60 Pro     vivo     5.0\n",
            "2791               X50       vivo     5.0\n",
            "2799                  S2     vivo     5.0\n",
            "2021      SM-B310EZDDINS  SAMSUNG     5.0\n",
            "1348      iPhone 7 Plus     Apple     5.0\n",
            "1252      iPhone 7 Plus     Apple     5.0\n",
            "2797                 Z1x     vivo     5.0\n",
            "2771                Y33T     vivo     4.9\n",
            "3061                9 5G   realme     4.8\n",
            "3062                9 5G   realme     4.8\n",
            "1356          iPhone XS     Apple     4.7\n",
            "1192  iPhone 11 Pro Max     Apple     4.7\n",
            "1313  iPhone 11 Pro Max     Apple     4.7\n",
            "1363           iPhone 7     Apple     4.7\n",
            "244                U11+       HTC     4.7\n"
          ]
        }
      ]
    }
  ]
}