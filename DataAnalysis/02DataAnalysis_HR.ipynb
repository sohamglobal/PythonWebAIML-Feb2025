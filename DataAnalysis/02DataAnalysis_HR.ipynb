{
  "nbformat": 4,
  "nbformat_minor": 0,
  "metadata": {
    "colab": {
      "provenance": []
    },
    "kernelspec": {
      "name": "python3",
      "display_name": "Python 3"
    },
    "language_info": {
      "name": "python"
    }
  },
  "cells": [
    {
      "cell_type": "code",
      "execution_count": 1,
      "metadata": {
        "id": "9QUi678_zw66"
      },
      "outputs": [],
      "source": [
        "import pandas"
      ]
    },
    {
      "cell_type": "code",
      "source": [
        "url=\"https://raw.githubusercontent.com/sohamglobal/datasets/refs/heads/main/HRARecords.csv\"\n",
        "df=pandas.read_csv(url)\n",
        "print(df)"
      ],
      "metadata": {
        "colab": {
          "base_uri": "https://localhost:8080/"
        },
        "id": "1vDKNQxR0tps",
        "outputId": "1b2369be-5ceb-4900-f4d2-d150bea880ca"
      },
      "execution_count": 2,
      "outputs": [
        {
          "output_type": "stream",
          "name": "stdout",
          "text": [
            "      Age Attrition     BusinessTravel  DailyRate              Department  \\\n",
            "0      28        No  Travel_Frequently        975         Human Resources   \n",
            "1      54        No      Travel_Rarely        605         Human Resources   \n",
            "2      19        No      Travel_Rarely       1317                 Support   \n",
            "3      40       Yes  Travel_Frequently       1305                   Sales   \n",
            "4      54        No      Travel_Rarely        528                Hardware   \n",
            "...   ...       ...                ...        ...                     ...   \n",
            "9995   20        No  Travel_Frequently       1091                Hardware   \n",
            "9996   44        No         Non-Travel       1249  Research & Development   \n",
            "9997   20       Yes         Non-Travel       1490                Hardware   \n",
            "9998   19        No         Non-Travel       1171                Software   \n",
            "9999   26       Yes  Travel_Frequently       1428                Software   \n",
            "\n",
            "      DistanceFromHome  Education    EducationField  EmployeeCount  \\\n",
            "0                   37          3     Life Sciences              1   \n",
            "1                   40          4     Life Sciences              1   \n",
            "2                   26          2           Medical              1   \n",
            "3                   42          5     Life Sciences              1   \n",
            "4                   43          3   Human Resources              1   \n",
            "...                ...        ...               ...            ...   \n",
            "9995                19          4   Human Resources              1   \n",
            "9996                 8          4  Technical Degree              1   \n",
            "9997                34          3         Marketing              1   \n",
            "9998                46          3           Medical              1   \n",
            "9999                13          2   Human Resources              1   \n",
            "\n",
            "      EmployeeNumber  ...  RelationshipSatisfaction StandardHours  \\\n",
            "0                 15  ...                         4            80   \n",
            "1                 52  ...                         4            80   \n",
            "2                 70  ...                         3            80   \n",
            "3                 71  ...                         2            80   \n",
            "4                 78  ...                         3            80   \n",
            "...              ...  ...                       ...           ...   \n",
            "9995            9890  ...                         3            80   \n",
            "9996            9938  ...                         2            80   \n",
            "9997            9947  ...                         1            80   \n",
            "9998            9956  ...                         1            80   \n",
            "9999            9989  ...                         3            80   \n",
            "\n",
            "      StockOptionLevel  TotalWorkingYears  TrainingTimesLastYear  \\\n",
            "0                    2                 31                      6   \n",
            "1                    4                 34                      5   \n",
            "2                    2                 13                      5   \n",
            "3                    4                 15                      4   \n",
            "4                    2                 19                      1   \n",
            "...                ...                ...                    ...   \n",
            "9995                 4                 22                      6   \n",
            "9996                 3                 36                      2   \n",
            "9997                 3                 27                      1   \n",
            "9998                 3                 35                      1   \n",
            "9999                 4                  1                      6   \n",
            "\n",
            "     WorkLifeBalance  YearsAtCompany YearsInCurrentRole  \\\n",
            "0                  4              29                  6   \n",
            "1                  1              30                  3   \n",
            "2                  2               1                  1   \n",
            "3                  4               7                  4   \n",
            "4                  4               9                  8   \n",
            "...              ...             ...                ...   \n",
            "9995               4              21                 15   \n",
            "9996               4              16                  5   \n",
            "9997               1              11                  3   \n",
            "9998               3              15                  6   \n",
            "9999               1               1                  1   \n",
            "\n",
            "      YearsSinceLastPromotion  YearsWithCurrManager  \n",
            "0                           5                     8  \n",
            "1                          28                    22  \n",
            "2                           1                     1  \n",
            "3                           3                     4  \n",
            "4                           8                     4  \n",
            "...                       ...                   ...  \n",
            "9995                       10                     5  \n",
            "9996                       14                     1  \n",
            "9997                        5                     2  \n",
            "9998                        3                     8  \n",
            "9999                        1                     1  \n",
            "\n",
            "[10000 rows x 35 columns]\n"
          ]
        }
      ]
    },
    {
      "cell_type": "markdown",
      "source": [
        "remove unwanted columns"
      ],
      "metadata": {
        "id": "zuJuGnzu1Pqw"
      }
    },
    {
      "cell_type": "code",
      "source": [
        "avgage=df['Age'].mean()\n",
        "print('Employee average age is %d years' %avgage)"
      ],
      "metadata": {
        "colab": {
          "base_uri": "https://localhost:8080/"
        },
        "id": "SiCESnhM1SNl",
        "outputId": "0b175153-c210-4e67-ad0a-d08e824712cf"
      },
      "execution_count": 5,
      "outputs": [
        {
          "output_type": "stream",
          "name": "stdout",
          "text": [
            "Employee average age is 39 years\n"
          ]
        }
      ]
    },
    {
      "cell_type": "code",
      "source": [
        "avgdist=df['DistanceFromHome'].mean()\n",
        "maxdist=df['DistanceFromHome'].max()\n",
        "print('average distance %d and highest distance is %d' %(avgdist,maxdist))"
      ],
      "metadata": {
        "colab": {
          "base_uri": "https://localhost:8080/"
        },
        "id": "_zq38OHX1wV_",
        "outputId": "b743f584-e22a-4574-e88f-09aeba0654a1"
      },
      "execution_count": 6,
      "outputs": [
        {
          "output_type": "stream",
          "name": "stdout",
          "text": [
            "average distance 25 and highest distance is 50\n"
          ]
        }
      ]
    },
    {
      "cell_type": "code",
      "source": [
        "highdist=df[['Age','WorkLifeBalance','DistanceFromHome']].sort_values('DistanceFromHome',ascending=False).head(10)\n",
        "print(highdist)"
      ],
      "metadata": {
        "colab": {
          "base_uri": "https://localhost:8080/"
        },
        "id": "IXfJl3Zq2Tc4",
        "outputId": "f3642d66-f198-43a8-aba8-7bc755fec394"
      },
      "execution_count": 7,
      "outputs": [
        {
          "output_type": "stream",
          "name": "stdout",
          "text": [
            "      Age  WorkLifeBalance  DistanceFromHome\n",
            "6117   28                1                50\n",
            "1841   30                4                50\n",
            "9933   38                3                50\n",
            "6156   59                3                50\n",
            "1718   49                4                50\n",
            "1973   28                3                50\n",
            "1954   45                1                50\n",
            "1856   52                1                50\n",
            "1844   33                4                50\n",
            "752    40                3                50\n"
          ]
        }
      ]
    },
    {
      "cell_type": "code",
      "source": [
        "travel=df['BusinessTravel'].value_counts()\n",
        "print(travel)"
      ],
      "metadata": {
        "colab": {
          "base_uri": "https://localhost:8080/"
        },
        "id": "jBeJrUM23Mkx",
        "outputId": "02451211-77db-4fad-adf9-ff55e46194b9"
      },
      "execution_count": 9,
      "outputs": [
        {
          "output_type": "stream",
          "name": "stdout",
          "text": [
            "BusinessTravel\n",
            "Travel_Rarely        3370\n",
            "Non-Travel           3343\n",
            "Travel_Frequently    3287\n",
            "Name: count, dtype: int64\n"
          ]
        }
      ]
    },
    {
      "cell_type": "code",
      "source": [
        "dep=df['Department'].value_counts().head(5)\n",
        "print(dep)"
      ],
      "metadata": {
        "colab": {
          "base_uri": "https://localhost:8080/"
        },
        "id": "dml7tVeb3jsP",
        "outputId": "28182eb2-13dc-4647-a7bc-35fab30d4ecb"
      },
      "execution_count": 10,
      "outputs": [
        {
          "output_type": "stream",
          "name": "stdout",
          "text": [
            "Department\n",
            "Support                   1721\n",
            "Hardware                  1692\n",
            "Research & Development    1681\n",
            "Software                  1665\n",
            "Human Resources           1621\n",
            "Name: count, dtype: int64\n"
          ]
        }
      ]
    },
    {
      "cell_type": "code",
      "source": [
        "promo=df['YearsSinceLastPromotion'].sort_values(ascending=False).value_counts()\n",
        "print(promo)"
      ],
      "metadata": {
        "colab": {
          "base_uri": "https://localhost:8080/"
        },
        "id": "o0YQGTS73yfa",
        "outputId": "4bb51def-2956-42dc-b610-f156e09f1d1c"
      },
      "execution_count": 11,
      "outputs": [
        {
          "output_type": "stream",
          "name": "stdout",
          "text": [
            "YearsSinceLastPromotion\n",
            "1     2499\n",
            "2     1399\n",
            "3      997\n",
            "4      806\n",
            "5      619\n",
            "6      496\n",
            "7      441\n",
            "8      362\n",
            "9      342\n",
            "10     264\n",
            "11     258\n",
            "12     203\n",
            "13     184\n",
            "14     161\n",
            "15     137\n",
            "16     104\n",
            "17     103\n",
            "18      89\n",
            "19      87\n",
            "20      76\n",
            "22      52\n",
            "21      49\n",
            "23      40\n",
            "26      38\n",
            "28      33\n",
            "24      32\n",
            "27      30\n",
            "25      25\n",
            "29      19\n",
            "30      17\n",
            "31      12\n",
            "32       8\n",
            "34       7\n",
            "36       3\n",
            "33       3\n",
            "37       2\n",
            "35       2\n",
            "38       1\n",
            "Name: count, dtype: int64\n"
          ]
        }
      ]
    },
    {
      "cell_type": "code",
      "source": [
        "gen=df['Gender'].value_counts()\n",
        "print(gen)"
      ],
      "metadata": {
        "colab": {
          "base_uri": "https://localhost:8080/"
        },
        "id": "-wjlAHWa4nQw",
        "outputId": "7f3160bd-6c2f-4d70-817a-53ce532dca1d"
      },
      "execution_count": 12,
      "outputs": [
        {
          "output_type": "stream",
          "name": "stdout",
          "text": [
            "Gender\n",
            "Male      5107\n",
            "Female    4893\n",
            "Name: count, dtype: int64\n"
          ]
        }
      ]
    },
    {
      "cell_type": "code",
      "source": [
        "att=df['Attrition'].value_counts()\n",
        "print(att)"
      ],
      "metadata": {
        "colab": {
          "base_uri": "https://localhost:8080/"
        },
        "id": "qplhgMbF5FIM",
        "outputId": "31188afd-a7c2-4a0b-f66f-2757e8009be8"
      },
      "execution_count": 13,
      "outputs": [
        {
          "output_type": "stream",
          "name": "stdout",
          "text": [
            "Attrition\n",
            "No     5127\n",
            "Yes    4873\n",
            "Name: count, dtype: int64\n"
          ]
        }
      ]
    },
    {
      "cell_type": "code",
      "source": [
        "stat=df['MaritalStatus'].value_counts()\n",
        "print(stat)"
      ],
      "metadata": {
        "colab": {
          "base_uri": "https://localhost:8080/"
        },
        "id": "svn-eRis5Xjy",
        "outputId": "af01bb90-a56a-44f5-8eb5-c8506bc2f590"
      },
      "execution_count": 14,
      "outputs": [
        {
          "output_type": "stream",
          "name": "stdout",
          "text": [
            "MaritalStatus\n",
            "Divorced    3435\n",
            "Single      3296\n",
            "Married     3269\n",
            "Name: count, dtype: int64\n"
          ]
        }
      ]
    }
  ]
}