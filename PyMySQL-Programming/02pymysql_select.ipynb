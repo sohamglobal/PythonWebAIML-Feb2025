{
  "nbformat": 4,
  "nbformat_minor": 0,
  "metadata": {
    "colab": {
      "provenance": []
    },
    "kernelspec": {
      "name": "python3",
      "display_name": "Python 3"
    },
    "language_info": {
      "name": "python"
    }
  },
  "cells": [
    {
      "cell_type": "code",
      "execution_count": 1,
      "metadata": {
        "colab": {
          "base_uri": "https://localhost:8080/"
        },
        "id": "OkO1hQU1EQD9",
        "outputId": "c9d9e6b5-eb7d-44e3-dcab-d4ab399776c8"
      },
      "outputs": [
        {
          "output_type": "stream",
          "name": "stdout",
          "text": [
            "Collecting pymysql\n",
            "  Downloading PyMySQL-1.1.1-py3-none-any.whl.metadata (4.4 kB)\n",
            "Downloading PyMySQL-1.1.1-py3-none-any.whl (44 kB)\n",
            "\u001b[?25l   \u001b[90m━━━━━━━━━━━━━━━━━━━━━━━━━━━━━━━━━━━━━━━━\u001b[0m \u001b[32m0.0/45.0 kB\u001b[0m \u001b[31m?\u001b[0m eta \u001b[36m-:--:--\u001b[0m\r\u001b[2K   \u001b[90m━━━━━━━━━━━━━━━━━━━━━━━━━━━━━━━━━━━━━━━━\u001b[0m \u001b[32m45.0/45.0 kB\u001b[0m \u001b[31m1.4 MB/s\u001b[0m eta \u001b[36m0:00:00\u001b[0m\n",
            "\u001b[?25hInstalling collected packages: pymysql\n",
            "Successfully installed pymysql-1.1.1\n"
          ]
        }
      ],
      "source": [
        "pip install pymysql"
      ]
    },
    {
      "cell_type": "code",
      "source": [
        "import pymysql"
      ],
      "metadata": {
        "id": "YUzCdqk-Eln1"
      },
      "execution_count": 2,
      "outputs": []
    },
    {
      "cell_type": "code",
      "source": [
        "con=pymysql.connect(host='mysql-ethan-python-mysql.h.aivencloud.com',port=10413,user='praffull',password='AVNS_owESNvPFD5fnVDwuWUq',database='sharayudb')\n",
        "print('python connected to cloud mysql database successfully')"
      ],
      "metadata": {
        "colab": {
          "base_uri": "https://localhost:8080/"
        },
        "id": "xoEgCvO9EoPR",
        "outputId": "bf76e535-fec7-4392-f063-c6a8a163a617"
      },
      "execution_count": 3,
      "outputs": [
        {
          "output_type": "stream",
          "name": "stdout",
          "text": [
            "python connected to cloud mysql database successfully\n"
          ]
        }
      ]
    },
    {
      "cell_type": "code",
      "source": [
        "curs=con.cursor()\n",
        "curs.execute(\"select * from customers\")\n",
        "data=curs.fetchall()\n",
        "print(data)"
      ],
      "metadata": {
        "colab": {
          "base_uri": "https://localhost:8080/"
        },
        "id": "Ae-fyRTvE7xG",
        "outputId": "fc7766f9-0862-4212-a74f-87447fb9a350"
      },
      "execution_count": 4,
      "outputs": [
        {
          "output_type": "stream",
          "name": "stdout",
          "text": [
            "((1, 'Joe Root', 'london', 'sk181', 'netbanking'), (2, 'Boris Becker', 'berlin', 'ho162', 'cash'), (3, 'Michael Schumacher', 'berlin', 'bm201', 'credit card'), (4, 'Arnold Schwarzenegger', 'los angles', 'to191', 'credit card'), (5, 'Jos Buttler', 'manchester', 'vw173', 'credit card'), (6, 'Rebecca Ferguson', 'new york', 'bm185', 'netbanking'), (7, 'Steffi Graf', 'stuttgart', 'vw171', 'debit card'), (8, 'Keanu Reeves', 'tokyo', 'to191', 'credit card'), (9, 'Sabastian Vettel', 'heppenheim', 'sk183', 'credit card'), (10, 'Tom Cruise', 'chicago', 'bm201', 'cash'), (11, 'Roger Federer', 'amsterdam', 'ho161', 'credit card'), (12, 'Emily Blunt', 'london', 'vw172', 'credit card'), (13, 'Shah Rukh Khan', 'new delhi', 'tt153', 'debit card'), (14, 'A R Rahman', 'chennai', 'hd142', 'cash'), (15, 'Tabu', 'hyderabad', 'vw173', 'debit card'), (16, 'Shabana Azmi', 'mumbai', 'ss210', 'debit card'), (17, 'Rekha', 'chennai', 'hd141', 'cash'), (18, 'Amitabh Bachchan', 'allahabad', 'cs682', 'cash'), (19, 'Imran Khan', 'lahore', 'to191', 'netbanking'), (20, 'Dipika Singh', 'mumbai', 'to193', 'netbanking'), (21, 'Alia Bhat', 'lucknow', 'hd142', 'cash'), (22, 'Serena Williams', 'new york', 'ss210', 'netbanking'), (23, 'Max Verstappen', 'berlin', 'rb739', 'cash'), (24, 'Charles Leclerc', 'monte carlo', 'fr133', 'debit card'), (25, 'Sylvester Stallone', 'Kolkata', 'ms134', 'cash'), (26, 'Emily Blunt', 'Agra', 'ms131', 'netbanking'))\n"
          ]
        }
      ]
    },
    {
      "cell_type": "code",
      "source": [
        "curs.execute(\"select * from cars\")\n",
        "data=curs.fetchone()\n",
        "print(data)"
      ],
      "metadata": {
        "colab": {
          "base_uri": "https://localhost:8080/"
        },
        "id": "XkP9XjuJGX0M",
        "outputId": "4bab8242-4fe3-4b3a-af7e-b6722f8d4238"
      },
      "execution_count": 7,
      "outputs": [
        {
          "output_type": "stream",
          "name": "stdout",
          "text": [
            "('bm201', 'XM', 'BMW', 12500000.0)\n"
          ]
        }
      ]
    },
    {
      "cell_type": "code",
      "source": [
        "data=curs.fetchone()\n",
        "print(data)"
      ],
      "metadata": {
        "colab": {
          "base_uri": "https://localhost:8080/"
        },
        "id": "UaT99g-hG4EV",
        "outputId": "d4107c2c-9001-4c38-f5af-a5eda67fe7ee"
      },
      "execution_count": 18,
      "outputs": [
        {
          "output_type": "stream",
          "name": "stdout",
          "text": [
            "('ms134', 'Baleno', 'Maruti Suzuki', 642000.0)\n"
          ]
        }
      ]
    }
  ]
}