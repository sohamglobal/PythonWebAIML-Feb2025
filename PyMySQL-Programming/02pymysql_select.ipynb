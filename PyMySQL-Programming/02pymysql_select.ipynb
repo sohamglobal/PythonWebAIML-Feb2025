{
  "nbformat": 4,
  "nbformat_minor": 0,
  "metadata": {
    "colab": {
      "provenance": []
    },
    "kernelspec": {
      "name": "python3",
      "display_name": "Python 3"
    },
    "language_info": {
      "name": "python"
    }
  },
  "cells": [
    {
      "cell_type": "code",
      "execution_count": 1,
      "metadata": {
        "colab": {
          "base_uri": "https://localhost:8080/"
        },
        "id": "OkO1hQU1EQD9",
        "outputId": "1c446509-5657-434e-8c43-edc27352cb99"
      },
      "outputs": [
        {
          "output_type": "stream",
          "name": "stdout",
          "text": [
            "Collecting pymysql\n",
            "  Downloading PyMySQL-1.1.1-py3-none-any.whl.metadata (4.4 kB)\n",
            "Downloading PyMySQL-1.1.1-py3-none-any.whl (44 kB)\n",
            "\u001b[?25l   \u001b[90m━━━━━━━━━━━━━━━━━━━━━━━━━━━━━━━━━━━━━━━━\u001b[0m \u001b[32m0.0/45.0 kB\u001b[0m \u001b[31m?\u001b[0m eta \u001b[36m-:--:--\u001b[0m\r\u001b[2K   \u001b[90m━━━━━━━━━━━━━━━━━━━━━━━━━━━━━━━━━━━━━━━━\u001b[0m \u001b[32m45.0/45.0 kB\u001b[0m \u001b[31m1.8 MB/s\u001b[0m eta \u001b[36m0:00:00\u001b[0m\n",
            "\u001b[?25hInstalling collected packages: pymysql\n",
            "Successfully installed pymysql-1.1.1\n"
          ]
        }
      ],
      "source": [
        "pip install pymysql"
      ]
    },
    {
      "cell_type": "code",
      "source": [
        "import pymysql"
      ],
      "metadata": {
        "id": "YUzCdqk-Eln1"
      },
      "execution_count": 2,
      "outputs": []
    },
    {
      "cell_type": "code",
      "source": [
        "con=pymysql.connect(host='mysql-ethan-python-mysql.h.aivencloud.com',port=10413,user='praffull',password='AVNS_owESNvPFD5fnVDwuWUq',database='sharayudb')\n",
        "print('python connected to cloud mysql database successfully')"
      ],
      "metadata": {
        "colab": {
          "base_uri": "https://localhost:8080/"
        },
        "id": "xoEgCvO9EoPR",
        "outputId": "835b0475-4e07-4c0c-ef86-ad565817020c"
      },
      "execution_count": 3,
      "outputs": [
        {
          "output_type": "stream",
          "name": "stdout",
          "text": [
            "python connected to cloud mysql database successfully\n"
          ]
        }
      ]
    },
    {
      "cell_type": "code",
      "source": [
        "curs=con.cursor()"
      ],
      "metadata": {
        "id": "J_XzIbJdGneS"
      },
      "execution_count": 4,
      "outputs": []
    },
    {
      "cell_type": "code",
      "source": [
        "curs.execute(\"select * from customers\")\n",
        "data=curs.fetchall()\n",
        "#print(data)\n",
        "for cust in data:\n",
        "  print(cust[1])"
      ],
      "metadata": {
        "colab": {
          "base_uri": "https://localhost:8080/"
        },
        "id": "Ae-fyRTvE7xG",
        "outputId": "fb4c434a-4eef-4161-8aa5-2dec5430a7f0"
      },
      "execution_count": 7,
      "outputs": [
        {
          "output_type": "stream",
          "name": "stdout",
          "text": [
            "Joe Root\n",
            "Boris Becker\n",
            "Michael Schumacher\n",
            "Arnold Schwarzenegger\n",
            "Jos Buttler\n",
            "Rebecca Ferguson\n",
            "Steffi Graf\n",
            "Keanu Reeves\n",
            "Sabastian Vettel\n",
            "Tom Cruise\n",
            "Roger Federer\n",
            "Emily Blunt\n",
            "Shah Rukh Khan\n",
            "A R Rahman\n",
            "Tabu\n",
            "Shabana Azmi\n",
            "Rekha\n",
            "Amitabh Bachchan\n",
            "Imran Khan\n",
            "Dipika Singh\n",
            "Alia Bhat\n",
            "Serena Williams\n",
            "Max Verstappen\n",
            "Charles Leclerc\n",
            "Sylvester Stallone\n",
            "Emily Blunt\n"
          ]
        }
      ]
    },
    {
      "cell_type": "code",
      "source": [
        "curs.execute(\"select * from cars\")"
      ],
      "metadata": {
        "colab": {
          "base_uri": "https://localhost:8080/"
        },
        "id": "XkP9XjuJGX0M",
        "outputId": "bad5f995-66ce-4e7e-bef6-11cbe9a29626"
      },
      "execution_count": 8,
      "outputs": [
        {
          "output_type": "execute_result",
          "data": {
            "text/plain": [
              "25"
            ]
          },
          "metadata": {},
          "execution_count": 8
        }
      ]
    },
    {
      "cell_type": "code",
      "source": [
        "data=curs.fetchone()\n",
        "print(data)"
      ],
      "metadata": {
        "colab": {
          "base_uri": "https://localhost:8080/"
        },
        "id": "UaT99g-hG4EV",
        "outputId": "8d0272c0-c9e7-48d9-b850-7efb546d929f"
      },
      "execution_count": 35,
      "outputs": [
        {
          "output_type": "stream",
          "name": "stdout",
          "text": [
            "None\n"
          ]
        }
      ]
    },
    {
      "cell_type": "code",
      "source": [
        "curs.execute(\"select * from accounts\")"
      ],
      "metadata": {
        "colab": {
          "base_uri": "https://localhost:8080/"
        },
        "id": "AiTFOSybLsCI",
        "outputId": "ae86fbd9-2364-4cf0-d937-4af6ea682df5"
      },
      "execution_count": 38,
      "outputs": [
        {
          "output_type": "execute_result",
          "data": {
            "text/plain": [
              "51"
            ]
          },
          "metadata": {},
          "execution_count": 38
        }
      ]
    },
    {
      "cell_type": "code",
      "source": [
        "data=curs.fetchmany(7)\n",
        "print(data)"
      ],
      "metadata": {
        "colab": {
          "base_uri": "https://localhost:8080/"
        },
        "id": "fAereERFMCwT",
        "outputId": "e1be42ac-0f49-4b6e-9e27-8b172f869817"
      },
      "execution_count": 43,
      "outputs": [
        {
          "output_type": "stream",
          "name": "stdout",
          "text": [
            "((1013, 'antoine griezman', 'fixed', 37640.0), (1014, 'nasser hussain', 'saving', 53760.0), (1015, 'fernando alonso', 'saving', 67370.0), (1016, 'garry cahill', 'current', 39550.0), (1017, 'thibaut courtois', 'fixed', 97550.0), (1018, 'cesar azpilicueta', 'current', 82716.0), (1019, 'cesc fabregas', 'current', 82716.0))\n"
          ]
        }
      ]
    },
    {
      "cell_type": "code",
      "source": [
        "con.close()"
      ],
      "metadata": {
        "id": "belAqWVTNHD2"
      },
      "execution_count": 44,
      "outputs": []
    }
  ]
}