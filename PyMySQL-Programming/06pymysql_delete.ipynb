{
  "nbformat": 4,
  "nbformat_minor": 0,
  "metadata": {
    "colab": {
      "provenance": []
    },
    "kernelspec": {
      "name": "python3",
      "display_name": "Python 3"
    },
    "language_info": {
      "name": "python"
    }
  },
  "cells": [
    {
      "cell_type": "code",
      "execution_count": 1,
      "metadata": {
        "colab": {
          "base_uri": "https://localhost:8080/"
        },
        "id": "awVXrDbtBV-F",
        "outputId": "ece9dc86-7287-4231-d2cd-fff4bbaaf081"
      },
      "outputs": [
        {
          "output_type": "stream",
          "name": "stdout",
          "text": [
            "Collecting pymysql\n",
            "  Downloading PyMySQL-1.1.1-py3-none-any.whl.metadata (4.4 kB)\n",
            "Downloading PyMySQL-1.1.1-py3-none-any.whl (44 kB)\n",
            "\u001b[2K   \u001b[90m━━━━━━━━━━━━━━━━━━━━━━━━━━━━━━━━━━━━━━━━\u001b[0m \u001b[32m45.0/45.0 kB\u001b[0m \u001b[31m1.4 MB/s\u001b[0m eta \u001b[36m0:00:00\u001b[0m\n",
            "\u001b[?25hInstalling collected packages: pymysql\n",
            "Successfully installed pymysql-1.1.1\n"
          ]
        }
      ],
      "source": [
        "pip install pymysql"
      ]
    },
    {
      "cell_type": "code",
      "source": [
        "import pymysql"
      ],
      "metadata": {
        "id": "xw-huHFWB_N2"
      },
      "execution_count": 2,
      "outputs": []
    },
    {
      "cell_type": "code",
      "source": [
        "con=pymysql.connect(host='mysql-ethan-python-mysql.h.aivencloud.com',port=10413,user='praffull',password='AVNS_owESNvPFD5fnVDwuWUq',database='sharayudb')\n",
        "print('python connected to cloud mysql database successfully')"
      ],
      "metadata": {
        "colab": {
          "base_uri": "https://localhost:8080/"
        },
        "id": "enhQLvSxCGxd",
        "outputId": "9c11f44e-2db1-441e-a90a-5adbd2eab068"
      },
      "execution_count": 3,
      "outputs": [
        {
          "output_type": "stream",
          "name": "stdout",
          "text": [
            "python connected to cloud mysql database successfully\n"
          ]
        }
      ]
    },
    {
      "cell_type": "code",
      "source": [
        "curs=con.cursor()"
      ],
      "metadata": {
        "id": "-HvXKKn0CJuc"
      },
      "execution_count": 4,
      "outputs": []
    },
    {
      "cell_type": "code",
      "source": [
        "no=int(input('Enter account number : '))\n",
        "\n",
        "curs.execute(f\"select * from accounts where accno={no}\")\n",
        "data=curs.fetchone()\n",
        "\n",
        "if data:\n",
        "  print(data)\n",
        "  cho=input('Do you really want to delete this account? (yes/no) : ')\n",
        "  if cho.lower()==\"yes\":\n",
        "    curs.execute(f\"delete from accounts where accno={no}\")\n",
        "    con.commit()\n",
        "    print('account deleted successfully')\n",
        "  else:\n",
        "    print('delete cancelled by the user...')\n",
        "else:\n",
        "  print('account does not exist')"
      ],
      "metadata": {
        "colab": {
          "base_uri": "https://localhost:8080/"
        },
        "id": "9hR5Wi1MCM6U",
        "outputId": "5b1a5f82-7a71-47a3-a987-ed3a2c515d94"
      },
      "execution_count": 9,
      "outputs": [
        {
          "output_type": "stream",
          "name": "stdout",
          "text": [
            "Enter account number : 1042\n",
            "(1042, 'jason roy', 'saving', 29750.0)\n",
            "Do you really want to delete this account? (yes/no) : YES\n",
            "account deleted successfully\n"
          ]
        }
      ]
    },
    {
      "cell_type": "code",
      "source": [
        "con.close()"
      ],
      "metadata": {
        "id": "ZyBU7aooHHoC"
      },
      "execution_count": 10,
      "outputs": []
    }
  ]
}