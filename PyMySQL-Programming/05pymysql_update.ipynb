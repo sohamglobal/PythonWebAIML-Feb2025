{
  "nbformat": 4,
  "nbformat_minor": 0,
  "metadata": {
    "colab": {
      "provenance": []
    },
    "kernelspec": {
      "name": "python3",
      "display_name": "Python 3"
    },
    "language_info": {
      "name": "python"
    }
  },
  "cells": [
    {
      "cell_type": "code",
      "execution_count": 3,
      "metadata": {
        "colab": {
          "base_uri": "https://localhost:8080/"
        },
        "id": "75uSpvcYlrzD",
        "outputId": "ed998e23-3d90-41d1-b045-f983cd257e8a"
      },
      "outputs": [
        {
          "output_type": "stream",
          "name": "stdout",
          "text": [
            "Name praffull with roll number 786 has scored 437 marks\n"
          ]
        }
      ],
      "source": [
        "rollno=786\n",
        "name='praffull'\n",
        "marks=437\n",
        "\n",
        "#print(f'Name {name} with roll number {rollno} has scored {marks} marks')\n",
        "print('Name %s with roll number %d has scored %d marks' %(name,rollno,marks))"
      ]
    },
    {
      "cell_type": "code",
      "source": [
        "pip install pymysql"
      ],
      "metadata": {
        "colab": {
          "base_uri": "https://localhost:8080/"
        },
        "id": "hiCr6op9m2O5",
        "outputId": "f762af3b-f00f-4044-bedb-01c4dc1d012f"
      },
      "execution_count": 4,
      "outputs": [
        {
          "output_type": "stream",
          "name": "stdout",
          "text": [
            "Collecting pymysql\n",
            "  Downloading PyMySQL-1.1.1-py3-none-any.whl.metadata (4.4 kB)\n",
            "Downloading PyMySQL-1.1.1-py3-none-any.whl (44 kB)\n",
            "\u001b[?25l   \u001b[90m━━━━━━━━━━━━━━━━━━━━━━━━━━━━━━━━━━━━━━━━\u001b[0m \u001b[32m0.0/45.0 kB\u001b[0m \u001b[31m?\u001b[0m eta \u001b[36m-:--:--\u001b[0m\r\u001b[2K   \u001b[90m━━━━━━━━━━━━━━━━━━━━━━━━━━━━━━━━━━━━━━━━\u001b[0m \u001b[32m45.0/45.0 kB\u001b[0m \u001b[31m1.6 MB/s\u001b[0m eta \u001b[36m0:00:00\u001b[0m\n",
            "\u001b[?25hInstalling collected packages: pymysql\n",
            "Successfully installed pymysql-1.1.1\n"
          ]
        }
      ]
    },
    {
      "cell_type": "code",
      "source": [
        "import pymysql"
      ],
      "metadata": {
        "id": "06JBhmusopHL"
      },
      "execution_count": 5,
      "outputs": []
    },
    {
      "cell_type": "code",
      "source": [
        "con=pymysql.connect(host='mysql-ethan-python-mysql.h.aivencloud.com',port=10413,user='praffull',password='AVNS_owESNvPFD5fnVDwuWUq',database='sharayudb')\n",
        "print('python connected to cloud mysql database successfully')"
      ],
      "metadata": {
        "colab": {
          "base_uri": "https://localhost:8080/"
        },
        "id": "8NVKk9gLXNxi",
        "outputId": "9d2c4b7e-f1a4-44c6-b14a-71f3a49a3a61"
      },
      "execution_count": 6,
      "outputs": [
        {
          "output_type": "stream",
          "name": "stdout",
          "text": [
            "python connected to cloud mysql database successfully\n"
          ]
        }
      ]
    },
    {
      "cell_type": "code",
      "source": [
        "curs=con.cursor()"
      ],
      "metadata": {
        "id": "dL3RtBd0qYsT"
      },
      "execution_count": 8,
      "outputs": []
    },
    {
      "cell_type": "code",
      "source": [
        "no=int(input('Enter employee number : '))\n",
        "newloc=input('Enter new location : ')\n",
        "\n",
        "curs.execute(f\"update employees set location='{newloc}' where empno={no}\")\n",
        "con.commit()\n",
        "print('employee location changed')\n"
      ],
      "metadata": {
        "colab": {
          "base_uri": "https://localhost:8080/"
        },
        "id": "zrSI97sTozmR",
        "outputId": "1c1c7e5a-32ef-4f03-c3ab-ac9b9926a5fe"
      },
      "execution_count": 10,
      "outputs": [
        {
          "output_type": "stream",
          "name": "stdout",
          "text": [
            "Enter employee number : 216\n",
            "Enter new location : tokyo\n",
            "employee location changed\n"
          ]
        }
      ]
    },
    {
      "cell_type": "code",
      "source": [
        "no=int(input('Enter employee number : '))\n",
        "newsal=float(input('Enter new salary : '))\n",
        "\n",
        "curs.execute(f\"update employees set salary={newsal} where empno={no}\")\n",
        "con.commit()\n",
        "print('employee salary changed')\n"
      ],
      "metadata": {
        "colab": {
          "base_uri": "https://localhost:8080/"
        },
        "id": "wdEnLYWDrYag",
        "outputId": "c9fa6652-616f-48e5-96cf-545ec565a074"
      },
      "execution_count": 11,
      "outputs": [
        {
          "output_type": "stream",
          "name": "stdout",
          "text": [
            "Enter employee number : 217\n",
            "Enter new salary : 75000\n",
            "employee salary changed\n"
          ]
        }
      ]
    },
    {
      "cell_type": "code",
      "source": [
        "no=int(input('Enter account number : '))\n",
        "amt=float(input('Enter deposit amount : '))\n",
        "cnt=curs.execute(f\"update accounts set balance=balance+{amt} where accno={no}\")\n",
        "con.commit()\n",
        "print(cnt)\n",
        "print('deposit done')"
      ],
      "metadata": {
        "colab": {
          "base_uri": "https://localhost:8080/"
        },
        "id": "GRSkRKoZsS9E",
        "outputId": "c2335b39-10a1-4b3b-bb58-c43679473538"
      },
      "execution_count": 14,
      "outputs": [
        {
          "output_type": "stream",
          "name": "stdout",
          "text": [
            "Enter account number : 1099\n",
            "Enter deposit amount : 5000\n",
            "0\n",
            "deposit done\n"
          ]
        }
      ]
    },
    {
      "cell_type": "code",
      "source": [
        "con.close()"
      ],
      "metadata": {
        "id": "Azseo81kti3S"
      },
      "execution_count": 15,
      "outputs": []
    }
  ]
}