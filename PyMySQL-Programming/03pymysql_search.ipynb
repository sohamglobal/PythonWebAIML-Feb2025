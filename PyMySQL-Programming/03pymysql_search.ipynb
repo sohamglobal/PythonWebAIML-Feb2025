{
  "nbformat": 4,
  "nbformat_minor": 0,
  "metadata": {
    "colab": {
      "provenance": []
    },
    "kernelspec": {
      "name": "python3",
      "display_name": "Python 3"
    },
    "language_info": {
      "name": "python"
    }
  },
  "cells": [
    {
      "cell_type": "code",
      "execution_count": 1,
      "metadata": {
        "colab": {
          "base_uri": "https://localhost:8080/"
        },
        "id": "yYxhS2eDNctE",
        "outputId": "47279097-032f-4bb9-b597-a3a36d4b93d9"
      },
      "outputs": [
        {
          "output_type": "stream",
          "name": "stdout",
          "text": [
            "Collecting pymysql\n",
            "  Downloading PyMySQL-1.1.1-py3-none-any.whl.metadata (4.4 kB)\n",
            "Downloading PyMySQL-1.1.1-py3-none-any.whl (44 kB)\n",
            "\u001b[2K   \u001b[90m━━━━━━━━━━━━━━━━━━━━━━━━━━━━━━━━━━━━━━━━\u001b[0m \u001b[32m45.0/45.0 kB\u001b[0m \u001b[31m1.5 MB/s\u001b[0m eta \u001b[36m0:00:00\u001b[0m\n",
            "\u001b[?25hInstalling collected packages: pymysql\n",
            "Successfully installed pymysql-1.1.1\n"
          ]
        }
      ],
      "source": [
        "pip install pymysql"
      ]
    },
    {
      "cell_type": "code",
      "source": [
        "import pymysql"
      ],
      "metadata": {
        "id": "E_ZzYKARN-nS"
      },
      "execution_count": 2,
      "outputs": []
    },
    {
      "cell_type": "code",
      "source": [
        "con=pymysql.connect(host='mysql-ethan-python-mysql.h.aivencloud.com',port=10413,user='praffull',password='AVNS_owESNvPFD5fnVDwuWUq',database='sharayudb')\n",
        "print('python connected to cloud mysql database successfully')"
      ],
      "metadata": {
        "colab": {
          "base_uri": "https://localhost:8080/"
        },
        "id": "QL8hRlLTOBy8",
        "outputId": "fdedf93a-3187-4d86-e197-76fe8d2b592c"
      },
      "execution_count": 3,
      "outputs": [
        {
          "output_type": "stream",
          "name": "stdout",
          "text": [
            "python connected to cloud mysql database successfully\n"
          ]
        }
      ]
    },
    {
      "cell_type": "code",
      "source": [
        "curs=con.cursor()"
      ],
      "metadata": {
        "id": "GPXRL-2GOqsQ"
      },
      "execution_count": 4,
      "outputs": []
    },
    {
      "cell_type": "code",
      "source": [
        "brand=input('Enter car company to search models : ')\n",
        "curs.execute(f\"select * from cars where company='{brand}'\")\n",
        "data=curs.fetchall()\n",
        "print(data)"
      ],
      "metadata": {
        "colab": {
          "base_uri": "https://localhost:8080/"
        },
        "id": "BklL8lU3OIl6",
        "outputId": "2e612b59-1d83-4aa6-847f-91b00682df01"
      },
      "execution_count": 5,
      "outputs": [
        {
          "output_type": "stream",
          "name": "stdout",
          "text": [
            "Enter car company to search models : skoda\n",
            "(('sk181', 'Kushaq', 'Skoda', 1158000.0), ('sk182', 'Superb', 'Skoda', 3416000.0), ('sk183', 'Kodiaq', 'Skoda', 3749000.0))\n"
          ]
        }
      ]
    },
    {
      "cell_type": "code",
      "source": [
        "typ=input('Enter account type : ')\n",
        "curs.execute(f\"select * from accounts where acctype='{typ}'\")\n",
        "data=curs.fetchall()\n",
        "print(data)"
      ],
      "metadata": {
        "colab": {
          "base_uri": "https://localhost:8080/"
        },
        "id": "xZjYOxsoQZdt",
        "outputId": "da246cab-ae2e-4044-b07d-c30de5b47c76"
      },
      "execution_count": 6,
      "outputs": [
        {
          "output_type": "stream",
          "name": "stdout",
          "text": [
            "Enter account type : fixed\n",
            "((992, 'sharayu', 'fixed', 210518.0), (1002, 'maria sharapova', 'fixed', 23100.0), (1006, 'gabriel jesus', 'fixed', 37100.0), (1010, 'steve smith', 'fixed', 61150.0), (1013, 'antoine griezman', 'fixed', 37640.0), (1017, 'thibaut courtois', 'fixed', 97550.0), (1020, 'ngolo kante', 'fixed', 55871.0), (1028, 'mark wood', 'fixed', 75442.0), (1031, 'roberto firmino', 'fixed', 96321.0), (1034, 'raheem sterling', 'fixed', 62994.0), (1036, 'carlos sainz', 'fixed', 96637.0))\n"
          ]
        }
      ]
    },
    {
      "cell_type": "code",
      "source": [
        "no=int(input('enter account number : '))\n",
        "curs.execute(f\"select accnm,balance from accounts where accno={no}\")\n",
        "data=curs.fetchone()\n",
        "if data:\n",
        "  print(data)\n",
        "else:\n",
        "  print('account does not exist')"
      ],
      "metadata": {
        "id": "aoyLdHvzRAUh",
        "colab": {
          "base_uri": "https://localhost:8080/"
        },
        "outputId": "6ba8d197-f10d-4095-d41b-11899f8bf1b9"
      },
      "execution_count": 16,
      "outputs": [
        {
          "output_type": "stream",
          "name": "stdout",
          "text": [
            "enter account number : 1055\n",
            "account does not exist\n"
          ]
        }
      ]
    },
    {
      "cell_type": "code",
      "source": [
        "con.close()"
      ],
      "metadata": {
        "id": "BJPKImbIWU_o"
      },
      "execution_count": 17,
      "outputs": []
    }
  ]
}