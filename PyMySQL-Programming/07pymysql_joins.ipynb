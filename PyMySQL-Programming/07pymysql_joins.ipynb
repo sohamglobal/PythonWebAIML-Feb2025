{
  "nbformat": 4,
  "nbformat_minor": 0,
  "metadata": {
    "colab": {
      "provenance": []
    },
    "kernelspec": {
      "name": "python3",
      "display_name": "Python 3"
    },
    "language_info": {
      "name": "python"
    }
  },
  "cells": [
    {
      "cell_type": "code",
      "execution_count": 1,
      "metadata": {
        "colab": {
          "base_uri": "https://localhost:8080/"
        },
        "id": "-F19FVwIHowh",
        "outputId": "0826722e-5ebc-4f43-95f9-2ca64481abd7"
      },
      "outputs": [
        {
          "output_type": "stream",
          "name": "stdout",
          "text": [
            "Collecting pymysql\n",
            "  Downloading PyMySQL-1.1.1-py3-none-any.whl.metadata (4.4 kB)\n",
            "Downloading PyMySQL-1.1.1-py3-none-any.whl (44 kB)\n",
            "\u001b[?25l   \u001b[90m━━━━━━━━━━━━━━━━━━━━━━━━━━━━━━━━━━━━━━━━\u001b[0m \u001b[32m0.0/45.0 kB\u001b[0m \u001b[31m?\u001b[0m eta \u001b[36m-:--:--\u001b[0m\r\u001b[2K   \u001b[90m━━━━━━━━━━━━━━━━━━━━━━━━━━━━━━━━━━━━━━━━\u001b[0m \u001b[32m45.0/45.0 kB\u001b[0m \u001b[31m2.3 MB/s\u001b[0m eta \u001b[36m0:00:00\u001b[0m\n",
            "\u001b[?25hInstalling collected packages: pymysql\n",
            "Successfully installed pymysql-1.1.1\n"
          ]
        }
      ],
      "source": [
        "pip install pymysql"
      ]
    },
    {
      "cell_type": "code",
      "source": [
        "import pymysql"
      ],
      "metadata": {
        "id": "pdd68PA5JnLn"
      },
      "execution_count": 2,
      "outputs": []
    },
    {
      "cell_type": "code",
      "source": [
        "con=pymysql.connect(host='mysql-ethan-python-mysql.h.aivencloud.com',port=10413,user='praffull',password='AVNS_owESNvPFD5fnVDwuWUq',database='sharayudb')\n",
        "print('python connected to cloud mysql database successfully')"
      ],
      "metadata": {
        "colab": {
          "base_uri": "https://localhost:8080/"
        },
        "id": "lPnrhVZ-J2ga",
        "outputId": "ee653b3e-32ed-400f-e34f-6702d97b9c0a"
      },
      "execution_count": 3,
      "outputs": [
        {
          "output_type": "stream",
          "name": "stdout",
          "text": [
            "python connected to cloud mysql database successfully\n"
          ]
        }
      ]
    },
    {
      "cell_type": "code",
      "source": [
        "curs=con.cursor()"
      ],
      "metadata": {
        "id": "1KnNpH2WKM5w"
      },
      "execution_count": 4,
      "outputs": []
    },
    {
      "cell_type": "code",
      "source": [
        "curs.execute(\"select customers.custnm,cars.modelnm,cars.company,cars.price from customers inner join cars on customers.carid=cars.carid;\")\n",
        "data=curs.fetchall();\n",
        "print(data)"
      ],
      "metadata": {
        "colab": {
          "base_uri": "https://localhost:8080/"
        },
        "id": "1qMGdNQEJ-e8",
        "outputId": "3b7158b0-bbd7-4cef-9ee8-f224b0e21741"
      },
      "execution_count": 5,
      "outputs": [
        {
          "output_type": "stream",
          "name": "stdout",
          "text": [
            "(('Joe Root', 'Kushaq', 'Skoda', 1158000.0), ('Boris Becker', 'Amaze', 'Honda', 665000.0), ('Michael Schumacher', 'XM', 'BMW', 12500000.0), ('Arnold Schwarzenegger', 'Fortuner', 'Toyota', 3258000.0), ('Jos Buttler', 'Tiguan', 'Volkswagen', 3375000.0), ('Steffi Graf', 'Virtus', 'Volkswagen', 1132000.0), ('Keanu Reeves', 'Fortuner', 'Toyota', 3258000.0), ('Sabastian Vettel', 'Kodiaq', 'Skoda', 3749000.0), ('Tom Cruise', 'XM', 'BMW', 12500000.0), ('Roger Federer', 'City', 'Honda', 950000.0), ('Emily Blunt', 'Taigun', 'Volkswagen', 1256000.0), ('Shah Rukh Khan', 'Safari', 'Tata', 1545000.0), ('A R Rahman', 'Creta', 'Hyundai', 1044000.0), ('Tabu', 'Tiguan', 'Volkswagen', 3375000.0), ('Rekha', 'Venue', 'Hyundai', 753000.0), ('Imran Khan', 'Fortuner', 'Toyota', 3258000.0), ('Dipika Singh', 'Innova', 'Toyota', 1809000.0), ('Alia Bhat', 'Creta', 'Hyundai', 1044000.0), ('Sylvester Stallone', 'Baleno', 'Maruti Suzuki', 642000.0), ('Emily Blunt', 'Swift', 'Maruti Suzuki', 591000.0))\n"
          ]
        }
      ]
    },
    {
      "cell_type": "code",
      "source": [
        "con.close()"
      ],
      "metadata": {
        "id": "Ng_OQJSqKdwZ"
      },
      "execution_count": 6,
      "outputs": []
    }
  ]
}