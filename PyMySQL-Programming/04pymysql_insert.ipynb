{
  "nbformat": 4,
  "nbformat_minor": 0,
  "metadata": {
    "colab": {
      "provenance": []
    },
    "kernelspec": {
      "name": "python3",
      "display_name": "Python 3"
    },
    "language_info": {
      "name": "python"
    }
  },
  "cells": [
    {
      "cell_type": "code",
      "execution_count": 1,
      "metadata": {
        "colab": {
          "base_uri": "https://localhost:8080/"
        },
        "id": "PUA8JTNDW8mH",
        "outputId": "482ef7a3-21b7-4455-ede0-8672650e0be8"
      },
      "outputs": [
        {
          "output_type": "stream",
          "name": "stdout",
          "text": [
            "Collecting pymysql\n",
            "  Downloading PyMySQL-1.1.1-py3-none-any.whl.metadata (4.4 kB)\n",
            "Downloading PyMySQL-1.1.1-py3-none-any.whl (44 kB)\n",
            "\u001b[2K   \u001b[90m━━━━━━━━━━━━━━━━━━━━━━━━━━━━━━━━━━━━━━━━\u001b[0m \u001b[32m45.0/45.0 kB\u001b[0m \u001b[31m1.2 MB/s\u001b[0m eta \u001b[36m0:00:00\u001b[0m\n",
            "\u001b[?25hInstalling collected packages: pymysql\n",
            "Successfully installed pymysql-1.1.1\n"
          ]
        }
      ],
      "source": [
        "pip install pymysql"
      ]
    },
    {
      "cell_type": "code",
      "source": [
        "import pymysql"
      ],
      "metadata": {
        "id": "C8rnfP9jXHLx"
      },
      "execution_count": 2,
      "outputs": []
    },
    {
      "cell_type": "code",
      "source": [
        "con=pymysql.connect(host='mysql-ethan-python-mysql.h.aivencloud.com',port=10413,user='praffull',password='AVNS_owESNvPFD5fnVDwuWUq',database='sharayudb')\n",
        "print('python connected to cloud mysql database successfully')"
      ],
      "metadata": {
        "colab": {
          "base_uri": "https://localhost:8080/"
        },
        "id": "8NVKk9gLXNxi",
        "outputId": "f4771b7b-d4d9-4198-e777-e6de1eb48ec4"
      },
      "execution_count": 3,
      "outputs": [
        {
          "output_type": "stream",
          "name": "stdout",
          "text": [
            "python connected to cloud mysql database successfully\n"
          ]
        }
      ]
    },
    {
      "cell_type": "code",
      "source": [
        "curs=con.cursor()"
      ],
      "metadata": {
        "id": "lvi-7P_2XS-m"
      },
      "execution_count": 4,
      "outputs": []
    },
    {
      "cell_type": "code",
      "source": [
        "uid=input('Enter userID : ')\n",
        "ps=input('Enter password : ')\n",
        "nm=input('Enter name : ')\n",
        "\n",
        "curs.execute(f\"insert into users values('{uid}','{ps}','{nm}')\")\n",
        "con.commit()\n",
        "print('new user inserted successfully')"
      ],
      "metadata": {
        "colab": {
          "base_uri": "https://localhost:8080/"
        },
        "id": "3qFHeyruXbJA",
        "outputId": "08896d36-01ab-46e8-fd6c-24767504f2f6"
      },
      "execution_count": 7,
      "outputs": [
        {
          "output_type": "stream",
          "name": "stdout",
          "text": [
            "Enter userID : smith\n",
            "Enter password : sydney\n",
            "Enter name : steve smith\n",
            "new user inserted successfully\n"
          ]
        }
      ]
    },
    {
      "cell_type": "code",
      "source": [
        "con.close()"
      ],
      "metadata": {
        "id": "L3AmC2yxoNY1"
      },
      "execution_count": null,
      "outputs": []
    }
  ]
}