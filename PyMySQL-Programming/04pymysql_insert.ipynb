{
  "nbformat": 4,
  "nbformat_minor": 0,
  "metadata": {
    "colab": {
      "provenance": []
    },
    "kernelspec": {
      "name": "python3",
      "display_name": "Python 3"
    },
    "language_info": {
      "name": "python"
    }
  },
  "cells": [
    {
      "cell_type": "code",
      "execution_count": 1,
      "metadata": {
        "colab": {
          "base_uri": "https://localhost:8080/"
        },
        "id": "PUA8JTNDW8mH",
        "outputId": "b44f2c74-3829-44e9-a415-6994e55bcadc"
      },
      "outputs": [
        {
          "output_type": "stream",
          "name": "stdout",
          "text": [
            "Collecting pymysql\n",
            "  Downloading PyMySQL-1.1.1-py3-none-any.whl.metadata (4.4 kB)\n",
            "Downloading PyMySQL-1.1.1-py3-none-any.whl (44 kB)\n",
            "\u001b[2K   \u001b[90m━━━━━━━━━━━━━━━━━━━━━━━━━━━━━━━━━━━━━━━━\u001b[0m \u001b[32m45.0/45.0 kB\u001b[0m \u001b[31m2.0 MB/s\u001b[0m eta \u001b[36m0:00:00\u001b[0m\n",
            "\u001b[?25hInstalling collected packages: pymysql\n",
            "Successfully installed pymysql-1.1.1\n"
          ]
        }
      ],
      "source": [
        "pip install pymysql"
      ]
    },
    {
      "cell_type": "code",
      "source": [
        "import pymysql"
      ],
      "metadata": {
        "id": "C8rnfP9jXHLx"
      },
      "execution_count": 2,
      "outputs": []
    },
    {
      "cell_type": "code",
      "source": [
        "con=pymysql.connect(host='mysql-ethan-python-mysql.h.aivencloud.com',port=10413,user='praffull',password='AVNS_owESNvPFD5fnVDwuWUq',database='sharayudb')\n",
        "print('python connected to cloud mysql database successfully')"
      ],
      "metadata": {
        "colab": {
          "base_uri": "https://localhost:8080/"
        },
        "id": "8NVKk9gLXNxi",
        "outputId": "3e162fef-e236-4a8f-848b-ec9d9deb6938"
      },
      "execution_count": 3,
      "outputs": [
        {
          "output_type": "stream",
          "name": "stdout",
          "text": [
            "python connected to cloud mysql database successfully\n"
          ]
        }
      ]
    },
    {
      "cell_type": "code",
      "source": [
        "curs=con.cursor()"
      ],
      "metadata": {
        "id": "lvi-7P_2XS-m"
      },
      "execution_count": 4,
      "outputs": []
    },
    {
      "cell_type": "code",
      "source": [
        "uid=input('Enter userID : ')\n",
        "ps=input('Enter password : ')\n",
        "nm=input('Enter name : ')\n",
        "\n",
        "curs.execute(f\"insert into users values('{uid}','{ps}','{nm}')\")\n",
        "con.commit()\n",
        "print('new user inserted successfully')"
      ],
      "metadata": {
        "colab": {
          "base_uri": "https://localhost:8080/"
        },
        "id": "3qFHeyruXbJA",
        "outputId": "d7e51c24-b1c4-4a20-c1b5-17a89299857a"
      },
      "execution_count": 5,
      "outputs": [
        {
          "output_type": "stream",
          "name": "stdout",
          "text": [
            "Enter userID : ben\n",
            "Enter password : python\n",
            "Enter name : ben stokes\n",
            "new user inserted successfully\n"
          ]
        }
      ]
    },
    {
      "cell_type": "code",
      "source": [
        "no=int(input('Enter employee number : '))\n",
        "nm=input('Enter name : ')\n",
        "dp=input('Enter department : ')\n",
        "po=input('Enter post : ')\n",
        "lo=input('Enter location : ')\n",
        "sl=float(input('Enter salary : '))\n",
        "\n",
        "curs.execute(f\"insert into employees values({no},'{nm}','{dp}','{po}','{lo}',{sl})\")\n",
        "#curs.execute(\"insert into employees values(%d,'%s','%s','%s','%s',%.2f)\" %(no,nm,dp,po,lo,sl))\n",
        "con.commit()\n",
        "print('new employee added to the database')"
      ],
      "metadata": {
        "id": "L3AmC2yxoNY1",
        "colab": {
          "base_uri": "https://localhost:8080/"
        },
        "outputId": "0c63e722-7eaf-4dcc-b546-664361d27d1c"
      },
      "execution_count": 7,
      "outputs": [
        {
          "output_type": "stream",
          "name": "stdout",
          "text": [
            "Enter employee number : 217\n",
            "Enter name : lando norris\n",
            "Enter department : finance\n",
            "Enter post : auditor\n",
            "Enter location : berlin\n",
            "Enter salary : 72180\n",
            "new employee added to the database\n"
          ]
        }
      ]
    },
    {
      "cell_type": "code",
      "source": [
        "no=int(input('Enter account number : '))\n",
        "nm=input('Enter name : ')\n",
        "ty=input('Enter type : ')\n",
        "bl=float(input('Enter balance : '))\n",
        "curs.execute(f\"insert into accounts values({no},'{nm}','{ty}',{bl})\")\n",
        "con.commit()\n",
        "print('new account opened...')"
      ],
      "metadata": {
        "colab": {
          "base_uri": "https://localhost:8080/"
        },
        "id": "s-fByW-aiqGs",
        "outputId": "f0ba17f7-f884-4ebe-fdf4-8e2d1fb3f9a9"
      },
      "execution_count": 8,
      "outputs": [
        {
          "output_type": "stream",
          "name": "stdout",
          "text": [
            "Enter account number : 1053\n",
            "Enter name : Ajinkya Kulkarni\n",
            "Enter type : saving\n",
            "Enter balance : 65100\n",
            "new account opened...\n"
          ]
        }
      ]
    }
  ]
}