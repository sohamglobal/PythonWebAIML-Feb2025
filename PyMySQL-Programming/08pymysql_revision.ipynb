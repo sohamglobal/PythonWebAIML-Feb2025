{
  "nbformat": 4,
  "nbformat_minor": 0,
  "metadata": {
    "colab": {
      "provenance": []
    },
    "kernelspec": {
      "name": "python3",
      "display_name": "Python 3"
    },
    "language_info": {
      "name": "python"
    }
  },
  "cells": [
    {
      "cell_type": "code",
      "execution_count": 1,
      "metadata": {
        "colab": {
          "base_uri": "https://localhost:8080/"
        },
        "id": "o4GTM5K3Gz8a",
        "outputId": "589fe64d-0a0d-45a0-d5df-cf37fa0e7ef3"
      },
      "outputs": [
        {
          "output_type": "stream",
          "name": "stdout",
          "text": [
            "Collecting pymysql\n",
            "  Downloading PyMySQL-1.1.1-py3-none-any.whl.metadata (4.4 kB)\n",
            "Downloading PyMySQL-1.1.1-py3-none-any.whl (44 kB)\n",
            "\u001b[?25l   \u001b[90m━━━━━━━━━━━━━━━━━━━━━━━━━━━━━━━━━━━━━━━━\u001b[0m \u001b[32m0.0/45.0 kB\u001b[0m \u001b[31m?\u001b[0m eta \u001b[36m-:--:--\u001b[0m\r\u001b[2K   \u001b[90m━━━━━━━━━━━━━━━━━━━━━━━━━━━━━━━━━━━━━━━━\u001b[0m \u001b[32m45.0/45.0 kB\u001b[0m \u001b[31m1.4 MB/s\u001b[0m eta \u001b[36m0:00:00\u001b[0m\n",
            "\u001b[?25hInstalling collected packages: pymysql\n",
            "Successfully installed pymysql-1.1.1\n"
          ]
        }
      ],
      "source": [
        "pip install pymysql"
      ]
    },
    {
      "cell_type": "code",
      "source": [
        "import pymysql"
      ],
      "metadata": {
        "id": "YKPox8j3LEnA"
      },
      "execution_count": 2,
      "outputs": []
    },
    {
      "cell_type": "code",
      "source": [
        "con=pymysql.connect(host='mysql-ethan-python-mysql.h.aivencloud.com',port=10413,user='praffull',password='AVNS_owESNvPFD5fnVDwuWUq',database='sharayudb')\n",
        "print('python connected to cloud mysql database successfully')"
      ],
      "metadata": {
        "colab": {
          "base_uri": "https://localhost:8080/"
        },
        "id": "YMkH1PVTLGr8",
        "outputId": "b6b34124-3f40-46ef-c774-eb7a19000789"
      },
      "execution_count": 3,
      "outputs": [
        {
          "output_type": "stream",
          "name": "stdout",
          "text": [
            "python connected to cloud mysql database successfully\n"
          ]
        }
      ]
    },
    {
      "cell_type": "code",
      "source": [
        "curs=con.cursor()"
      ],
      "metadata": {
        "id": "_zKZX1aEMBbA"
      },
      "execution_count": 4,
      "outputs": []
    },
    {
      "cell_type": "markdown",
      "source": [
        "# Insert new Film"
      ],
      "metadata": {
        "id": "2E2vliQ1LKFd"
      }
    },
    {
      "cell_type": "code",
      "source": [
        "nm=input('Enter film name : ')\n",
        "yr=int(input('Enter release year : '))\n",
        "ln=input('Enter langauge : ')\n",
        "gn=input('Enter genre : ')\n",
        "rt=float(input('Enter IMDBRating : '))\n",
        "\n",
        "curs.execute(f\"insert into films(film_name,release_year,language,genre,imdb_rating) values('{nm}',{yr},'{ln}','{gn}',{rt})\")\n",
        "con.commit()\n",
        "print('new film added to the table')\n"
      ],
      "metadata": {
        "colab": {
          "base_uri": "https://localhost:8080/"
        },
        "id": "r2PNJm1uLJZy",
        "outputId": "fe8732e4-2f6a-46f9-c1a6-a4e2b532f576"
      },
      "execution_count": 6,
      "outputs": [
        {
          "output_type": "stream",
          "name": "stdout",
          "text": [
            "Enter film name : the matrix\n",
            "Enter release year : 1999\n",
            "Enter langauge : english\n",
            "Enter genre : action\n",
            "Enter IMDBRating : 9.2\n",
            "new film added to the table\n"
          ]
        }
      ]
    },
    {
      "cell_type": "markdown",
      "source": [
        "# SELECT"
      ],
      "metadata": {
        "id": "QojORh28Pb9W"
      }
    },
    {
      "cell_type": "code",
      "source": [
        "curs.execute(\"select * from films\")\n",
        "data=curs.fetchall()\n",
        "print(data)"
      ],
      "metadata": {
        "colab": {
          "base_uri": "https://localhost:8080/"
        },
        "id": "l-fhy54ZMyga",
        "outputId": "1f554b9d-730f-400f-a870-616c29762206"
      },
      "execution_count": 7,
      "outputs": [
        {
          "output_type": "stream",
          "name": "stdout",
          "text": [
            "((1, 'pk', 2014, 'hindi', 'comedy', 8.7), (2, 'the matrix', 1999, 'english', 'action', 9.2))\n"
          ]
        }
      ]
    },
    {
      "cell_type": "markdown",
      "source": [
        "# Update data"
      ],
      "metadata": {
        "id": "P7NlPdajPeEM"
      }
    },
    {
      "cell_type": "code",
      "source": [
        "no=int(input('Enter film number : '))\n",
        "rt=float(input('Enter new IMDBRating : '))\n",
        "curs.execute(f\"update films set imdb_rating={rt} where filmno={no}\")\n",
        "con.commit()\n",
        "print('film rating modified successfully')"
      ],
      "metadata": {
        "colab": {
          "base_uri": "https://localhost:8080/"
        },
        "id": "jT5LsVV8NHgq",
        "outputId": "3171a743-94eb-476f-efe8-9bf8c61c29c9"
      },
      "execution_count": 9,
      "outputs": [
        {
          "output_type": "stream",
          "name": "stdout",
          "text": [
            "Enter film number : 1\n",
            "Enter new IMDBRating : 8.1\n",
            "film rating modified successfully\n"
          ]
        }
      ]
    },
    {
      "cell_type": "markdown",
      "source": [
        "# Delete film"
      ],
      "metadata": {
        "id": "1lLjZfhpPhJO"
      }
    },
    {
      "cell_type": "code",
      "source": [
        "no=int(input('Enter film number : '))\n",
        "cnt=curs.execute(f\"delete from films where filmno={no}\")\n",
        "con.commit()\n",
        "if cnt==1:\n",
        "  print('film deleted')\n",
        "else:\n",
        "  print('film not found')"
      ],
      "metadata": {
        "colab": {
          "base_uri": "https://localhost:8080/"
        },
        "id": "p06DCDdaOlkk",
        "outputId": "beb50cd0-cb33-4de1-9918-c0118e2310c3"
      },
      "execution_count": 11,
      "outputs": [
        {
          "output_type": "stream",
          "name": "stdout",
          "text": [
            "Enter film number : 2\n",
            "film deleted\n"
          ]
        }
      ]
    },
    {
      "cell_type": "code",
      "source": [
        "con.close()"
      ],
      "metadata": {
        "id": "tCgdn_DEPkWt"
      },
      "execution_count": 12,
      "outputs": []
    }
  ]
}