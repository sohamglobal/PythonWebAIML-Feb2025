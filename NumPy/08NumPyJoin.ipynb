{
  "nbformat": 4,
  "nbformat_minor": 0,
  "metadata": {
    "colab": {
      "provenance": []
    },
    "kernelspec": {
      "name": "python3",
      "display_name": "Python 3"
    },
    "language_info": {
      "name": "python"
    }
  },
  "cells": [
    {
      "cell_type": "markdown",
      "source": [
        "Join data of two numpy arrays"
      ],
      "metadata": {
        "id": "7vEFycV3j10t"
      }
    },
    {
      "cell_type": "code",
      "source": [
        "import numpy"
      ],
      "metadata": {
        "id": "gWa0VClUkHDW"
      },
      "execution_count": 1,
      "outputs": []
    },
    {
      "cell_type": "code",
      "execution_count": 2,
      "metadata": {
        "id": "MH2nmIDejvP-"
      },
      "outputs": [],
      "source": [
        "a1=numpy.array([1,2,3,4,5])\n",
        "a2=numpy.array([10,20,30,40,50,60,70])\n"
      ]
    },
    {
      "cell_type": "code",
      "source": [
        "res=numpy.concatenate((a1,a2))\n",
        "print(res)"
      ],
      "metadata": {
        "colab": {
          "base_uri": "https://localhost:8080/"
        },
        "id": "NTnI9iGTkN3H",
        "outputId": "3f12db94-67e1-4c78-e5d0-cd7e384d0b8e"
      },
      "execution_count": 3,
      "outputs": [
        {
          "output_type": "stream",
          "name": "stdout",
          "text": [
            "[ 1  2  3  4  5 10 20 30 40 50 60 70]\n"
          ]
        }
      ]
    },
    {
      "cell_type": "code",
      "source": [
        "a1=numpy.array([[1,2,3],[4,5,6]])\n",
        "a2=numpy.array([[12,23,34],[45,56,67],[20,50,10]])\n",
        "res=numpy.concatenate((a1,a2))\n",
        "print(res)"
      ],
      "metadata": {
        "colab": {
          "base_uri": "https://localhost:8080/"
        },
        "id": "5peJs8W-k2CS",
        "outputId": "0df4a287-fa27-46dd-8d89-8e087cca6ba2"
      },
      "execution_count": 5,
      "outputs": [
        {
          "output_type": "stream",
          "name": "stdout",
          "text": [
            "[[ 1  2  3]\n",
            " [ 4  5  6]\n",
            " [12 23 34]\n",
            " [45 56 67]\n",
            " [20 50 10]]\n"
          ]
        }
      ]
    },
    {
      "cell_type": "code",
      "source": [
        "a1=numpy.array([[1,2,3],[4,5,6]])\n",
        "a2=numpy.array([[12,23],[45,56]])\n",
        "res=numpy.concatenate((a1,a2),axis=1)\n",
        "print(res)"
      ],
      "metadata": {
        "colab": {
          "base_uri": "https://localhost:8080/"
        },
        "id": "lrx7FH8plcQD",
        "outputId": "2cd6db8a-e69e-4f9e-aba0-83319b0a16c6"
      },
      "execution_count": 7,
      "outputs": [
        {
          "output_type": "stream",
          "name": "stdout",
          "text": [
            "[[ 1  2  3 12 23]\n",
            " [ 4  5  6 45 56]]\n"
          ]
        }
      ]
    }
  ]
}