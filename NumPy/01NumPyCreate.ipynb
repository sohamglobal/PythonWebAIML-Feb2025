{
  "nbformat": 4,
  "nbformat_minor": 0,
  "metadata": {
    "colab": {
      "provenance": []
    },
    "kernelspec": {
      "name": "python3",
      "display_name": "Python 3"
    },
    "language_info": {
      "name": "python"
    }
  },
  "cells": [
    {
      "cell_type": "markdown",
      "source": [
        "**Creating numpy array from 1-D List**"
      ],
      "metadata": {
        "id": "mFDwmeoJjpGW"
      }
    },
    {
      "cell_type": "code",
      "source": [
        "import numpy"
      ],
      "metadata": {
        "id": "AIgjhxkYkFmW"
      },
      "execution_count": 2,
      "outputs": []
    },
    {
      "cell_type": "code",
      "execution_count": 3,
      "metadata": {
        "colab": {
          "base_uri": "https://localhost:8080/"
        },
        "id": "bltjZt_PjSvb",
        "outputId": "f020c727-2707-48af-cd13-107bb6f50a37"
      },
      "outputs": [
        {
          "output_type": "stream",
          "name": "stdout",
          "text": [
            "<class 'list'>\n",
            "[87, 44, 12, 34, 23, 76, 89, 54, 22, 21, 53, 39]\n",
            "<class 'numpy.ndarray'>\n",
            "[87 44 12 34 23 76 89 54 22 21 53 39]\n"
          ]
        }
      ],
      "source": [
        "lst=[87,44,12,34,23,76,89,54,22,21,53,39]\n",
        "print(type(lst))\n",
        "print(lst)\n",
        "\n",
        "arr=numpy.array(lst)\n",
        "print(type(arr))\n",
        "print(arr)"
      ]
    },
    {
      "cell_type": "markdown",
      "source": [
        "**Creating numpy array from 2-D List**"
      ],
      "metadata": {
        "id": "68SfmiFvlheL"
      }
    },
    {
      "cell_type": "code",
      "source": [
        "lst=[\n",
        "    [12,23,34,45],\n",
        "    [67,78,89,90],\n",
        "    [87,65,54,32]\n",
        "]\n",
        "print(lst)\n",
        "\n",
        "arr=numpy.array(lst)\n",
        "print(arr)"
      ],
      "metadata": {
        "colab": {
          "base_uri": "https://localhost:8080/"
        },
        "id": "Tv5dr8tvkq-l",
        "outputId": "e9ff7da6-4119-49fb-c073-841af0a657e9"
      },
      "execution_count": 5,
      "outputs": [
        {
          "output_type": "stream",
          "name": "stdout",
          "text": [
            "[[12, 23, 34, 45], [67, 78, 89, 90], [87, 65, 54, 32]]\n",
            "[[12 23 34 45]\n",
            " [67 78 89 90]\n",
            " [87 65 54 32]]\n"
          ]
        }
      ]
    },
    {
      "cell_type": "code",
      "source": [
        "res=arr+5\n",
        "print(res)"
      ],
      "metadata": {
        "colab": {
          "base_uri": "https://localhost:8080/"
        },
        "id": "usGfgcyGmACS",
        "outputId": "51657ab7-5b81-4a05-d861-2942561b2726"
      },
      "execution_count": 6,
      "outputs": [
        {
          "output_type": "stream",
          "name": "stdout",
          "text": [
            "[[17 28 39 50]\n",
            " [72 83 94 95]\n",
            " [92 70 59 37]]\n"
          ]
        }
      ]
    },
    {
      "cell_type": "code",
      "source": [
        "res=arr**2\n",
        "print(res)"
      ],
      "metadata": {
        "colab": {
          "base_uri": "https://localhost:8080/"
        },
        "id": "94Bh3Boam4T0",
        "outputId": "40396b03-91d1-4b8d-8cd8-e2978372aa74"
      },
      "execution_count": 7,
      "outputs": [
        {
          "output_type": "stream",
          "name": "stdout",
          "text": [
            "[[ 144  529 1156 2025]\n",
            " [4489 6084 7921 8100]\n",
            " [7569 4225 2916 1024]]\n"
          ]
        }
      ]
    },
    {
      "cell_type": "markdown",
      "source": [
        "**Creating numpy array with 0s, 1s and some value**"
      ],
      "metadata": {
        "id": "LUmSiPdBnsVm"
      }
    },
    {
      "cell_type": "code",
      "source": [
        "zarr=numpy.zeros((4,5))\n",
        "print(zarr)"
      ],
      "metadata": {
        "colab": {
          "base_uri": "https://localhost:8080/"
        },
        "id": "Gl0Af-Dln17_",
        "outputId": "56fe076d-9f56-48b6-9ea6-54b654ef6a35"
      },
      "execution_count": 8,
      "outputs": [
        {
          "output_type": "stream",
          "name": "stdout",
          "text": [
            "[[0. 0. 0. 0. 0.]\n",
            " [0. 0. 0. 0. 0.]\n",
            " [0. 0. 0. 0. 0.]\n",
            " [0. 0. 0. 0. 0.]]\n"
          ]
        }
      ]
    },
    {
      "cell_type": "code",
      "source": [
        "oarr=numpy.ones(7)\n",
        "print(oarr)"
      ],
      "metadata": {
        "colab": {
          "base_uri": "https://localhost:8080/"
        },
        "id": "ptnnuHJooJ0z",
        "outputId": "7dbdbed7-8b17-4756-fd19-34d9ebe90476"
      },
      "execution_count": 9,
      "outputs": [
        {
          "output_type": "stream",
          "name": "stdout",
          "text": [
            "[1. 1. 1. 1. 1. 1. 1.]\n"
          ]
        }
      ]
    },
    {
      "cell_type": "code",
      "source": [
        "narr=numpy.full((2,5),9)\n",
        "print(narr)"
      ],
      "metadata": {
        "colab": {
          "base_uri": "https://localhost:8080/"
        },
        "id": "nadtiZ5WokJW",
        "outputId": "e0e3e87b-c778-44b7-e2f0-4abe41d3e003"
      },
      "execution_count": 12,
      "outputs": [
        {
          "output_type": "stream",
          "name": "stdout",
          "text": [
            "[[9 9 9 9 9]\n",
            " [9 9 9 9 9]]\n"
          ]
        }
      ]
    },
    {
      "cell_type": "markdown",
      "source": [
        "**Creating identity matrix**"
      ],
      "metadata": {
        "id": "fHqKJHyPpDZn"
      }
    },
    {
      "cell_type": "code",
      "source": [
        "iarr=numpy.eye(5)\n",
        "print(iarr)"
      ],
      "metadata": {
        "colab": {
          "base_uri": "https://localhost:8080/"
        },
        "id": "XUtMgTbJpGTG",
        "outputId": "57618678-7f83-4e28-9ec2-652e29a263c6"
      },
      "execution_count": 13,
      "outputs": [
        {
          "output_type": "stream",
          "name": "stdout",
          "text": [
            "[[1. 0. 0. 0. 0.]\n",
            " [0. 1. 0. 0. 0.]\n",
            " [0. 0. 1. 0. 0.]\n",
            " [0. 0. 0. 1. 0.]\n",
            " [0. 0. 0. 0. 1.]]\n"
          ]
        }
      ]
    },
    {
      "cell_type": "markdown",
      "source": [
        "**Creating numpy array using arange()**"
      ],
      "metadata": {
        "id": "5-cvde7qrHWs"
      }
    },
    {
      "cell_type": "code",
      "source": [
        "arr=numpy.arange(1,25)\n",
        "print(arr)"
      ],
      "metadata": {
        "colab": {
          "base_uri": "https://localhost:8080/"
        },
        "id": "t9oGb3terSDX",
        "outputId": "66484d35-dc30-494a-8c7e-28234b6db95a"
      },
      "execution_count": 14,
      "outputs": [
        {
          "output_type": "stream",
          "name": "stdout",
          "text": [
            "[ 1  2  3  4  5  6  7  8  9 10 11 12 13 14 15 16 17 18 19 20 21 22 23 24]\n"
          ]
        }
      ]
    },
    {
      "cell_type": "code",
      "source": [
        "arr=numpy.arange(75,90,2)\n",
        "print(arr)"
      ],
      "metadata": {
        "colab": {
          "base_uri": "https://localhost:8080/"
        },
        "id": "qLbhW5kFrpOX",
        "outputId": "9bafcb63-ff8d-40ed-d6a7-5a050c064bbc"
      },
      "execution_count": 15,
      "outputs": [
        {
          "output_type": "stream",
          "name": "stdout",
          "text": [
            "[75 77 79 81 83 85 87 89]\n"
          ]
        }
      ]
    },
    {
      "cell_type": "code",
      "source": [
        "arr=numpy.arange(50,25,-3)\n",
        "print(arr)"
      ],
      "metadata": {
        "colab": {
          "base_uri": "https://localhost:8080/"
        },
        "id": "_wCuK-wpr6xr",
        "outputId": "356191f1-629a-4bb3-db6a-735fcd15b954"
      },
      "execution_count": 16,
      "outputs": [
        {
          "output_type": "stream",
          "name": "stdout",
          "text": [
            "[50 47 44 41 38 35 32 29 26]\n"
          ]
        }
      ]
    },
    {
      "cell_type": "markdown",
      "source": [
        "**Creating array with linear spacing**"
      ],
      "metadata": {
        "id": "EdAzgXp-sO3C"
      }
    },
    {
      "cell_type": "code",
      "source": [
        "arr=numpy.linspace(0,1,5)\n",
        "print(arr)"
      ],
      "metadata": {
        "colab": {
          "base_uri": "https://localhost:8080/"
        },
        "id": "mFq_Zal5sUD7",
        "outputId": "c99e4bac-33d3-4f85-bb35-a373ac4997f9"
      },
      "execution_count": 17,
      "outputs": [
        {
          "output_type": "stream",
          "name": "stdout",
          "text": [
            "[0.   0.25 0.5  0.75 1.  ]\n"
          ]
        }
      ]
    },
    {
      "cell_type": "code",
      "source": [
        "arr=numpy.linspace(1,13,9)\n",
        "print(arr)"
      ],
      "metadata": {
        "colab": {
          "base_uri": "https://localhost:8080/"
        },
        "id": "k9NGYzKAsgdl",
        "outputId": "07b345e5-13b1-4ecb-9a0d-93fc1424ff3b"
      },
      "execution_count": 18,
      "outputs": [
        {
          "output_type": "stream",
          "name": "stdout",
          "text": [
            "[ 1.   2.5  4.   5.5  7.   8.5 10.  11.5 13. ]\n"
          ]
        }
      ]
    }
  ]
}