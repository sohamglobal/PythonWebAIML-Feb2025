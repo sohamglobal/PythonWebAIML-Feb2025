{
  "nbformat": 4,
  "nbformat_minor": 0,
  "metadata": {
    "colab": {
      "provenance": []
    },
    "kernelspec": {
      "name": "python3",
      "display_name": "Python 3"
    },
    "language_info": {
      "name": "python"
    }
  },
  "cells": [
    {
      "cell_type": "code",
      "execution_count": 1,
      "metadata": {
        "id": "gecYGiIvoQGU"
      },
      "outputs": [],
      "source": [
        "import numpy"
      ]
    },
    {
      "cell_type": "code",
      "source": [
        "arr=numpy.random.randint(1,75,10)\n",
        "print(arr)"
      ],
      "metadata": {
        "colab": {
          "base_uri": "https://localhost:8080/"
        },
        "id": "7Q5eqn2jodMj",
        "outputId": "5254a00e-e5a2-49de-dc3b-61c19cd94ae7"
      },
      "execution_count": 2,
      "outputs": [
        {
          "output_type": "stream",
          "name": "stdout",
          "text": [
            "[38 14  6 73  7  8 21 61 15 42]\n"
          ]
        }
      ]
    },
    {
      "cell_type": "markdown",
      "source": [
        "**Filter data**"
      ],
      "metadata": {
        "id": "m6lY-tCzpK6z"
      }
    },
    {
      "cell_type": "code",
      "source": [
        "filtered_arr=arr[arr>50]\n",
        "print(filtered_arr)"
      ],
      "metadata": {
        "colab": {
          "base_uri": "https://localhost:8080/"
        },
        "id": "MpwRWu0wo0Er",
        "outputId": "c3dcd688-e94e-4c92-cd3f-f44d4abddcdb"
      },
      "execution_count": 3,
      "outputs": [
        {
          "output_type": "stream",
          "name": "stdout",
          "text": [
            "[73 61]\n"
          ]
        }
      ]
    },
    {
      "cell_type": "markdown",
      "source": [
        "**Sorting data**"
      ],
      "metadata": {
        "id": "F1hU0_MepNpr"
      }
    },
    {
      "cell_type": "code",
      "source": [
        "print(arr)\n",
        "print(arr[::-1])\n",
        "\n",
        "print(numpy.sort(arr))\n",
        "print(numpy.sort(arr)[::-1])"
      ],
      "metadata": {
        "colab": {
          "base_uri": "https://localhost:8080/"
        },
        "id": "LJwm9o0BpTen",
        "outputId": "7ed36987-ef87-400d-e7ce-618749275820"
      },
      "execution_count": 7,
      "outputs": [
        {
          "output_type": "stream",
          "name": "stdout",
          "text": [
            "[38 14  6 73  7  8 21 61 15 42]\n",
            "[42 15 61 21  8  7 73  6 14 38]\n",
            "[ 6  7  8 14 15 21 38 42 61 73]\n",
            "[73 61 42 38 21 15 14  8  7  6]\n"
          ]
        }
      ]
    },
    {
      "cell_type": "markdown",
      "source": [
        "**Unique elements**"
      ],
      "metadata": {
        "id": "QICt46RwqPvv"
      }
    },
    {
      "cell_type": "code",
      "source": [
        "lst=[9,26,13,1,9,12,45,13,9,26,1,39]\n",
        "a=numpy.array(lst)\n",
        "print(a)\n",
        "\n",
        "print(numpy.unique(a))"
      ],
      "metadata": {
        "colab": {
          "base_uri": "https://localhost:8080/"
        },
        "id": "_P8F8WgMqm5a",
        "outputId": "c0ee2e13-fbac-47a3-90d4-17e1002f0c62"
      },
      "execution_count": 9,
      "outputs": [
        {
          "output_type": "stream",
          "name": "stdout",
          "text": [
            "[ 9 26 13  1  9 12 45 13  9 26  1 39]\n",
            "[ 1  9 12 13 26 39 45]\n"
          ]
        }
      ]
    },
    {
      "cell_type": "markdown",
      "source": [
        "**Split**"
      ],
      "metadata": {
        "id": "Mb5JJFejrKZf"
      }
    },
    {
      "cell_type": "code",
      "source": [
        "print(a)\n",
        "print(numpy.array_split(a,5))\n",
        "print(numpy.array_split(a,5)[1])"
      ],
      "metadata": {
        "colab": {
          "base_uri": "https://localhost:8080/"
        },
        "id": "2l9xazLnrIJJ",
        "outputId": "dea51f09-c856-4c63-a9f8-ae42e9e83639"
      },
      "execution_count": 13,
      "outputs": [
        {
          "output_type": "stream",
          "name": "stdout",
          "text": [
            "[ 9 26 13  1  9 12 45 13  9 26  1 39]\n",
            "[array([ 9, 26, 13]), array([ 1,  9, 12]), array([45, 13]), array([ 9, 26]), array([ 1, 39])]\n",
            "[ 1  9 12]\n"
          ]
        }
      ]
    },
    {
      "cell_type": "code",
      "source": [
        "print(a)\n",
        "print(a.shape)\n",
        "#ndarr=a.reshape(5,3)\n",
        "#ValueError: cannot reshape array of size 12 into shape (5,3)\n",
        "ndarr=a.reshape(3,4)\n",
        "print(ndarr)"
      ],
      "metadata": {
        "colab": {
          "base_uri": "https://localhost:8080/"
        },
        "id": "QOXEhuOzsC3i",
        "outputId": "e122b1d5-2665-4efc-df48-3b68239c17a4"
      },
      "execution_count": 18,
      "outputs": [
        {
          "output_type": "stream",
          "name": "stdout",
          "text": [
            "[ 9 26 13  1  9 12 45 13  9 26  1 39]\n",
            "(12,)\n",
            "[[ 9 26 13  1]\n",
            " [ 9 12 45 13]\n",
            " [ 9 26  1 39]]\n"
          ]
        }
      ]
    },
    {
      "cell_type": "code",
      "source": [
        "lst=a.tolist()\n",
        "print(a)\n",
        "print(lst)"
      ],
      "metadata": {
        "colab": {
          "base_uri": "https://localhost:8080/"
        },
        "id": "OjIVd7ZzuuU9",
        "outputId": "336a2c21-f693-4bcb-b80e-3276e4f322a5"
      },
      "execution_count": 19,
      "outputs": [
        {
          "output_type": "stream",
          "name": "stdout",
          "text": [
            "[ 9 26 13  1  9 12 45 13  9 26  1 39]\n",
            "[9, 26, 13, 1, 9, 12, 45, 13, 9, 26, 1, 39]\n"
          ]
        }
      ]
    },
    {
      "cell_type": "code",
      "source": [],
      "metadata": {
        "id": "705aE4LRu-kc"
      },
      "execution_count": null,
      "outputs": []
    }
  ]
}