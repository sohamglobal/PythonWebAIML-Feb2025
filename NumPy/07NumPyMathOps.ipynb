{
  "nbformat": 4,
  "nbformat_minor": 0,
  "metadata": {
    "colab": {
      "provenance": []
    },
    "kernelspec": {
      "name": "python3",
      "display_name": "Python 3"
    },
    "language_info": {
      "name": "python"
    }
  },
  "cells": [
    {
      "cell_type": "markdown",
      "source": [
        "**Mathematical operations on NumPy data**"
      ],
      "metadata": {
        "id": "L032cm2sRZzp"
      }
    },
    {
      "cell_type": "code",
      "execution_count": 2,
      "metadata": {
        "id": "kupYup_EQ_Ws"
      },
      "outputs": [],
      "source": [
        "import numpy"
      ]
    },
    {
      "cell_type": "markdown",
      "source": [
        "Basic arithmetic ops"
      ],
      "metadata": {
        "id": "X6oT7FeUTIzQ"
      }
    },
    {
      "cell_type": "code",
      "source": [
        "arr1=numpy.array([1,2,3,4])\n",
        "arr2=numpy.array([8,6,9,8])\n",
        "\n",
        "print(arr1+arr2)\n",
        "print(arr1-arr2)\n",
        "print(arr1*arr2)\n",
        "print(arr1/arr2)"
      ],
      "metadata": {
        "colab": {
          "base_uri": "https://localhost:8080/"
        },
        "id": "AtjxXjZoRlFq",
        "outputId": "a8a2636a-7655-4aff-ba0e-50fec24ac116"
      },
      "execution_count": null,
      "outputs": [
        {
          "output_type": "stream",
          "name": "stdout",
          "text": [
            "[ 9  8 12 12]\n",
            "[-7 -4 -6 -4]\n",
            "[ 8 12 27 32]\n",
            "[0.125      0.33333333 0.33333333 0.5       ]\n"
          ]
        }
      ]
    },
    {
      "cell_type": "markdown",
      "source": [
        "scalar ops"
      ],
      "metadata": {
        "id": "YrqLGsS5TOTE"
      }
    },
    {
      "cell_type": "code",
      "source": [
        "arr1=numpy.array([1,2,3,4,5,6,7])\n",
        "print(arr1+3)\n",
        "print(arr1*2)\n",
        "print(arr1**2)"
      ],
      "metadata": {
        "colab": {
          "base_uri": "https://localhost:8080/"
        },
        "id": "XfzMeIvcSlNK",
        "outputId": "9a4ca05e-4101-43da-810d-5b50e5e8ccec"
      },
      "execution_count": null,
      "outputs": [
        {
          "output_type": "stream",
          "name": "stdout",
          "text": [
            "[ 4  5  6  7  8  9 10]\n",
            "[ 2  4  6  8 10 12 14]\n",
            "[ 1  4  9 16 25 36 49]\n"
          ]
        }
      ]
    },
    {
      "cell_type": "markdown",
      "source": [
        "aggregate functions"
      ],
      "metadata": {
        "id": "SPKavECTTUGD"
      }
    },
    {
      "cell_type": "code",
      "source": [
        "arr=numpy.array([1,2,3,4,5,6,7,8,9])\n",
        "\n",
        "print(arr.sum())\n",
        "print(arr.mean())\n",
        "print(arr.std())\n",
        "print('Correlation coefficient',numpy.corrcoef(arr))\n",
        "print('varience',numpy.var(arr))\n",
        "print(arr.min())\n",
        "print(arr.max())\n",
        "print(arr.prod())"
      ],
      "metadata": {
        "colab": {
          "base_uri": "https://localhost:8080/"
        },
        "id": "nb4p5sIXTRag",
        "outputId": "b5d7a12c-34ec-4d9e-f6e2-8f4edbcd6ba9"
      },
      "execution_count": 6,
      "outputs": [
        {
          "output_type": "stream",
          "name": "stdout",
          "text": [
            "45\n",
            "5.0\n",
            "2.581988897471611\n",
            "Correlation coefficient 1.0\n",
            "varience 6.666666666666667\n",
            "1\n",
            "9\n",
            "362880\n"
          ]
        }
      ]
    },
    {
      "cell_type": "markdown",
      "source": [
        "matrix operations"
      ],
      "metadata": {
        "id": "3hOwQ_w2VSkM"
      }
    },
    {
      "cell_type": "code",
      "source": [
        "a=numpy.array([[9,2],[3,4]])\n",
        "b=numpy.array([[5,6],[7,8]])\n",
        "\n",
        "print(numpy.dot(a,b))"
      ],
      "metadata": {
        "colab": {
          "base_uri": "https://localhost:8080/"
        },
        "id": "Pmuvx6GmVU9L",
        "outputId": "2464c8ac-e53b-42ec-e047-88738476b9d1"
      },
      "execution_count": null,
      "outputs": [
        {
          "output_type": "stream",
          "name": "stdout",
          "text": [
            "[[59 70]\n",
            " [43 50]]\n"
          ]
        }
      ]
    },
    {
      "cell_type": "markdown",
      "source": [
        "Element-wise math functions"
      ],
      "metadata": {
        "id": "gw1BdXpkXExb"
      }
    },
    {
      "cell_type": "code",
      "source": [
        "a=numpy.array([1,2,3,4,5])\n",
        "print(numpy.sin(a))\n",
        "print(numpy.cos(a))\n",
        "print(numpy.tan(a))\n",
        "print(numpy.log(a))\n",
        "print(numpy.sqrt(a))"
      ],
      "metadata": {
        "colab": {
          "base_uri": "https://localhost:8080/"
        },
        "id": "IBxPXbllXKx5",
        "outputId": "b6579567-a3f7-42e7-f3cc-62699cb4a6b2"
      },
      "execution_count": null,
      "outputs": [
        {
          "output_type": "stream",
          "name": "stdout",
          "text": [
            "[ 0.84147098  0.90929743  0.14112001 -0.7568025  -0.95892427]\n",
            "[ 0.54030231 -0.41614684 -0.9899925  -0.65364362  0.28366219]\n",
            "[ 1.55740772 -2.18503986 -0.14254654  1.15782128 -3.38051501]\n",
            "[0.         0.69314718 1.09861229 1.38629436 1.60943791]\n",
            "[1.         1.41421356 1.73205081 2.         2.23606798]\n"
          ]
        }
      ]
    },
    {
      "cell_type": "markdown",
      "source": [
        "rounding and absolute"
      ],
      "metadata": {
        "id": "sdAxLXJWabBH"
      }
    },
    {
      "cell_type": "code",
      "source": [
        "arr=numpy.array([1.4,2.6,-3.7])\n",
        "print(numpy.round(arr))\n",
        "print(numpy.ceil(arr))\n",
        "print(numpy.abs(arr))\n"
      ],
      "metadata": {
        "colab": {
          "base_uri": "https://localhost:8080/"
        },
        "id": "lyIb4RerafV3",
        "outputId": "de24eae8-dcd1-4c0b-9398-4a2aa934f933"
      },
      "execution_count": null,
      "outputs": [
        {
          "output_type": "stream",
          "name": "stdout",
          "text": [
            "[ 1.  3. -4.]\n",
            "[ 2.  3. -3.]\n",
            "[1.4 2.6 3.7]\n"
          ]
        }
      ]
    },
    {
      "cell_type": "markdown",
      "source": [
        "comparisons"
      ],
      "metadata": {
        "id": "j6bzYUr4cRof"
      }
    },
    {
      "cell_type": "code",
      "source": [
        "a=numpy.array([1,2,3])\n",
        "b=numpy.array([4,2,5])\n",
        "print(a==b)\n",
        "print(a>b)"
      ],
      "metadata": {
        "colab": {
          "base_uri": "https://localhost:8080/"
        },
        "id": "37P_aJV8cTyL",
        "outputId": "5b345154-6db1-46f3-fe2d-2bb8f46b5535"
      },
      "execution_count": null,
      "outputs": [
        {
          "output_type": "stream",
          "name": "stdout",
          "text": [
            "[False  True False]\n",
            "[False False False]\n"
          ]
        }
      ]
    },
    {
      "cell_type": "code",
      "source": [
        "a1=numpy.array([[12,23],[45,34],[65,49]])\n",
        "a2=numpy.array([[11,59],[45,73],[71,49]])\n",
        "comp=(a1==a2)\n",
        "print(comp)\n"
      ],
      "metadata": {
        "colab": {
          "base_uri": "https://localhost:8080/"
        },
        "id": "TsbMQZWOe3sZ",
        "outputId": "134dcc02-c93c-4aba-c29c-95306f98e556"
      },
      "execution_count": 7,
      "outputs": [
        {
          "output_type": "stream",
          "name": "stdout",
          "text": [
            "[[False False]\n",
            " [ True False]\n",
            " [False  True]]\n"
          ]
        }
      ]
    },
    {
      "cell_type": "code",
      "source": [
        "print(comp.all())"
      ],
      "metadata": {
        "colab": {
          "base_uri": "https://localhost:8080/"
        },
        "id": "0FhMmCXcflMP",
        "outputId": "5dbfc19d-2907-4d2a-a184-341b3313b80c"
      },
      "execution_count": 8,
      "outputs": [
        {
          "output_type": "stream",
          "name": "stdout",
          "text": [
            "False\n"
          ]
        }
      ]
    },
    {
      "cell_type": "code",
      "source": [
        "if comp.all():\n",
        "  print('numpy arrays are same')\n",
        "else:\n",
        "  print('numpy arrays are different')"
      ],
      "metadata": {
        "colab": {
          "base_uri": "https://localhost:8080/"
        },
        "id": "kzv0qdSmfvSw",
        "outputId": "02fdc86c-05ac-4e56-829f-cf5ab52b904f"
      },
      "execution_count": 9,
      "outputs": [
        {
          "output_type": "stream",
          "name": "stdout",
          "text": [
            "numpy arrays are different\n"
          ]
        }
      ]
    },
    {
      "cell_type": "markdown",
      "source": [
        "Broadcasting"
      ],
      "metadata": {
        "id": "8i5rXKoDgKlC"
      }
    },
    {
      "cell_type": "code",
      "source": [
        "a=numpy.array([[1,2,3],[4,5,6]])\n",
        "b=numpy.array([1,0,-1])\n",
        "#add b to each row of a\n",
        "print(a+b)"
      ],
      "metadata": {
        "colab": {
          "base_uri": "https://localhost:8080/"
        },
        "id": "FlnY4mh4gMZf",
        "outputId": "6c1380f7-7cf6-4eb2-a5fb-b8ee2b45a526"
      },
      "execution_count": 10,
      "outputs": [
        {
          "output_type": "stream",
          "name": "stdout",
          "text": [
            "[[2 2 2]\n",
            " [5 5 5]]\n"
          ]
        }
      ]
    },
    {
      "cell_type": "markdown",
      "source": [
        "cumulative ops"
      ],
      "metadata": {
        "id": "Go5cZQTMhFA5"
      }
    },
    {
      "cell_type": "code",
      "source": [
        "a=numpy.array([1,2,3,4,5])\n",
        "print(numpy.cumsum(a))\n",
        "print(numpy.cumprod(a))"
      ],
      "metadata": {
        "colab": {
          "base_uri": "https://localhost:8080/"
        },
        "id": "atS_--3FhMqV",
        "outputId": "e763c370-6f40-4582-b4c7-684b1d7e4c01"
      },
      "execution_count": 12,
      "outputs": [
        {
          "output_type": "stream",
          "name": "stdout",
          "text": [
            "[ 1  3  6 10 15]\n",
            "[  1   2   6  24 120]\n"
          ]
        }
      ]
    },
    {
      "cell_type": "markdown",
      "source": [
        "clip & where"
      ],
      "metadata": {
        "id": "rMsdf14WiygA"
      }
    },
    {
      "cell_type": "code",
      "source": [
        "arr=numpy.array([10,20,30,40,50])\n",
        "print(numpy.clip(arr,15,45))\n",
        "print(numpy.where(arr>20,'yes','no'))"
      ],
      "metadata": {
        "colab": {
          "base_uri": "https://localhost:8080/"
        },
        "id": "P0VntKQ2i0pA",
        "outputId": "473d5229-9355-410e-c4e9-3e29f108ef76"
      },
      "execution_count": 16,
      "outputs": [
        {
          "output_type": "stream",
          "name": "stdout",
          "text": [
            "[15 20 30 40 45]\n",
            "['no' 'no' 'yes' 'yes' 'yes']\n"
          ]
        }
      ]
    }
  ]
}