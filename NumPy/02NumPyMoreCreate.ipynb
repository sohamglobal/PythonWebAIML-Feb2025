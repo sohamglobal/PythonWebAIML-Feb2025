{
  "nbformat": 4,
  "nbformat_minor": 0,
  "metadata": {
    "colab": {
      "provenance": []
    },
    "kernelspec": {
      "name": "python3",
      "display_name": "Python 3"
    },
    "language_info": {
      "name": "python"
    }
  },
  "cells": [
    {
      "cell_type": "markdown",
      "source": [
        "**More ways of creating NumPy arrays**"
      ],
      "metadata": {
        "id": "GL1SRTpwuPAp"
      }
    },
    {
      "cell_type": "code",
      "execution_count": 1,
      "metadata": {
        "id": "L9KjPIzWuJ1A"
      },
      "outputs": [],
      "source": [
        "import numpy"
      ]
    },
    {
      "cell_type": "code",
      "source": [
        "farr=numpy.fromfunction(lambda i,j:i+j, (3,3),dtype=int)\n",
        "print(farr)"
      ],
      "metadata": {
        "colab": {
          "base_uri": "https://localhost:8080/"
        },
        "id": "Q4GEMkSMvDML",
        "outputId": "5dafef26-d760-4117-9254-9e6127a48f33"
      },
      "execution_count": 2,
      "outputs": [
        {
          "output_type": "stream",
          "name": "stdout",
          "text": [
            "[[0 1 2]\n",
            " [1 2 3]\n",
            " [2 3 4]]\n"
          ]
        }
      ]
    },
    {
      "cell_type": "code",
      "source": [
        "f=lambda i,j:i+j\n",
        "print(f(1,2))"
      ],
      "metadata": {
        "colab": {
          "base_uri": "https://localhost:8080/"
        },
        "id": "ao-aN_povmUg",
        "outputId": "ebc94ae7-8acd-4d6c-f9f8-bb2f05e0607c"
      },
      "execution_count": 8,
      "outputs": [
        {
          "output_type": "stream",
          "name": "stdout",
          "text": [
            "3\n"
          ]
        }
      ]
    },
    {
      "cell_type": "code",
      "source": [
        "arr=numpy.random.random(10)\n",
        "print(arr)"
      ],
      "metadata": {
        "colab": {
          "base_uri": "https://localhost:8080/"
        },
        "id": "CY-NvBTIwiPQ",
        "outputId": "ea92f27d-3225-46b7-f914-16667aa49645"
      },
      "execution_count": 9,
      "outputs": [
        {
          "output_type": "stream",
          "name": "stdout",
          "text": [
            "[0.35818248 0.69743924 0.59631956 0.82329078 0.61686882 0.4070616\n",
            " 0.26481384 0.20292886 0.77310054 0.96708876]\n"
          ]
        }
      ]
    },
    {
      "cell_type": "code",
      "source": [
        "arr=numpy.random.random((3,5))\n",
        "print(arr)"
      ],
      "metadata": {
        "colab": {
          "base_uri": "https://localhost:8080/"
        },
        "id": "Aw4drDaNw6hM",
        "outputId": "22728962-7f0a-4fd9-8717-788adca7f66f"
      },
      "execution_count": 10,
      "outputs": [
        {
          "output_type": "stream",
          "name": "stdout",
          "text": [
            "[[0.76806136 0.5055484  0.35940262 0.99870999 0.79772053]\n",
            " [0.57669324 0.20315453 0.60286618 0.99954318 0.78247642]\n",
            " [0.91231026 0.44786763 0.5773962  0.42357068 0.89143521]]\n"
          ]
        }
      ]
    },
    {
      "cell_type": "code",
      "source": [
        "arr=numpy.random.randint(10)\n",
        "print(arr)"
      ],
      "metadata": {
        "colab": {
          "base_uri": "https://localhost:8080/"
        },
        "id": "et2fR5i2xOwx",
        "outputId": "e3c8b4d0-b06e-4fc0-adfc-b62334c7bd71"
      },
      "execution_count": 19,
      "outputs": [
        {
          "output_type": "stream",
          "name": "stdout",
          "text": [
            "6\n"
          ]
        }
      ]
    },
    {
      "cell_type": "code",
      "source": [
        "arr=numpy.random.randint(1,50,10)\n",
        "print(arr)"
      ],
      "metadata": {
        "colab": {
          "base_uri": "https://localhost:8080/"
        },
        "id": "yORk4YHGxl9J",
        "outputId": "a686d0bb-ab6c-415c-ba4e-294ed1eb53c5"
      },
      "execution_count": 20,
      "outputs": [
        {
          "output_type": "stream",
          "name": "stdout",
          "text": [
            "[38 43 48  3 34  8 12 46  9 19]\n"
          ]
        }
      ]
    },
    {
      "cell_type": "code",
      "source": [
        "x=numpy.random.choice(arr)\n",
        "print(x)"
      ],
      "metadata": {
        "colab": {
          "base_uri": "https://localhost:8080/"
        },
        "id": "NaRDoMkcx0RY",
        "outputId": "df61f18f-e911-41c7-904b-f248516167c9"
      },
      "execution_count": 22,
      "outputs": [
        {
          "output_type": "stream",
          "name": "stdout",
          "text": [
            "46\n"
          ]
        }
      ]
    },
    {
      "cell_type": "code",
      "source": [
        "arr=numpy.random.randint(1,50,(3,4))\n",
        "print(arr)"
      ],
      "metadata": {
        "colab": {
          "base_uri": "https://localhost:8080/"
        },
        "id": "6qgthRHHyDVf",
        "outputId": "68997e61-6e06-43a4-bcc5-6555ef68fd91"
      },
      "execution_count": 24,
      "outputs": [
        {
          "output_type": "stream",
          "name": "stdout",
          "text": [
            "[[33 47 45  6]\n",
            " [ 1 12  3 18]\n",
            " [49 11 47 41]]\n"
          ]
        }
      ]
    },
    {
      "cell_type": "code",
      "source": [],
      "metadata": {
        "id": "UAhavS4zyitR"
      },
      "execution_count": null,
      "outputs": []
    }
  ]
}