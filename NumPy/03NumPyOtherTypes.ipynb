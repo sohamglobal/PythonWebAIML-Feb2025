{
  "nbformat": 4,
  "nbformat_minor": 0,
  "metadata": {
    "colab": {
      "provenance": []
    },
    "kernelspec": {
      "name": "python3",
      "display_name": "Python 3"
    },
    "language_info": {
      "name": "python"
    }
  },
  "cells": [
    {
      "cell_type": "markdown",
      "source": [
        "**NumPy arrays of other data types**"
      ],
      "metadata": {
        "id": "FnWzT85jy_Fy"
      }
    },
    {
      "cell_type": "code",
      "execution_count": 1,
      "metadata": {
        "id": "BnkeX55qy4-H"
      },
      "outputs": [],
      "source": [
        "import numpy"
      ]
    },
    {
      "cell_type": "code",
      "source": [
        "sarr=numpy.array(['java','sql','python','spring','spark','jpa'])\n",
        "print(sarr)"
      ],
      "metadata": {
        "colab": {
          "base_uri": "https://localhost:8080/"
        },
        "id": "_qNzBLWUzMBi",
        "outputId": "bfc199f7-212f-4caa-a156-ced5dba71a7c"
      },
      "execution_count": 2,
      "outputs": [
        {
          "output_type": "stream",
          "name": "stdout",
          "text": [
            "['java' 'sql' 'python' 'spring' 'spark' 'jpa']\n"
          ]
        }
      ]
    },
    {
      "cell_type": "code",
      "source": [
        "darr=numpy.arange('2025-01-26','2025-02-15',dtype='datetime64[D]')\n",
        "print(darr)"
      ],
      "metadata": {
        "colab": {
          "base_uri": "https://localhost:8080/"
        },
        "id": "4Xvtq6cJzjfZ",
        "outputId": "063052b1-2a25-4bec-cb4d-6671ee5f5374"
      },
      "execution_count": 4,
      "outputs": [
        {
          "output_type": "stream",
          "name": "stdout",
          "text": [
            "['2025-01-26' '2025-01-27' '2025-01-28' '2025-01-29' '2025-01-30'\n",
            " '2025-01-31' '2025-02-01' '2025-02-02' '2025-02-03' '2025-02-04'\n",
            " '2025-02-05' '2025-02-06' '2025-02-07' '2025-02-08' '2025-02-09'\n",
            " '2025-02-10' '2025-02-11' '2025-02-12' '2025-02-13' '2025-02-14']\n"
          ]
        }
      ]
    },
    {
      "cell_type": "code",
      "source": [
        "barr=numpy.array([False,True,True,True,False,False,True])\n",
        "print(barr)"
      ],
      "metadata": {
        "colab": {
          "base_uri": "https://localhost:8080/"
        },
        "id": "PheQf2xD0ULe",
        "outputId": "03103f36-b9a6-4b46-dee6-fb7dd4c894ef"
      },
      "execution_count": 5,
      "outputs": [
        {
          "output_type": "stream",
          "name": "stdout",
          "text": [
            "[False  True  True  True False False  True]\n"
          ]
        }
      ]
    },
    {
      "cell_type": "code",
      "source": [
        "lst=['data science',9,26.13,True]\n",
        "print(lst)\n",
        "for item in lst:\n",
        "  print(type(item))"
      ],
      "metadata": {
        "colab": {
          "base_uri": "https://localhost:8080/"
        },
        "id": "6gVFscGp09Xk",
        "outputId": "7b8a8a2c-667d-49e6-eca2-79f146c66ddf"
      },
      "execution_count": 10,
      "outputs": [
        {
          "output_type": "stream",
          "name": "stdout",
          "text": [
            "['data science', 9, 26.13, True]\n",
            "<class 'str'>\n",
            "<class 'int'>\n",
            "<class 'float'>\n",
            "<class 'bool'>\n"
          ]
        }
      ]
    },
    {
      "cell_type": "code",
      "source": [
        "marr=numpy.array(lst)\n",
        "print(marr)\n",
        "for i in range(0,4):\n",
        "  print(type(marr[i]))"
      ],
      "metadata": {
        "colab": {
          "base_uri": "https://localhost:8080/"
        },
        "id": "i5b_QGwM0lBs",
        "outputId": "91294f3c-c162-47d4-f65b-2491e05cf161"
      },
      "execution_count": 15,
      "outputs": [
        {
          "output_type": "stream",
          "name": "stdout",
          "text": [
            "['data science' '9' '26.13' 'True']\n",
            "<class 'numpy.str_'>\n",
            "<class 'numpy.str_'>\n",
            "<class 'numpy.str_'>\n",
            "<class 'numpy.str_'>\n"
          ]
        }
      ]
    }
  ]
}