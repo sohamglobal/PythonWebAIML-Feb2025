{
  "nbformat": 4,
  "nbformat_minor": 0,
  "metadata": {
    "colab": {
      "provenance": []
    },
    "kernelspec": {
      "name": "python3",
      "display_name": "Python 3"
    },
    "language_info": {
      "name": "python"
    }
  },
  "cells": [
    {
      "cell_type": "markdown",
      "source": [
        "**Retrieve data from MySQL and store in NumPy**"
      ],
      "metadata": {
        "id": "0SubCtvqz7kU"
      }
    },
    {
      "cell_type": "code",
      "execution_count": 2,
      "metadata": {
        "colab": {
          "base_uri": "https://localhost:8080/"
        },
        "id": "Q6n1cmtUzqtJ",
        "outputId": "61fc10b3-fa06-4373-f755-f5f36c47afd4"
      },
      "outputs": [
        {
          "output_type": "stream",
          "name": "stdout",
          "text": [
            "Collecting pymysql\n",
            "  Downloading PyMySQL-1.1.1-py3-none-any.whl.metadata (4.4 kB)\n",
            "Downloading PyMySQL-1.1.1-py3-none-any.whl (44 kB)\n",
            "\u001b[?25l   \u001b[90m━━━━━━━━━━━━━━━━━━━━━━━━━━━━━━━━━━━━━━━━\u001b[0m \u001b[32m0.0/45.0 kB\u001b[0m \u001b[31m?\u001b[0m eta \u001b[36m-:--:--\u001b[0m\r\u001b[2K   \u001b[90m━━━━━━━━━━━━━━━━━━━━━━━━━━━━━━━━━━━━━━━━\u001b[0m \u001b[32m45.0/45.0 kB\u001b[0m \u001b[31m1.6 MB/s\u001b[0m eta \u001b[36m0:00:00\u001b[0m\n",
            "\u001b[?25hInstalling collected packages: pymysql\n",
            "Successfully installed pymysql-1.1.1\n"
          ]
        }
      ],
      "source": [
        "pip install pymysql"
      ]
    },
    {
      "cell_type": "code",
      "source": [
        "import pymysql"
      ],
      "metadata": {
        "id": "smv7flAW1ANf"
      },
      "execution_count": 3,
      "outputs": []
    },
    {
      "cell_type": "code",
      "source": [
        "con=pymysql.connect(host='mysql-ethan-python-mysql.h.aivencloud.com',port=10413,user='praffull',password='AVNS_owESNvPFD5fnVDwuWUq',database='sharayudb')\n",
        "print('python connected to cloud mysql database successfully')"
      ],
      "metadata": {
        "colab": {
          "base_uri": "https://localhost:8080/"
        },
        "id": "WvonOv8B3eHt",
        "outputId": "b82b45cf-380f-49ff-e9ff-9c168b5e6ffb"
      },
      "execution_count": 4,
      "outputs": [
        {
          "output_type": "stream",
          "name": "stdout",
          "text": [
            "python connected to cloud mysql database successfully\n"
          ]
        }
      ]
    },
    {
      "cell_type": "code",
      "source": [
        "curs=con.cursor()"
      ],
      "metadata": {
        "id": "d4nZNfx43rDV"
      },
      "execution_count": 5,
      "outputs": []
    },
    {
      "cell_type": "code",
      "source": [
        "import numpy"
      ],
      "metadata": {
        "id": "0iLBc_dN4QlE"
      },
      "execution_count": 7,
      "outputs": []
    },
    {
      "cell_type": "code",
      "source": [
        "curs.execute(\"select * from customers\")\n",
        "data=curs.fetchall()\n",
        "arr=numpy.array(data)\n",
        "print(arr)"
      ],
      "metadata": {
        "colab": {
          "base_uri": "https://localhost:8080/"
        },
        "id": "UH9sY4E74S5l",
        "outputId": "4eacf6d3-2a3e-43ae-aa49-f4d30c73264f"
      },
      "execution_count": 8,
      "outputs": [
        {
          "output_type": "stream",
          "name": "stdout",
          "text": [
            "[['1' 'Joe Root' 'london' 'sk181' 'netbanking']\n",
            " ['2' 'Boris Becker' 'berlin' 'ho162' 'cash']\n",
            " ['3' 'Michael Schumacher' 'berlin' 'bm201' 'credit card']\n",
            " ['4' 'Arnold Schwarzenegger' 'los angles' 'to191' 'credit card']\n",
            " ['5' 'Jos Buttler' 'manchester' 'vw173' 'credit card']\n",
            " ['6' 'Rebecca Ferguson' 'new york' 'bm185' 'netbanking']\n",
            " ['7' 'Steffi Graf' 'stuttgart' 'vw171' 'debit card']\n",
            " ['8' 'Keanu Reeves' 'tokyo' 'to191' 'credit card']\n",
            " ['9' 'Sabastian Vettel' 'heppenheim' 'sk183' 'credit card']\n",
            " ['10' 'Tom Cruise' 'chicago' 'bm201' 'cash']\n",
            " ['11' 'Roger Federer' 'amsterdam' 'ho161' 'credit card']\n",
            " ['12' 'Emily Blunt' 'london' 'vw172' 'credit card']\n",
            " ['13' 'Shah Rukh Khan' 'new delhi' 'tt153' 'debit card']\n",
            " ['14' 'A R Rahman' 'chennai' 'hd142' 'cash']\n",
            " ['15' 'Tabu' 'hyderabad' 'vw173' 'debit card']\n",
            " ['16' 'Shabana Azmi' 'mumbai' 'ss210' 'debit card']\n",
            " ['17' 'Rekha' 'chennai' 'hd141' 'cash']\n",
            " ['18' 'Amitabh Bachchan' 'allahabad' 'cs682' 'cash']\n",
            " ['19' 'Imran Khan' 'lahore' 'to191' 'netbanking']\n",
            " ['20' 'Dipika Singh' 'mumbai' 'to193' 'netbanking']\n",
            " ['21' 'Alia Bhat' 'lucknow' 'hd142' 'cash']\n",
            " ['22' 'Serena Williams' 'new york' 'ss210' 'netbanking']\n",
            " ['23' 'Max Verstappen' 'berlin' 'rb739' 'cash']\n",
            " ['24' 'Charles Leclerc' 'monte carlo' 'fr133' 'debit card']\n",
            " ['25' 'Sylvester Stallone' 'Kolkata' 'ms134' 'cash']\n",
            " ['26' 'Emily Blunt' 'Agra' 'ms131' 'netbanking']]\n"
          ]
        }
      ]
    },
    {
      "cell_type": "code",
      "source": [
        "print(arr.shape)"
      ],
      "metadata": {
        "colab": {
          "base_uri": "https://localhost:8080/"
        },
        "id": "Wxux8PKx4qNF",
        "outputId": "08d21041-3b98-4f5d-f7b1-f95f67a41047"
      },
      "execution_count": 9,
      "outputs": [
        {
          "output_type": "stream",
          "name": "stdout",
          "text": [
            "(26, 5)\n"
          ]
        }
      ]
    },
    {
      "cell_type": "code",
      "source": [
        "curs.execute(\"select * from cars\")\n",
        "data=curs.fetchall()\n",
        "arr=numpy.array(data)\n",
        "print(arr)"
      ],
      "metadata": {
        "colab": {
          "base_uri": "https://localhost:8080/"
        },
        "id": "psfNn-K75Q5p",
        "outputId": "3e16ac1f-7b9c-4abf-856b-50489a5f71eb"
      },
      "execution_count": 10,
      "outputs": [
        {
          "output_type": "stream",
          "name": "stdout",
          "text": [
            "[['bm201' 'XM' 'BMW' '12500000.0']\n",
            " ['bm202' 'X1' 'BMW' '4145000.0']\n",
            " ['hd141' 'Venue' 'Hyundai' '753000.0']\n",
            " ['hd142' 'Creta' 'Hyundai' '1044000.0']\n",
            " ['hd143' 'i20' 'Hyundai' '707000.0']\n",
            " ['hd144' 'i10' 'Hyundai' '542000.0']\n",
            " ['ho161' 'City' 'Honda' '950000.0']\n",
            " ['ho162' 'Amaze' 'Honda' '665000.0']\n",
            " ['ms131' 'Swift' 'Maruti Suzuki' '591000.0']\n",
            " ['ms132' 'Grand Vitara' 'Maruti Suzuki' '1035000.0']\n",
            " ['ms133' 'Brezza' 'Maruti Suzuki' '799000.0']\n",
            " ['ms134' 'Baleno' 'Maruti Suzuki' '642000.0']\n",
            " ['ms135' 'WagonR' 'Maruti Suzuki' '547000.0']\n",
            " ['sk181' 'Kushaq' 'Skoda' '1158000.0']\n",
            " ['sk182' 'Superb' 'Skoda' '3416000.0']\n",
            " ['sk183' 'Kodiaq' 'Skoda' '3749000.0']\n",
            " ['to191' 'Fortuner' 'Toyota' '3258000.0']\n",
            " ['to192' 'Glanza' 'Toyota' '659000.0']\n",
            " ['to193' 'Innova' 'Toyota' '1809000.0']\n",
            " ['tt151' 'Nexon' 'Tata' '769000.0']\n",
            " ['tt152' 'Punch' 'Tata' '600000.0']\n",
            " ['tt153' 'Safari' 'Tata' '1545000.0']\n",
            " ['vw171' 'Virtus' 'Volkswagen' '1132000.0']\n",
            " ['vw172' 'Taigun' 'Volkswagen' '1256000.0']\n",
            " ['vw173' 'Tiguan' 'Volkswagen' '3375000.0']]\n"
          ]
        }
      ]
    },
    {
      "cell_type": "code",
      "source": [
        "print(arr.shape)"
      ],
      "metadata": {
        "colab": {
          "base_uri": "https://localhost:8080/"
        },
        "id": "pHP7emGz5ZS9",
        "outputId": "21a7645f-798a-4f54-ee8b-add53fbcdcf4"
      },
      "execution_count": 11,
      "outputs": [
        {
          "output_type": "stream",
          "name": "stdout",
          "text": [
            "(25, 4)\n"
          ]
        }
      ]
    },
    {
      "cell_type": "code",
      "source": [
        "con.close()"
      ],
      "metadata": {
        "id": "X-VZqbq95yWw"
      },
      "execution_count": 12,
      "outputs": []
    }
  ]
}