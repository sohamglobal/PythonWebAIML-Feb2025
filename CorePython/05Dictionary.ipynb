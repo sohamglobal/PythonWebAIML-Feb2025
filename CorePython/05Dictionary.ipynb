{
  "nbformat": 4,
  "nbformat_minor": 0,
  "metadata": {
    "colab": {
      "provenance": []
    },
    "kernelspec": {
      "name": "python3",
      "display_name": "Python 3"
    },
    "language_info": {
      "name": "python"
    }
  },
  "cells": [
    {
      "cell_type": "code",
      "execution_count": 3,
      "metadata": {
        "colab": {
          "base_uri": "https://localhost:8080/"
        },
        "id": "Si-Jrj6xHIf2",
        "outputId": "532eb3a5-544e-484e-e645-06bc381950f7"
      },
      "outputs": [
        {
          "output_type": "stream",
          "name": "stdout",
          "text": [
            "{'accno': 123456, 'accnm': 'sharayu', 'gender': 'female', 'age': 29, 'acctype': 'fixed', 'branch': 'Andheri Mumbai', 'balance': 25900.0}\n"
          ]
        }
      ],
      "source": [
        "account={\n",
        "    \"accno\":123456,\n",
        "    \"accnm\":\"sharayu\",\n",
        "    \"gender\":\"female\",\n",
        "    \"age\":29,\n",
        "    \"acctype\":\"fixed\",\n",
        "    \"branch\":\"Andheri Mumbai\",\n",
        "    \"balance\":25900.0\n",
        "    }\n",
        "print(account)"
      ]
    },
    {
      "cell_type": "code",
      "source": [
        "key=input(\"Enter key to search : \")\n",
        "\n",
        "if key in account:\n",
        "  print(account[key])\n",
        "else:\n",
        "  print('data not found')"
      ],
      "metadata": {
        "colab": {
          "base_uri": "https://localhost:8080/"
        },
        "id": "qyVnGm4-H76g",
        "outputId": "3c5821db-1d29-4633-e6aa-b4af2e6c2bb6"
      },
      "execution_count": 7,
      "outputs": [
        {
          "output_type": "stream",
          "name": "stdout",
          "text": [
            "Enter key to search : qualification\n",
            "data not found\n"
          ]
        }
      ]
    },
    {
      "cell_type": "code",
      "source": [
        "dic={}.fromkeys(['science','maths','english'],0)\n",
        "print(dic)"
      ],
      "metadata": {
        "colab": {
          "base_uri": "https://localhost:8080/"
        },
        "id": "OoAqq43gIkLj",
        "outputId": "2e0dff9d-d34a-43fc-b6a4-7d501c302f4d"
      },
      "execution_count": 8,
      "outputs": [
        {
          "output_type": "stream",
          "name": "stdout",
          "text": [
            "{'science': 0, 'maths': 0, 'english': 0}\n"
          ]
        }
      ]
    },
    {
      "cell_type": "code",
      "source": [
        "dic['english']+=79\n",
        "print(dic)"
      ],
      "metadata": {
        "colab": {
          "base_uri": "https://localhost:8080/"
        },
        "id": "2D4-UyeFI74Y",
        "outputId": "df395835-24fb-48f8-8ade-b769f71f36bb"
      },
      "execution_count": 9,
      "outputs": [
        {
          "output_type": "stream",
          "name": "stdout",
          "text": [
            "{'science': 0, 'maths': 0, 'english': 79}\n"
          ]
        }
      ]
    },
    {
      "cell_type": "code",
      "source": [
        "dic['english']+=5\n",
        "print(dic)"
      ],
      "metadata": {
        "colab": {
          "base_uri": "https://localhost:8080/"
        },
        "id": "DPkQsb19JG6K",
        "outputId": "a299e0d2-fba4-4c5f-9a59-0b66d7f0cbb0"
      },
      "execution_count": 10,
      "outputs": [
        {
          "output_type": "stream",
          "name": "stdout",
          "text": [
            "{'science': 0, 'maths': 0, 'english': 84}\n"
          ]
        }
      ]
    },
    {
      "cell_type": "code",
      "source": [
        "students={}.fromkeys(['praffull','soham','shailaja','megha'],'mumbai')\n",
        "print(students)"
      ],
      "metadata": {
        "colab": {
          "base_uri": "https://localhost:8080/"
        },
        "id": "0mYiZ-7eJVUj",
        "outputId": "76d8fc08-70a5-4493-900b-128f3fa58dec"
      },
      "execution_count": 11,
      "outputs": [
        {
          "output_type": "stream",
          "name": "stdout",
          "text": [
            "{'praffull': 'mumbai', 'soham': 'mumbai', 'shailaja': 'mumbai', 'megha': 'mumbai'}\n"
          ]
        }
      ]
    },
    {
      "cell_type": "code",
      "source": [
        "students['megha']='hyderabad'\n",
        "print(students)"
      ],
      "metadata": {
        "colab": {
          "base_uri": "https://localhost:8080/"
        },
        "id": "rrgimtNtJpZJ",
        "outputId": "8abdfa1a-f951-4882-be4e-546660cc5d67"
      },
      "execution_count": 12,
      "outputs": [
        {
          "output_type": "stream",
          "name": "stdout",
          "text": [
            "{'praffull': 'mumbai', 'soham': 'mumbai', 'shailaja': 'mumbai', 'megha': 'hyderabad'}\n"
          ]
        }
      ]
    }
  ]
}