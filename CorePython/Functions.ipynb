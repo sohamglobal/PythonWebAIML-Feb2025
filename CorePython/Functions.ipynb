{
  "nbformat": 4,
  "nbformat_minor": 0,
  "metadata": {
    "colab": {
      "provenance": []
    },
    "kernelspec": {
      "name": "python3",
      "display_name": "Python 3"
    },
    "language_info": {
      "name": "python"
    }
  },
  "cells": [
    {
      "cell_type": "markdown",
      "source": [
        "Creating reusable functions in python"
      ],
      "metadata": {
        "id": "0xwvrjmA5sz4"
      }
    },
    {
      "cell_type": "code",
      "source": [
        "# create a function that accepts a number and displays square\n",
        "def calcsqr(n):\n",
        "  sq=n*n\n",
        "  print(f'square of {n} is {sq}')"
      ],
      "metadata": {
        "id": "qKQrkzvp5r6g"
      },
      "execution_count": 3,
      "outputs": []
    },
    {
      "cell_type": "code",
      "source": [
        "#program/code that will use the function\n",
        "n=int(input('Enter a number : '))\n",
        "calcsqr(n)"
      ],
      "metadata": {
        "colab": {
          "base_uri": "https://localhost:8080/"
        },
        "id": "OGR9eQps7mkg",
        "outputId": "08f15fd0-4a75-462a-f399-99ee431b9ad9"
      },
      "execution_count": 5,
      "outputs": [
        {
          "output_type": "stream",
          "name": "stdout",
          "text": [
            "Enter a number : 75\n",
            "square of 75 is 5625\n"
          ]
        }
      ]
    },
    {
      "cell_type": "code",
      "source": [
        "#create a function that receives two numbers and display the sum\n",
        "def calcsum(a,b):\n",
        "  c=a+b\n",
        "  print(f'sum of {a} and {b} is {c}')"
      ],
      "metadata": {
        "id": "tXsJcb2k8g2M"
      },
      "execution_count": 6,
      "outputs": []
    },
    {
      "cell_type": "code",
      "source": [
        "calcsum(23,56)"
      ],
      "metadata": {
        "colab": {
          "base_uri": "https://localhost:8080/"
        },
        "id": "f8Gne9cp8-fS",
        "outputId": "6629affc-7a31-409a-88ce-306987aa881b"
      },
      "execution_count": 7,
      "outputs": [
        {
          "output_type": "stream",
          "name": "stdout",
          "text": [
            "sum of 23 and 56 is 79\n"
          ]
        }
      ]
    },
    {
      "cell_type": "code",
      "source": [
        "calcsum(16.25,47.81)"
      ],
      "metadata": {
        "colab": {
          "base_uri": "https://localhost:8080/"
        },
        "id": "IZ0K0DL99HvN",
        "outputId": "d2e5b45f-a224-43e5-dc8c-c549fb5d44e3"
      },
      "execution_count": 8,
      "outputs": [
        {
          "output_type": "stream",
          "name": "stdout",
          "text": [
            "sum of 16.25 and 47.81 is 64.06\n"
          ]
        }
      ]
    },
    {
      "cell_type": "code",
      "source": [
        "calcsum('soham','global')"
      ],
      "metadata": {
        "colab": {
          "base_uri": "https://localhost:8080/"
        },
        "id": "fsrFYzbk9hGS",
        "outputId": "bd2c5aad-2712-44e7-ef6e-458189800220"
      },
      "execution_count": 9,
      "outputs": [
        {
          "output_type": "stream",
          "name": "stdout",
          "text": [
            "sum of soham and global is sohamglobal\n"
          ]
        }
      ]
    },
    {
      "cell_type": "code",
      "source": [
        "calcsum(['java','python','sql'],['praffull','sharayu'])"
      ],
      "metadata": {
        "colab": {
          "base_uri": "https://localhost:8080/"
        },
        "id": "LRw0BxOf9o4W",
        "outputId": "30ff4e5d-1cdb-469a-f994-a7cdb4c22ed7"
      },
      "execution_count": 10,
      "outputs": [
        {
          "output_type": "stream",
          "name": "stdout",
          "text": [
            "sum of ['java', 'python', 'sql'] and ['praffull', 'sharayu'] is ['java', 'python', 'sql', 'praffull', 'sharayu']\n"
          ]
        }
      ]
    },
    {
      "cell_type": "code",
      "source": [
        "#create a function that receives amount and displays discount\n",
        "def calcdiscount(amount):\n",
        "  if amount>20000:\n",
        "    discount=amount*13/100\n",
        "  else:\n",
        "    discount=amount*9/100\n",
        "  print(f'Amount :{amount} \\nDiscount : {discount}')"
      ],
      "metadata": {
        "id": "LFwMTthZ9-p_"
      },
      "execution_count": 13,
      "outputs": []
    },
    {
      "cell_type": "code",
      "source": [
        "calcdiscount(12450)\n",
        "calcdiscount(21570)"
      ],
      "metadata": {
        "colab": {
          "base_uri": "https://localhost:8080/"
        },
        "id": "u6BR-N75-qsR",
        "outputId": "6a79ee35-eb4e-413e-addb-9ffa88876148"
      },
      "execution_count": 15,
      "outputs": [
        {
          "output_type": "stream",
          "name": "stdout",
          "text": [
            "Amount :12450 \n",
            "Discount : 1120.5\n",
            "Amount :21570 \n",
            "Discount : 2804.1\n"
          ]
        }
      ]
    },
    {
      "cell_type": "code",
      "source": [
        "#function with a return value\n",
        "def findresult(marks):\n",
        "  if marks>=35:\n",
        "    res=\"Pass\"\n",
        "  else:\n",
        "    res=\"Fail\"\n",
        "  return res\n"
      ],
      "metadata": {
        "id": "zN9j_3oc_F2L"
      },
      "execution_count": 17,
      "outputs": []
    },
    {
      "cell_type": "code",
      "source": [
        "r=findresult(63)\n",
        "print(r)"
      ],
      "metadata": {
        "colab": {
          "base_uri": "https://localhost:8080/"
        },
        "id": "klP0aElr_q4x",
        "outputId": "6ae60c91-e0ff-4d27-e22f-d4b4b0486ae5"
      },
      "execution_count": 21,
      "outputs": [
        {
          "output_type": "stream",
          "name": "stdout",
          "text": [
            "Pass\n"
          ]
        }
      ]
    },
    {
      "cell_type": "code",
      "source": [
        "def welcome():\n",
        "  print('welcome to python programming')\n",
        "  print('-'*35)"
      ],
      "metadata": {
        "id": "YZ0va8B6AnEr"
      },
      "execution_count": 24,
      "outputs": []
    },
    {
      "cell_type": "code",
      "source": [
        "welcome()"
      ],
      "metadata": {
        "colab": {
          "base_uri": "https://localhost:8080/"
        },
        "id": "H3b4t58oAxLE",
        "outputId": "3a8a0515-f8e0-4cc2-ed42-3c7526aed3f5"
      },
      "execution_count": 25,
      "outputs": [
        {
          "output_type": "stream",
          "name": "stdout",
          "text": [
            "welcome to python programming\n",
            "-----------------------------------\n"
          ]
        }
      ]
    }
  ]
}