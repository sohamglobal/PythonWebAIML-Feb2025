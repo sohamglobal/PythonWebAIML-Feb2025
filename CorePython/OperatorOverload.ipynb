{
  "nbformat": 4,
  "nbformat_minor": 0,
  "metadata": {
    "colab": {
      "provenance": []
    },
    "kernelspec": {
      "name": "python3",
      "display_name": "Python 3"
    },
    "language_info": {
      "name": "python"
    }
  },
  "cells": [
    {
      "cell_type": "code",
      "execution_count": 14,
      "metadata": {
        "id": "wz3fKHdkygjq"
      },
      "outputs": [],
      "source": [
        "class Product:\n",
        "  quantity=0\n",
        "  purchcost=0\n",
        "\n",
        "  def __init__(self,quantity,purchcost):\n",
        "    self.quantity=quantity\n",
        "    self.purchcost=purchcost\n",
        "\n",
        "  def showstock(self):\n",
        "    print(f'Quantity : {self.quantity}')\n",
        "    print(f'Purchase Cost : {self.purchcost}')\n",
        "\n",
        "  #this function supports operator overloading of +\n",
        "  def __add__(self,apple):\n",
        "    q=self.quantity+apple.quantity\n",
        "    c=self.purchcost+apple.purchcost\n",
        "    return Product(q,c)"
      ]
    },
    {
      "cell_type": "code",
      "source": [
        "samsung=Product(17,416900)\n",
        "samsung.showstock()"
      ],
      "metadata": {
        "colab": {
          "base_uri": "https://localhost:8080/"
        },
        "id": "GkiRF_LQ3x2n",
        "outputId": "b45767d6-9c3f-4bef-d16a-7211a9bdadbb"
      },
      "execution_count": 15,
      "outputs": [
        {
          "output_type": "stream",
          "name": "stdout",
          "text": [
            "Quantity : 17\n",
            "Purchase Cost : 416900\n"
          ]
        }
      ]
    },
    {
      "cell_type": "code",
      "source": [
        "apple=Product(9,821450)\n",
        "apple.showstock()"
      ],
      "metadata": {
        "colab": {
          "base_uri": "https://localhost:8080/"
        },
        "id": "Q4lXDPpL4gFR",
        "outputId": "28eda7f3-b9da-427c-d97e-0119e18ed3a7"
      },
      "execution_count": 16,
      "outputs": [
        {
          "output_type": "stream",
          "name": "stdout",
          "text": [
            "Quantity : 9\n",
            "Purchase Cost : 821450\n"
          ]
        }
      ]
    },
    {
      "cell_type": "code",
      "source": [
        "total=samsung+apple\n",
        "total.showstock()"
      ],
      "metadata": {
        "colab": {
          "base_uri": "https://localhost:8080/",
          "height": 162
        },
        "id": "li9v_2au44zo",
        "outputId": "2a5c371f-d485-4dcb-b9f6-7ee22075ee5d"
      },
      "execution_count": 13,
      "outputs": [
        {
          "output_type": "error",
          "ename": "TypeError",
          "evalue": "unsupported operand type(s) for +: 'Product' and 'Product'",
          "traceback": [
            "\u001b[0;31m---------------------------------------------------------------------------\u001b[0m",
            "\u001b[0;31mTypeError\u001b[0m                                 Traceback (most recent call last)",
            "\u001b[0;32m<ipython-input-13-ccb06cfac53a>\u001b[0m in \u001b[0;36m<cell line: 0>\u001b[0;34m()\u001b[0m\n\u001b[0;32m----> 1\u001b[0;31m \u001b[0mtotal\u001b[0m\u001b[0;34m=\u001b[0m\u001b[0msamsung\u001b[0m\u001b[0;34m+\u001b[0m\u001b[0mapple\u001b[0m\u001b[0;34m\u001b[0m\u001b[0;34m\u001b[0m\u001b[0m\n\u001b[0m\u001b[1;32m      2\u001b[0m \u001b[0mtotal\u001b[0m\u001b[0;34m.\u001b[0m\u001b[0mshowstock\u001b[0m\u001b[0;34m(\u001b[0m\u001b[0;34m)\u001b[0m\u001b[0;34m\u001b[0m\u001b[0;34m\u001b[0m\u001b[0m\n",
            "\u001b[0;31mTypeError\u001b[0m: unsupported operand type(s) for +: 'Product' and 'Product'"
          ]
        }
      ]
    },
    {
      "cell_type": "code",
      "source": [
        "total=samsung+apple\n",
        "total.showstock()"
      ],
      "metadata": {
        "colab": {
          "base_uri": "https://localhost:8080/"
        },
        "id": "TYY3H0jI7QTJ",
        "outputId": "a1a4f58a-975d-4e8d-b4ab-1014f9296cf7"
      },
      "execution_count": 17,
      "outputs": [
        {
          "output_type": "stream",
          "name": "stdout",
          "text": [
            "Quantity : 26\n",
            "Purchase Cost : 1238350\n"
          ]
        }
      ]
    }
  ]
}