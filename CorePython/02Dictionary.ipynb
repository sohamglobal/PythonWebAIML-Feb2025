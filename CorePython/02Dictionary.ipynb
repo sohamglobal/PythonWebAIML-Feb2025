{
  "nbformat": 4,
  "nbformat_minor": 0,
  "metadata": {
    "colab": {
      "provenance": []
    },
    "kernelspec": {
      "name": "python3",
      "display_name": "Python 3"
    },
    "language_info": {
      "name": "python"
    }
  },
  "cells": [
    {
      "cell_type": "code",
      "execution_count": 2,
      "metadata": {
        "colab": {
          "base_uri": "https://localhost:8080/"
        },
        "id": "RvU_zYVd8EZy",
        "outputId": "4508ab5c-b8cf-48a7-e3cf-d3a7b39f6855"
      },
      "outputs": [
        {
          "output_type": "stream",
          "name": "stdout",
          "text": [
            "{'filmnm': ['the matrix', 'pk', 'sholay'], 'relyear': [1999, 2014, 1975], 'actor': ['keanu reeves', 'amir khan', 'amitabh bachchan'], 'imdbrating': [8.7, 8.1, 8.1]}\n"
          ]
        }
      ],
      "source": [
        "films={\n",
        "    \"filmnm\":[\"the matrix\",\"pk\",\"sholay\"],\n",
        "    \"relyear\":[1999,2014,1975],\n",
        "    \"actor\":[\"keanu reeves\",\"amir khan\",\"amitabh bachchan\"],\n",
        "    \"imdbrating\":[8.7,8.1,8.1]\n",
        "}\n",
        "print(films)"
      ]
    },
    {
      "cell_type": "code",
      "source": [
        "print(films['filmnm'])"
      ],
      "metadata": {
        "colab": {
          "base_uri": "https://localhost:8080/"
        },
        "id": "k19OapyJ8_-s",
        "outputId": "edd882e6-7692-4efe-eaac-a19525379a5d"
      },
      "execution_count": 3,
      "outputs": [
        {
          "output_type": "stream",
          "name": "stdout",
          "text": [
            "['the matrix', 'pk', 'sholay']\n"
          ]
        }
      ]
    },
    {
      "cell_type": "code",
      "source": [
        "print(films['filmnm'][2])"
      ],
      "metadata": {
        "colab": {
          "base_uri": "https://localhost:8080/"
        },
        "id": "lVz1sUaU9HEz",
        "outputId": "181a132d-2c5c-49a5-b839-7a6a33737d09"
      },
      "execution_count": 5,
      "outputs": [
        {
          "output_type": "stream",
          "name": "stdout",
          "text": [
            "sholay\n"
          ]
        }
      ]
    }
  ]
}