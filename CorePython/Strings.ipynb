{
  "nbformat": 4,
  "nbformat_minor": 0,
  "metadata": {
    "colab": {
      "provenance": []
    },
    "kernelspec": {
      "name": "python3",
      "display_name": "Python 3"
    },
    "language_info": {
      "name": "python"
    }
  },
  "cells": [
    {
      "cell_type": "code",
      "execution_count": null,
      "metadata": {
        "id": "fxqEq8yl28DG"
      },
      "outputs": [],
      "source": [
        "nm=\"sohamglobal\"\n",
        "password=\"ethan$786\"\n",
        "pincode='431601'\n",
        "txt='you will never walk alone'\n",
        "slogan=\"technology is power technology is future\"\n",
        "cho=''"
      ]
    },
    {
      "cell_type": "code",
      "source": [
        "print(nm)\n",
        "print(\"liverpool says - \"+txt)"
      ],
      "metadata": {
        "colab": {
          "base_uri": "https://localhost:8080/"
        },
        "id": "KzYWbggSAI9s",
        "outputId": "e52bc64a-bcda-4d52-eef6-ae573fd792fd"
      },
      "execution_count": null,
      "outputs": [
        {
          "output_type": "stream",
          "name": "stdout",
          "text": [
            "sohamglobal\n",
            "liverpool says - you will never walk alone\n"
          ]
        }
      ]
    },
    {
      "cell_type": "code",
      "source": [
        "print(type(pincode))"
      ],
      "metadata": {
        "colab": {
          "base_uri": "https://localhost:8080/"
        },
        "id": "VW8etPr1Aaw9",
        "outputId": "ddacb811-1edf-45d7-aec8-352282b2786f"
      },
      "execution_count": null,
      "outputs": [
        {
          "output_type": "stream",
          "name": "stdout",
          "text": [
            "<class 'str'>\n"
          ]
        }
      ]
    },
    {
      "cell_type": "code",
      "source": [
        "print('number of characters',len(txt))"
      ],
      "metadata": {
        "colab": {
          "base_uri": "https://localhost:8080/"
        },
        "id": "t82stNhvAo8q",
        "outputId": "4ce490a4-b93c-4864-d370-dba0033b69c9"
      },
      "execution_count": null,
      "outputs": [
        {
          "output_type": "stream",
          "name": "stdout",
          "text": [
            "number of characters 25\n"
          ]
        }
      ]
    },
    {
      "cell_type": "code",
      "source": [
        "print('largest character',max(txt))"
      ],
      "metadata": {
        "colab": {
          "base_uri": "https://localhost:8080/"
        },
        "id": "1BhtbUNAA_Uc",
        "outputId": "36be7bcd-b517-46cd-d49d-143f06c631ea"
      },
      "execution_count": null,
      "outputs": [
        {
          "output_type": "stream",
          "name": "stdout",
          "text": [
            "largest character y\n"
          ]
        }
      ]
    },
    {
      "cell_type": "code",
      "source": [
        "print('smallest character',min(txt))"
      ],
      "metadata": {
        "colab": {
          "base_uri": "https://localhost:8080/"
        },
        "id": "AVr9gXB1BN2j",
        "outputId": "e64c9ae7-9994-474c-f623-200787f25242"
      },
      "execution_count": null,
      "outputs": [
        {
          "output_type": "stream",
          "name": "stdout",
          "text": [
            "smallest character  \n"
          ]
        }
      ]
    },
    {
      "cell_type": "code",
      "source": [
        "print(slogan)"
      ],
      "metadata": {
        "colab": {
          "base_uri": "https://localhost:8080/"
        },
        "id": "iKOtEMj9ClFQ",
        "outputId": "f34d00e4-7730-4120-e980-416563d8c15d"
      },
      "execution_count": null,
      "outputs": [
        {
          "output_type": "stream",
          "name": "stdout",
          "text": [
            "technology is power technology is future\n"
          ]
        }
      ]
    },
    {
      "cell_type": "code",
      "source": [
        "print(slogan.count('e'))\n",
        "print(slogan.count('is'))"
      ],
      "metadata": {
        "colab": {
          "base_uri": "https://localhost:8080/"
        },
        "id": "7YTMTHBJCq0H",
        "outputId": "14e178fc-b7a4-4522-d89b-3ff476fa1d26"
      },
      "execution_count": null,
      "outputs": [
        {
          "output_type": "stream",
          "name": "stdout",
          "text": [
            "4\n",
            "2\n"
          ]
        }
      ]
    },
    {
      "cell_type": "code",
      "source": [
        "print(slogan.upper())\n",
        "print(slogan.lower())\n",
        "print(slogan.capitalize())\n",
        "print(slogan.title())"
      ],
      "metadata": {
        "colab": {
          "base_uri": "https://localhost:8080/"
        },
        "id": "SV5jVs5DC-R0",
        "outputId": "989d5b99-92fa-49c9-fdef-0bd98ca509c2"
      },
      "execution_count": null,
      "outputs": [
        {
          "output_type": "stream",
          "name": "stdout",
          "text": [
            "TECHNOLOGY IS POWER TECHNOLOGY IS FUTURE\n",
            "technology is power technology is future\n",
            "Technology is power technology is future\n",
            "Technology Is Power Technology Is Future\n"
          ]
        }
      ]
    },
    {
      "cell_type": "code",
      "source": [
        "print(slogan)"
      ],
      "metadata": {
        "colab": {
          "base_uri": "https://localhost:8080/"
        },
        "id": "859KefTLF41H",
        "outputId": "751f5330-12a3-4792-a62a-e51eaf01fa85"
      },
      "execution_count": null,
      "outputs": [
        {
          "output_type": "stream",
          "name": "stdout",
          "text": [
            "technology is power technology is future\n"
          ]
        }
      ]
    },
    {
      "cell_type": "code",
      "source": [
        "print(txt.isupper())\n",
        "print(txt.islower())"
      ],
      "metadata": {
        "colab": {
          "base_uri": "https://localhost:8080/"
        },
        "id": "HtLTaT3yGIUl",
        "outputId": "923a23d9-ec7f-4c4d-bec9-6f9c928af410"
      },
      "execution_count": null,
      "outputs": [
        {
          "output_type": "stream",
          "name": "stdout",
          "text": [
            "False\n",
            "True\n"
          ]
        }
      ]
    },
    {
      "cell_type": "code",
      "source": [
        "print(txt.isnumeric())\n",
        "print(txt.isalpha())\n",
        "print(nm.isalpha())"
      ],
      "metadata": {
        "colab": {
          "base_uri": "https://localhost:8080/"
        },
        "id": "MN5eD8SKGgkB",
        "outputId": "f233de30-86aa-4604-a4ba-872777a79fa2"
      },
      "execution_count": null,
      "outputs": [
        {
          "output_type": "stream",
          "name": "stdout",
          "text": [
            "False\n",
            "False\n",
            "True\n"
          ]
        }
      ]
    },
    {
      "cell_type": "code",
      "source": [
        "mob='7391966656'\n",
        "print(mob.isnumeric())\n",
        "ps='ethan786'\n",
        "print(ps.isalnum())"
      ],
      "metadata": {
        "colab": {
          "base_uri": "https://localhost:8080/"
        },
        "id": "HrKxwYAAHA8J",
        "outputId": "700c56a5-d6e0-4977-dbe9-34f16ded99c3"
      },
      "execution_count": null,
      "outputs": [
        {
          "output_type": "stream",
          "name": "stdout",
          "text": [
            "True\n",
            "True\n"
          ]
        }
      ]
    },
    {
      "cell_type": "code",
      "source": [
        "print(txt)"
      ],
      "metadata": {
        "colab": {
          "base_uri": "https://localhost:8080/"
        },
        "id": "dAlCAF_8HmlQ",
        "outputId": "2b6ce927-8986-4027-cf9c-a78ac23bc7b0"
      },
      "execution_count": null,
      "outputs": [
        {
          "output_type": "stream",
          "name": "stdout",
          "text": [
            "you will never walk alone\n"
          ]
        }
      ]
    },
    {
      "cell_type": "code",
      "source": [
        "print(txt.startswith('What'))\n",
        "print(txt.startswith('you'))"
      ],
      "metadata": {
        "colab": {
          "base_uri": "https://localhost:8080/"
        },
        "id": "R7x4xu4HHr_c",
        "outputId": "4f37d1c5-499c-410f-836a-fa8d97d2547c"
      },
      "execution_count": null,
      "outputs": [
        {
          "output_type": "stream",
          "name": "stdout",
          "text": [
            "False\n",
            "True\n"
          ]
        }
      ]
    },
    {
      "cell_type": "code",
      "source": [
        "print(txt.endswith('?'))\n",
        "print(txt.endswith('one'))"
      ],
      "metadata": {
        "colab": {
          "base_uri": "https://localhost:8080/"
        },
        "id": "iN2vxOkMIWSB",
        "outputId": "c80c01d5-84da-4722-8b81-f6bf4202be0c"
      },
      "execution_count": null,
      "outputs": [
        {
          "output_type": "stream",
          "name": "stdout",
          "text": [
            "False\n",
            "True\n"
          ]
        }
      ]
    },
    {
      "cell_type": "code",
      "source": [
        "print(txt.split())"
      ],
      "metadata": {
        "colab": {
          "base_uri": "https://localhost:8080/"
        },
        "id": "a-sjwu-IIugN",
        "outputId": "95022964-be58-4b6b-9b12-af51798e2dd7"
      },
      "execution_count": null,
      "outputs": [
        {
          "output_type": "stream",
          "name": "stdout",
          "text": [
            "['you', 'will', 'never', 'walk', 'alone']\n"
          ]
        }
      ]
    },
    {
      "cell_type": "code",
      "source": [
        "#CSV\n",
        "emp='913,sharayu,female,development,java developer,london,75490.00'\n",
        "print(type(emp))\n",
        "print(emp.split(','))\n",
        "print(emp.split(',')[1])"
      ],
      "metadata": {
        "colab": {
          "base_uri": "https://localhost:8080/"
        },
        "id": "UxsvK2rWJckQ",
        "outputId": "34972bb6-179d-4145-d7bf-0b0a9de6ccec"
      },
      "execution_count": null,
      "outputs": [
        {
          "output_type": "stream",
          "name": "stdout",
          "text": [
            "<class 'str'>\n",
            "['913', 'sharayu', 'female', 'development', 'java developer', 'london', '75490.00']\n",
            "sharayu\n"
          ]
        }
      ]
    },
    {
      "cell_type": "code",
      "source": [
        "print(nm)\n",
        "print(nm.center(30,'.'))"
      ],
      "metadata": {
        "colab": {
          "base_uri": "https://localhost:8080/"
        },
        "id": "n63au4S_LVQJ",
        "outputId": "b85cb1f3-a64e-4a48-c19a-3806b931c384"
      },
      "execution_count": null,
      "outputs": [
        {
          "output_type": "stream",
          "name": "stdout",
          "text": [
            "sohamglobal\n",
            ".........sohamglobal..........\n"
          ]
        }
      ]
    },
    {
      "cell_type": "code",
      "source": [
        "msg='Hi {} welcome to python programming'\n",
        "print(msg.format('praffull'))\n",
        "print(msg.format('soham'))"
      ],
      "metadata": {
        "colab": {
          "base_uri": "https://localhost:8080/"
        },
        "id": "fp9UHUB9Lmgp",
        "outputId": "3a4f68ad-1efc-48d5-ce3b-b9841b504489"
      },
      "execution_count": null,
      "outputs": [
        {
          "output_type": "stream",
          "name": "stdout",
          "text": [
            "Hi praffull welcome to python programming\n",
            "Hi soham welcome to python programming\n"
          ]
        }
      ]
    },
    {
      "cell_type": "code",
      "source": [
        "lst=['jos buttler','pat cummins','joe root','mohammed salah']\n",
        "msg='Hi {} welcome to python programming'\n",
        "\n",
        "for nm in lst:\n",
        "  print(msg.format(nm))"
      ],
      "metadata": {
        "colab": {
          "base_uri": "https://localhost:8080/"
        },
        "id": "6p4dyPCKMGXZ",
        "outputId": "f39b510e-272f-4bb0-e1b2-23eeb67276c1"
      },
      "execution_count": null,
      "outputs": [
        {
          "output_type": "stream",
          "name": "stdout",
          "text": [
            "Hi jos buttler welcome to python programming\n",
            "Hi pat cummins welcome to python programming\n",
            "Hi joe root welcome to python programming\n",
            "Hi mohammed salah welcome to python programming\n"
          ]
        }
      ]
    },
    {
      "cell_type": "code",
      "source": [
        "msg='thanks {name} for joining from {city}'\n",
        "print(msg.format_map({'name':'sharayu','city':'london'}))\n",
        "print(msg.format_map({'name':'soham','city':'dubai'}))"
      ],
      "metadata": {
        "colab": {
          "base_uri": "https://localhost:8080/"
        },
        "id": "Kjw9ORBjMb7B",
        "outputId": "c5c4fc4f-ff83-4088-9ad1-cea2a0b1643c"
      },
      "execution_count": null,
      "outputs": [
        {
          "output_type": "stream",
          "name": "stdout",
          "text": [
            "thanks sharayu for joining from london\n",
            "thanks soham for joining from dubai\n"
          ]
        }
      ]
    },
    {
      "cell_type": "code",
      "source": [
        "s='|'\n",
        "print(s.join(['java','python','sql','spark','spring']))"
      ],
      "metadata": {
        "colab": {
          "base_uri": "https://localhost:8080/"
        },
        "id": "MK4TcK7jNA9-",
        "outputId": "2d2af0d9-36fe-41ae-8013-c31c94f930b0"
      },
      "execution_count": null,
      "outputs": [
        {
          "output_type": "stream",
          "name": "stdout",
          "text": [
            "java|python|sql|spark|spring\n"
          ]
        }
      ]
    },
    {
      "cell_type": "code",
      "source": [
        "nm='sohamglobal'\n",
        "print(nm.ljust(25,'.'))\n",
        "print(nm.rjust(25,'.'))"
      ],
      "metadata": {
        "colab": {
          "base_uri": "https://localhost:8080/"
        },
        "id": "B6DNF4eVNNiw",
        "outputId": "20c4abd7-e772-4309-93de-c379ee93f10f"
      },
      "execution_count": 3,
      "outputs": [
        {
          "output_type": "stream",
          "name": "stdout",
          "text": [
            "sohamglobal..............\n",
            "..............sohamglobal\n"
          ]
        }
      ]
    },
    {
      "cell_type": "code",
      "source": [
        "txt='         praffull          '\n",
        "print(txt)\n",
        "print(txt.strip())\n",
        "print(txt.lstrip())\n",
        "print(txt.rstrip())"
      ],
      "metadata": {
        "colab": {
          "base_uri": "https://localhost:8080/"
        },
        "id": "TSh2048POEf1",
        "outputId": "0fd2376d-b92f-49df-b755-f7457b77803c"
      },
      "execution_count": 6,
      "outputs": [
        {
          "output_type": "stream",
          "name": "stdout",
          "text": [
            "         praffull          \n",
            "praffull\n",
            "praffull          \n",
            "         praffull\n"
          ]
        }
      ]
    },
    {
      "cell_type": "code",
      "source": [
        "#table=str.maketrans('abcde','12345')\n",
        "table=str.maketrans('abcde','!@#$%')\n",
        "s='lets make things better'\n",
        "print(s.translate(table))"
      ],
      "metadata": {
        "colab": {
          "base_uri": "https://localhost:8080/"
        },
        "id": "-TCf1vwYOsat",
        "outputId": "a2f86942-f97d-442b-ff18-bc85c0b9c08d"
      },
      "execution_count": 8,
      "outputs": [
        {
          "output_type": "stream",
          "name": "stdout",
          "text": [
            "l%ts m!k% things @%tt%r\n"
          ]
        }
      ]
    },
    {
      "cell_type": "code",
      "source": [
        "txt=\"you will never walk alone\"\n",
        "print(txt.replace('walk','develop'))"
      ],
      "metadata": {
        "colab": {
          "base_uri": "https://localhost:8080/"
        },
        "id": "QJW_dL4ePaqN",
        "outputId": "35d9eb76-4010-4960-8e6f-2325b5c34dd8"
      },
      "execution_count": 10,
      "outputs": [
        {
          "output_type": "stream",
          "name": "stdout",
          "text": [
            "you will never develop alone\n"
          ]
        }
      ]
    },
    {
      "cell_type": "code",
      "source": [
        "slogan='technology is power technology is future'\n",
        "print(slogan[9])\n",
        "print(slogan[5:23])\n",
        "print(slogan[9:])\n",
        "print(slogan[:25])\n",
        "print(slogan[-1])"
      ],
      "metadata": {
        "colab": {
          "base_uri": "https://localhost:8080/"
        },
        "id": "_AX75ADuQEB-",
        "outputId": "afd72a5e-47bd-4c34-ad68-d2fb172c6b40"
      },
      "execution_count": 17,
      "outputs": [
        {
          "output_type": "stream",
          "name": "stdout",
          "text": [
            "y\n",
            "ology is power tec\n",
            "y is power technology is future\n",
            "technology is power techn\n",
            "e\n"
          ]
        }
      ]
    },
    {
      "cell_type": "code",
      "source": [
        "print(slogan[::-1])"
      ],
      "metadata": {
        "colab": {
          "base_uri": "https://localhost:8080/"
        },
        "id": "AyEaRRSzR0z9",
        "outputId": "fafab60f-f4d3-4002-e0aa-da6ba603b98c"
      },
      "execution_count": 18,
      "outputs": [
        {
          "output_type": "stream",
          "name": "stdout",
          "text": [
            "erutuf si ygolonhcet rewop si ygolonhcet\n"
          ]
        }
      ]
    },
    {
      "cell_type": "code",
      "source": [
        "s='silent'\n",
        "print(sorted(s))\n",
        "s1='listen'\n",
        "print(sorted(s1))"
      ],
      "metadata": {
        "colab": {
          "base_uri": "https://localhost:8080/"
        },
        "id": "GxaLL86sSVhC",
        "outputId": "843a13bc-d539-49b0-b871-23ee0ed0118b"
      },
      "execution_count": 20,
      "outputs": [
        {
          "output_type": "stream",
          "name": "stdout",
          "text": [
            "['e', 'i', 'l', 'n', 's', 't']\n",
            "['e', 'i', 'l', 'n', 's', 't']\n"
          ]
        }
      ]
    },
    {
      "cell_type": "code",
      "source": [
        "print(s==s1)"
      ],
      "metadata": {
        "colab": {
          "base_uri": "https://localhost:8080/"
        },
        "id": "OXDpBaKdTN-2",
        "outputId": "01caa523-83d3-46c8-d8dd-89fe951745a2"
      },
      "execution_count": 21,
      "outputs": [
        {
          "output_type": "stream",
          "name": "stdout",
          "text": [
            "False\n"
          ]
        }
      ]
    },
    {
      "cell_type": "code",
      "source": [
        "if sorted(s)==sorted(s1):\n",
        "  print('anagrams')\n"
      ],
      "metadata": {
        "colab": {
          "base_uri": "https://localhost:8080/"
        },
        "id": "BwOfg_rwTW0H",
        "outputId": "e6eb3267-c013-4b08-9d28-89d9a6102f43"
      },
      "execution_count": 22,
      "outputs": [
        {
          "output_type": "stream",
          "name": "stdout",
          "text": [
            "anagrams\n"
          ]
        }
      ]
    },
    {
      "cell_type": "code",
      "source": [
        "s='Desperate Times Desperate Measures'\n",
        "print(s.swapcase())"
      ],
      "metadata": {
        "colab": {
          "base_uri": "https://localhost:8080/"
        },
        "id": "AzjdBJKWTrfi",
        "outputId": "91180972-56a2-4504-ec88-f3304fe56172"
      },
      "execution_count": 23,
      "outputs": [
        {
          "output_type": "stream",
          "name": "stdout",
          "text": [
            "dESPERATE tIMES dESPERATE mEASURES\n"
          ]
        }
      ]
    }
  ]
}