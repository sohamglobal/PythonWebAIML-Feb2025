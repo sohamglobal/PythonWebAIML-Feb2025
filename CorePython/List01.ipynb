{
  "nbformat": 4,
  "nbformat_minor": 0,
  "metadata": {
    "colab": {
      "provenance": []
    },
    "kernelspec": {
      "name": "python3",
      "display_name": "Python 3"
    },
    "language_info": {
      "name": "python"
    }
  },
  "cells": [
    {
      "cell_type": "markdown",
      "source": [
        "list maintains insertion sequence,\n",
        "list allows duplicate values,\n",
        "lists are mutable"
      ],
      "metadata": {
        "id": "DIEDc8N8kzei"
      }
    },
    {
      "cell_type": "code",
      "execution_count": 1,
      "metadata": {
        "colab": {
          "base_uri": "https://localhost:8080/"
        },
        "id": "dFRIDyUvegye",
        "outputId": "6684b845-fe12-4a3f-d2e1-84cb32343a18"
      },
      "outputs": [
        {
          "output_type": "stream",
          "name": "stdout",
          "text": [
            "<class 'list'>\n"
          ]
        }
      ],
      "source": [
        "lst=[]\n",
        "print(type(lst))"
      ]
    },
    {
      "cell_type": "code",
      "source": [
        "lst.append('java')\n",
        "lst.append('python')\n",
        "lst.append('spring')\n",
        "lst.append('django')\n",
        "print(lst)"
      ],
      "metadata": {
        "colab": {
          "base_uri": "https://localhost:8080/"
        },
        "id": "x8A2_uaugLYm",
        "outputId": "f1648f54-64e0-4222-f02a-5dd2d463d228"
      },
      "execution_count": 2,
      "outputs": [
        {
          "output_type": "stream",
          "name": "stdout",
          "text": [
            "['java', 'python', 'spring', 'django']\n"
          ]
        }
      ]
    },
    {
      "cell_type": "code",
      "source": [
        "lst.append('spark')\n",
        "print(lst)"
      ],
      "metadata": {
        "colab": {
          "base_uri": "https://localhost:8080/"
        },
        "id": "4jCTsr0ag7R4",
        "outputId": "f519af06-4f5a-4556-cfea-769d9fb6f9fe"
      },
      "execution_count": 3,
      "outputs": [
        {
          "output_type": "stream",
          "name": "stdout",
          "text": [
            "['java', 'python', 'spring', 'django', 'spark']\n"
          ]
        }
      ]
    },
    {
      "cell_type": "code",
      "source": [
        "lst.append('spring')\n",
        "print(lst)"
      ],
      "metadata": {
        "colab": {
          "base_uri": "https://localhost:8080/"
        },
        "id": "A4dwnUlJhbdn",
        "outputId": "d6e5011b-7c20-428c-c58d-2ccd1b2924e6"
      },
      "execution_count": 4,
      "outputs": [
        {
          "output_type": "stream",
          "name": "stdout",
          "text": [
            "['java', 'python', 'spring', 'django', 'spark', 'spring']\n"
          ]
        }
      ]
    },
    {
      "cell_type": "code",
      "source": [
        "lst.insert(1,'microservices')\n",
        "print(lst)"
      ],
      "metadata": {
        "colab": {
          "base_uri": "https://localhost:8080/"
        },
        "id": "bfZKN76WicZi",
        "outputId": "d4b97ada-0049-4582-d2c8-76723860a2e2"
      },
      "execution_count": 5,
      "outputs": [
        {
          "output_type": "stream",
          "name": "stdout",
          "text": [
            "['java', 'microservices', 'python', 'spring', 'django', 'spark', 'spring']\n"
          ]
        }
      ]
    },
    {
      "cell_type": "code",
      "source": [
        "lst.remove('spark')\n",
        "print(lst)"
      ],
      "metadata": {
        "colab": {
          "base_uri": "https://localhost:8080/"
        },
        "id": "Fwtw3MjijL7X",
        "outputId": "4cdf2661-d1b8-40e9-8ef8-16c4af7d0fe8"
      },
      "execution_count": 6,
      "outputs": [
        {
          "output_type": "stream",
          "name": "stdout",
          "text": [
            "['java', 'microservices', 'python', 'spring', 'django', 'spring']\n"
          ]
        }
      ]
    },
    {
      "cell_type": "code",
      "source": [
        "print('total items',len(lst))\n",
        "print('largest value',max(lst))\n",
        "print('smallest value',min(lst))"
      ],
      "metadata": {
        "colab": {
          "base_uri": "https://localhost:8080/"
        },
        "id": "Bwupsu5cjm3Y",
        "outputId": "a96f0677-2a88-4e06-985a-54adcd3935c4"
      },
      "execution_count": 7,
      "outputs": [
        {
          "output_type": "stream",
          "name": "stdout",
          "text": [
            "total items 6\n",
            "largest value spring\n",
            "smallest value django\n"
          ]
        }
      ]
    },
    {
      "cell_type": "code",
      "source": [
        "lst.sort()\n",
        "print(lst)"
      ],
      "metadata": {
        "colab": {
          "base_uri": "https://localhost:8080/"
        },
        "id": "xcPYrJgskUGl",
        "outputId": "5fdb763d-bd15-4351-935c-1077f31dfdec"
      },
      "execution_count": 8,
      "outputs": [
        {
          "output_type": "stream",
          "name": "stdout",
          "text": [
            "['django', 'java', 'microservices', 'python', 'spring', 'spring']\n"
          ]
        }
      ]
    },
    {
      "cell_type": "code",
      "source": [
        "lst.reverse()\n",
        "print(lst)"
      ],
      "metadata": {
        "colab": {
          "base_uri": "https://localhost:8080/"
        },
        "id": "eF-fZ70zkdTr",
        "outputId": "56c35fbf-c9fd-4374-8644-b1a72acac653"
      },
      "execution_count": 9,
      "outputs": [
        {
          "output_type": "stream",
          "name": "stdout",
          "text": [
            "['spring', 'spring', 'python', 'microservices', 'java', 'django']\n"
          ]
        }
      ]
    }
  ]
}