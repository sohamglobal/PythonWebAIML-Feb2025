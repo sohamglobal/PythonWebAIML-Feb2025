{
  "nbformat": 4,
  "nbformat_minor": 0,
  "metadata": {
    "colab": {
      "provenance": []
    },
    "kernelspec": {
      "name": "python3",
      "display_name": "Python 3"
    },
    "language_info": {
      "name": "python"
    }
  },
  "cells": [
    {
      "cell_type": "code",
      "execution_count": 7,
      "metadata": {
        "id": "HHriPFtedges"
      },
      "outputs": [],
      "source": [
        "class One:\n",
        "  def calcsum(self,a,b):\n",
        "    res=a+b\n",
        "    print('sum is',res)"
      ]
    },
    {
      "cell_type": "code",
      "source": [
        "class Two(One):\n",
        "  def calcmulti(self,a,b):\n",
        "    res=a*b\n",
        "    print('multiplication is',res)"
      ],
      "metadata": {
        "id": "m3koRZ4Idoqm"
      },
      "execution_count": 8,
      "outputs": []
    },
    {
      "cell_type": "code",
      "source": [
        "class Three(Two):\n",
        "  def showsquare(self,n):\n",
        "    sq=n*n\n",
        "    print('square is',sq)"
      ],
      "metadata": {
        "id": "fI0js4kDdsN7"
      },
      "execution_count": 9,
      "outputs": []
    },
    {
      "cell_type": "code",
      "source": [
        "obj=Three()\n",
        "obj.showsquare(47)\n",
        "obj.calcsum(23,76)\n",
        "obj.calcmulti(44,77)"
      ],
      "metadata": {
        "colab": {
          "base_uri": "https://localhost:8080/"
        },
        "id": "jDti1md-d9wk",
        "outputId": "befcece8-6846-4d0c-d323-436f781f98e4"
      },
      "execution_count": 10,
      "outputs": [
        {
          "output_type": "stream",
          "name": "stdout",
          "text": [
            "square is 2209\n",
            "sum is 99\n",
            "multiplication is 3388\n"
          ]
        }
      ]
    }
  ]
}