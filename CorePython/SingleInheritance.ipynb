{
  "nbformat": 4,
  "nbformat_minor": 0,
  "metadata": {
    "colab": {
      "provenance": []
    },
    "kernelspec": {
      "name": "python3",
      "display_name": "Python 3"
    },
    "language_info": {
      "name": "python"
    }
  },
  "cells": [
    {
      "cell_type": "code",
      "execution_count": 1,
      "metadata": {
        "id": "AepDglrvXBC4"
      },
      "outputs": [],
      "source": [
        "class One:\n",
        "  def calcsum(self,a,b):\n",
        "    res=a+b\n",
        "    print('sum is',res)"
      ]
    },
    {
      "cell_type": "code",
      "source": [
        "class Two(One):\n",
        "  def calcmulti(self,a,b):\n",
        "    res=a*b\n",
        "    print('multiplication is',res)"
      ],
      "metadata": {
        "id": "kcTCIU8eYwDp"
      },
      "execution_count": 5,
      "outputs": []
    },
    {
      "cell_type": "code",
      "source": [
        "obj=Two()\n",
        "obj.calcmulti(25,73)\n",
        "obj.calcsum(12,59)"
      ],
      "metadata": {
        "colab": {
          "base_uri": "https://localhost:8080/"
        },
        "id": "mcvjmnFcZBES",
        "outputId": "90ee1fbd-6e9b-49e0-cb08-a701098a84f3"
      },
      "execution_count": 6,
      "outputs": [
        {
          "output_type": "stream",
          "name": "stdout",
          "text": [
            "multiplication is 1825\n",
            "sum is 71\n"
          ]
        }
      ]
    }
  ]
}