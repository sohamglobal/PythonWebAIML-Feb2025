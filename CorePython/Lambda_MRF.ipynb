{
  "nbformat": 4,
  "nbformat_minor": 0,
  "metadata": {
    "colab": {
      "provenance": []
    },
    "kernelspec": {
      "name": "python3",
      "display_name": "Python 3"
    },
    "language_info": {
      "name": "python"
    }
  },
  "cells": [
    {
      "cell_type": "code",
      "execution_count": 5,
      "metadata": {
        "id": "-mEAE9or6Ate"
      },
      "outputs": [],
      "source": [
        "def calcsquare(n):\n",
        "  sq=n*n\n",
        "  return sq"
      ]
    },
    {
      "cell_type": "code",
      "source": [
        "print(calcsquare(9))"
      ],
      "metadata": {
        "colab": {
          "base_uri": "https://localhost:8080/"
        },
        "id": "WQ2LiAUe6qE9",
        "outputId": "fdb0fe0d-f817-47ac-cf07-4bd488d9725d"
      },
      "execution_count": 6,
      "outputs": [
        {
          "output_type": "stream",
          "name": "stdout",
          "text": [
            "81\n"
          ]
        }
      ]
    },
    {
      "cell_type": "code",
      "source": [
        "f=lambda n:n*n"
      ],
      "metadata": {
        "id": "PCJ2borE6xQC"
      },
      "execution_count": 3,
      "outputs": []
    },
    {
      "cell_type": "code",
      "source": [
        "print(f(13))"
      ],
      "metadata": {
        "colab": {
          "base_uri": "https://localhost:8080/"
        },
        "id": "l16RsXyG7LTs",
        "outputId": "e9abddfc-511a-47bc-8c24-110201e4da0e"
      },
      "execution_count": 4,
      "outputs": [
        {
          "output_type": "stream",
          "name": "stdout",
          "text": [
            "169\n"
          ]
        }
      ]
    },
    {
      "cell_type": "code",
      "source": [
        "d=lambda amount,discperc:amount*discperc/100"
      ],
      "metadata": {
        "id": "aAwICjYo7zQr"
      },
      "execution_count": 11,
      "outputs": []
    },
    {
      "cell_type": "code",
      "source": [
        "print(d(13500,9))"
      ],
      "metadata": {
        "colab": {
          "base_uri": "https://localhost:8080/"
        },
        "id": "oeyPJWFL8G2r",
        "outputId": "7ccf6469-8850-4d26-ad7f-86fc38de3149"
      },
      "execution_count": 12,
      "outputs": [
        {
          "output_type": "stream",
          "name": "stdout",
          "text": [
            "1215.0\n"
          ]
        }
      ]
    },
    {
      "cell_type": "code",
      "source": [
        "print(d(21430,12))"
      ],
      "metadata": {
        "colab": {
          "base_uri": "https://localhost:8080/"
        },
        "id": "-Za-WjYC805-",
        "outputId": "1b31df01-dad1-4f0d-9dc6-dad65dfd4f37"
      },
      "execution_count": 13,
      "outputs": [
        {
          "output_type": "stream",
          "name": "stdout",
          "text": [
            "2571.6\n"
          ]
        }
      ]
    },
    {
      "cell_type": "code",
      "source": [
        "e=lambda x,y:x*x+13*y+9"
      ],
      "metadata": {
        "id": "ny95luCn9KQI"
      },
      "execution_count": 14,
      "outputs": []
    },
    {
      "cell_type": "code",
      "source": [
        "print(e(5,8))"
      ],
      "metadata": {
        "colab": {
          "base_uri": "https://localhost:8080/"
        },
        "id": "6dTB9TT59XNh",
        "outputId": "046c3c78-fdb3-4b0a-82a8-1ebc2efc0021"
      },
      "execution_count": 15,
      "outputs": [
        {
          "output_type": "stream",
          "name": "stdout",
          "text": [
            "138\n"
          ]
        }
      ]
    },
    {
      "cell_type": "markdown",
      "source": [
        "**Map will take all elements from the list**"
      ],
      "metadata": {
        "id": "igLMMFexAk_G"
      }
    },
    {
      "cell_type": "code",
      "source": [
        "nums=[1,2,3,4,5]\n",
        "sq=list(map(lambda x:x*x,nums))"
      ],
      "metadata": {
        "id": "qi2dezJU9jvp"
      },
      "execution_count": 16,
      "outputs": []
    },
    {
      "cell_type": "code",
      "source": [
        "print(sq)"
      ],
      "metadata": {
        "colab": {
          "base_uri": "https://localhost:8080/"
        },
        "id": "0xuXbUPb93Cg",
        "outputId": "cf9632b7-7afd-4dd7-b114-490cac896116"
      },
      "execution_count": 17,
      "outputs": [
        {
          "output_type": "stream",
          "name": "stdout",
          "text": [
            "[1, 4, 9, 16, 25]\n"
          ]
        }
      ]
    },
    {
      "cell_type": "code",
      "source": [
        "nums=[9,26,13,1]\n",
        "m=list(map(lambda x:x*5,nums))"
      ],
      "metadata": {
        "id": "cw8X2cF8_6hH"
      },
      "execution_count": 23,
      "outputs": []
    },
    {
      "cell_type": "code",
      "source": [
        "print(m)"
      ],
      "metadata": {
        "colab": {
          "base_uri": "https://localhost:8080/"
        },
        "id": "MGKU94uiAGJg",
        "outputId": "3b0f8bea-7a68-4193-dfa1-442eb8a59ccd"
      },
      "execution_count": 24,
      "outputs": [
        {
          "output_type": "stream",
          "name": "stdout",
          "text": [
            "[45, 130, 65, 5]\n"
          ]
        }
      ]
    },
    {
      "cell_type": "markdown",
      "source": [
        "**Filter will take only the elements which satisfy the given condition**"
      ],
      "metadata": {
        "id": "Kcm4ZSCFAqfD"
      }
    },
    {
      "cell_type": "code",
      "source": [
        "nums=[1,2,3,4,5,6,7,8,9]\n",
        "odd=list(filter(lambda x:x%2==1,nums))"
      ],
      "metadata": {
        "id": "WWL_5v2H-ZHz"
      },
      "execution_count": 20,
      "outputs": []
    },
    {
      "cell_type": "code",
      "source": [
        "print(odd)"
      ],
      "metadata": {
        "colab": {
          "base_uri": "https://localhost:8080/"
        },
        "id": "t8F6FiEw-s2b",
        "outputId": "44382407-71dd-4c0e-b317-4b0c8d5ab6c9"
      },
      "execution_count": 21,
      "outputs": [
        {
          "output_type": "stream",
          "name": "stdout",
          "text": [
            "[1, 3, 5, 7, 9]\n"
          ]
        }
      ]
    },
    {
      "cell_type": "code",
      "source": [
        "x=5\n",
        "print(x%2==1)"
      ],
      "metadata": {
        "colab": {
          "base_uri": "https://localhost:8080/"
        },
        "id": "kqnfqnXx_em2",
        "outputId": "32d9a1b1-5495-4a94-f2fc-c2c176b9f531"
      },
      "execution_count": 22,
      "outputs": [
        {
          "output_type": "stream",
          "name": "stdout",
          "text": [
            "True\n"
          ]
        }
      ]
    },
    {
      "cell_type": "markdown",
      "source": [
        "**Reduce returns a summmerized result**"
      ],
      "metadata": {
        "id": "8OsHlVCaA8-V"
      }
    },
    {
      "cell_type": "code",
      "source": [
        "from functools import reduce\n",
        "\n",
        "nums=[1,2,3,4,5]\n",
        "sum=reduce(lambda x,y:x+y,nums)"
      ],
      "metadata": {
        "id": "xsZUmQhXAU_t"
      },
      "execution_count": 26,
      "outputs": []
    },
    {
      "cell_type": "code",
      "source": [
        "print(sum)"
      ],
      "metadata": {
        "colab": {
          "base_uri": "https://localhost:8080/"
        },
        "id": "WWygy4YiBjt0",
        "outputId": "e0957612-1558-4941-8910-376f22819bb1"
      },
      "execution_count": 27,
      "outputs": [
        {
          "output_type": "stream",
          "name": "stdout",
          "text": [
            "15\n"
          ]
        }
      ]
    },
    {
      "cell_type": "code",
      "source": [
        "from functools import reduce\n",
        "\n",
        "nums=[1,2,3,4,5]\n",
        "multi=reduce(lambda x,y:x*y,nums)"
      ],
      "metadata": {
        "id": "lDFxwWMbDW1U"
      },
      "execution_count": 28,
      "outputs": []
    },
    {
      "cell_type": "code",
      "source": [
        "print(multi)"
      ],
      "metadata": {
        "colab": {
          "base_uri": "https://localhost:8080/"
        },
        "id": "bMhSxsWhDcdF",
        "outputId": "d7268230-3b77-4084-d61e-a44ec294dffe"
      },
      "execution_count": 29,
      "outputs": [
        {
          "output_type": "stream",
          "name": "stdout",
          "text": [
            "120\n"
          ]
        }
      ]
    },
    {
      "cell_type": "markdown",
      "source": [
        "take out all numbers from the list which can be divided by 7"
      ],
      "metadata": {
        "id": "dnBy-fM3EUYu"
      }
    },
    {
      "cell_type": "code",
      "source": [
        "nums=[23,76,49,63,28,77,56,99]\n",
        "s=list(filter(lambda x:x%7==0,nums))\n",
        "print(s)"
      ],
      "metadata": {
        "colab": {
          "base_uri": "https://localhost:8080/"
        },
        "id": "GkCrjo4xEbQT",
        "outputId": "ae76b4d7-81d5-46a4-d533-bb9dcf288126"
      },
      "execution_count": 31,
      "outputs": [
        {
          "output_type": "stream",
          "name": "stdout",
          "text": [
            "[49, 63, 28, 77, 56]\n"
          ]
        }
      ]
    }
  ]
}