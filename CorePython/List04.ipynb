{
  "nbformat": 4,
  "nbformat_minor": 0,
  "metadata": {
    "colab": {
      "provenance": []
    },
    "kernelspec": {
      "name": "python3",
      "display_name": "Python 3"
    },
    "language_info": {
      "name": "python"
    }
  },
  "cells": [
    {
      "cell_type": "code",
      "execution_count": 1,
      "metadata": {
        "colab": {
          "base_uri": "https://localhost:8080/"
        },
        "id": "obS07W_TuKjA",
        "outputId": "693c4a87-9e39-4327-de9f-c7f0397a4693"
      },
      "outputs": [
        {
          "output_type": "stream",
          "name": "stdout",
          "text": [
            "Enter country : england\n",
            "Do you want to continue (yes/no) : yes\n",
            "Enter country : germany\n",
            "Do you want to continue (yes/no) : yes\n",
            "Enter country : usa\n",
            "Do you want to continue (yes/no) : yes\n",
            "Enter country : france\n",
            "Do you want to continue (yes/no) : no\n",
            "['england', 'germany', 'usa', 'france']\n"
          ]
        }
      ],
      "source": [
        "cho=None\n",
        "countries=[]\n",
        "\n",
        "while cho != 'no':\n",
        "  nm=input('Enter country : ')\n",
        "  countries.append(nm)\n",
        "  cho=input('Do you want to continue (yes/no) : ')\n",
        "\n",
        "print(countries)"
      ]
    },
    {
      "cell_type": "code",
      "source": [
        "con=input('Enter country to search : ')\n",
        "if con in countries:\n",
        "  print(f'{con} is found in the list')\n",
        "else:\n",
        "  print('not found')\n",
        "  cho=input('Do you wish to add this to the list? (yes/no) ')\n",
        "  if cho.lower()=='yes':\n",
        "    countries.append(con)\n",
        "    print(countries)"
      ],
      "metadata": {
        "colab": {
          "base_uri": "https://localhost:8080/"
        },
        "id": "OwlvWdkEvX5n",
        "outputId": "c69bebd6-854a-4d30-fb55-3bb1aa2658aa"
      },
      "execution_count": 8,
      "outputs": [
        {
          "output_type": "stream",
          "name": "stdout",
          "text": [
            "Enter country to search : pakistan\n",
            "not found\n",
            "Do you wish to add this to the list? (yes/no) yES\n",
            "['england', 'germany', 'usa', 'france', 'japan', 'pakistan']\n"
          ]
        }
      ]
    }
  ]
}