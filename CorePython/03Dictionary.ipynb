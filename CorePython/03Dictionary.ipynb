{
  "nbformat": 4,
  "nbformat_minor": 0,
  "metadata": {
    "colab": {
      "provenance": []
    },
    "kernelspec": {
      "name": "python3",
      "display_name": "Python 3"
    },
    "language_info": {
      "name": "python"
    }
  },
  "cells": [
    {
      "cell_type": "code",
      "execution_count": 2,
      "metadata": {
        "colab": {
          "base_uri": "https://localhost:8080/"
        },
        "id": "keqgKV7I9t3S",
        "outputId": "bf3c251d-21fb-40f3-ae24-66623afdf111"
      },
      "outputs": [
        {
          "output_type": "stream",
          "name": "stdout",
          "text": [
            "{'name': 'mohammed salah', 'personal': {'age': 29, 'gender': 'male', 'country': 'egypt'}, 'professional': {'position': 'forward', 'club': 'liverpool', 'jersey': 11}, 'health': {'height': 175, 'weight': 67}}\n"
          ]
        }
      ],
      "source": [
        "player={\n",
        "    \"name\":\"mohammed salah\",\n",
        "    \"personal\":{\n",
        "        \"age\":29,\n",
        "        \"gender\":\"male\",\n",
        "        \"country\":\"egypt\"\n",
        "    },\n",
        "    \"professional\":{\n",
        "        \"position\":\"forward\",\n",
        "        \"club\":\"liverpool\",\n",
        "        \"jersey\":11\n",
        "    },\n",
        "    \"health\":{\n",
        "        \"height\":175,\n",
        "        \"weight\":67\n",
        "    }\n",
        "\n",
        "}\n",
        "print(player)"
      ]
    },
    {
      "cell_type": "code",
      "source": [
        "print(player[\"professional\"][\"club\"])"
      ],
      "metadata": {
        "colab": {
          "base_uri": "https://localhost:8080/"
        },
        "id": "IcT4MAhm_X_s",
        "outputId": "ead3483b-48c7-458a-9aa5-27cb2514c50f"
      },
      "execution_count": 5,
      "outputs": [
        {
          "output_type": "stream",
          "name": "stdout",
          "text": [
            "liverpool\n"
          ]
        }
      ]
    },
    {
      "cell_type": "code",
      "source": [
        "print(player[\"personal\"][\"country\"])"
      ],
      "metadata": {
        "colab": {
          "base_uri": "https://localhost:8080/"
        },
        "id": "zHfPtIxy_m9l",
        "outputId": "bcd9b108-08aa-4d56-e42b-fcd31a5eeafe"
      },
      "execution_count": 7,
      "outputs": [
        {
          "output_type": "stream",
          "name": "stdout",
          "text": [
            "egypt\n"
          ]
        }
      ]
    }
  ]
}