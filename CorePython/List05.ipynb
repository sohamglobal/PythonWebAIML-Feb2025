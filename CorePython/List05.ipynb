{
  "nbformat": 4,
  "nbformat_minor": 0,
  "metadata": {
    "colab": {
      "provenance": []
    },
    "kernelspec": {
      "name": "python3",
      "display_name": "Python 3"
    },
    "language_info": {
      "name": "python"
    }
  },
  "cells": [
    {
      "cell_type": "markdown",
      "source": [
        "find common values in the 2 lists"
      ],
      "metadata": {
        "id": "jRWq-0WoyZg1"
      }
    },
    {
      "cell_type": "code",
      "execution_count": null,
      "metadata": {
        "colab": {
          "base_uri": "https://localhost:8080/"
        },
        "id": "NTIKZBCJyUqp",
        "outputId": "c830c9d7-b826-4acc-9ba7-a83632ddc312"
      },
      "outputs": [
        {
          "output_type": "stream",
          "name": "stdout",
          "text": [
            "[9, 3]\n"
          ]
        }
      ],
      "source": [
        "lst1=[4,9,3,7,12]\n",
        "lst2=[15,5,10,3,9]\n",
        "\n",
        "common=[x for x in lst1 if x in lst2]\n",
        "print(common)"
      ]
    },
    {
      "cell_type": "code",
      "source": [
        "pfl=['java','spring','jpa','sql','azure']\n",
        "syu=['python','sql','pandas','openai','analytics','java','ml','spring']\n",
        "common=[x for x in pfl if x not in syu]\n",
        "print(common)"
      ],
      "metadata": {
        "id": "vti_zSHRzW2I",
        "colab": {
          "base_uri": "https://localhost:8080/"
        },
        "outputId": "034c21f2-250c-47e2-cf4c-6d8187e77588"
      },
      "execution_count": 3,
      "outputs": [
        {
          "output_type": "stream",
          "name": "stdout",
          "text": [
            "['jpa', 'azure']\n"
          ]
        }
      ]
    },
    {
      "cell_type": "code",
      "source": [
        "#dont use this logic in python\n",
        "n=[9,13,26,1,45,23,56,62,39,17,55,89]\n",
        "odd=[]\n",
        "\n",
        "for val in n:\n",
        "  if val%2==1:\n",
        "    odd.append(val)\n",
        "\n",
        "print(odd)"
      ],
      "metadata": {
        "colab": {
          "base_uri": "https://localhost:8080/"
        },
        "id": "jQVu0YR2yn0C",
        "outputId": "00dc5f8d-7469-4738-d2c3-da578bc15b16"
      },
      "execution_count": 4,
      "outputs": [
        {
          "output_type": "stream",
          "name": "stdout",
          "text": [
            "[9, 13, 1, 45, 23, 39, 17, 55, 89]\n"
          ]
        }
      ]
    },
    {
      "cell_type": "code",
      "source": [
        "n=[9,13,26,1,45,23,56,62,39,17,55,89]\n",
        "odd=[x for x in n if x%2==1]\n",
        "print(odd)"
      ],
      "metadata": {
        "colab": {
          "base_uri": "https://localhost:8080/"
        },
        "id": "xMIj_aTm04F1",
        "outputId": "ad030830-8b54-470f-bede-2d7b23b9beda"
      },
      "execution_count": 6,
      "outputs": [
        {
          "output_type": "stream",
          "name": "stdout",
          "text": [
            "[9, 13, 1, 45, 23, 39, 17, 55, 89]\n"
          ]
        }
      ]
    },
    {
      "cell_type": "code",
      "source": [
        "n=[9,13,26,1,45,23,56,62,39,17,55,89]\n",
        "even=[x for x in n if x%2==0]\n",
        "print(even)"
      ],
      "metadata": {
        "colab": {
          "base_uri": "https://localhost:8080/"
        },
        "id": "i0RDtoia1kpt",
        "outputId": "6d700b5b-a85b-41d2-8923-1f71b77a8bf6"
      },
      "execution_count": 7,
      "outputs": [
        {
          "output_type": "stream",
          "name": "stdout",
          "text": [
            "[26, 56, 62]\n"
          ]
        }
      ]
    },
    {
      "cell_type": "code",
      "source": [
        "n=[9,13,-26,1,-45,23,56,62,39,-17,55,-89]\n",
        "pos=[x for x in n if x>0]\n",
        "print(pos)"
      ],
      "metadata": {
        "colab": {
          "base_uri": "https://localhost:8080/"
        },
        "id": "PSzj3jQX139L",
        "outputId": "7c7a1ee2-6744-4e9d-a678-fbe2996675a8"
      },
      "execution_count": 8,
      "outputs": [
        {
          "output_type": "stream",
          "name": "stdout",
          "text": [
            "[9, 13, 1, 23, 56, 62, 39, 55]\n"
          ]
        }
      ]
    },
    {
      "cell_type": "code",
      "source": [
        "n=[9,13,26,1,45,23,56,62,39,17,55,89]\n",
        "nine=[x for x in n if x%9==0]\n",
        "print(nine)"
      ],
      "metadata": {
        "colab": {
          "base_uri": "https://localhost:8080/"
        },
        "id": "fd0qkToK2Elh",
        "outputId": "f0086e4a-c405-4245-8701-3cc2bfe6f6de"
      },
      "execution_count": 9,
      "outputs": [
        {
          "output_type": "stream",
          "name": "stdout",
          "text": [
            "[9, 45]\n"
          ]
        }
      ]
    },
    {
      "cell_type": "code",
      "source": [
        "lst=[9,13,26,1,9,45,26,15,74,11,13]\n",
        "unique=[]\n",
        "\n",
        "[unique.append(item) for item in lst if item not in unique]\n",
        "print(unique)"
      ],
      "metadata": {
        "colab": {
          "base_uri": "https://localhost:8080/"
        },
        "id": "af_SivG92fs9",
        "outputId": "0b6dc9ab-33d9-447d-d90e-a75ce21c9ae2"
      },
      "execution_count": 12,
      "outputs": [
        {
          "output_type": "stream",
          "name": "stdout",
          "text": [
            "[9, 13, 26, 1, 45, 15, 74, 11]\n"
          ]
        }
      ]
    },
    {
      "cell_type": "code",
      "source": [
        "lst=[9,13,26,1,9,45,26,15,74,11,13]\n",
        "sq=[x**2 for x in lst]\n",
        "print(sq)"
      ],
      "metadata": {
        "colab": {
          "base_uri": "https://localhost:8080/"
        },
        "id": "c7QhlPeX4wbr",
        "outputId": "af9af445-d9e9-440e-a194-db60c4aceeef"
      },
      "execution_count": 16,
      "outputs": [
        {
          "output_type": "stream",
          "name": "stdout",
          "text": [
            "[81, 169, 676, 1, 81, 2025, 676, 225, 5476, 121, 169]\n"
          ]
        }
      ]
    }
  ]
}