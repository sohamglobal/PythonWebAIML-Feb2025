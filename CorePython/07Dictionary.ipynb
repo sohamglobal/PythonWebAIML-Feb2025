{
  "nbformat": 4,
  "nbformat_minor": 0,
  "metadata": {
    "colab": {
      "provenance": []
    },
    "kernelspec": {
      "name": "python3",
      "display_name": "Python 3"
    },
    "language_info": {
      "name": "python"
    }
  },
  "cells": [
    {
      "cell_type": "code",
      "execution_count": 1,
      "metadata": {
        "colab": {
          "base_uri": "https://localhost:8080/"
        },
        "id": "gSrHye_IQq87",
        "outputId": "0ba46947-3d58-44db-8193-cfad83ceb321"
      },
      "outputs": [
        {
          "output_type": "stream",
          "name": "stdout",
          "text": [
            "Enter company : volkswagen\n",
            "Enter product : virtus\n",
            "Do you want to continue? (yes/no) yes\n",
            "Enter company : skoda\n",
            "Enter product : superb\n",
            "Do you want to continue? (yes/no) yes\n",
            "Enter company : microsoft\n",
            "Enter product : azure\n",
            "Do you want to continue? (yes/no) no\n",
            "{'volkswagen': 'virtus', 'skoda': 'superb', 'microsoft': 'azure'}\n"
          ]
        }
      ],
      "source": [
        "cho=None\n",
        "dic={}\n",
        "\n",
        "while cho!='no':\n",
        "  company=input('Enter company : ')\n",
        "  product=input('Enter product : ')\n",
        "  dic[company]=product\n",
        "  cho=input('Do you want to continue? (yes/no) ')\n",
        "\n",
        "print(dic)\n"
      ]
    }
  ]
}