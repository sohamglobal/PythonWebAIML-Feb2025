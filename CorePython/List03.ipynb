{
  "nbformat": 4,
  "nbformat_minor": 0,
  "metadata": {
    "colab": {
      "provenance": []
    },
    "kernelspec": {
      "name": "python3",
      "display_name": "Python 3"
    },
    "language_info": {
      "name": "python"
    }
  },
  "cells": [
    {
      "cell_type": "code",
      "execution_count": null,
      "metadata": {
        "colab": {
          "base_uri": "https://localhost:8080/"
        },
        "id": "dkWcr_blo-mp",
        "outputId": "c19c0bfc-0f0c-4449-9884-566ed23b9bb3"
      },
      "outputs": [
        {
          "output_type": "stream",
          "name": "stdout",
          "text": [
            "['praffull', 9, 68.14, True]\n"
          ]
        }
      ],
      "source": [
        "lst=['praffull',9,68.14,True]\n",
        "print(lst)"
      ]
    },
    {
      "cell_type": "code",
      "source": [
        "for val in lst:\n",
        "  print(type(val))"
      ],
      "metadata": {
        "colab": {
          "base_uri": "https://localhost:8080/"
        },
        "id": "8OBywNqtpevG",
        "outputId": "c5d8faea-c450-46ac-e16d-467d2b07dc15"
      },
      "execution_count": null,
      "outputs": [
        {
          "output_type": "stream",
          "name": "stdout",
          "text": [
            "<class 'str'>\n",
            "<class 'int'>\n",
            "<class 'float'>\n",
            "<class 'bool'>\n"
          ]
        }
      ]
    },
    {
      "cell_type": "code",
      "source": [
        "driver=['charles leclerc',16,'monaco','ferrari',['uk','usa','italy','china','bahrain']]"
      ],
      "metadata": {
        "id": "f_fy1DVYqYeS"
      },
      "execution_count": 2,
      "outputs": []
    },
    {
      "cell_type": "code",
      "source": [
        "print(driver[3])\n",
        "print(driver[4])\n",
        "print(driver[4][2])"
      ],
      "metadata": {
        "colab": {
          "base_uri": "https://localhost:8080/"
        },
        "id": "FtLe0pj9r7B6",
        "outputId": "2b7561e6-b291-40a0-86c9-cc20f4b7b639"
      },
      "execution_count": 5,
      "outputs": [
        {
          "output_type": "stream",
          "name": "stdout",
          "text": [
            "ferrari\n",
            "['uk', 'usa', 'italy', 'china', 'bahrain']\n",
            "italy\n"
          ]
        }
      ]
    },
    {
      "cell_type": "code",
      "source": [
        "driver.append('male')\n",
        "driver[4].append('australia')\n",
        "print(driver)"
      ],
      "metadata": {
        "colab": {
          "base_uri": "https://localhost:8080/"
        },
        "id": "qxs0jWFgscTC",
        "outputId": "7fb2721c-304c-4da9-90b0-5f810bac2b53"
      },
      "execution_count": 7,
      "outputs": [
        {
          "output_type": "stream",
          "name": "stdout",
          "text": [
            "['charles leclerc', 16, 'monaco', 'ferrari', ['uk', 'usa', 'italy', 'china', 'bahrain', 'australia'], 'male', 'male']\n"
          ]
        }
      ]
    },
    {
      "cell_type": "code",
      "source": [
        "# this is a 3x4 DD list\n",
        "lst=[\n",
        "    [12,23,34,45],\n",
        "    [54,43,32,21],\n",
        "    [65,43,87,89]\n",
        "]\n",
        "print(lst)"
      ],
      "metadata": {
        "colab": {
          "base_uri": "https://localhost:8080/"
        },
        "id": "0Qy5ApvMs8tx",
        "outputId": "750f79cf-5097-435a-fb12-6246355823a9"
      },
      "execution_count": 8,
      "outputs": [
        {
          "output_type": "stream",
          "name": "stdout",
          "text": [
            "[[12, 23, 34, 45], [54, 43, 32, 21], [65, 43, 87, 89]]\n"
          ]
        }
      ]
    }
  ]
}