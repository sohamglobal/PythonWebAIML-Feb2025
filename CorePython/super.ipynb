{
  "nbformat": 4,
  "nbformat_minor": 0,
  "metadata": {
    "colab": {
      "provenance": []
    },
    "kernelspec": {
      "name": "python3",
      "display_name": "Python 3"
    },
    "language_info": {
      "name": "python"
    }
  },
  "cells": [
    {
      "cell_type": "code",
      "execution_count": 1,
      "metadata": {
        "id": "9nLZCTiHysFO"
      },
      "outputs": [],
      "source": [
        "class Praffull:\n",
        "  def __init__(self,name):\n",
        "    print(name)"
      ]
    },
    {
      "cell_type": "code",
      "source": [
        "class Soham(Praffull):\n",
        "  def __init__(self):\n",
        "    super().__init__('sharayu')\n",
        "    print('class Soham constructor')"
      ],
      "metadata": {
        "id": "VbkNcb61y4Gi"
      },
      "execution_count": 4,
      "outputs": []
    },
    {
      "cell_type": "code",
      "source": [
        "obj=Soham()"
      ],
      "metadata": {
        "colab": {
          "base_uri": "https://localhost:8080/"
        },
        "id": "AJDpxSHdzFHl",
        "outputId": "62cb638f-330c-4620-aafb-8f8fa99d7fd4"
      },
      "execution_count": 5,
      "outputs": [
        {
          "output_type": "stream",
          "name": "stdout",
          "text": [
            "sharayu\n",
            "class Soham constructor\n"
          ]
        }
      ]
    }
  ]
}