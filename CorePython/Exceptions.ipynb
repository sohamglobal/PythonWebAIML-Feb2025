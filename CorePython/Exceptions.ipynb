{
  "nbformat": 4,
  "nbformat_minor": 0,
  "metadata": {
    "colab": {
      "provenance": []
    },
    "kernelspec": {
      "name": "python3",
      "display_name": "Python 3"
    },
    "language_info": {
      "name": "python"
    }
  },
  "cells": [
    {
      "cell_type": "code",
      "execution_count": null,
      "metadata": {
        "colab": {
          "base_uri": "https://localhost:8080/"
        },
        "id": "9_FbxIHdn1xP",
        "outputId": "cd5515b6-758d-448c-ee85-2e96534ffb15"
      },
      "outputs": [
        {
          "output_type": "stream",
          "name": "stdout",
          "text": [
            "Enter a number : ethan\n",
            "invalid input...\n",
            "square of 0 is 0\n"
          ]
        }
      ],
      "source": [
        "try:\n",
        "  n=int(input(\"Enter a number : \"))\n",
        "except:\n",
        "  n=0\n",
        "  print('invalid input...')\n",
        "\n",
        "sq=n*n\n",
        "print(f'square of {n} is {sq}')"
      ]
    },
    {
      "cell_type": "code",
      "source": [
        "amount=float(input('Enter purchase amount : '))\n",
        "discount=amount*9/100\n",
        "bill=amount-discount\n",
        "print(f'Amount : {amount}')\n",
        "print(f'Discount : {discount}')\n",
        "print(f'Final Bill : {bill}')"
      ],
      "metadata": {
        "colab": {
          "base_uri": "https://localhost:8080/",
          "height": 233
        },
        "id": "Ok2o8cmct8ma",
        "outputId": "6f24285f-8257-40c1-b930-32724bc0e3dc"
      },
      "execution_count": null,
      "outputs": [
        {
          "name": "stdout",
          "output_type": "stream",
          "text": [
            "Enter purchase amount : praffull\n"
          ]
        },
        {
          "output_type": "error",
          "ename": "ValueError",
          "evalue": "could not convert string to float: 'praffull'",
          "traceback": [
            "\u001b[0;31m---------------------------------------------------------------------------\u001b[0m",
            "\u001b[0;31mValueError\u001b[0m                                Traceback (most recent call last)",
            "\u001b[0;32m<ipython-input-12-440fc4364dc8>\u001b[0m in \u001b[0;36m<cell line: 0>\u001b[0;34m()\u001b[0m\n\u001b[0;32m----> 1\u001b[0;31m \u001b[0mamount\u001b[0m\u001b[0;34m=\u001b[0m\u001b[0mfloat\u001b[0m\u001b[0;34m(\u001b[0m\u001b[0minput\u001b[0m\u001b[0;34m(\u001b[0m\u001b[0;34m'Enter purchase amount : '\u001b[0m\u001b[0;34m)\u001b[0m\u001b[0;34m)\u001b[0m\u001b[0;34m\u001b[0m\u001b[0;34m\u001b[0m\u001b[0m\n\u001b[0m\u001b[1;32m      2\u001b[0m \u001b[0mdiscount\u001b[0m\u001b[0;34m=\u001b[0m\u001b[0mamount\u001b[0m\u001b[0;34m*\u001b[0m\u001b[0;36m9\u001b[0m\u001b[0;34m/\u001b[0m\u001b[0;36m100\u001b[0m\u001b[0;34m\u001b[0m\u001b[0;34m\u001b[0m\u001b[0m\n\u001b[1;32m      3\u001b[0m \u001b[0mbill\u001b[0m\u001b[0;34m=\u001b[0m\u001b[0mamount\u001b[0m\u001b[0;34m-\u001b[0m\u001b[0mdiscount\u001b[0m\u001b[0;34m\u001b[0m\u001b[0;34m\u001b[0m\u001b[0m\n\u001b[1;32m      4\u001b[0m \u001b[0mprint\u001b[0m\u001b[0;34m(\u001b[0m\u001b[0;34mf'Amount : {amount}'\u001b[0m\u001b[0;34m)\u001b[0m\u001b[0;34m\u001b[0m\u001b[0;34m\u001b[0m\u001b[0m\n\u001b[1;32m      5\u001b[0m \u001b[0mprint\u001b[0m\u001b[0;34m(\u001b[0m\u001b[0;34mf'Discount : {discount}'\u001b[0m\u001b[0;34m)\u001b[0m\u001b[0;34m\u001b[0m\u001b[0;34m\u001b[0m\u001b[0m\n",
            "\u001b[0;31mValueError\u001b[0m: could not convert string to float: 'praffull'"
          ]
        }
      ]
    },
    {
      "cell_type": "code",
      "source": [
        "try:\n",
        "  amount=float(input('Enter purchase amount : '))\n",
        "except:\n",
        "  amount=0.0\n",
        "  print('invalid amount...')\n",
        "\n",
        "discount=amount*9/100\n",
        "bill=amount-discount\n",
        "print(f'Amount : {amount}')\n",
        "print(f'Discount : {discount}')\n",
        "print(f'Final Bill : {bill}')"
      ],
      "metadata": {
        "colab": {
          "base_uri": "https://localhost:8080/"
        },
        "id": "K1xNntHjvIgV",
        "outputId": "b25ca6a0-d7ac-45e5-bbec-539908c6f972"
      },
      "execution_count": null,
      "outputs": [
        {
          "output_type": "stream",
          "name": "stdout",
          "text": [
            "Enter purchase amount : praffull\n",
            "invalid amount...\n",
            "Amount : 0.0\n",
            "Discount : 0.0\n",
            "Final Bill : 0.0\n"
          ]
        }
      ]
    },
    {
      "cell_type": "code",
      "source": [
        "film={\n",
        "    \"filmname\":\"sholay\",\n",
        "    \"relyear\":1975,\n",
        "    \"genre\":\"action\",\n",
        "    \"director\":\"ramesh sippy\",\n",
        "    \"actor\":\"bachchan\",\n",
        "    \"actress\":\"jaya\",\n",
        "    \"imbdrating\":8.1\n",
        "}"
      ],
      "metadata": {
        "id": "5-oo5axNvW_D"
      },
      "execution_count": 1,
      "outputs": []
    },
    {
      "cell_type": "code",
      "source": [
        "key=input('enter key : ')\n",
        "print(film[key])"
      ],
      "metadata": {
        "colab": {
          "base_uri": "https://localhost:8080/",
          "height": 180
        },
        "id": "vTl8452wylHY",
        "outputId": "c38008ea-675b-4895-94b1-7115fb0219a1"
      },
      "execution_count": 5,
      "outputs": [
        {
          "name": "stdout",
          "output_type": "stream",
          "text": [
            "enter key : villain\n"
          ]
        },
        {
          "output_type": "error",
          "ename": "KeyError",
          "evalue": "'villain'",
          "traceback": [
            "\u001b[0;31m---------------------------------------------------------------------------\u001b[0m",
            "\u001b[0;31mKeyError\u001b[0m                                  Traceback (most recent call last)",
            "\u001b[0;32m<ipython-input-5-bb02c949a3a5>\u001b[0m in \u001b[0;36m<cell line: 0>\u001b[0;34m()\u001b[0m\n\u001b[1;32m      1\u001b[0m \u001b[0mkey\u001b[0m\u001b[0;34m=\u001b[0m\u001b[0minput\u001b[0m\u001b[0;34m(\u001b[0m\u001b[0;34m'enter key : '\u001b[0m\u001b[0;34m)\u001b[0m\u001b[0;34m\u001b[0m\u001b[0;34m\u001b[0m\u001b[0m\n\u001b[0;32m----> 2\u001b[0;31m \u001b[0mprint\u001b[0m\u001b[0;34m(\u001b[0m\u001b[0mfilm\u001b[0m\u001b[0;34m[\u001b[0m\u001b[0mkey\u001b[0m\u001b[0;34m]\u001b[0m\u001b[0;34m)\u001b[0m\u001b[0;34m\u001b[0m\u001b[0;34m\u001b[0m\u001b[0m\n\u001b[0m",
            "\u001b[0;31mKeyError\u001b[0m: 'villain'"
          ]
        }
      ]
    },
    {
      "cell_type": "code",
      "source": [
        "key=input('enter key : ')\n",
        "try:\n",
        "  print(film[key])\n",
        "except KeyError:\n",
        "  print('information not available')\n",
        "finally:\n",
        "  print(film)\n"
      ],
      "metadata": {
        "colab": {
          "base_uri": "https://localhost:8080/"
        },
        "id": "i2yS4S3Fv8mo",
        "outputId": "f6a5e07a-4a7b-46ae-963c-40d05a368b1d"
      },
      "execution_count": 7,
      "outputs": [
        {
          "output_type": "stream",
          "name": "stdout",
          "text": [
            "enter key : budget\n",
            "information not available\n",
            "{'filmname': 'sholay', 'relyear': 1975, 'genre': 'action', 'director': 'ramesh sippy', 'actor': 'bachchan', 'actress': 'jaya', 'imbdrating': 8.1}\n"
          ]
        }
      ]
    },
    {
      "cell_type": "code",
      "source": [
        "lst=['microsoft','volkswagen','samsung','dell','hp','puma']"
      ],
      "metadata": {
        "id": "OqGaxru_y_-3"
      },
      "execution_count": 8,
      "outputs": []
    },
    {
      "cell_type": "code",
      "source": [
        "n=int(input('enter index : '))\n",
        "print(lst[n])"
      ],
      "metadata": {
        "colab": {
          "base_uri": "https://localhost:8080/",
          "height": 180
        },
        "id": "Spjoh1F41GaW",
        "outputId": "8eafd671-9dd5-43ec-ed10-239ec1d2855c"
      },
      "execution_count": 10,
      "outputs": [
        {
          "name": "stdout",
          "output_type": "stream",
          "text": [
            "enter index : 9\n"
          ]
        },
        {
          "output_type": "error",
          "ename": "IndexError",
          "evalue": "list index out of range",
          "traceback": [
            "\u001b[0;31m---------------------------------------------------------------------------\u001b[0m",
            "\u001b[0;31mIndexError\u001b[0m                                Traceback (most recent call last)",
            "\u001b[0;32m<ipython-input-10-55a319a7b416>\u001b[0m in \u001b[0;36m<cell line: 0>\u001b[0;34m()\u001b[0m\n\u001b[1;32m      1\u001b[0m \u001b[0mn\u001b[0m\u001b[0;34m=\u001b[0m\u001b[0mint\u001b[0m\u001b[0;34m(\u001b[0m\u001b[0minput\u001b[0m\u001b[0;34m(\u001b[0m\u001b[0;34m'enter index : '\u001b[0m\u001b[0;34m)\u001b[0m\u001b[0;34m)\u001b[0m\u001b[0;34m\u001b[0m\u001b[0;34m\u001b[0m\u001b[0m\n\u001b[0;32m----> 2\u001b[0;31m \u001b[0mprint\u001b[0m\u001b[0;34m(\u001b[0m\u001b[0mlst\u001b[0m\u001b[0;34m[\u001b[0m\u001b[0mn\u001b[0m\u001b[0;34m]\u001b[0m\u001b[0;34m)\u001b[0m\u001b[0;34m\u001b[0m\u001b[0;34m\u001b[0m\u001b[0m\n\u001b[0m",
            "\u001b[0;31mIndexError\u001b[0m: list index out of range"
          ]
        }
      ]
    },
    {
      "cell_type": "code",
      "source": [
        "n=int(input('enter index : '))\n",
        "print(lst[n])"
      ],
      "metadata": {
        "colab": {
          "base_uri": "https://localhost:8080/",
          "height": 180
        },
        "id": "ig7tasy01ots",
        "outputId": "d1d4b09b-1eb1-4ff8-b8ce-114f585242aa"
      },
      "execution_count": 11,
      "outputs": [
        {
          "name": "stdout",
          "output_type": "stream",
          "text": [
            "enter index : praffull\n"
          ]
        },
        {
          "output_type": "error",
          "ename": "ValueError",
          "evalue": "invalid literal for int() with base 10: 'praffull'",
          "traceback": [
            "\u001b[0;31m---------------------------------------------------------------------------\u001b[0m",
            "\u001b[0;31mValueError\u001b[0m                                Traceback (most recent call last)",
            "\u001b[0;32m<ipython-input-11-55a319a7b416>\u001b[0m in \u001b[0;36m<cell line: 0>\u001b[0;34m()\u001b[0m\n\u001b[0;32m----> 1\u001b[0;31m \u001b[0mn\u001b[0m\u001b[0;34m=\u001b[0m\u001b[0mint\u001b[0m\u001b[0;34m(\u001b[0m\u001b[0minput\u001b[0m\u001b[0;34m(\u001b[0m\u001b[0;34m'enter index : '\u001b[0m\u001b[0;34m)\u001b[0m\u001b[0;34m)\u001b[0m\u001b[0;34m\u001b[0m\u001b[0;34m\u001b[0m\u001b[0m\n\u001b[0m\u001b[1;32m      2\u001b[0m \u001b[0mprint\u001b[0m\u001b[0;34m(\u001b[0m\u001b[0mlst\u001b[0m\u001b[0;34m[\u001b[0m\u001b[0mn\u001b[0m\u001b[0;34m]\u001b[0m\u001b[0;34m)\u001b[0m\u001b[0;34m\u001b[0m\u001b[0;34m\u001b[0m\u001b[0m\n",
            "\u001b[0;31mValueError\u001b[0m: invalid literal for int() with base 10: 'praffull'"
          ]
        }
      ]
    },
    {
      "cell_type": "code",
      "source": [
        "#different except for different errors\n",
        "try:\n",
        "  n=int(input('enter index : '))\n",
        "  print(lst[n])\n",
        "except IndexError:\n",
        "  print('index out of list...')\n",
        "except ValueError:\n",
        "  print('index number expected...')\n"
      ],
      "metadata": {
        "colab": {
          "base_uri": "https://localhost:8080/"
        },
        "id": "UmsOq1kT2FVD",
        "outputId": "f5e0e096-d3d5-43f9-e66a-08d4791e2b49"
      },
      "execution_count": 15,
      "outputs": [
        {
          "output_type": "stream",
          "name": "stdout",
          "text": [
            "enter index : 3-5\n",
            "index number expected...\n"
          ]
        }
      ]
    },
    {
      "cell_type": "code",
      "source": [
        "#single except for multiple errors\n",
        "try:\n",
        "  n=int(input('enter index : '))\n",
        "  print(lst[n])\n",
        "except:\n",
        "  print('invalid or out of range index')\n"
      ],
      "metadata": {
        "colab": {
          "base_uri": "https://localhost:8080/"
        },
        "id": "COItkaR33O7F",
        "outputId": "1005a260-a0d8-451a-e213-4b69558c1bd6"
      },
      "execution_count": 18,
      "outputs": [
        {
          "output_type": "stream",
          "name": "stdout",
          "text": [
            "enter index : soham\n",
            "invalid or out of range index\n"
          ]
        }
      ]
    },
    {
      "cell_type": "code",
      "source": [
        "a=int(input('Enter first number : '))\n",
        "b=int(input('Enter second number : '))\n",
        "try:\n",
        "  c=int(a/b)\n",
        "except:\n",
        "  print('cant divide by zero...dividing by 1 instead')\n",
        "  c=a/1\n",
        "\n",
        "print(f'division is {c}')"
      ],
      "metadata": {
        "colab": {
          "base_uri": "https://localhost:8080/"
        },
        "id": "_rKY-rh33vSz",
        "outputId": "3361b83e-a05d-4f0c-b02d-0a2327781a5a"
      },
      "execution_count": 27,
      "outputs": [
        {
          "output_type": "stream",
          "name": "stdout",
          "text": [
            "Enter first number : 58\n",
            "Enter second number : 0\n",
            "cant divide by zero...dividing by 1 instead\n",
            "division is 58.0\n"
          ]
        }
      ]
    }
  ]
}