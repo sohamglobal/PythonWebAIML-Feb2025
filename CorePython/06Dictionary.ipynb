{
  "nbformat": 4,
  "nbformat_minor": 0,
  "metadata": {
    "colab": {
      "provenance": []
    },
    "kernelspec": {
      "name": "python3",
      "display_name": "Python 3"
    },
    "language_info": {
      "name": "python"
    }
  },
  "cells": [
    {
      "cell_type": "code",
      "execution_count": 2,
      "metadata": {
        "colab": {
          "base_uri": "https://localhost:8080/"
        },
        "id": "5apAvDy8JQ3E",
        "outputId": "8f1ccd70-4d94-4de1-827f-a5af5be2fb93"
      },
      "outputs": [
        {
          "output_type": "stream",
          "name": "stdout",
          "text": [
            "['welcome', 'to', 'python', 'programming', 'language']\n",
            "{'welcome': 1, 'to': 1, 'python': 1, 'programming': 1, 'language': 1}\n"
          ]
        }
      ],
      "source": [
        "sen=\"welcome to python programming language\"\n",
        "lst=sen.split()\n",
        "print(lst)\n",
        "dic={}.fromkeys(lst,1)\n",
        "print(dic)"
      ]
    },
    {
      "cell_type": "code",
      "source": [
        "w=None\n",
        "while w!='stop':\n",
        "  w=input('Enter a word : ')\n",
        "  if w in dic:\n",
        "    dic[w]+=1\n",
        "  else:\n",
        "    dic[w]=1\n",
        "\n",
        "print(dic)"
      ],
      "metadata": {
        "colab": {
          "base_uri": "https://localhost:8080/"
        },
        "id": "OXxQ7pYBLK3g",
        "outputId": "df94a1af-5f29-4469-fd45-9321089ad8ce"
      },
      "execution_count": 3,
      "outputs": [
        {
          "output_type": "stream",
          "name": "stdout",
          "text": [
            "Enter a word : python\n",
            "Enter a word : java\n",
            "Enter a word : spring\n",
            "Enter a word : welcome\n",
            "Enter a word : java\n",
            "Enter a word : stop\n",
            "{'welcome': 2, 'to': 1, 'python': 2, 'programming': 1, 'language': 1, 'java': 2, 'spring': 1, 'stop': 1}\n"
          ]
        }
      ]
    },
    {
      "cell_type": "code",
      "source": [
        "sen=\"cricket is popular in india football is popular worldwide formula-1 is popular in selected countries\"\n",
        "wcount={}\n",
        "\n",
        "#list\n",
        "words=sen.split()\n",
        "\n",
        "for w in words:\n",
        "  wcount[w]=wcount.get(w,0)+1\n",
        "\n",
        "print(wcount)"
      ],
      "metadata": {
        "colab": {
          "base_uri": "https://localhost:8080/"
        },
        "id": "CMAK4o9OMmX6",
        "outputId": "500b635f-34ca-4c91-be76-130a88d154a1"
      },
      "execution_count": 8,
      "outputs": [
        {
          "output_type": "stream",
          "name": "stdout",
          "text": [
            "{'cricket': 1, 'is': 3, 'popular': 3, 'in': 2, 'india': 1, 'football': 1, 'worldwide': 1, 'formula-1': 1, 'selected': 1, 'countries': 1}\n"
          ]
        }
      ]
    },
    {
      "cell_type": "code",
      "source": [
        "me={\n",
        "    \"name\":\"praffull\",\n",
        "    \"codename\":\"ethan hunt\",\n",
        "    \"company\":[\"sohamglobal\",\"spider projects one\"],\n",
        "    \"location\":\"worldwide\",\n",
        "    \"mobile\":\"7391966656\",\n",
        "    \"email\":\"praffull@outlook.com\"\n",
        "}"
      ],
      "metadata": {
        "id": "OIB5bCXzOOQz"
      },
      "execution_count": 5,
      "outputs": []
    },
    {
      "cell_type": "code",
      "source": [
        "print(me.get(\"codename\"))"
      ],
      "metadata": {
        "colab": {
          "base_uri": "https://localhost:8080/"
        },
        "id": "uppZslImOkKG",
        "outputId": "02b64d2f-f683-4048-8771-15d117dde37f"
      },
      "execution_count": 6,
      "outputs": [
        {
          "output_type": "stream",
          "name": "stdout",
          "text": [
            "ethan hunt\n"
          ]
        }
      ]
    },
    {
      "cell_type": "code",
      "source": [
        "print(me.get(\"gender\",\"male\"))"
      ],
      "metadata": {
        "colab": {
          "base_uri": "https://localhost:8080/"
        },
        "id": "loUGHeB1OrKA",
        "outputId": "cfd92d25-33d7-4585-ed0b-1a8ec9d32e49"
      },
      "execution_count": 7,
      "outputs": [
        {
          "output_type": "stream",
          "name": "stdout",
          "text": [
            "male\n"
          ]
        }
      ]
    },
    {
      "cell_type": "code",
      "source": [
        "eqn={}\n",
        "for x in range(1,101):\n",
        "  eqn[x]=x*x+13*x+9\n",
        "\n",
        "print(eqn)"
      ],
      "metadata": {
        "colab": {
          "base_uri": "https://localhost:8080/"
        },
        "id": "qXJWP9DWPtyr",
        "outputId": "529d3c2f-146c-4d35-e711-ab057055ff1e"
      },
      "execution_count": 9,
      "outputs": [
        {
          "output_type": "stream",
          "name": "stdout",
          "text": [
            "{1: 23, 2: 39, 3: 57, 4: 77, 5: 99, 6: 123, 7: 149, 8: 177, 9: 207, 10: 239, 11: 273, 12: 309, 13: 347, 14: 387, 15: 429, 16: 473, 17: 519, 18: 567, 19: 617, 20: 669, 21: 723, 22: 779, 23: 837, 24: 897, 25: 959, 26: 1023, 27: 1089, 28: 1157, 29: 1227, 30: 1299, 31: 1373, 32: 1449, 33: 1527, 34: 1607, 35: 1689, 36: 1773, 37: 1859, 38: 1947, 39: 2037, 40: 2129, 41: 2223, 42: 2319, 43: 2417, 44: 2517, 45: 2619, 46: 2723, 47: 2829, 48: 2937, 49: 3047, 50: 3159, 51: 3273, 52: 3389, 53: 3507, 54: 3627, 55: 3749, 56: 3873, 57: 3999, 58: 4127, 59: 4257, 60: 4389, 61: 4523, 62: 4659, 63: 4797, 64: 4937, 65: 5079, 66: 5223, 67: 5369, 68: 5517, 69: 5667, 70: 5819, 71: 5973, 72: 6129, 73: 6287, 74: 6447, 75: 6609, 76: 6773, 77: 6939, 78: 7107, 79: 7277, 80: 7449, 81: 7623, 82: 7799, 83: 7977, 84: 8157, 85: 8339, 86: 8523, 87: 8709, 88: 8897, 89: 9087, 90: 9279, 91: 9473, 92: 9669, 93: 9867, 94: 10067, 95: 10269, 96: 10473, 97: 10679, 98: 10887, 99: 11097, 100: 11309}\n"
          ]
        }
      ]
    }
  ]
}