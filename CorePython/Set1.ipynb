{
  "nbformat": 4,
  "nbformat_minor": 0,
  "metadata": {
    "colab": {
      "provenance": []
    },
    "kernelspec": {
      "name": "python3",
      "display_name": "Python 3"
    },
    "language_info": {
      "name": "python"
    }
  },
  "cells": [
    {
      "cell_type": "markdown",
      "source": [
        "# Set functions"
      ],
      "metadata": {
        "id": "qM-4l4i2HjWz"
      }
    },
    {
      "cell_type": "code",
      "execution_count": 10,
      "metadata": {
        "colab": {
          "base_uri": "https://localhost:8080/"
        },
        "id": "pbmaqvumHDjg",
        "outputId": "aec6c158-8a94-4cb1-f419-9e520f829f6d"
      },
      "outputs": [
        {
          "output_type": "stream",
          "name": "stdout",
          "text": [
            "<class 'set'>\n"
          ]
        }
      ],
      "source": [
        "nm={'jack','neo','john','keanu reeves','tom cruise','emily blunt','neo','jack'}\n",
        "print(type(nm))"
      ]
    },
    {
      "cell_type": "code",
      "source": [
        "print(nm)"
      ],
      "metadata": {
        "colab": {
          "base_uri": "https://localhost:8080/"
        },
        "id": "dL4iIE_bJ9SC",
        "outputId": "a6b9bfe3-5d0f-4b54-c9c2-edac8197a465"
      },
      "execution_count": 11,
      "outputs": [
        {
          "output_type": "stream",
          "name": "stdout",
          "text": [
            "{'neo', 'jack', 'emily blunt', 'john', 'keanu reeves', 'tom cruise'}\n"
          ]
        }
      ]
    },
    {
      "cell_type": "code",
      "source": [
        "print(nm[5])"
      ],
      "metadata": {
        "colab": {
          "base_uri": "https://localhost:8080/",
          "height": 141
        },
        "id": "nGKq9BMKMlA7",
        "outputId": "ec6bed13-d8d3-4675-d887-6f5f86198382"
      },
      "execution_count": 12,
      "outputs": [
        {
          "output_type": "error",
          "ename": "TypeError",
          "evalue": "'set' object is not subscriptable",
          "traceback": [
            "\u001b[0;31m---------------------------------------------------------------------------\u001b[0m",
            "\u001b[0;31mTypeError\u001b[0m                                 Traceback (most recent call last)",
            "\u001b[0;32m<ipython-input-12-339090105b91>\u001b[0m in \u001b[0;36m<cell line: 1>\u001b[0;34m()\u001b[0m\n\u001b[0;32m----> 1\u001b[0;31m \u001b[0mprint\u001b[0m\u001b[0;34m(\u001b[0m\u001b[0mnm\u001b[0m\u001b[0;34m[\u001b[0m\u001b[0;36m5\u001b[0m\u001b[0;34m]\u001b[0m\u001b[0;34m)\u001b[0m\u001b[0;34m\u001b[0m\u001b[0;34m\u001b[0m\u001b[0m\n\u001b[0m",
            "\u001b[0;31mTypeError\u001b[0m: 'set' object is not subscriptable"
          ]
        }
      ]
    },
    {
      "cell_type": "code",
      "source": [
        "print(len(nm))"
      ],
      "metadata": {
        "colab": {
          "base_uri": "https://localhost:8080/"
        },
        "id": "tXhprTQXNo_p",
        "outputId": "9ae67307-9855-4c7a-d7ba-61dbe39e3f0b"
      },
      "execution_count": 13,
      "outputs": [
        {
          "output_type": "stream",
          "name": "stdout",
          "text": [
            "6\n"
          ]
        }
      ]
    },
    {
      "cell_type": "code",
      "source": [
        "print(max(nm))"
      ],
      "metadata": {
        "colab": {
          "base_uri": "https://localhost:8080/"
        },
        "id": "mYPDw0rOOAcM",
        "outputId": "09cd8722-3c7d-41ab-bb99-ff1ed6b2903e"
      },
      "execution_count": 14,
      "outputs": [
        {
          "output_type": "stream",
          "name": "stdout",
          "text": [
            "tom cruise\n"
          ]
        }
      ]
    },
    {
      "cell_type": "code",
      "source": [
        "print(min(nm))"
      ],
      "metadata": {
        "colab": {
          "base_uri": "https://localhost:8080/"
        },
        "id": "FYa4PMRwOJ9s",
        "outputId": "20b3e47f-67b4-438f-e63a-f6b27e583393"
      },
      "execution_count": 15,
      "outputs": [
        {
          "output_type": "stream",
          "name": "stdout",
          "text": [
            "emily blunt\n"
          ]
        }
      ]
    },
    {
      "cell_type": "code",
      "source": [
        "print(nm)"
      ],
      "metadata": {
        "colab": {
          "base_uri": "https://localhost:8080/"
        },
        "id": "vIMtqb9WOOLQ",
        "outputId": "f061635c-b1a9-4377-bc95-3f08baec6702"
      },
      "execution_count": 16,
      "outputs": [
        {
          "output_type": "stream",
          "name": "stdout",
          "text": [
            "{'neo', 'jack', 'emily blunt', 'john', 'keanu reeves', 'tom cruise'}\n"
          ]
        }
      ]
    },
    {
      "cell_type": "code",
      "source": [
        "nm.add('praffull')"
      ],
      "metadata": {
        "id": "_S3iDIeIOe57"
      },
      "execution_count": 18,
      "outputs": []
    },
    {
      "cell_type": "code",
      "source": [
        "print(nm)"
      ],
      "metadata": {
        "colab": {
          "base_uri": "https://localhost:8080/"
        },
        "id": "juX4ZnFWOxg1",
        "outputId": "40598c27-34e8-4825-e5e0-6497b7dbc3d9"
      },
      "execution_count": 19,
      "outputs": [
        {
          "output_type": "stream",
          "name": "stdout",
          "text": [
            "{'neo', 'jack', 'emily blunt', 'john', 'keanu reeves', 'tom cruise', 'praffull'}\n"
          ]
        }
      ]
    },
    {
      "cell_type": "code",
      "source": [
        "nm.add('joe')\n",
        "print(nm)"
      ],
      "metadata": {
        "colab": {
          "base_uri": "https://localhost:8080/"
        },
        "id": "qUSgPfyiPMBo",
        "outputId": "e565a0b9-c49c-4ae5-efa9-7aeb0315cf3e"
      },
      "execution_count": 20,
      "outputs": [
        {
          "output_type": "stream",
          "name": "stdout",
          "text": [
            "{'neo', 'jack', 'emily blunt', 'joe', 'john', 'keanu reeves', 'tom cruise', 'praffull'}\n"
          ]
        }
      ]
    },
    {
      "cell_type": "code",
      "source": [
        "nm.remove('praffull')\n",
        "print(nm)"
      ],
      "metadata": {
        "colab": {
          "base_uri": "https://localhost:8080/"
        },
        "id": "CCSiHHPMPjZ3",
        "outputId": "46d44f58-c3ed-4e91-afba-ee577b35d62a"
      },
      "execution_count": 21,
      "outputs": [
        {
          "output_type": "stream",
          "name": "stdout",
          "text": [
            "{'neo', 'jack', 'emily blunt', 'joe', 'john', 'keanu reeves', 'tom cruise'}\n"
          ]
        }
      ]
    },
    {
      "cell_type": "code",
      "source": [
        "print(nm.pop())\n",
        "print(nm)"
      ],
      "metadata": {
        "colab": {
          "base_uri": "https://localhost:8080/"
        },
        "id": "BQe30zR1QR7I",
        "outputId": "dd08fdf6-7615-4b48-ce39-ebd06745b960"
      },
      "execution_count": 22,
      "outputs": [
        {
          "output_type": "stream",
          "name": "stdout",
          "text": [
            "neo\n",
            "{'jack', 'emily blunt', 'joe', 'john', 'keanu reeves', 'tom cruise'}\n"
          ]
        }
      ]
    },
    {
      "cell_type": "code",
      "source": [
        "print(nm.pop())\n",
        "print(nm)"
      ],
      "metadata": {
        "colab": {
          "base_uri": "https://localhost:8080/"
        },
        "id": "FNJo4CxnQoUl",
        "outputId": "d910247e-545c-4ddc-e950-e8110681f3bd"
      },
      "execution_count": 23,
      "outputs": [
        {
          "output_type": "stream",
          "name": "stdout",
          "text": [
            "jack\n",
            "{'emily blunt', 'joe', 'john', 'keanu reeves', 'tom cruise'}\n"
          ]
        }
      ]
    },
    {
      "cell_type": "code",
      "source": [
        "print(nm.pop())\n",
        "print(nm)"
      ],
      "metadata": {
        "colab": {
          "base_uri": "https://localhost:8080/"
        },
        "id": "PMY4pDPxQu23",
        "outputId": "701db464-6855-4cac-97a6-ac40a31d5a9e"
      },
      "execution_count": 24,
      "outputs": [
        {
          "output_type": "stream",
          "name": "stdout",
          "text": [
            "emily blunt\n",
            "{'joe', 'john', 'keanu reeves', 'tom cruise'}\n"
          ]
        }
      ]
    }
  ]
}