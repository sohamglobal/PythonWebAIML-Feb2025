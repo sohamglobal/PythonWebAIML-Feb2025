{
  "nbformat": 4,
  "nbformat_minor": 0,
  "metadata": {
    "colab": {
      "provenance": []
    },
    "kernelspec": {
      "name": "python3",
      "display_name": "Python 3"
    },
    "language_info": {
      "name": "python"
    }
  },
  "cells": [
    {
      "cell_type": "code",
      "execution_count": 1,
      "metadata": {
        "colab": {
          "base_uri": "https://localhost:8080/"
        },
        "id": "_MuTb4qYlKUt",
        "outputId": "174fd58d-8a66-428d-97cc-1375eeb70563"
      },
      "outputs": [
        {
          "output_type": "stream",
          "name": "stdout",
          "text": [
            "['the matrix', 'speed', 'pk', 'mission impossible']\n"
          ]
        }
      ],
      "source": [
        "films=['the matrix','speed','pk','mission impossible']\n",
        "print(films)"
      ]
    },
    {
      "cell_type": "code",
      "source": [
        "actors=['keanu reeves','amir khan','tom cruise']\n",
        "print(actors)"
      ],
      "metadata": {
        "colab": {
          "base_uri": "https://localhost:8080/"
        },
        "id": "oCedEo3Dljwa",
        "outputId": "c33834ee-6263-4159-e0b6-e5b0bdcb5f9c"
      },
      "execution_count": 2,
      "outputs": [
        {
          "output_type": "stream",
          "name": "stdout",
          "text": [
            "['keanu reeves', 'amir khan', 'tom cruise']\n"
          ]
        }
      ]
    },
    {
      "cell_type": "code",
      "source": [
        "films.extend(actors)\n",
        "print(films)"
      ],
      "metadata": {
        "colab": {
          "base_uri": "https://localhost:8080/"
        },
        "id": "SEYLpnI7ly7Z",
        "outputId": "4e385d61-6500-4bc0-8424-c24b32cf914a"
      },
      "execution_count": 3,
      "outputs": [
        {
          "output_type": "stream",
          "name": "stdout",
          "text": [
            "['the matrix', 'speed', 'pk', 'mission impossible', 'keanu reeves', 'amir khan', 'tom cruise']\n"
          ]
        }
      ]
    },
    {
      "cell_type": "code",
      "source": [
        "print(films[3])"
      ],
      "metadata": {
        "colab": {
          "base_uri": "https://localhost:8080/"
        },
        "id": "AdfINslKmHO5",
        "outputId": "dd710e5a-a29d-4b2d-cf28-208dbe34dec3"
      },
      "execution_count": 4,
      "outputs": [
        {
          "output_type": "stream",
          "name": "stdout",
          "text": [
            "mission impossible\n"
          ]
        }
      ]
    },
    {
      "cell_type": "code",
      "source": [
        "print(films[1:5])"
      ],
      "metadata": {
        "colab": {
          "base_uri": "https://localhost:8080/"
        },
        "id": "O5YSi9Hdmjj5",
        "outputId": "01e91add-dbe6-4047-aba9-bc0bcd5bdc1f"
      },
      "execution_count": 5,
      "outputs": [
        {
          "output_type": "stream",
          "name": "stdout",
          "text": [
            "['speed', 'pk', 'mission impossible', 'keanu reeves']\n"
          ]
        }
      ]
    },
    {
      "cell_type": "code",
      "source": [
        "print(films[4:])"
      ],
      "metadata": {
        "colab": {
          "base_uri": "https://localhost:8080/"
        },
        "id": "TBllC4kCnMOT",
        "outputId": "55ab4d94-f636-4f28-b117-c9b6c116a504"
      },
      "execution_count": 6,
      "outputs": [
        {
          "output_type": "stream",
          "name": "stdout",
          "text": [
            "['keanu reeves', 'amir khan', 'tom cruise']\n"
          ]
        }
      ]
    },
    {
      "cell_type": "code",
      "source": [
        "print(films[:4])"
      ],
      "metadata": {
        "colab": {
          "base_uri": "https://localhost:8080/"
        },
        "id": "4zzQh7aZnVII",
        "outputId": "da448b5c-7af4-4d38-a7dd-ea50b8ac857e"
      },
      "execution_count": 7,
      "outputs": [
        {
          "output_type": "stream",
          "name": "stdout",
          "text": [
            "['the matrix', 'speed', 'pk', 'mission impossible']\n"
          ]
        }
      ]
    },
    {
      "cell_type": "code",
      "source": [
        "print(films)"
      ],
      "metadata": {
        "colab": {
          "base_uri": "https://localhost:8080/"
        },
        "id": "3eR34CfSninv",
        "outputId": "228b4904-6f8f-4893-ca15-170a91bacac2"
      },
      "execution_count": 8,
      "outputs": [
        {
          "output_type": "stream",
          "name": "stdout",
          "text": [
            "['the matrix', 'speed', 'pk', 'mission impossible', 'keanu reeves', 'amir khan', 'tom cruise']\n"
          ]
        }
      ]
    },
    {
      "cell_type": "code",
      "source": [
        "print(films[-1])"
      ],
      "metadata": {
        "colab": {
          "base_uri": "https://localhost:8080/"
        },
        "id": "yZnLCtAhnr0Q",
        "outputId": "4a9c5ce5-c1cc-4bf5-b076-36edab19e9d7"
      },
      "execution_count": 9,
      "outputs": [
        {
          "output_type": "stream",
          "name": "stdout",
          "text": [
            "tom cruise\n"
          ]
        }
      ]
    },
    {
      "cell_type": "code",
      "source": [
        "print(films.pop())\n",
        "print(films)"
      ],
      "metadata": {
        "colab": {
          "base_uri": "https://localhost:8080/"
        },
        "id": "OFZSEHAXn45k",
        "outputId": "d5456b36-75e5-4ebd-f54f-69773c7ba2ff"
      },
      "execution_count": 10,
      "outputs": [
        {
          "output_type": "stream",
          "name": "stdout",
          "text": [
            "tom cruise\n",
            "['the matrix', 'speed', 'pk', 'mission impossible', 'keanu reeves', 'amir khan']\n"
          ]
        }
      ]
    },
    {
      "cell_type": "code",
      "source": [
        "print(films[::-1])"
      ],
      "metadata": {
        "colab": {
          "base_uri": "https://localhost:8080/"
        },
        "id": "eL_Dzmw_obrs",
        "outputId": "2bc0e850-8863-45f8-90c9-0ae0ceeeb186"
      },
      "execution_count": 11,
      "outputs": [
        {
          "output_type": "stream",
          "name": "stdout",
          "text": [
            "['amir khan', 'keanu reeves', 'mission impossible', 'pk', 'speed', 'the matrix']\n"
          ]
        }
      ]
    },
    {
      "cell_type": "code",
      "source": [
        "films.clear()\n",
        "print(films)"
      ],
      "metadata": {
        "colab": {
          "base_uri": "https://localhost:8080/"
        },
        "id": "V0-_lUHGomkP",
        "outputId": "5fcac60c-6a5d-4ff8-d95f-f6748cdca77f"
      },
      "execution_count": 12,
      "outputs": [
        {
          "output_type": "stream",
          "name": "stdout",
          "text": [
            "[]\n"
          ]
        }
      ]
    }
  ]
}