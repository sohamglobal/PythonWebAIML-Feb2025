{
  "nbformat": 4,
  "nbformat_minor": 0,
  "metadata": {
    "colab": {
      "provenance": []
    },
    "kernelspec": {
      "name": "python3",
      "display_name": "Python 3"
    },
    "language_info": {
      "name": "python"
    }
  },
  "cells": [
    {
      "cell_type": "code",
      "execution_count": 8,
      "metadata": {
        "id": "sCFZKtk9Hs9n"
      },
      "outputs": [],
      "source": [
        "class User:\n",
        "  def welcome(self):\n",
        "    print('Welcome to OOP in Python')\n",
        "    print('-'*30)\n",
        "  def thanks(self,nm):\n",
        "    print(f'Thanks {nm} for joining sohamglobal')"
      ]
    },
    {
      "cell_type": "code",
      "source": [
        "obj=User()\n",
        "obj.welcome()\n",
        "obj.thanks('jos buttler')"
      ],
      "metadata": {
        "colab": {
          "base_uri": "https://localhost:8080/"
        },
        "id": "6FGRErDEI7Fn",
        "outputId": "54ac9b4d-9884-440a-923e-e7074ad194d4"
      },
      "execution_count": 9,
      "outputs": [
        {
          "output_type": "stream",
          "name": "stdout",
          "text": [
            "Welcome to OOP in Python\n",
            "------------------------------\n",
            "Thanks jos buttler for joining sohamglobal\n"
          ]
        }
      ]
    },
    {
      "cell_type": "code",
      "source": [
        "class Calculator:\n",
        "  def calcsum(self,a,b):\n",
        "    c=a+b\n",
        "    print(f'sum of {a} and {b} is {c}')\n",
        "  def showsquare(self,n):\n",
        "    sq=n**2\n",
        "    print(f'square of {n} is {sq}')"
      ],
      "metadata": {
        "id": "xmU-_kORL7F3"
      },
      "execution_count": 10,
      "outputs": []
    },
    {
      "cell_type": "code",
      "source": [
        "obj=Calculator()\n",
        "obj.showsquare(9)"
      ],
      "metadata": {
        "colab": {
          "base_uri": "https://localhost:8080/"
        },
        "id": "KB58uq1kMWBc",
        "outputId": "8764cb95-c152-433f-84c6-8787bbd99547"
      },
      "execution_count": 11,
      "outputs": [
        {
          "output_type": "stream",
          "name": "stdout",
          "text": [
            "square of 9 is 81\n"
          ]
        }
      ]
    }
  ]
}