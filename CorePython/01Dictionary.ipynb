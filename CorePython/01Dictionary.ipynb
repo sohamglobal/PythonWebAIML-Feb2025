{
  "nbformat": 4,
  "nbformat_minor": 0,
  "metadata": {
    "colab": {
      "provenance": []
    },
    "kernelspec": {
      "name": "python3",
      "display_name": "Python 3"
    },
    "language_info": {
      "name": "python"
    }
  },
  "cells": [
    {
      "cell_type": "code",
      "execution_count": 1,
      "metadata": {
        "colab": {
          "base_uri": "https://localhost:8080/"
        },
        "id": "WzKuy_o74YzZ",
        "outputId": "52ad0a83-0116-42e4-e3b1-a6f595fbba0d"
      },
      "outputs": [
        {
          "output_type": "stream",
          "name": "stdout",
          "text": [
            "{'sohamglobal', 'praffull'}\n",
            "<class 'set'>\n"
          ]
        }
      ],
      "source": [
        "s1={'praffull','sohamglobal'}\n",
        "print(s1)\n",
        "print(type(s1))"
      ]
    },
    {
      "cell_type": "code",
      "source": [
        "dic={\n",
        "    \"custnm\":\"praffull\",\n",
        "    \"product\":\"laptop\",\n",
        "    \"model\":\"latitude 5490\",\n",
        "    \"company\":\"dell\",\n",
        "    \"price\":75000.00\n",
        "}\n",
        "print(dic)\n",
        "print(type(dic))"
      ],
      "metadata": {
        "colab": {
          "base_uri": "https://localhost:8080/"
        },
        "id": "xakm0PE35ERO",
        "outputId": "d40e46f5-c278-4294-99d8-cb3e4d33a604"
      },
      "execution_count": 2,
      "outputs": [
        {
          "output_type": "stream",
          "name": "stdout",
          "text": [
            "{'custnm': 'praffull', 'product': 'laptop', 'model': 'latitude 5490', 'company': 'dell', 'price': 75000.0}\n",
            "<class 'dict'>\n"
          ]
        }
      ]
    },
    {
      "cell_type": "code",
      "source": [
        "dic[\"custnm\"]=\"sharayu\"\n",
        "print(dic)"
      ],
      "metadata": {
        "colab": {
          "base_uri": "https://localhost:8080/"
        },
        "id": "eRKwWFKV5w_t",
        "outputId": "570c7e92-dfe0-48ff-a5bb-def8b098d591"
      },
      "execution_count": 3,
      "outputs": [
        {
          "output_type": "stream",
          "name": "stdout",
          "text": [
            "{'custnm': 'sharayu', 'product': 'laptop', 'model': 'latitude 5490', 'company': 'dell', 'price': 75000.0}\n"
          ]
        }
      ]
    },
    {
      "cell_type": "code",
      "source": [
        "dic[\"mfgyear\"]=2020\n",
        "print(dic)"
      ],
      "metadata": {
        "colab": {
          "base_uri": "https://localhost:8080/"
        },
        "id": "Fn7KJ-O36U-A",
        "outputId": "fe965006-4847-4d28-a581-72ca97231a14"
      },
      "execution_count": 4,
      "outputs": [
        {
          "output_type": "stream",
          "name": "stdout",
          "text": [
            "{'custnm': 'sharayu', 'product': 'laptop', 'model': 'latitude 5490', 'company': 'dell', 'price': 75000.0, 'mfgyear': 2020}\n"
          ]
        }
      ]
    },
    {
      "cell_type": "code",
      "source": [
        "dic['purchfor']=\"sharayu\"\n",
        "print(dic)"
      ],
      "metadata": {
        "colab": {
          "base_uri": "https://localhost:8080/"
        },
        "id": "L4rWjX-Q6zG_",
        "outputId": "8a59fd81-b770-42fc-b7bd-d82d24d7e6db"
      },
      "execution_count": 5,
      "outputs": [
        {
          "output_type": "stream",
          "name": "stdout",
          "text": [
            "{'custnm': 'sharayu', 'product': 'laptop', 'model': 'latitude 5490', 'company': 'dell', 'price': 75000.0, 'mfgyear': 2020, 'purchfor': 'sharayu'}\n"
          ]
        }
      ]
    },
    {
      "cell_type": "code",
      "source": [
        "print(dic[\"model\"])"
      ],
      "metadata": {
        "colab": {
          "base_uri": "https://localhost:8080/"
        },
        "id": "FwDMEf6a7HnD",
        "outputId": "193feb42-c060-4a11-f0f6-8049af9061bc"
      },
      "execution_count": 7,
      "outputs": [
        {
          "output_type": "stream",
          "name": "stdout",
          "text": [
            "latitude 5490\n"
          ]
        }
      ]
    },
    {
      "cell_type": "code",
      "source": [
        "print(dic[\"company\"])"
      ],
      "metadata": {
        "colab": {
          "base_uri": "https://localhost:8080/"
        },
        "id": "RMJqDoej7l7s",
        "outputId": "34ceb63f-62af-43a0-b132-79be9b65b1f9"
      },
      "execution_count": 8,
      "outputs": [
        {
          "output_type": "stream",
          "name": "stdout",
          "text": [
            "dell\n"
          ]
        }
      ]
    }
  ]
}