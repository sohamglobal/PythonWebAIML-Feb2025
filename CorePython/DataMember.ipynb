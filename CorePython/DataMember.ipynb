{
  "nbformat": 4,
  "nbformat_minor": 0,
  "metadata": {
    "colab": {
      "provenance": []
    },
    "kernelspec": {
      "name": "python3",
      "display_name": "Python 3"
    },
    "language_info": {
      "name": "python"
    }
  },
  "cells": [
    {
      "cell_type": "code",
      "execution_count": 8,
      "metadata": {
        "id": "i1a0ZVeiqhzG"
      },
      "outputs": [],
      "source": [
        "class Person:\n",
        "  name=None\n",
        "\n",
        "  def __init__(self):\n",
        "    name='praffull'\n",
        "    self.name=\"sharayu\"\n",
        "    print(name)\n",
        "\n",
        "  def show(self):\n",
        "    print(\"Name is\",self.name)"
      ]
    },
    {
      "cell_type": "code",
      "source": [
        "obj=Person()\n",
        "obj.show()"
      ],
      "metadata": {
        "colab": {
          "base_uri": "https://localhost:8080/"
        },
        "id": "zXFtfv57q0T2",
        "outputId": "fa0f58f9-2054-4490-ed90-b247323d32b1"
      },
      "execution_count": 9,
      "outputs": [
        {
          "output_type": "stream",
          "name": "stdout",
          "text": [
            "Name is sharayu\n"
          ]
        }
      ]
    },
    {
      "cell_type": "code",
      "source": [
        "class User:\n",
        "  userid=None\n",
        "  password=None\n",
        "\n",
        "  def acceptdata(self):\n",
        "    self.userid=input('Enter userid : ')\n",
        "    self.password=input('Enter password : ')\n",
        "\n",
        "  def check(self):\n",
        "    if self.password==\"chelsea\":\n",
        "      print(f'welcome {self.userid} to online shopping')\n",
        "    else:\n",
        "      print('sorry authentication failed')\n"
      ],
      "metadata": {
        "id": "raqlqtsmv1n-"
      },
      "execution_count": 20,
      "outputs": []
    },
    {
      "cell_type": "code",
      "source": [
        "obj=User()\n",
        "obj.acceptdata()\n",
        "obj.check()"
      ],
      "metadata": {
        "colab": {
          "base_uri": "https://localhost:8080/"
        },
        "id": "SDRbp_g5wsOk",
        "outputId": "dac44729-bc6e-4cb9-ce70-b3be20c69040"
      },
      "execution_count": 21,
      "outputs": [
        {
          "output_type": "stream",
          "name": "stdout",
          "text": [
            "Enter userid : praffull\n",
            "Enter password : chelsea\n",
            "welcome praffull to online shopping\n"
          ]
        }
      ]
    }
  ]
}