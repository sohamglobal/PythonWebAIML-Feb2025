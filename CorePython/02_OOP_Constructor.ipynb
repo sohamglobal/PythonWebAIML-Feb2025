{
  "nbformat": 4,
  "nbformat_minor": 0,
  "metadata": {
    "colab": {
      "provenance": []
    },
    "kernelspec": {
      "name": "python3",
      "display_name": "Python 3"
    },
    "language_info": {
      "name": "python"
    }
  },
  "cells": [
    {
      "cell_type": "code",
      "execution_count": 9,
      "metadata": {
        "id": "bPDNOKnuMN6X"
      },
      "outputs": [],
      "source": [
        "class Customer:\n",
        "  #constructor function runs automatically when object is created\n",
        "  def __init__(self):\n",
        "    print('Welcome to Python Shopping Mall')\n",
        "    print('-'*35)\n",
        "  def __init__(self,shopnm):\n",
        "    print(f'Welcome to {shopnm}')\n",
        "    print('-'*35)\n",
        "  def calcbill(self,custnm,amount):\n",
        "    if amount>10000:\n",
        "      discount=amount*13/100\n",
        "    else:\n",
        "      discount=amount*9/100\n",
        "\n",
        "    netbill=amount-discount\n",
        "    print(f'Customer Name   : {custnm}')\n",
        "    print(f'Purchase Amount : {amount}')\n",
        "    print(f'Discount        : {discount}')\n",
        "    print(f'Net Bill        : {netbill}')"
      ]
    },
    {
      "cell_type": "code",
      "source": [
        "#obj=Customer() to call the empty constructor is not allowed\n",
        "obj=Customer('spider projects one')\n",
        "obj.calcbill('steve smith',31200)"
      ],
      "metadata": {
        "colab": {
          "base_uri": "https://localhost:8080/"
        },
        "id": "icii2vJ2OrR8",
        "outputId": "277d0a93-b0a6-4d8b-a253-f3394264a44f"
      },
      "execution_count": 14,
      "outputs": [
        {
          "output_type": "stream",
          "name": "stdout",
          "text": [
            "Welcome to spider projects one\n",
            "-----------------------------------\n",
            "Customer Name   : steve smith\n",
            "Purchase Amount : 31200\n",
            "Discount        : 4056.0\n",
            "Net Bill        : 27144.0\n"
          ]
        }
      ]
    }
  ]
}