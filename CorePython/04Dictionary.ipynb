{
  "nbformat": 4,
  "nbformat_minor": 0,
  "metadata": {
    "colab": {
      "provenance": []
    },
    "kernelspec": {
      "name": "python3",
      "display_name": "Python 3"
    },
    "language_info": {
      "name": "python"
    }
  },
  "cells": [
    {
      "cell_type": "code",
      "execution_count": 1,
      "metadata": {
        "colab": {
          "base_uri": "https://localhost:8080/"
        },
        "id": "ie9PujFVD5yJ",
        "outputId": "7365dd0a-1757-48ae-ee11-a08a9cee73e5"
      },
      "outputs": [
        {
          "output_type": "stream",
          "name": "stdout",
          "text": [
            "<class 'dict'>\n"
          ]
        }
      ],
      "source": [
        "emp={}\n",
        "print(type(emp))"
      ]
    },
    {
      "cell_type": "code",
      "source": [
        "emp[\"number\"]=786\n",
        "emp[\"name\"]=\"praffull\"\n",
        "emp[\"dept\"]=\"development\"\n",
        "emp[\"post\"]=\"java developer\"\n",
        "emp[\"location\"]=\"london\"\n",
        "emp[\"salary\"]=45000.00\n",
        "print(emp)"
      ],
      "metadata": {
        "colab": {
          "base_uri": "https://localhost:8080/"
        },
        "id": "QWH9yS3kELEw",
        "outputId": "ebb8d297-4422-40fc-b7b9-906bcb2c5ac3"
      },
      "execution_count": 2,
      "outputs": [
        {
          "output_type": "stream",
          "name": "stdout",
          "text": [
            "{'number': 786, 'name': 'praffull', 'dept': 'development', 'post': 'java developer', 'location': 'london', 'salary': 45000.0}\n"
          ]
        }
      ]
    },
    {
      "cell_type": "code",
      "source": [
        "print('number of elements - ')\n",
        "print(len(emp))"
      ],
      "metadata": {
        "colab": {
          "base_uri": "https://localhost:8080/"
        },
        "id": "RqVHftzbEv88",
        "outputId": "5af5c6a9-a09b-4494-d311-9cdbc4506b60"
      },
      "execution_count": 3,
      "outputs": [
        {
          "output_type": "stream",
          "name": "stdout",
          "text": [
            "number of elements - \n",
            "6\n"
          ]
        }
      ]
    },
    {
      "cell_type": "code",
      "source": [
        "print('largest element - ')\n",
        "print(max(emp))\n",
        "print(emp[max(emp)])"
      ],
      "metadata": {
        "colab": {
          "base_uri": "https://localhost:8080/"
        },
        "id": "H_3cxlnVFDO3",
        "outputId": "59060b42-0a6b-4da6-966c-298585b16d6a"
      },
      "execution_count": 7,
      "outputs": [
        {
          "output_type": "stream",
          "name": "stdout",
          "text": [
            "largest element - \n",
            "salary\n",
            "45000.0\n"
          ]
        }
      ]
    },
    {
      "cell_type": "code",
      "source": [
        "print('smallest element - ')\n",
        "print(min(emp))"
      ],
      "metadata": {
        "colab": {
          "base_uri": "https://localhost:8080/"
        },
        "id": "8rKqcdGzFQyM",
        "outputId": "951f88f0-1421-4194-fdbf-e3c78a4c2cac"
      },
      "execution_count": 5,
      "outputs": [
        {
          "output_type": "stream",
          "name": "stdout",
          "text": [
            "smallest element - \n",
            "dept\n"
          ]
        }
      ]
    },
    {
      "cell_type": "code",
      "source": [
        "print(emp.keys())"
      ],
      "metadata": {
        "colab": {
          "base_uri": "https://localhost:8080/"
        },
        "id": "Bu9_SQI8Fb1Y",
        "outputId": "4dd7986a-eabc-43eb-a4ed-519dd7753427"
      },
      "execution_count": 6,
      "outputs": [
        {
          "output_type": "stream",
          "name": "stdout",
          "text": [
            "dict_keys(['number', 'name', 'dept', 'post', 'location', 'salary'])\n"
          ]
        }
      ]
    },
    {
      "cell_type": "code",
      "source": [
        "for key in emp.keys():\n",
        "  print(key)"
      ],
      "metadata": {
        "colab": {
          "base_uri": "https://localhost:8080/"
        },
        "id": "b1X9mZE8F1QL",
        "outputId": "3053daa8-9b7b-4b1a-f849-6809cdfd211d"
      },
      "execution_count": 8,
      "outputs": [
        {
          "output_type": "stream",
          "name": "stdout",
          "text": [
            "number\n",
            "name\n",
            "dept\n",
            "post\n",
            "location\n",
            "salary\n"
          ]
        }
      ]
    },
    {
      "cell_type": "code",
      "source": [
        "print(emp.values())"
      ],
      "metadata": {
        "colab": {
          "base_uri": "https://localhost:8080/"
        },
        "id": "19JtRCHlGB00",
        "outputId": "f30ac129-f587-4490-a0fb-01b174f23790"
      },
      "execution_count": 9,
      "outputs": [
        {
          "output_type": "stream",
          "name": "stdout",
          "text": [
            "dict_values([786, 'praffull', 'development', 'java developer', 'london', 45000.0])\n"
          ]
        }
      ]
    },
    {
      "cell_type": "code",
      "source": [
        "for val in emp.values():\n",
        "  print(val)"
      ],
      "metadata": {
        "colab": {
          "base_uri": "https://localhost:8080/"
        },
        "id": "ZXCriZleGHbe",
        "outputId": "af5267cc-7260-4b41-db1f-aef825747b12"
      },
      "execution_count": 10,
      "outputs": [
        {
          "output_type": "stream",
          "name": "stdout",
          "text": [
            "786\n",
            "praffull\n",
            "development\n",
            "java developer\n",
            "london\n",
            "45000.0\n"
          ]
        }
      ]
    },
    {
      "cell_type": "code",
      "source": [
        "print(emp.items())"
      ],
      "metadata": {
        "colab": {
          "base_uri": "https://localhost:8080/"
        },
        "id": "BjEmwQwhGQfb",
        "outputId": "a5bb581e-495e-41db-a503-231bb5db5ef3"
      },
      "execution_count": 11,
      "outputs": [
        {
          "output_type": "stream",
          "name": "stdout",
          "text": [
            "dict_items([('number', 786), ('name', 'praffull'), ('dept', 'development'), ('post', 'java developer'), ('location', 'london'), ('salary', 45000.0)])\n"
          ]
        }
      ]
    },
    {
      "cell_type": "code",
      "source": [
        "for item in emp.items():\n",
        "  print(item)"
      ],
      "metadata": {
        "colab": {
          "base_uri": "https://localhost:8080/"
        },
        "id": "Bu4XdUWXGwV8",
        "outputId": "c207704a-d7e9-4c2d-b24b-e2068332dcea"
      },
      "execution_count": 12,
      "outputs": [
        {
          "output_type": "stream",
          "name": "stdout",
          "text": [
            "('number', 786)\n",
            "('name', 'praffull')\n",
            "('dept', 'development')\n",
            "('post', 'java developer')\n",
            "('location', 'london')\n",
            "('salary', 45000.0)\n"
          ]
        }
      ]
    }
  ]
}