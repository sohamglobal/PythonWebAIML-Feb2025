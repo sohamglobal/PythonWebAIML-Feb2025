{
  "nbformat": 4,
  "nbformat_minor": 0,
  "metadata": {
    "colab": {
      "provenance": []
    },
    "kernelspec": {
      "name": "python3",
      "display_name": "Python 3"
    },
    "language_info": {
      "name": "python"
    }
  },
  "cells": [
    {
      "cell_type": "code",
      "execution_count": 1,
      "metadata": {
        "id": "HHriPFtedges"
      },
      "outputs": [],
      "source": [
        "class One:\n",
        "  def calcsum(self,a,b):\n",
        "    res=a+b\n",
        "    print('sum is',res)"
      ]
    },
    {
      "cell_type": "code",
      "source": [
        "class Two(One):\n",
        "  def calcmulti(self,a,b):\n",
        "    res=a*b\n",
        "    print('multiplication is',res)"
      ],
      "metadata": {
        "id": "m3koRZ4Idoqm"
      },
      "execution_count": 2,
      "outputs": []
    },
    {
      "cell_type": "code",
      "source": [
        "class Three(One):\n",
        "  def showsquare(self,n):\n",
        "    sq=n*n\n",
        "    print('square is',sq)"
      ],
      "metadata": {
        "id": "fI0js4kDdsN7"
      },
      "execution_count": 3,
      "outputs": []
    },
    {
      "cell_type": "code",
      "source": [
        "o1=Two()\n",
        "o1.calcmulti(12,23)\n",
        "o1.calcsum(34,56)\n",
        "#o1.showsquare(78)"
      ],
      "metadata": {
        "colab": {
          "base_uri": "https://localhost:8080/"
        },
        "id": "5jcx813roGb7",
        "outputId": "ce405576-f659-42a7-c428-317d1e735ffd"
      },
      "execution_count": 6,
      "outputs": [
        {
          "output_type": "stream",
          "name": "stdout",
          "text": [
            "multiplication is 276\n",
            "sum is 90\n"
          ]
        }
      ]
    },
    {
      "cell_type": "code",
      "source": [
        "o2=Three()\n",
        "o2.calcsum(77,44)\n",
        "o2.showsquare(99)\n",
        "#o2.calcmulti(33,55)"
      ],
      "metadata": {
        "colab": {
          "base_uri": "https://localhost:8080/"
        },
        "id": "-3F4QvXGo5Q5",
        "outputId": "87942d83-7aa1-4afa-ac01-e28a8e4676f0"
      },
      "execution_count": 9,
      "outputs": [
        {
          "output_type": "stream",
          "name": "stdout",
          "text": [
            "sum is 121\n",
            "square is 9801\n"
          ]
        }
      ]
    }
  ]
}