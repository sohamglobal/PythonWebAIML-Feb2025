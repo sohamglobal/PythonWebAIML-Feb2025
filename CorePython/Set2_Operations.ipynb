{
  "nbformat": 4,
  "nbformat_minor": 0,
  "metadata": {
    "colab": {
      "provenance": []
    },
    "kernelspec": {
      "name": "python3",
      "display_name": "Python 3"
    },
    "language_info": {
      "name": "python"
    }
  },
  "cells": [
    {
      "cell_type": "markdown",
      "source": [
        "**Set Operations - union, intersection, difference and symmetric difference**"
      ],
      "metadata": {
        "id": "zQgCWeF-N3hQ"
      }
    },
    {
      "cell_type": "code",
      "execution_count": 1,
      "metadata": {
        "id": "CM6RAgsTNzVZ"
      },
      "outputs": [],
      "source": [
        "s1={'microsoft','google','volkswagen','bmw','oracle','barclays','vmware','nvidia','apple'}\n",
        "s2={'bentley','apple','toyota','volkswagen','audi','skoda','microsoft','samsung'}"
      ]
    },
    {
      "cell_type": "code",
      "source": [
        "print(s1)\n",
        "print(s2)"
      ],
      "metadata": {
        "colab": {
          "base_uri": "https://localhost:8080/"
        },
        "id": "gSSibKW5PFdT",
        "outputId": "b6687655-f678-4754-a215-7f1c16ee31a5"
      },
      "execution_count": 2,
      "outputs": [
        {
          "output_type": "stream",
          "name": "stdout",
          "text": [
            "{'bmw', 'microsoft', 'vmware', 'apple', 'volkswagen', 'nvidia', 'google', 'barclays', 'oracle'}\n",
            "{'skoda', 'samsung', 'microsoft', 'apple', 'bentley', 'toyota', 'volkswagen', 'audi'}\n"
          ]
        }
      ]
    },
    {
      "cell_type": "markdown",
      "source": [
        "UNION - combine values of both the sets"
      ],
      "metadata": {
        "id": "GvRJRtx5PRDk"
      }
    },
    {
      "cell_type": "code",
      "source": [
        "res=s1.union(s2)\n",
        "print(res)"
      ],
      "metadata": {
        "colab": {
          "base_uri": "https://localhost:8080/"
        },
        "id": "J-IbnA6DPhkG",
        "outputId": "6c7af5c8-38a6-471b-bc61-92d9f4fb1b57"
      },
      "execution_count": 3,
      "outputs": [
        {
          "output_type": "stream",
          "name": "stdout",
          "text": [
            "{'skoda', 'bmw', 'samsung', 'microsoft', 'vmware', 'apple', 'bentley', 'toyota', 'audi', 'volkswagen', 'nvidia', 'google', 'barclays', 'oracle'}\n"
          ]
        }
      ]
    },
    {
      "cell_type": "markdown",
      "source": [
        "INTERSECTION - common values from both the sets"
      ],
      "metadata": {
        "id": "XmTy5vxjQIjC"
      }
    },
    {
      "cell_type": "code",
      "source": [
        "res=s1.intersection(s2)\n",
        "print(res)"
      ],
      "metadata": {
        "colab": {
          "base_uri": "https://localhost:8080/"
        },
        "id": "NNhGPriyQJZo",
        "outputId": "e819a75b-4d25-4b8b-9e79-b30cc8f2deef"
      },
      "execution_count": 4,
      "outputs": [
        {
          "output_type": "stream",
          "name": "stdout",
          "text": [
            "{'microsoft', 'volkswagen', 'apple'}\n"
          ]
        }
      ]
    },
    {
      "cell_type": "markdown",
      "source": [
        "DIFFERENCE - values in first set but not present in second"
      ],
      "metadata": {
        "id": "l2s_umU9Q-2c"
      }
    },
    {
      "cell_type": "code",
      "source": [
        "res=s1.difference(s2)\n",
        "print(res)"
      ],
      "metadata": {
        "colab": {
          "base_uri": "https://localhost:8080/"
        },
        "id": "8_dSyrfyRANd",
        "outputId": "d97179ae-8f97-4633-e2c2-97ded51ff5e1"
      },
      "execution_count": 5,
      "outputs": [
        {
          "output_type": "stream",
          "name": "stdout",
          "text": [
            "{'bmw', 'vmware', 'nvidia', 'google', 'barclays', 'oracle'}\n"
          ]
        }
      ]
    },
    {
      "cell_type": "markdown",
      "source": [
        "SYMMETRIC DIFFERENCE - all values from both sets except the common"
      ],
      "metadata": {
        "id": "IjeRg3GYR_UX"
      }
    },
    {
      "cell_type": "code",
      "source": [
        "res=s1.symmetric_difference(s2)\n",
        "print(res)"
      ],
      "metadata": {
        "colab": {
          "base_uri": "https://localhost:8080/"
        },
        "id": "rFEFbHKESXEP",
        "outputId": "0311e6e5-116d-4077-f6b7-1d5afcb87dfd"
      },
      "execution_count": 6,
      "outputs": [
        {
          "output_type": "stream",
          "name": "stdout",
          "text": [
            "{'skoda', 'oracle', 'samsung', 'bmw', 'vmware', 'bentley', 'toyota', 'nvidia', 'google', 'barclays', 'audi'}\n"
          ]
        }
      ]
    },
    {
      "cell_type": "markdown",
      "source": [
        "**Set Operations on List/Tuples**"
      ],
      "metadata": {
        "id": "4giRRtg7TU4N"
      }
    },
    {
      "cell_type": "code",
      "source": [
        "cricket=['england','india','pakistan','australia','netherlands','south africa']\n",
        "football=['spain','germany','england','brazil','italy','netherlands','argentina']"
      ],
      "metadata": {
        "id": "BLG02nqBTzcT"
      },
      "execution_count": 7,
      "outputs": []
    },
    {
      "cell_type": "code",
      "source": [
        "#countries which play cricket and football both\n",
        "res=list(set(cricket).intersection(football))\n",
        "print(res)"
      ],
      "metadata": {
        "colab": {
          "base_uri": "https://localhost:8080/"
        },
        "id": "GIfhU1-vUyr_",
        "outputId": "fff082de-c9f3-498c-e2a3-7c6ee7de4d34"
      },
      "execution_count": 10,
      "outputs": [
        {
          "output_type": "stream",
          "name": "stdout",
          "text": [
            "['netherlands', 'england']\n"
          ]
        }
      ]
    },
    {
      "cell_type": "code",
      "source": [
        "#countries which play only cricket\n",
        "res=set(cricket).difference(football)\n",
        "print(res)"
      ],
      "metadata": {
        "colab": {
          "base_uri": "https://localhost:8080/"
        },
        "id": "uNA8zaePVhTo",
        "outputId": "e3d7b8ba-7597-4fc1-e1b8-94d72d77850d"
      },
      "execution_count": 11,
      "outputs": [
        {
          "output_type": "stream",
          "name": "stdout",
          "text": [
            "{'india', 'south africa', 'australia', 'pakistan'}\n"
          ]
        }
      ]
    },
    {
      "cell_type": "code",
      "source": [
        "#pure football playing countries\n",
        "res=set(football).difference(cricket)\n",
        "print(res)"
      ],
      "metadata": {
        "colab": {
          "base_uri": "https://localhost:8080/"
        },
        "id": "lNKJ7JULWqvV",
        "outputId": "cef753b7-f75f-44bd-848b-10e2171e9eb2"
      },
      "execution_count": 12,
      "outputs": [
        {
          "output_type": "stream",
          "name": "stdout",
          "text": [
            "{'brazil', 'argentina', 'italy', 'spain', 'germany'}\n"
          ]
        }
      ]
    },
    {
      "cell_type": "code",
      "source": [
        "res=list(set(cricket).symmetric_difference(football))\n",
        "print(res)"
      ],
      "metadata": {
        "colab": {
          "base_uri": "https://localhost:8080/"
        },
        "id": "YByoOvd5XEoX",
        "outputId": "44b0daeb-7102-412f-d530-96e9e61744a6"
      },
      "execution_count": 14,
      "outputs": [
        {
          "output_type": "stream",
          "name": "stdout",
          "text": [
            "['india', 'italy', 'south africa', 'australia', 'spain', 'argentina', 'pakistan', 'brazil', 'germany']\n"
          ]
        }
      ]
    },
    {
      "cell_type": "markdown",
      "source": [
        "**SubSet and SuperSet**"
      ],
      "metadata": {
        "id": "y-rv8Ek5XoRQ"
      }
    },
    {
      "cell_type": "code",
      "source": [
        "x={1,2,3}\n",
        "y={1,2,3,4,5}"
      ],
      "metadata": {
        "id": "6XH-x9bCXsGP"
      },
      "execution_count": 15,
      "outputs": []
    },
    {
      "cell_type": "code",
      "source": [
        "print(x)\n",
        "print(y)"
      ],
      "metadata": {
        "colab": {
          "base_uri": "https://localhost:8080/"
        },
        "id": "vrUqmaeDX0VP",
        "outputId": "45b71325-dc64-4e04-d873-d774c1c98669"
      },
      "execution_count": 16,
      "outputs": [
        {
          "output_type": "stream",
          "name": "stdout",
          "text": [
            "{1, 2, 3}\n",
            "{1, 2, 3, 4, 5}\n"
          ]
        }
      ]
    },
    {
      "cell_type": "code",
      "source": [
        "print(x.issubset(y))"
      ],
      "metadata": {
        "colab": {
          "base_uri": "https://localhost:8080/"
        },
        "id": "d6tLIrD1YAlJ",
        "outputId": "63535180-29be-47de-d71d-0a8fdfdb9a7c"
      },
      "execution_count": 17,
      "outputs": [
        {
          "output_type": "stream",
          "name": "stdout",
          "text": [
            "True\n"
          ]
        }
      ]
    },
    {
      "cell_type": "code",
      "source": [
        "print(y.issubset(x))"
      ],
      "metadata": {
        "colab": {
          "base_uri": "https://localhost:8080/"
        },
        "id": "a8cLTaf7YGo-",
        "outputId": "1dc461ff-fbbf-4169-c485-428800eb0c49"
      },
      "execution_count": 18,
      "outputs": [
        {
          "output_type": "stream",
          "name": "stdout",
          "text": [
            "False\n"
          ]
        }
      ]
    },
    {
      "cell_type": "code",
      "source": [
        "print(y.issuperset(x))"
      ],
      "metadata": {
        "colab": {
          "base_uri": "https://localhost:8080/"
        },
        "id": "gLvSyuKrYOPw",
        "outputId": "31a60c83-9a91-4663-d03c-4819fb26b3a3"
      },
      "execution_count": 19,
      "outputs": [
        {
          "output_type": "stream",
          "name": "stdout",
          "text": [
            "True\n"
          ]
        }
      ]
    },
    {
      "cell_type": "code",
      "source": [
        "p={1,2,3}\n",
        "q={4,3,6}"
      ],
      "metadata": {
        "id": "PzrMKEiZYeuq"
      },
      "execution_count": 22,
      "outputs": []
    },
    {
      "cell_type": "code",
      "source": [
        "print(p.isdisjoint(q))"
      ],
      "metadata": {
        "colab": {
          "base_uri": "https://localhost:8080/"
        },
        "id": "-bgFAWBLYmTF",
        "outputId": "1c91a705-052b-4bba-e0d1-68a14dcf99a1"
      },
      "execution_count": 23,
      "outputs": [
        {
          "output_type": "stream",
          "name": "stdout",
          "text": [
            "False\n"
          ]
        }
      ]
    }
  ]
}