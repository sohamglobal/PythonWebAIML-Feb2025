{
  "nbformat": 4,
  "nbformat_minor": 0,
  "metadata": {
    "colab": {
      "provenance": []
    },
    "kernelspec": {
      "name": "python3",
      "display_name": "Python 3"
    },
    "language_info": {
      "name": "python"
    }
  },
  "cells": [
    {
      "cell_type": "code",
      "execution_count": 1,
      "metadata": {
        "id": "pMCuDfbY0FZW"
      },
      "outputs": [],
      "source": [
        "import pandas"
      ]
    },
    {
      "cell_type": "code",
      "source": [
        "url=\"http://sohamspring.azurewebsites.net/api/customers/all\"\n",
        "df=pandas.read_json(url)\n",
        "print(df)"
      ],
      "metadata": {
        "colab": {
          "base_uri": "https://localhost:8080/"
        },
        "id": "oe9jFnSG0Riq",
        "outputId": "badcc47d-cd67-4ab0-f3c3-97d933bc8bd9"
      },
      "execution_count": 3,
      "outputs": [
        {
          "output_type": "stream",
          "name": "stdout",
          "text": [
            "    custno                 custnm         city prodid      paymode\n",
            "0        1               Joe Root       london  sk181   netbanking\n",
            "1        2           Boris Becker       berlin  ho162         cash\n",
            "2        3     Michael Schumacher       berlin  bm201  credit card\n",
            "3        4  Arnold Schwarzenegger   los angles  to191  credit card\n",
            "4        5            Jos Buttler   manchester  vw173  credit card\n",
            "5        6       Rebecca Ferguson     new york  bm185   netbanking\n",
            "6        7            Steffi Graf    stuttgart  vw171   debit card\n",
            "7        8           Keanu Reeves        tokyo  to191  credit card\n",
            "8        9       Sabastian Vettel   heppenheim  sk183  credit card\n",
            "9       10             Tom Cruise      chicago  bm201         cash\n",
            "10      11          Roger Federer    amsterdam  ho161  credit card\n",
            "11      12            Emily Blunt       london  vw172  credit card\n",
            "12      13         Shah Rukh Khan    new delhi  tt153   debit card\n",
            "13      14             A R Rahman      chennai  hd142         cash\n",
            "14      15                   Tabu    hyderabad  vw173   debit card\n",
            "15      16           Shabana Azmi       mumbai  ss210   debit card\n",
            "16      17                  Rekha      chennai  hd141         cash\n",
            "17      18       Amitabh Bachchan    allahabad  cs682         cash\n",
            "18      19             Imran Khan       lahore  to191   netbanking\n",
            "19      20           Dipika Singh       mumbai  to193   netbanking\n",
            "20      21              Alia Bhat      lucknow  hd142         cash\n",
            "21      22        Serena Williams     new york  ss210   netbanking\n",
            "22      23         Max Verstappen       berlin  rb739         cash\n",
            "23      24        Charles Leclerc  monte carlo  fr133   debit card\n",
            "24      25     Sylvester Stallone      Kolkata  ms134         cash\n",
            "25      26          Anne Hathaway         Agra  ms131   netbanking\n",
            "26      27         Genelia DSouza        Latur  bm202         cash\n"
          ]
        }
      ]
    },
    {
      "cell_type": "code",
      "source": [
        "#retrieve data of single column from the data frame\n",
        "print(df['custnm'])"
      ],
      "metadata": {
        "colab": {
          "base_uri": "https://localhost:8080/"
        },
        "id": "8ugopMJ20WGr",
        "outputId": "907b1a08-83d2-4574-9821-969281de7065"
      },
      "execution_count": 5,
      "outputs": [
        {
          "output_type": "stream",
          "name": "stdout",
          "text": [
            "0                  Joe Root\n",
            "1              Boris Becker\n",
            "2        Michael Schumacher\n",
            "3     Arnold Schwarzenegger\n",
            "4               Jos Buttler\n",
            "5          Rebecca Ferguson\n",
            "6               Steffi Graf\n",
            "7              Keanu Reeves\n",
            "8          Sabastian Vettel\n",
            "9                Tom Cruise\n",
            "10            Roger Federer\n",
            "11              Emily Blunt\n",
            "12           Shah Rukh Khan\n",
            "13               A R Rahman\n",
            "14                     Tabu\n",
            "15             Shabana Azmi\n",
            "16                    Rekha\n",
            "17         Amitabh Bachchan\n",
            "18               Imran Khan\n",
            "19             Dipika Singh\n",
            "20                Alia Bhat\n",
            "21          Serena Williams\n",
            "22           Max Verstappen\n",
            "23          Charles Leclerc\n",
            "24       Sylvester Stallone\n",
            "25            Anne Hathaway\n",
            "26           Genelia DSouza\n",
            "Name: custnm, dtype: object\n"
          ]
        }
      ]
    },
    {
      "cell_type": "code",
      "source": [
        "print(df[['custnm','city']])"
      ],
      "metadata": {
        "colab": {
          "base_uri": "https://localhost:8080/"
        },
        "id": "3QjNn7z60ypX",
        "outputId": "b216ea05-d27b-4403-d4bb-00c1272718f7"
      },
      "execution_count": 6,
      "outputs": [
        {
          "output_type": "stream",
          "name": "stdout",
          "text": [
            "                   custnm         city\n",
            "0                Joe Root       london\n",
            "1            Boris Becker       berlin\n",
            "2      Michael Schumacher       berlin\n",
            "3   Arnold Schwarzenegger   los angles\n",
            "4             Jos Buttler   manchester\n",
            "5        Rebecca Ferguson     new york\n",
            "6             Steffi Graf    stuttgart\n",
            "7            Keanu Reeves        tokyo\n",
            "8        Sabastian Vettel   heppenheim\n",
            "9              Tom Cruise      chicago\n",
            "10          Roger Federer    amsterdam\n",
            "11            Emily Blunt       london\n",
            "12         Shah Rukh Khan    new delhi\n",
            "13             A R Rahman      chennai\n",
            "14                   Tabu    hyderabad\n",
            "15           Shabana Azmi       mumbai\n",
            "16                  Rekha      chennai\n",
            "17       Amitabh Bachchan    allahabad\n",
            "18             Imran Khan       lahore\n",
            "19           Dipika Singh       mumbai\n",
            "20              Alia Bhat      lucknow\n",
            "21        Serena Williams     new york\n",
            "22         Max Verstappen       berlin\n",
            "23        Charles Leclerc  monte carlo\n",
            "24     Sylvester Stallone      Kolkata\n",
            "25          Anne Hathaway         Agra\n",
            "26         Genelia DSouza        Latur\n"
          ]
        }
      ]
    },
    {
      "cell_type": "code",
      "source": [
        "print(df.loc[3])"
      ],
      "metadata": {
        "colab": {
          "base_uri": "https://localhost:8080/"
        },
        "id": "OWkfoUoi1Af8",
        "outputId": "c3fe31f3-571a-4d2a-c017-67ffe76c8ca0"
      },
      "execution_count": 7,
      "outputs": [
        {
          "output_type": "stream",
          "name": "stdout",
          "text": [
            "custno                         4\n",
            "custnm     Arnold Schwarzenegger\n",
            "city                  los angles\n",
            "prodid                     to191\n",
            "paymode              credit card\n",
            "Name: 3, dtype: object\n"
          ]
        }
      ]
    },
    {
      "cell_type": "code",
      "source": [
        "print(df.loc[2:5])"
      ],
      "metadata": {
        "colab": {
          "base_uri": "https://localhost:8080/"
        },
        "id": "5j6_KGfo1LKI",
        "outputId": "d5b8a5f0-d994-425f-c545-41022863f525"
      },
      "execution_count": 8,
      "outputs": [
        {
          "output_type": "stream",
          "name": "stdout",
          "text": [
            "   custno                 custnm        city prodid      paymode\n",
            "2       3     Michael Schumacher      berlin  bm201  credit card\n",
            "3       4  Arnold Schwarzenegger  los angles  to191  credit card\n",
            "4       5            Jos Buttler  manchester  vw173  credit card\n",
            "5       6       Rebecca Ferguson    new york  bm185   netbanking\n"
          ]
        }
      ]
    },
    {
      "cell_type": "code",
      "source": [
        "print(df.loc[9,'custnm'])"
      ],
      "metadata": {
        "colab": {
          "base_uri": "https://localhost:8080/"
        },
        "id": "K49FFIWH1aHn",
        "outputId": "476dfcac-26da-45be-9d50-924464110e90"
      },
      "execution_count": 9,
      "outputs": [
        {
          "output_type": "stream",
          "name": "stdout",
          "text": [
            "Tom Cruise\n"
          ]
        }
      ]
    },
    {
      "cell_type": "code",
      "source": [
        "print(df.loc[13,['custnm','city']])"
      ],
      "metadata": {
        "colab": {
          "base_uri": "https://localhost:8080/"
        },
        "id": "RfA_7uXC1nHc",
        "outputId": "4406bf53-d3bb-416e-f1f6-20124daca94d"
      },
      "execution_count": 10,
      "outputs": [
        {
          "output_type": "stream",
          "name": "stdout",
          "text": [
            "custnm    A R Rahman\n",
            "city         chennai\n",
            "Name: 13, dtype: object\n"
          ]
        }
      ]
    },
    {
      "cell_type": "code",
      "source": [
        "print(df.loc[6:11,'custnm'])"
      ],
      "metadata": {
        "colab": {
          "base_uri": "https://localhost:8080/"
        },
        "id": "zW76UP8Z1w16",
        "outputId": "4f4fb447-e8f7-41b4-9821-c688cf6db6a8"
      },
      "execution_count": 11,
      "outputs": [
        {
          "output_type": "stream",
          "name": "stdout",
          "text": [
            "6          Steffi Graf\n",
            "7         Keanu Reeves\n",
            "8     Sabastian Vettel\n",
            "9           Tom Cruise\n",
            "10       Roger Federer\n",
            "11         Emily Blunt\n",
            "Name: custnm, dtype: object\n"
          ]
        }
      ]
    }
  ]
}