{
  "nbformat": 4,
  "nbformat_minor": 0,
  "metadata": {
    "colab": {
      "provenance": []
    },
    "kernelspec": {
      "name": "python3",
      "display_name": "Python 3"
    },
    "language_info": {
      "name": "python"
    }
  },
  "cells": [
    {
      "cell_type": "code",
      "execution_count": 1,
      "metadata": {
        "id": "iDWqlT1c3erH"
      },
      "outputs": [],
      "source": [
        "import pandas"
      ]
    },
    {
      "cell_type": "code",
      "source": [
        "url=\"http://sohamspring.azurewebsites.net/api/accounts/all\""
      ],
      "metadata": {
        "id": "GK5aew713_3c"
      },
      "execution_count": 2,
      "outputs": []
    },
    {
      "cell_type": "code",
      "source": [
        "df=pandas.read_json(url)\n",
        "print(df)"
      ],
      "metadata": {
        "colab": {
          "base_uri": "https://localhost:8080/"
        },
        "id": "vZg82Ic14CqQ",
        "outputId": "389cef22-d5ec-45c9-ac2a-32df29ec7746"
      },
      "execution_count": 3,
      "outputs": [
        {
          "output_type": "stream",
          "name": "stdout",
          "text": [
            "    accno                    accnm  acctype  balance\n",
            "0    1001         sachin tendulkar   saving    45000\n",
            "1    1002          maria sharapova    fixed    23100\n",
            "2    1003         mitchell johnson  current    15300\n",
            "3    1004              edan hazard   saving    41300\n",
            "4    1005       robert lewandowski   saving    21600\n",
            "5    1006            gabriel jesus    fixed    37100\n",
            "6    1008            marcos alonso   saving    33900\n",
            "7    1009               david luiz  current    28400\n",
            "8    1010              steve smith    fixed    61150\n",
            "9    1012              zaheer khan   saving    22570\n",
            "10   1013         antoine griezman    fixed    37640\n",
            "11   1014           nasser hussain   saving    53760\n",
            "12   1015               paul pogba   saving    67370\n",
            "13   1016             garry cahill  current    39550\n",
            "14   1017         thibaut courtois    fixed    97550\n",
            "15   1018        cesar azpilicueta  current    82716\n",
            "16   1019            cesc fabregas  current    82716\n",
            "17   1020              ngolo kante    fixed    55871\n",
            "18   1021           james anderson  current    63228\n",
            "19   1022               ollie pope   saving    75961\n",
            "20   1023                 moin ali  current    26551\n",
            "21   1024               sam curran      ppf    63558\n",
            "22   1025      andreas christensen   saving    68523\n",
            "23   1026            alvaro morata   saving    96995\n",
            "24   1027         liam livingstone  current    49668\n",
            "25   1028                mark wood    fixed    75442\n",
            "26   1029            mohamed salah   saving    83229\n",
            "27   1030               sadio mane      ppf    45889\n",
            "28   1031          roberto firmino    fixed    96321\n",
            "29   1032  alex oxlade chamberlain  current    58449\n",
            "30   1033      alexandre lacazette   saving    36227\n",
            "31   1034          raheem sterling    fixed    62994\n",
            "32   1035               harry kane  current    78751\n",
            "33   1036                dele alli    fixed    96637\n",
            "34   1037              hugo lloris   saving    84552\n",
            "35   1038               bill gates  current    93119\n",
            "36   1039                amir khan   saving    66554\n",
            "37   1040              adil rashid      ppf    39870\n",
            "38   1041             chris jordan   saving    55400\n",
            "39   1042                jason roy   saving    29750\n",
            "40   1043             chris woakes      ppf    50000\n",
            "41   1044               alex hales   saving    38540\n",
            "42   1045              dawid malan   saving    62100\n",
            "43   1046               ben stokes   saving    57500\n",
            "44   1047                 joe root      ppf   125000\n",
            "45   1048                 isa guha   saving    72300\n",
            "46   1049             ravi shastri   saving    55040\n",
            "47   1050            harsha bhogle   saving    87980\n",
            "48   1051             irfan pathan      ppf    75000\n",
            "49   1052              patric jane      ppf    87500\n",
            "50   1053           manmohan singh    fixed   300000\n"
          ]
        }
      ]
    },
    {
      "cell_type": "code",
      "source": [
        "print(df[df['acctype']=='fixed'])"
      ],
      "metadata": {
        "colab": {
          "base_uri": "https://localhost:8080/"
        },
        "id": "_HsO-v-24qXk",
        "outputId": "e1bc463f-1564-4c0b-d6a9-2b3bc6c789d1"
      },
      "execution_count": 7,
      "outputs": [
        {
          "output_type": "stream",
          "name": "stdout",
          "text": [
            "    accno             accnm acctype  balance\n",
            "1    1002   maria sharapova   fixed    23100\n",
            "5    1006     gabriel jesus   fixed    37100\n",
            "8    1010       steve smith   fixed    61150\n",
            "10   1013  antoine griezman   fixed    37640\n",
            "14   1017  thibaut courtois   fixed    97550\n",
            "17   1020       ngolo kante   fixed    55871\n",
            "25   1028         mark wood   fixed    75442\n",
            "28   1031   roberto firmino   fixed    96321\n",
            "31   1034   raheem sterling   fixed    62994\n",
            "33   1036         dele alli   fixed    96637\n",
            "50   1053    manmohan singh   fixed   300000\n"
          ]
        }
      ]
    },
    {
      "cell_type": "code",
      "source": [
        "print(df[df['acctype']=='ppf'])"
      ],
      "metadata": {
        "colab": {
          "base_uri": "https://localhost:8080/"
        },
        "id": "1FEoW3L35UEo",
        "outputId": "f956ddf7-553f-4d53-def1-bae268e7d50c"
      },
      "execution_count": 8,
      "outputs": [
        {
          "output_type": "stream",
          "name": "stdout",
          "text": [
            "    accno         accnm acctype  balance\n",
            "21   1024    sam curran     ppf    63558\n",
            "27   1030    sadio mane     ppf    45889\n",
            "37   1040   adil rashid     ppf    39870\n",
            "40   1043  chris woakes     ppf    50000\n",
            "44   1047      joe root     ppf   125000\n",
            "48   1051  irfan pathan     ppf    75000\n",
            "49   1052   patric jane     ppf    87500\n"
          ]
        }
      ]
    },
    {
      "cell_type": "code",
      "source": [
        "print(df[df['acctype']!='saving'])"
      ],
      "metadata": {
        "colab": {
          "base_uri": "https://localhost:8080/"
        },
        "id": "fVksOU6o5dlG",
        "outputId": "acd611fb-bd88-49bd-e84a-913cb37eec8e"
      },
      "execution_count": 9,
      "outputs": [
        {
          "output_type": "stream",
          "name": "stdout",
          "text": [
            "    accno                    accnm  acctype  balance\n",
            "1    1002          maria sharapova    fixed    23100\n",
            "2    1003         mitchell johnson  current    15300\n",
            "5    1006            gabriel jesus    fixed    37100\n",
            "7    1009               david luiz  current    28400\n",
            "8    1010              steve smith    fixed    61150\n",
            "10   1013         antoine griezman    fixed    37640\n",
            "13   1016             garry cahill  current    39550\n",
            "14   1017         thibaut courtois    fixed    97550\n",
            "15   1018        cesar azpilicueta  current    82716\n",
            "16   1019            cesc fabregas  current    82716\n",
            "17   1020              ngolo kante    fixed    55871\n",
            "18   1021           james anderson  current    63228\n",
            "20   1023                 moin ali  current    26551\n",
            "21   1024               sam curran      ppf    63558\n",
            "24   1027         liam livingstone  current    49668\n",
            "25   1028                mark wood    fixed    75442\n",
            "27   1030               sadio mane      ppf    45889\n",
            "28   1031          roberto firmino    fixed    96321\n",
            "29   1032  alex oxlade chamberlain  current    58449\n",
            "31   1034          raheem sterling    fixed    62994\n",
            "32   1035               harry kane  current    78751\n",
            "33   1036                dele alli    fixed    96637\n",
            "35   1038               bill gates  current    93119\n",
            "37   1040              adil rashid      ppf    39870\n",
            "40   1043             chris woakes      ppf    50000\n",
            "44   1047                 joe root      ppf   125000\n",
            "48   1051             irfan pathan      ppf    75000\n",
            "49   1052              patric jane      ppf    87500\n",
            "50   1053           manmohan singh    fixed   300000\n"
          ]
        }
      ]
    },
    {
      "cell_type": "code",
      "source": [
        "print(df[df['balance']<=30000])"
      ],
      "metadata": {
        "colab": {
          "base_uri": "https://localhost:8080/"
        },
        "id": "H1qEYZQh5vXd",
        "outputId": "5a19e210-46b0-4981-df03-5b132763d426"
      },
      "execution_count": 10,
      "outputs": [
        {
          "output_type": "stream",
          "name": "stdout",
          "text": [
            "    accno               accnm  acctype  balance\n",
            "1    1002     maria sharapova    fixed    23100\n",
            "2    1003    mitchell johnson  current    15300\n",
            "4    1005  robert lewandowski   saving    21600\n",
            "7    1009          david luiz  current    28400\n",
            "9    1012         zaheer khan   saving    22570\n",
            "20   1023            moin ali  current    26551\n",
            "39   1042           jason roy   saving    29750\n"
          ]
        }
      ]
    },
    {
      "cell_type": "code",
      "source": [
        "print(df[(df['acctype']=='saving') & (df['balance']>75000)])"
      ],
      "metadata": {
        "colab": {
          "base_uri": "https://localhost:8080/"
        },
        "id": "OhOMNDn-6Aa6",
        "outputId": "aa0c6ec2-e009-4980-9942-040b5e9e31e1"
      },
      "execution_count": 11,
      "outputs": [
        {
          "output_type": "stream",
          "name": "stdout",
          "text": [
            "    accno          accnm acctype  balance\n",
            "19   1022     ollie pope  saving    75961\n",
            "23   1026  alvaro morata  saving    96995\n",
            "26   1029  mohamed salah  saving    83229\n",
            "34   1037    hugo lloris  saving    84552\n",
            "47   1050  harsha bhogle  saving    87980\n"
          ]
        }
      ]
    },
    {
      "cell_type": "code",
      "source": [
        "print(df[(df['acctype']=='ppf') | (df['balance']<30000)])"
      ],
      "metadata": {
        "colab": {
          "base_uri": "https://localhost:8080/"
        },
        "id": "Br24D8nj6dwO",
        "outputId": "97aaa420-84dd-4100-bd36-9b4e66c03a91"
      },
      "execution_count": 13,
      "outputs": [
        {
          "output_type": "stream",
          "name": "stdout",
          "text": [
            "    accno               accnm  acctype  balance\n",
            "1    1002     maria sharapova    fixed    23100\n",
            "2    1003    mitchell johnson  current    15300\n",
            "4    1005  robert lewandowski   saving    21600\n",
            "7    1009          david luiz  current    28400\n",
            "9    1012         zaheer khan   saving    22570\n",
            "20   1023            moin ali  current    26551\n",
            "21   1024          sam curran      ppf    63558\n",
            "27   1030          sadio mane      ppf    45889\n",
            "37   1040         adil rashid      ppf    39870\n",
            "39   1042           jason roy   saving    29750\n",
            "40   1043        chris woakes      ppf    50000\n",
            "44   1047            joe root      ppf   125000\n",
            "48   1051        irfan pathan      ppf    75000\n",
            "49   1052         patric jane      ppf    87500\n"
          ]
        }
      ]
    },
    {
      "cell_type": "code",
      "source": [
        "print(df[df['accno'].isin([1010,1029,1039,1043,1045])])"
      ],
      "metadata": {
        "colab": {
          "base_uri": "https://localhost:8080/"
        },
        "id": "Sw1tInQ87HVF",
        "outputId": "dea29592-f112-492f-9024-10cd3c683fb4"
      },
      "execution_count": 15,
      "outputs": [
        {
          "output_type": "stream",
          "name": "stdout",
          "text": [
            "    accno          accnm acctype  balance\n",
            "8    1010    steve smith   fixed    61150\n",
            "26   1029  mohamed salah  saving    83229\n",
            "36   1039      amir khan  saving    66554\n",
            "40   1043   chris woakes     ppf    50000\n",
            "42   1045    dawid malan  saving    62100\n"
          ]
        }
      ]
    }
  ]
}