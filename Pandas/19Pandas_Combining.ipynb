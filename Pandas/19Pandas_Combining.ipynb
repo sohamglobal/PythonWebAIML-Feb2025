{
  "nbformat": 4,
  "nbformat_minor": 0,
  "metadata": {
    "colab": {
      "provenance": []
    },
    "kernelspec": {
      "name": "python3",
      "display_name": "Python 3"
    },
    "language_info": {
      "name": "python"
    }
  },
  "cells": [
    {
      "cell_type": "code",
      "execution_count": 1,
      "metadata": {
        "id": "IyKMlMuMHcCC"
      },
      "outputs": [],
      "source": [
        "import pandas"
      ]
    },
    {
      "cell_type": "code",
      "source": [
        "url=\"https://raw.githubusercontent.com/sohamglobal/datasets/refs/heads/main/Flipkart_Mobiles.csv\"\n",
        "df=pandas.read_csv(url)\n",
        "print(df)"
      ],
      "metadata": {
        "colab": {
          "base_uri": "https://localhost:8080/"
        },
        "id": "p68LCZRbH9rA",
        "outputId": "a6d03494-a4ec-43af-9ce5-891ddfadebbb"
      },
      "execution_count": 3,
      "outputs": [
        {
          "output_type": "stream",
          "name": "stdout",
          "text": [
            "        Brand   Model            Color Memory Storage  Rating  Selling Price  \\\n",
            "0        OPPO     A53  Moonlight Black   4 GB   64 GB     4.5          11990   \n",
            "1        OPPO     A53       Mint Cream   4 GB   64 GB     4.5          11990   \n",
            "2        OPPO     A53  Moonlight Black   6 GB  128 GB     4.3          13990   \n",
            "3        OPPO     A53       Mint Cream   6 GB  128 GB     4.3          13990   \n",
            "4        OPPO     A53   Electric Black   4 GB   64 GB     4.5          11990   \n",
            "...       ...     ...              ...    ...     ...     ...            ...   \n",
            "3109  SAMSUNG  M52 5G    Blazing Black   6 GB  128 GB     4.3          25990   \n",
            "3110  SAMSUNG  M52 5G         Icy Blue   6 GB  128 GB     4.3          25489   \n",
            "3111  SAMSUNG  M52 5G         Icy Blue   8 GB  128 GB     4.3          27239   \n",
            "3112  SAMSUNG  M52 5G      Slate Black   8 GB  128 GB     4.2          22989   \n",
            "3113  SAMSUNG  M52 5G         Sky Blue   8 GB  128 GB     4.2          20350   \n",
            "\n",
            "      Original Price  \n",
            "0              15990  \n",
            "1              15990  \n",
            "2              17990  \n",
            "3              17990  \n",
            "4              15990  \n",
            "...              ...  \n",
            "3109           25990  \n",
            "3110           28449  \n",
            "3111           31489  \n",
            "3112           22989  \n",
            "3113           22595  \n",
            "\n",
            "[3114 rows x 8 columns]\n"
          ]
        }
      ]
    },
    {
      "cell_type": "code",
      "source": [
        "print(df.head(3))"
      ],
      "metadata": {
        "colab": {
          "base_uri": "https://localhost:8080/"
        },
        "id": "JickgnAPIVxA",
        "outputId": "c0f883bf-d6a1-476c-a15a-d2dd99ebb85f"
      },
      "execution_count": 4,
      "outputs": [
        {
          "output_type": "stream",
          "name": "stdout",
          "text": [
            "  Brand Model            Color Memory Storage  Rating  Selling Price  \\\n",
            "0  OPPO   A53  Moonlight Black   4 GB   64 GB     4.5          11990   \n",
            "1  OPPO   A53       Mint Cream   4 GB   64 GB     4.5          11990   \n",
            "2  OPPO   A53  Moonlight Black   6 GB  128 GB     4.3          13990   \n",
            "\n",
            "   Original Price  \n",
            "0           15990  \n",
            "1           15990  \n",
            "2           17990  \n"
          ]
        }
      ]
    },
    {
      "cell_type": "code",
      "source": [
        "print(df.tail(2))"
      ],
      "metadata": {
        "colab": {
          "base_uri": "https://localhost:8080/"
        },
        "id": "8EabRbUdIhqB",
        "outputId": "10903de6-2dde-4c92-a28c-60d87ce68bbf"
      },
      "execution_count": 5,
      "outputs": [
        {
          "output_type": "stream",
          "name": "stdout",
          "text": [
            "        Brand   Model        Color Memory Storage  Rating  Selling Price  \\\n",
            "3112  SAMSUNG  M52 5G  Slate Black   8 GB  128 GB     4.2          22989   \n",
            "3113  SAMSUNG  M52 5G     Sky Blue   8 GB  128 GB     4.2          20350   \n",
            "\n",
            "      Original Price  \n",
            "3112           22989  \n",
            "3113           22595  \n"
          ]
        }
      ]
    },
    {
      "cell_type": "code",
      "source": [
        "res=pandas.concat([df.head(3),df.tail(2)])\n",
        "print(res)"
      ],
      "metadata": {
        "colab": {
          "base_uri": "https://localhost:8080/"
        },
        "id": "IpA3FxpvIsNP",
        "outputId": "afa49e24-45d0-49b3-9814-ca9daa1dbcd5"
      },
      "execution_count": 6,
      "outputs": [
        {
          "output_type": "stream",
          "name": "stdout",
          "text": [
            "        Brand   Model            Color Memory Storage  Rating  Selling Price  \\\n",
            "0        OPPO     A53  Moonlight Black   4 GB   64 GB     4.5          11990   \n",
            "1        OPPO     A53       Mint Cream   4 GB   64 GB     4.5          11990   \n",
            "2        OPPO     A53  Moonlight Black   6 GB  128 GB     4.3          13990   \n",
            "3112  SAMSUNG  M52 5G      Slate Black   8 GB  128 GB     4.2          22989   \n",
            "3113  SAMSUNG  M52 5G         Sky Blue   8 GB  128 GB     4.2          20350   \n",
            "\n",
            "      Original Price  \n",
            "0              15990  \n",
            "1              15990  \n",
            "2              17990  \n",
            "3112           22989  \n",
            "3113           22595  \n"
          ]
        }
      ]
    }
  ]
}