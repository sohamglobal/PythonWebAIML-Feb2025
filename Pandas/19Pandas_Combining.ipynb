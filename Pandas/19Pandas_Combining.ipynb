{
  "nbformat": 4,
  "nbformat_minor": 0,
  "metadata": {
    "colab": {
      "provenance": []
    },
    "kernelspec": {
      "name": "python3",
      "display_name": "Python 3"
    },
    "language_info": {
      "name": "python"
    }
  },
  "cells": [
    {
      "cell_type": "code",
      "execution_count": 1,
      "metadata": {
        "id": "IyKMlMuMHcCC"
      },
      "outputs": [],
      "source": [
        "import pandas"
      ]
    },
    {
      "cell_type": "code",
      "source": [
        "url=\"https://raw.githubusercontent.com/sohamglobal/datasets/refs/heads/main/Flipkart_Mobiles.csv\"\n",
        "df=pandas.read_csv(url)\n",
        "print(df)"
      ],
      "metadata": {
        "colab": {
          "base_uri": "https://localhost:8080/"
        },
        "id": "p68LCZRbH9rA",
        "outputId": "52a74ffa-a21a-422f-8801-1664c9394742"
      },
      "execution_count": 2,
      "outputs": [
        {
          "output_type": "stream",
          "name": "stdout",
          "text": [
            "        Brand   Model            Color Memory Storage  Rating  Selling Price  \\\n",
            "0        OPPO     A53  Moonlight Black   4 GB   64 GB     4.5          11990   \n",
            "1        OPPO     A53       Mint Cream   4 GB   64 GB     4.5          11990   \n",
            "2        OPPO     A53  Moonlight Black   6 GB  128 GB     4.3          13990   \n",
            "3        OPPO     A53       Mint Cream   6 GB  128 GB     4.3          13990   \n",
            "4        OPPO     A53   Electric Black   4 GB   64 GB     4.5          11990   \n",
            "...       ...     ...              ...    ...     ...     ...            ...   \n",
            "3109  SAMSUNG  M52 5G    Blazing Black   6 GB  128 GB     4.3          25990   \n",
            "3110  SAMSUNG  M52 5G         Icy Blue   6 GB  128 GB     4.3          25489   \n",
            "3111  SAMSUNG  M52 5G         Icy Blue   8 GB  128 GB     4.3          27239   \n",
            "3112  SAMSUNG  M52 5G      Slate Black   8 GB  128 GB     4.2          22989   \n",
            "3113  SAMSUNG  M52 5G         Sky Blue   8 GB  128 GB     4.2          20350   \n",
            "\n",
            "      Original Price  \n",
            "0              15990  \n",
            "1              15990  \n",
            "2              17990  \n",
            "3              17990  \n",
            "4              15990  \n",
            "...              ...  \n",
            "3109           25990  \n",
            "3110           28449  \n",
            "3111           31489  \n",
            "3112           22989  \n",
            "3113           22595  \n",
            "\n",
            "[3114 rows x 8 columns]\n"
          ]
        }
      ]
    },
    {
      "cell_type": "code",
      "source": [
        "print(df.head(3))"
      ],
      "metadata": {
        "colab": {
          "base_uri": "https://localhost:8080/"
        },
        "id": "JickgnAPIVxA",
        "outputId": "0c604319-d6fc-4cbc-fdc1-4d6948df6e12"
      },
      "execution_count": 3,
      "outputs": [
        {
          "output_type": "stream",
          "name": "stdout",
          "text": [
            "  Brand Model            Color Memory Storage  Rating  Selling Price  \\\n",
            "0  OPPO   A53  Moonlight Black   4 GB   64 GB     4.5          11990   \n",
            "1  OPPO   A53       Mint Cream   4 GB   64 GB     4.5          11990   \n",
            "2  OPPO   A53  Moonlight Black   6 GB  128 GB     4.3          13990   \n",
            "\n",
            "   Original Price  \n",
            "0           15990  \n",
            "1           15990  \n",
            "2           17990  \n"
          ]
        }
      ]
    },
    {
      "cell_type": "code",
      "source": [
        "print(df.tail(2))"
      ],
      "metadata": {
        "colab": {
          "base_uri": "https://localhost:8080/"
        },
        "id": "8EabRbUdIhqB",
        "outputId": "22e1400c-54a3-4278-c989-4937aeb54519"
      },
      "execution_count": 4,
      "outputs": [
        {
          "output_type": "stream",
          "name": "stdout",
          "text": [
            "        Brand   Model        Color Memory Storage  Rating  Selling Price  \\\n",
            "3112  SAMSUNG  M52 5G  Slate Black   8 GB  128 GB     4.2          22989   \n",
            "3113  SAMSUNG  M52 5G     Sky Blue   8 GB  128 GB     4.2          20350   \n",
            "\n",
            "      Original Price  \n",
            "3112           22989  \n",
            "3113           22595  \n"
          ]
        }
      ]
    },
    {
      "cell_type": "code",
      "source": [
        "#combining rows\n",
        "res=pandas.concat([df.head(3),df.tail(2)])\n",
        "print(res)"
      ],
      "metadata": {
        "colab": {
          "base_uri": "https://localhost:8080/"
        },
        "id": "IpA3FxpvIsNP",
        "outputId": "3cbd9ff0-9b9f-417f-ff42-945cda6435cb"
      },
      "execution_count": 5,
      "outputs": [
        {
          "output_type": "stream",
          "name": "stdout",
          "text": [
            "        Brand   Model            Color Memory Storage  Rating  Selling Price  \\\n",
            "0        OPPO     A53  Moonlight Black   4 GB   64 GB     4.5          11990   \n",
            "1        OPPO     A53       Mint Cream   4 GB   64 GB     4.5          11990   \n",
            "2        OPPO     A53  Moonlight Black   6 GB  128 GB     4.3          13990   \n",
            "3112  SAMSUNG  M52 5G      Slate Black   8 GB  128 GB     4.2          22989   \n",
            "3113  SAMSUNG  M52 5G         Sky Blue   8 GB  128 GB     4.2          20350   \n",
            "\n",
            "      Original Price  \n",
            "0              15990  \n",
            "1              15990  \n",
            "2              17990  \n",
            "3112           22989  \n",
            "3113           22595  \n"
          ]
        }
      ]
    },
    {
      "cell_type": "code",
      "source": [
        "df1=df[['Brand']]\n",
        "df2=df[['Color','Selling Price']]\n",
        "print(df1)\n",
        "print(df2)"
      ],
      "metadata": {
        "colab": {
          "base_uri": "https://localhost:8080/"
        },
        "id": "Fd8gcj91KH3v",
        "outputId": "976f9b9a-9bd3-4177-8bac-c89c99692f05"
      },
      "execution_count": 6,
      "outputs": [
        {
          "output_type": "stream",
          "name": "stdout",
          "text": [
            "        Brand\n",
            "0        OPPO\n",
            "1        OPPO\n",
            "2        OPPO\n",
            "3        OPPO\n",
            "4        OPPO\n",
            "...       ...\n",
            "3109  SAMSUNG\n",
            "3110  SAMSUNG\n",
            "3111  SAMSUNG\n",
            "3112  SAMSUNG\n",
            "3113  SAMSUNG\n",
            "\n",
            "[3114 rows x 1 columns]\n",
            "                Color  Selling Price\n",
            "0     Moonlight Black          11990\n",
            "1          Mint Cream          11990\n",
            "2     Moonlight Black          13990\n",
            "3          Mint Cream          13990\n",
            "4      Electric Black          11990\n",
            "...               ...            ...\n",
            "3109    Blazing Black          25990\n",
            "3110         Icy Blue          25489\n",
            "3111         Icy Blue          27239\n",
            "3112      Slate Black          22989\n",
            "3113         Sky Blue          20350\n",
            "\n",
            "[3114 rows x 2 columns]\n"
          ]
        }
      ]
    },
    {
      "cell_type": "code",
      "source": [
        "#combining columns\n",
        "res=pandas.concat([df1,df2],axis=1)\n",
        "print(res)"
      ],
      "metadata": {
        "colab": {
          "base_uri": "https://localhost:8080/"
        },
        "id": "pcCb75TrLZQ1",
        "outputId": "bc6f4e74-6784-4cb0-a9bf-7f2e8831cd76"
      },
      "execution_count": 8,
      "outputs": [
        {
          "output_type": "stream",
          "name": "stdout",
          "text": [
            "        Brand            Color  Selling Price\n",
            "0        OPPO  Moonlight Black          11990\n",
            "1        OPPO       Mint Cream          11990\n",
            "2        OPPO  Moonlight Black          13990\n",
            "3        OPPO       Mint Cream          13990\n",
            "4        OPPO   Electric Black          11990\n",
            "...       ...              ...            ...\n",
            "3109  SAMSUNG    Blazing Black          25990\n",
            "3110  SAMSUNG         Icy Blue          25489\n",
            "3111  SAMSUNG         Icy Blue          27239\n",
            "3112  SAMSUNG      Slate Black          22989\n",
            "3113  SAMSUNG         Sky Blue          20350\n",
            "\n",
            "[3114 rows x 3 columns]\n"
          ]
        }
      ]
    }
  ]
}