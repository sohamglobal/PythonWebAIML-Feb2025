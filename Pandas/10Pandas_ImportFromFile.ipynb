{
  "nbformat": 4,
  "nbformat_minor": 0,
  "metadata": {
    "colab": {
      "provenance": []
    },
    "kernelspec": {
      "name": "python3",
      "display_name": "Python 3"
    },
    "language_info": {
      "name": "python"
    }
  },
  "cells": [
    {
      "cell_type": "code",
      "execution_count": 1,
      "metadata": {
        "id": "5zZvMkpmhtqk"
      },
      "outputs": [],
      "source": [
        "import pandas"
      ]
    },
    {
      "cell_type": "code",
      "source": [
        "df=pandas.read_pickle('orders')"
      ],
      "metadata": {
        "id": "gJVB_Lk_iDtN"
      },
      "execution_count": 3,
      "outputs": []
    },
    {
      "cell_type": "code",
      "source": [
        "print(df)"
      ],
      "metadata": {
        "colab": {
          "base_uri": "https://localhost:8080/"
        },
        "id": "ZkxjxuqhiQBt",
        "outputId": "d9272c83-ea90-4061-b5b6-356d39fced51"
      },
      "execution_count": 4,
      "outputs": [
        {
          "output_type": "stream",
          "name": "stdout",
          "text": [
            "                   custnm        city    prodnm        company     price\n",
            "0            Boris Becker      berlin     Amaze          Honda    665000\n",
            "1      Sylvester Stallone     Kolkata    Baleno  Maruti Suzuki    642000\n",
            "2           Roger Federer   amsterdam      City          Honda    950000\n",
            "3               Alia Bhat     lucknow     Creta        Hyundai   1044000\n",
            "4              A R Rahman     chennai     Creta        Hyundai   1044000\n",
            "5   Arnold Schwarzenegger  los angles  Fortuner         Toyota   3258000\n",
            "6            Keanu Reeves       tokyo  Fortuner         Toyota   3258000\n",
            "7              Imran Khan      lahore  Fortuner         Toyota   3258000\n",
            "8            Dipika Singh      mumbai    Innova         Toyota   1809000\n",
            "9        Sabastian Vettel  heppenheim    Kodiaq          Skoda   3749000\n",
            "10               Joe Root      london    Kushaq          Skoda   1158000\n",
            "11         Shah Rukh Khan   new delhi    Safari           Tata   1545000\n",
            "12          Anne Hathaway        Agra     Swift  Maruti Suzuki    591000\n",
            "13            Emily Blunt      london    Taigun     Volkswagen   1256000\n",
            "14                   Tabu   hyderabad    Tiguan     Volkswagen   3375000\n",
            "15            Jos Buttler  manchester    Tiguan     Volkswagen   3375000\n",
            "16                  Rekha     chennai     Venue        Hyundai    753000\n",
            "17            Steffi Graf   stuttgart    Virtus     Volkswagen   1132000\n",
            "18             Tom Cruise     chicago        XM            BMW  12500000\n",
            "19     Michael Schumacher      berlin        XM            BMW  12500000\n"
          ]
        }
      ]
    }
  ]
}