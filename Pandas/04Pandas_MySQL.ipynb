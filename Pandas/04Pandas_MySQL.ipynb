{
  "nbformat": 4,
  "nbformat_minor": 0,
  "metadata": {
    "colab": {
      "provenance": []
    },
    "kernelspec": {
      "name": "python3",
      "display_name": "Python 3"
    },
    "language_info": {
      "name": "python"
    }
  },
  "cells": [
    {
      "cell_type": "code",
      "execution_count": 1,
      "metadata": {
        "colab": {
          "base_uri": "https://localhost:8080/"
        },
        "id": "jIKFSoDXEyks",
        "outputId": "49d88bcb-f2b7-4394-fd9a-58984c430d4e"
      },
      "outputs": [
        {
          "output_type": "stream",
          "name": "stdout",
          "text": [
            "Collecting pymysql\n",
            "  Downloading PyMySQL-1.1.1-py3-none-any.whl.metadata (4.4 kB)\n",
            "Downloading PyMySQL-1.1.1-py3-none-any.whl (44 kB)\n",
            "\u001b[?25l   \u001b[90m━━━━━━━━━━━━━━━━━━━━━━━━━━━━━━━━━━━━━━━━\u001b[0m \u001b[32m0.0/45.0 kB\u001b[0m \u001b[31m?\u001b[0m eta \u001b[36m-:--:--\u001b[0m\r\u001b[2K   \u001b[90m━━━━━━━━━━━━━━━━━━━━━━━━━━━━━━━━━━━━━━━━\u001b[0m \u001b[32m45.0/45.0 kB\u001b[0m \u001b[31m2.4 MB/s\u001b[0m eta \u001b[36m0:00:00\u001b[0m\n",
            "\u001b[?25hInstalling collected packages: pymysql\n",
            "Successfully installed pymysql-1.1.1\n"
          ]
        }
      ],
      "source": [
        "pip install pymysql"
      ]
    },
    {
      "cell_type": "code",
      "source": [
        "import pymysql\n",
        "import pandas"
      ],
      "metadata": {
        "id": "KizwGoKaFA3m"
      },
      "execution_count": 2,
      "outputs": []
    },
    {
      "cell_type": "code",
      "source": [
        "con=pymysql.connect(host='mysql-ethan-python-mysql.h.aivencloud.com',port=10413,user='praffull',password='AVNS_owESNvPFD5fnVDwuWUq',database='sharayudb')\n",
        "print('python connected to cloud mysql database successfully')"
      ],
      "metadata": {
        "colab": {
          "base_uri": "https://localhost:8080/"
        },
        "id": "7882FAW5FFis",
        "outputId": "11146e1a-808e-4982-a727-2a36d5cf9564"
      },
      "execution_count": 3,
      "outputs": [
        {
          "output_type": "stream",
          "name": "stdout",
          "text": [
            "python connected to cloud mysql database successfully\n"
          ]
        }
      ]
    },
    {
      "cell_type": "code",
      "source": [
        "df=pandas.read_sql(\"select * from employees\",con)\n",
        "print(df)"
      ],
      "metadata": {
        "colab": {
          "base_uri": "https://localhost:8080/"
        },
        "id": "8He64suUFw6O",
        "outputId": "bd7df6e1-4281-4c8f-b7fe-a4ac67166b15"
      },
      "execution_count": 4,
      "outputs": [
        {
          "output_type": "stream",
          "name": "stderr",
          "text": [
            "<ipython-input-4-6c92d71df3fc>:1: UserWarning: pandas only supports SQLAlchemy connectable (engine/connection) or database string URI or sqlite3 DBAPI2 connection. Other DBAPI2 objects are not tested. Please consider using SQLAlchemy.\n",
            "  df=pandas.read_sql(\"select * from employees\",con)\n"
          ]
        },
        {
          "output_type": "stream",
          "name": "stdout",
          "text": [
            "   empno            empnm         dept              post location   salary\n",
            "0    214   mohammed salah    marketing         executive   london  51200.0\n",
            "1    215  charles leclerc        sales           manager   monaco  71450.0\n",
            "2    216   lewis hamilton  development  django developer    tokyo  47650.0\n",
            "3    217     lando norris      finance           auditor   berlin  75000.0\n"
          ]
        }
      ]
    },
    {
      "cell_type": "code",
      "source": [
        "df=pandas.read_sql(\"select * from accounts where balance<50000\",con)\n",
        "print(df)"
      ],
      "metadata": {
        "colab": {
          "base_uri": "https://localhost:8080/"
        },
        "id": "3oWAxaNOIA8S",
        "outputId": "ed35f993-e6c7-42ba-d614-e2a2b55e98ca"
      },
      "execution_count": 5,
      "outputs": [
        {
          "output_type": "stream",
          "name": "stderr",
          "text": [
            "<ipython-input-5-ff9e6be5bb4b>:1: UserWarning: pandas only supports SQLAlchemy connectable (engine/connection) or database string URI or sqlite3 DBAPI2 connection. Other DBAPI2 objects are not tested. Please consider using SQLAlchemy.\n",
            "  df=pandas.read_sql(\"select * from accounts where balance<50000\",con)\n"
          ]
        },
        {
          "output_type": "stream",
          "name": "stdout",
          "text": [
            "    accno                accnm  acctype  balance\n",
            "0    1001      charles leclerc   saving  45000.0\n",
            "1    1002      maria sharapova    fixed  23100.0\n",
            "2    1003     mitchell johnson  current  15300.0\n",
            "3    1004          edan hazard   saving  41300.0\n",
            "4    1005   robert lewandowski   saving  21600.0\n",
            "5    1006        gabriel jesus    fixed  37100.0\n",
            "6    1008        marcos alonso   saving  33900.0\n",
            "7    1009           david luiz  current  28400.0\n",
            "8    1012          zaheer khan   saving  22570.0\n",
            "9    1013     antoine griezman    fixed  37640.0\n",
            "10   1016         garry cahill  current  39550.0\n",
            "11   1023             moin ali  current  26551.0\n",
            "12   1030           sadio mane      ppf  45889.0\n",
            "13   1033  alexandre lacazette   saving  36227.0\n",
            "14   1040          adil rashid      ppf  39870.0\n",
            "15   1044           alex hales   saving  38540.0\n",
            "16   1052       max verstappen   saving  35200.0\n"
          ]
        }
      ]
    },
    {
      "cell_type": "code",
      "source": [
        "df=pandas.read_sql(\"select * from customers\",con)\n",
        "print(df)"
      ],
      "metadata": {
        "colab": {
          "base_uri": "https://localhost:8080/"
        },
        "id": "Pl0d8m66Io9T",
        "outputId": "78305483-e1e7-44b4-a39e-7fefc0ea7bc7"
      },
      "execution_count": 6,
      "outputs": [
        {
          "output_type": "stream",
          "name": "stdout",
          "text": [
            "    custno                 custnm         city  carid      paymode\n",
            "0        1               Joe Root       london  sk181   netbanking\n",
            "1        2           Boris Becker       berlin  ho162         cash\n",
            "2        3     Michael Schumacher       berlin  bm201  credit card\n",
            "3        4  Arnold Schwarzenegger   los angles  to191  credit card\n",
            "4        5            Jos Buttler   manchester  vw173  credit card\n",
            "5        6       Rebecca Ferguson     new york  bm185   netbanking\n",
            "6        7            Steffi Graf    stuttgart  vw171   debit card\n",
            "7        8           Keanu Reeves        tokyo  to191  credit card\n",
            "8        9       Sabastian Vettel   heppenheim  sk183  credit card\n",
            "9       10             Tom Cruise      chicago  bm201         cash\n",
            "10      11          Roger Federer    amsterdam  ho161  credit card\n",
            "11      12            Emily Blunt       london  vw172  credit card\n",
            "12      13         Shah Rukh Khan    new delhi  tt153   debit card\n",
            "13      14             A R Rahman      chennai  hd142         cash\n",
            "14      15                   Tabu    hyderabad  vw173   debit card\n",
            "15      16           Shabana Azmi       mumbai  ss210   debit card\n",
            "16      17                  Rekha      chennai  hd141         cash\n",
            "17      18       Amitabh Bachchan    allahabad  cs682         cash\n",
            "18      19             Imran Khan       lahore  to191   netbanking\n",
            "19      20           Dipika Singh       mumbai  to193   netbanking\n",
            "20      21              Alia Bhat      lucknow  hd142         cash\n",
            "21      22        Serena Williams     new york  ss210   netbanking\n",
            "22      23         Max Verstappen       berlin  rb739         cash\n",
            "23      24        Charles Leclerc  monte carlo  fr133   debit card\n",
            "24      25     Sylvester Stallone      Kolkata  ms134         cash\n",
            "25      26            Emily Blunt         Agra  ms131   netbanking\n"
          ]
        },
        {
          "output_type": "stream",
          "name": "stderr",
          "text": [
            "<ipython-input-6-bec785368d9a>:1: UserWarning: pandas only supports SQLAlchemy connectable (engine/connection) or database string URI or sqlite3 DBAPI2 connection. Other DBAPI2 objects are not tested. Please consider using SQLAlchemy.\n",
            "  df=pandas.read_sql(\"select * from customers\",con)\n"
          ]
        }
      ]
    },
    {
      "cell_type": "code",
      "source": [
        "con.close()"
      ],
      "metadata": {
        "id": "-LMhuM6ZI3rh"
      },
      "execution_count": 7,
      "outputs": []
    }
  ]
}