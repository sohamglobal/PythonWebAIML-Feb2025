{
  "nbformat": 4,
  "nbformat_minor": 0,
  "metadata": {
    "colab": {
      "provenance": []
    },
    "kernelspec": {
      "name": "python3",
      "display_name": "Python 3"
    },
    "language_info": {
      "name": "python"
    }
  },
  "cells": [
    {
      "cell_type": "code",
      "execution_count": null,
      "metadata": {
        "id": "AwZqHnAM6KEk"
      },
      "outputs": [],
      "source": [
        "import numpy\n",
        "import pandas"
      ]
    },
    {
      "cell_type": "code",
      "source": [
        "lst=[\n",
        "    ['the matrix','pk','dil se'],\n",
        "    [1999,2014,1998],\n",
        "    ['action','comedy','romance'],\n",
        "    ['english','hindi','tamil'],\n",
        "    ['keanu reeves','amir khan','shah rukh khan'],\n",
        "    [8.9,8.7,7.6]\n",
        "]"
      ],
      "metadata": {
        "id": "KS7196m-6WxH"
      },
      "execution_count": null,
      "outputs": []
    },
    {
      "cell_type": "code",
      "source": [
        "arr=numpy.array(lst)\n",
        "print(arr)\n",
        "print(arr.shape)"
      ],
      "metadata": {
        "colab": {
          "base_uri": "https://localhost:8080/"
        },
        "id": "MlkkloMQ7C_6",
        "outputId": "2e708752-0958-421f-ea49-eac6031a0aec"
      },
      "execution_count": null,
      "outputs": [
        {
          "output_type": "stream",
          "name": "stdout",
          "text": [
            "[['the matrix' 'pk' 'dil se']\n",
            " ['1999' '2014' '1998']\n",
            " ['action' 'comedy' 'romance']\n",
            " ['english' 'hindi' 'tamil']\n",
            " ['keanu reeves' 'amir khan' 'shah rukh khan']\n",
            " ['8.9' '8.7' '7.6']]\n",
            "(6, 3)\n"
          ]
        }
      ]
    },
    {
      "cell_type": "code",
      "source": [
        "df=pandas.DataFrame(arr)\n",
        "print(df)"
      ],
      "metadata": {
        "colab": {
          "base_uri": "https://localhost:8080/"
        },
        "id": "irD8vSt67SSE",
        "outputId": "cd434fc3-d754-41ed-c9ef-f45501a526cb"
      },
      "execution_count": null,
      "outputs": [
        {
          "output_type": "stream",
          "name": "stdout",
          "text": [
            "              0          1               2\n",
            "0    the matrix         pk          dil se\n",
            "1          1999       2014            1998\n",
            "2        action     comedy         romance\n",
            "3       english      hindi           tamil\n",
            "4  keanu reeves  amir khan  shah rukh khan\n",
            "5           8.9        8.7             7.6\n"
          ]
        }
      ]
    },
    {
      "cell_type": "code",
      "source": [
        "rows=['filmname','year','genre','language','actor','rating']\n",
        "cols=['soham','praffull','sharayu']\n",
        "df1=pandas.DataFrame(arr,rows,cols)\n",
        "print(df1)"
      ],
      "metadata": {
        "colab": {
          "base_uri": "https://localhost:8080/"
        },
        "id": "yZh_a4po7r3v",
        "outputId": "b7190a67-63ce-43c0-aa54-66e433d2f9c1"
      },
      "execution_count": null,
      "outputs": [
        {
          "output_type": "stream",
          "name": "stdout",
          "text": [
            "                 soham   praffull         sharayu\n",
            "filmname    the matrix         pk          dil se\n",
            "year              1999       2014            1998\n",
            "genre           action     comedy         romance\n",
            "language       english      hindi           tamil\n",
            "actor     keanu reeves  amir khan  shah rukh khan\n",
            "rating             8.9        8.7             7.6\n"
          ]
        }
      ]
    },
    {
      "cell_type": "code",
      "source": [
        "print(df1['praffull'])"
      ],
      "metadata": {
        "colab": {
          "base_uri": "https://localhost:8080/"
        },
        "id": "iq46fR0L8guu",
        "outputId": "e6f433e3-f726-4da3-a77b-ddb393a2560e"
      },
      "execution_count": null,
      "outputs": [
        {
          "output_type": "stream",
          "name": "stdout",
          "text": [
            "filmname           pk\n",
            "year             2014\n",
            "genre          comedy\n",
            "language        hindi\n",
            "actor       amir khan\n",
            "rating            8.7\n",
            "Name: praffull, dtype: object\n"
          ]
        }
      ]
    }
  ]
}