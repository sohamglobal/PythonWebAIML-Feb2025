{
  "nbformat": 4,
  "nbformat_minor": 0,
  "metadata": {
    "colab": {
      "provenance": []
    },
    "kernelspec": {
      "name": "python3",
      "display_name": "Python 3"
    },
    "language_info": {
      "name": "python"
    }
  },
  "cells": [
    {
      "cell_type": "code",
      "execution_count": 1,
      "metadata": {
        "id": "UgsoIoIB72Nh"
      },
      "outputs": [],
      "source": [
        "import pandas"
      ]
    },
    {
      "cell_type": "code",
      "source": [
        "url=\"http://sohamspring.azurewebsites.net/api/accounts/all\""
      ],
      "metadata": {
        "id": "BbS83sKf8AoB"
      },
      "execution_count": 2,
      "outputs": []
    },
    {
      "cell_type": "code",
      "source": [
        "df=pandas.read_json(url)\n",
        "print(df)"
      ],
      "metadata": {
        "colab": {
          "base_uri": "https://localhost:8080/"
        },
        "id": "PPGIUhNL8EBH",
        "outputId": "8d259350-9488-44b1-9192-d727fa48d0e5"
      },
      "execution_count": 3,
      "outputs": [
        {
          "output_type": "stream",
          "name": "stdout",
          "text": [
            "    accno                    accnm  acctype  balance\n",
            "0    1001         sachin tendulkar   saving    45000\n",
            "1    1002          maria sharapova    fixed    23100\n",
            "2    1003         mitchell johnson  current    15300\n",
            "3    1004              edan hazard   saving    41300\n",
            "4    1005       robert lewandowski   saving    21600\n",
            "5    1006            gabriel jesus    fixed    37100\n",
            "6    1008            marcos alonso   saving    33900\n",
            "7    1009               david luiz  current    28400\n",
            "8    1010              steve smith    fixed    61150\n",
            "9    1012              zaheer khan   saving    22570\n",
            "10   1013         antoine griezman    fixed    37640\n",
            "11   1014           nasser hussain   saving    53760\n",
            "12   1015               paul pogba   saving    67370\n",
            "13   1016             garry cahill  current    39550\n",
            "14   1017         thibaut courtois    fixed    97550\n",
            "15   1018        cesar azpilicueta  current    82716\n",
            "16   1019            cesc fabregas  current    82716\n",
            "17   1020              ngolo kante    fixed    55871\n",
            "18   1021           james anderson  current    63228\n",
            "19   1022               ollie pope   saving    75961\n",
            "20   1023                 moin ali  current    26551\n",
            "21   1024               sam curran      ppf    63558\n",
            "22   1025      andreas christensen   saving    68523\n",
            "23   1026            alvaro morata   saving    96995\n",
            "24   1027         liam livingstone  current    49668\n",
            "25   1028                mark wood    fixed    75442\n",
            "26   1029            mohamed salah   saving    83229\n",
            "27   1030               sadio mane      ppf    45889\n",
            "28   1031          roberto firmino    fixed    96321\n",
            "29   1032  alex oxlade chamberlain  current    58449\n",
            "30   1033      alexandre lacazette   saving    36227\n",
            "31   1034          raheem sterling    fixed    62994\n",
            "32   1035               harry kane  current    78751\n",
            "33   1036                dele alli    fixed    96637\n",
            "34   1037              hugo lloris   saving    84552\n",
            "35   1038               bill gates  current    93119\n",
            "36   1039                amir khan   saving    66554\n",
            "37   1040              adil rashid      ppf    39870\n",
            "38   1041             chris jordan   saving    55400\n",
            "39   1042                jason roy   saving    29750\n",
            "40   1043             chris woakes      ppf    50000\n",
            "41   1044               alex hales   saving    38540\n",
            "42   1045              dawid malan   saving    62100\n",
            "43   1046               ben stokes   saving    57500\n",
            "44   1047                 joe root      ppf   125000\n",
            "45   1048                 isa guha   saving    72300\n",
            "46   1049             ravi shastri   saving    55040\n",
            "47   1050            harsha bhogle   saving    87980\n",
            "48   1051             irfan pathan      ppf    75000\n",
            "49   1052              patric jane      ppf    87500\n",
            "50   1053           manmohan singh    fixed   300000\n"
          ]
        }
      ]
    },
    {
      "cell_type": "code",
      "source": [
        "dfgroups=df.groupby('acctype')\n",
        "print(dfgroups)"
      ],
      "metadata": {
        "colab": {
          "base_uri": "https://localhost:8080/"
        },
        "id": "c1iLv9aQ8KP7",
        "outputId": "35f81fda-5f7f-4301-fd3c-fab3eaa75304"
      },
      "execution_count": 4,
      "outputs": [
        {
          "output_type": "stream",
          "name": "stdout",
          "text": [
            "<pandas.core.groupby.generic.DataFrameGroupBy object at 0x7a8a57c8ef50>\n"
          ]
        }
      ]
    },
    {
      "cell_type": "code",
      "source": [
        "for gr in dfgroups:\n",
        "  print(gr)\n",
        "  print(\"--------------------\")"
      ],
      "metadata": {
        "colab": {
          "base_uri": "https://localhost:8080/"
        },
        "id": "dJWaUxkf8jwI",
        "outputId": "77e16956-a390-43fa-cd1f-0db15aec91e9"
      },
      "execution_count": 5,
      "outputs": [
        {
          "output_type": "stream",
          "name": "stdout",
          "text": [
            "('current',     accno                    accnm  acctype  balance\n",
            "2    1003         mitchell johnson  current    15300\n",
            "7    1009               david luiz  current    28400\n",
            "13   1016             garry cahill  current    39550\n",
            "15   1018        cesar azpilicueta  current    82716\n",
            "16   1019            cesc fabregas  current    82716\n",
            "18   1021           james anderson  current    63228\n",
            "20   1023                 moin ali  current    26551\n",
            "24   1027         liam livingstone  current    49668\n",
            "29   1032  alex oxlade chamberlain  current    58449\n",
            "32   1035               harry kane  current    78751\n",
            "35   1038               bill gates  current    93119)\n",
            "--------------------\n",
            "('fixed',     accno             accnm acctype  balance\n",
            "1    1002   maria sharapova   fixed    23100\n",
            "5    1006     gabriel jesus   fixed    37100\n",
            "8    1010       steve smith   fixed    61150\n",
            "10   1013  antoine griezman   fixed    37640\n",
            "14   1017  thibaut courtois   fixed    97550\n",
            "17   1020       ngolo kante   fixed    55871\n",
            "25   1028         mark wood   fixed    75442\n",
            "28   1031   roberto firmino   fixed    96321\n",
            "31   1034   raheem sterling   fixed    62994\n",
            "33   1036         dele alli   fixed    96637\n",
            "50   1053    manmohan singh   fixed   300000)\n",
            "--------------------\n",
            "('ppf',     accno         accnm acctype  balance\n",
            "21   1024    sam curran     ppf    63558\n",
            "27   1030    sadio mane     ppf    45889\n",
            "37   1040   adil rashid     ppf    39870\n",
            "40   1043  chris woakes     ppf    50000\n",
            "44   1047      joe root     ppf   125000\n",
            "48   1051  irfan pathan     ppf    75000\n",
            "49   1052   patric jane     ppf    87500)\n",
            "--------------------\n",
            "('saving',     accno                accnm acctype  balance\n",
            "0    1001     sachin tendulkar  saving    45000\n",
            "3    1004          edan hazard  saving    41300\n",
            "4    1005   robert lewandowski  saving    21600\n",
            "6    1008        marcos alonso  saving    33900\n",
            "9    1012          zaheer khan  saving    22570\n",
            "11   1014       nasser hussain  saving    53760\n",
            "12   1015           paul pogba  saving    67370\n",
            "19   1022           ollie pope  saving    75961\n",
            "22   1025  andreas christensen  saving    68523\n",
            "23   1026        alvaro morata  saving    96995\n",
            "26   1029        mohamed salah  saving    83229\n",
            "30   1033  alexandre lacazette  saving    36227\n",
            "34   1037          hugo lloris  saving    84552\n",
            "36   1039            amir khan  saving    66554\n",
            "38   1041         chris jordan  saving    55400\n",
            "39   1042            jason roy  saving    29750\n",
            "41   1044           alex hales  saving    38540\n",
            "42   1045          dawid malan  saving    62100\n",
            "43   1046           ben stokes  saving    57500\n",
            "45   1048             isa guha  saving    72300\n",
            "46   1049         ravi shastri  saving    55040\n",
            "47   1050        harsha bhogle  saving    87980)\n",
            "--------------------\n"
          ]
        }
      ]
    },
    {
      "cell_type": "code",
      "source": [
        "print(df['acctype'].value_counts())"
      ],
      "metadata": {
        "colab": {
          "base_uri": "https://localhost:8080/"
        },
        "id": "_tKXckvu9Gx7",
        "outputId": "dec8ab06-9d29-4e39-9fd3-96f6312df8f7"
      },
      "execution_count": 6,
      "outputs": [
        {
          "output_type": "stream",
          "name": "stdout",
          "text": [
            "acctype\n",
            "saving     22\n",
            "fixed      11\n",
            "current    11\n",
            "ppf         7\n",
            "Name: count, dtype: int64\n"
          ]
        }
      ]
    },
    {
      "cell_type": "code",
      "source": [
        "df=pandas.read_json(\"http://sohamspring.azurewebsites.net/api/players/all\")\n",
        "print(df)"
      ],
      "metadata": {
        "colab": {
          "base_uri": "https://localhost:8080/"
        },
        "id": "Rmj64qIp9fTn",
        "outputId": "33ae3e54-929c-4756-c841-31ad85efe9bc"
      },
      "execution_count": 7,
      "outputs": [
        {
          "output_type": "stream",
          "name": "stdout",
          "text": [
            "     playerno          playernm    position  country         club\n",
            "0         913       Will Dennis  Goalkeeper  England  Bournemouth\n",
            "1         914      Mark Travers  Goalkeeper  Ireland  Bournemouth\n",
            "2         915       Lloyd Kelly    Defender  England  Bournemouth\n",
            "3         916      Chris Mepham    Defender    Wales  Bournemouth\n",
            "4         917        Adam Smith    Defender  England  Bournemouth\n",
            "..        ...               ...         ...      ...          ...\n",
            "446      1360       Diego Costa     Forward    Spain       Wolves\n",
            "447      1361     Chem Campbell  Midfielder    Wales       Wolves\n",
            "448      1362  Harvey Griffiths  Midfielder  England       Wolves\n",
            "449      1363     Nathan Fraser     Forward  Ireland       Wolves\n",
            "450      1364  Dexter Lembikisa    Defender  Jamaica       Wolves\n",
            "\n",
            "[451 rows x 5 columns]\n"
          ]
        }
      ]
    },
    {
      "cell_type": "code",
      "source": [
        "print(df['country'].value_counts().head(10))"
      ],
      "metadata": {
        "colab": {
          "base_uri": "https://localhost:8080/"
        },
        "id": "Lq-VVfbw9ycs",
        "outputId": "c5fb2426-a659-4c5d-a98a-96f2af273b28"
      },
      "execution_count": 10,
      "outputs": [
        {
          "output_type": "stream",
          "name": "stdout",
          "text": [
            "country\n",
            "England      190\n",
            "Portugal      21\n",
            "Brazil        20\n",
            "Spain         20\n",
            "France        20\n",
            "Ireland       17\n",
            "Scotland      13\n",
            "Belgium        9\n",
            "Germany        9\n",
            "Argentina      8\n",
            "Name: count, dtype: int64\n"
          ]
        }
      ]
    },
    {
      "cell_type": "code",
      "source": [
        "print(df['position'].value_counts())"
      ],
      "metadata": {
        "colab": {
          "base_uri": "https://localhost:8080/"
        },
        "id": "dnA_Ywgm-QiX",
        "outputId": "9e210125-744a-49b1-bfb0-4698d0f9dfa5"
      },
      "execution_count": 11,
      "outputs": [
        {
          "output_type": "stream",
          "name": "stdout",
          "text": [
            "position\n",
            "Midfielder    164\n",
            "Defender      150\n",
            "Forward        84\n",
            "Goalkeeper     53\n",
            "Name: count, dtype: int64\n"
          ]
        }
      ]
    }
  ]
}