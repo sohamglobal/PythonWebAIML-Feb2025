{
  "nbformat": 4,
  "nbformat_minor": 0,
  "metadata": {
    "colab": {
      "provenance": []
    },
    "kernelspec": {
      "name": "python3",
      "display_name": "Python 3"
    },
    "language_info": {
      "name": "python"
    }
  },
  "cells": [
    {
      "cell_type": "code",
      "execution_count": 1,
      "metadata": {
        "id": "0Oo6eP3XeL2b"
      },
      "outputs": [],
      "source": [
        "import numpy\n",
        "import pandas"
      ]
    },
    {
      "cell_type": "code",
      "source": [
        "df=pandas.DataFrame(numpy.random.rand(10,4),columns=['mumbai','hyderabad','london','dubai'])"
      ],
      "metadata": {
        "id": "rBn-HIolejxQ"
      },
      "execution_count": 2,
      "outputs": []
    },
    {
      "cell_type": "code",
      "source": [
        "print(df)"
      ],
      "metadata": {
        "colab": {
          "base_uri": "https://localhost:8080/"
        },
        "id": "zcWAleUFe8Iu",
        "outputId": "c2f44665-7602-40af-ccce-6c80e159353f"
      },
      "execution_count": 3,
      "outputs": [
        {
          "output_type": "stream",
          "name": "stdout",
          "text": [
            "     mumbai  hyderabad    london     dubai\n",
            "0  0.582602   0.712550  0.798355  0.900176\n",
            "1  0.186963   0.213504  0.828911  0.616665\n",
            "2  0.727055   0.553643  0.979103  0.627230\n",
            "3  0.208334   0.190805  0.974602  0.081670\n",
            "4  0.421047   0.039458  0.615947  0.730360\n",
            "5  0.116536   0.640319  0.326723  0.505475\n",
            "6  0.787717   0.699169  0.424428  0.836685\n",
            "7  0.078521   0.799121  0.072493  0.418747\n",
            "8  0.734589   0.774665  0.489227  0.195409\n",
            "9  0.198311   0.110538  0.514326  0.092486\n"
          ]
        }
      ]
    }
  ]
}