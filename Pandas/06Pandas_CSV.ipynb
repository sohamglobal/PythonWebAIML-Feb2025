{
  "nbformat": 4,
  "nbformat_minor": 0,
  "metadata": {
    "colab": {
      "provenance": []
    },
    "kernelspec": {
      "name": "python3",
      "display_name": "Python 3"
    },
    "language_info": {
      "name": "python"
    }
  },
  "cells": [
    {
      "cell_type": "code",
      "execution_count": 1,
      "metadata": {
        "id": "qjNEKxWvMFlU"
      },
      "outputs": [],
      "source": [
        "import pandas"
      ]
    },
    {
      "cell_type": "code",
      "source": [
        "url=\"https://raw.githubusercontent.com/sohamglobal/datasets/refs/heads/main/cust.csv\""
      ],
      "metadata": {
        "id": "GIctzYydMM5o"
      },
      "execution_count": 2,
      "outputs": []
    },
    {
      "cell_type": "code",
      "source": [
        "df=pandas.read_csv(url)\n",
        "print(df)"
      ],
      "metadata": {
        "colab": {
          "base_uri": "https://localhost:8080/"
        },
        "id": "WjHnniSfMlfY",
        "outputId": "5f2ce3a4-fc59-41a2-9916-173d3d6afea4"
      },
      "execution_count": 3,
      "outputs": [
        {
          "output_type": "stream",
          "name": "stdout",
          "text": [
            "    custno                 custnm prodid      paymode\n",
            "0       12               Joe Root  hp419   netbanking\n",
            "1       13           Boris Becker  tg765          cod\n",
            "2       17     Michael Schumacher  lt532  credit card\n",
            "3       23  Arnold Schwarzenegger  hp419  credit card\n",
            "4       26            Jos Buttler  lt532  credit card\n",
            "5       32       Rebecca Ferguson  ip627   netbanking\n",
            "6       37             Bill Gates  ms488   debit card\n",
            "7       41          Mohamed Salah  sg375  credit card\n",
            "8       53      Ferdinand Porsche  tg765  credit card\n",
            "9       58             Tom Cruise  ss210          cod\n",
            "10      67          Roger Federer  gt261  credit card\n",
            "11      74           Chris Woakes  dm298  credit card\n",
            "12      75        Charles Leclerc  tg765   netbanking\n"
          ]
        }
      ]
    },
    {
      "cell_type": "code",
      "source": [
        "url=\"https://raw.githubusercontent.com/sohamglobal/datasets/refs/heads/main/Flipkart_Mobiles.csv\""
      ],
      "metadata": {
        "id": "At-nUHTUNBhk"
      },
      "execution_count": 4,
      "outputs": []
    },
    {
      "cell_type": "code",
      "source": [
        "df=pandas.read_csv(url)\n",
        "print(df)"
      ],
      "metadata": {
        "colab": {
          "base_uri": "https://localhost:8080/"
        },
        "id": "hLX6CL-0NEIS",
        "outputId": "7f2d6f39-51d0-49f7-bfb2-3c025282150d"
      },
      "execution_count": 5,
      "outputs": [
        {
          "output_type": "stream",
          "name": "stdout",
          "text": [
            "        Brand   Model            Color Memory Storage  Rating  Selling Price  \\\n",
            "0        OPPO     A53  Moonlight Black   4 GB   64 GB     4.5          11990   \n",
            "1        OPPO     A53       Mint Cream   4 GB   64 GB     4.5          11990   \n",
            "2        OPPO     A53  Moonlight Black   6 GB  128 GB     4.3          13990   \n",
            "3        OPPO     A53       Mint Cream   6 GB  128 GB     4.3          13990   \n",
            "4        OPPO     A53   Electric Black   4 GB   64 GB     4.5          11990   \n",
            "...       ...     ...              ...    ...     ...     ...            ...   \n",
            "3109  SAMSUNG  M52 5G    Blazing Black   6 GB  128 GB     4.3          25990   \n",
            "3110  SAMSUNG  M52 5G         Icy Blue   6 GB  128 GB     4.3          25489   \n",
            "3111  SAMSUNG  M52 5G         Icy Blue   8 GB  128 GB     4.3          27239   \n",
            "3112  SAMSUNG  M52 5G      Slate Black   8 GB  128 GB     4.2          22989   \n",
            "3113  SAMSUNG  M52 5G         Sky Blue   8 GB  128 GB     4.2          20350   \n",
            "\n",
            "      Original Price  \n",
            "0              15990  \n",
            "1              15990  \n",
            "2              17990  \n",
            "3              17990  \n",
            "4              15990  \n",
            "...              ...  \n",
            "3109           25990  \n",
            "3110           28449  \n",
            "3111           31489  \n",
            "3112           22989  \n",
            "3113           22595  \n",
            "\n",
            "[3114 rows x 8 columns]\n"
          ]
        }
      ]
    },
    {
      "cell_type": "code",
      "source": [
        "#needs to be uploaded to colab files everytime\n",
        "url=\"celebs.csv\"\n",
        "df=pandas.read_csv(url)\n",
        "print(df)"
      ],
      "metadata": {
        "colab": {
          "base_uri": "https://localhost:8080/"
        },
        "id": "HM2pdnDJOiwV",
        "outputId": "424ff286-62d0-400a-a482-88e804469843"
      },
      "execution_count": 7,
      "outputs": [
        {
          "output_type": "stream",
          "name": "stdout",
          "text": [
            "                              Name  Age  Gender      Country            Field  \\\n",
            "0                Cristiano Ronaldo   39    Male     Portugal         Football   \n",
            "1                     Lionel Messi   37    Male    Argentina         Football   \n",
            "2                      Virat Kohli   36    Male        India          Cricket   \n",
            "3                     Taylor Swift   35  Female          USA            Music   \n",
            "4                     Selena Gomez   32  Female          USA     Music/Acting   \n",
            "5                   Dwayne Johnson   52    Male          USA  Films/Wrestling   \n",
            "6                     Kylie Jenner   27  Female          USA  Entrepreneur/TV   \n",
            "7                   Kim Kardashian   44  Female          USA  TV/Entrepreneur   \n",
            "8                       Neymar Jr.   33    Male       Brazil         Football   \n",
            "9                          Zendaya   28  Female          USA           Acting   \n",
            "10                  Shah Rukh Khan   59    Male        India            Films   \n",
            "11                   Ariana Grande   32  Female          USA            Music   \n",
            "12                     Emma Watson   35  Female           UK           Acting   \n",
            "13                    BTS Jungkook   27    Male  South Korea            Music   \n",
            "14                   Billie Eilish   23  Female          USA            Music   \n",
            "15               Robert Downey Jr.   60    Male          USA            Films   \n",
            "16  Lionel Andrés Messi Cuccittini   37    Male    Argentina         Football   \n",
            "17                Deepika Padukone   39  Female        India            Films   \n",
            "18           Priyanka Chopra Jonas   42  Female    India/USA            Films   \n",
            "19                       Bad Bunny   31    Male  Puerto Rico            Music   \n",
            "20                    LeBron James   40    Male          USA       Basketball   \n",
            "21                 Chris Hemsworth   41    Male    Australia            Films   \n",
            "22                 Virgil van Dijk   33    Male  Netherlands         Football   \n",
            "23                      Gigi Hadid   30  Female          USA         Modeling   \n",
            "24                  BLACKPINK Lisa   28  Female     Thailand            Music   \n",
            "\n",
            "    Followers  \n",
            "0         630  \n",
            "1         520  \n",
            "2         270  \n",
            "3         290  \n",
            "4         430  \n",
            "5         400  \n",
            "6         400  \n",
            "7         360  \n",
            "8         215  \n",
            "9         190  \n",
            "10         45  \n",
            "11        380  \n",
            "12         75  \n",
            "13         85  \n",
            "14        110  \n",
            "15         65  \n",
            "16        520  \n",
            "17         80  \n",
            "18         90  \n",
            "19         60  \n",
            "20        160  \n",
            "21         75  \n",
            "22         15  \n",
            "23         80  \n",
            "24        105  \n"
          ]
        }
      ]
    }
  ]
}