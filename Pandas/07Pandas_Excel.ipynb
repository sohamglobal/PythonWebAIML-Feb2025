{
  "nbformat": 4,
  "nbformat_minor": 0,
  "metadata": {
    "colab": {
      "provenance": []
    },
    "kernelspec": {
      "name": "python3",
      "display_name": "Python 3"
    },
    "language_info": {
      "name": "python"
    }
  },
  "cells": [
    {
      "cell_type": "code",
      "execution_count": 1,
      "metadata": {
        "id": "rDdcWSj8bk-d"
      },
      "outputs": [],
      "source": [
        "import pandas"
      ]
    },
    {
      "cell_type": "code",
      "source": [
        "file=pandas.ExcelFile(\"players.xlsx\")"
      ],
      "metadata": {
        "id": "YCOL1m7dcHES"
      },
      "execution_count": 2,
      "outputs": []
    },
    {
      "cell_type": "code",
      "source": [
        "df=file.parse(\"Players\")"
      ],
      "metadata": {
        "id": "u6hzwpLncPQI"
      },
      "execution_count": 5,
      "outputs": []
    },
    {
      "cell_type": "code",
      "source": [
        "print(df)"
      ],
      "metadata": {
        "colab": {
          "base_uri": "https://localhost:8080/"
        },
        "id": "Pf4CbgJXctqg",
        "outputId": "f5a0075b-d9b8-4d67-9ffd-a835b090f624"
      },
      "execution_count": 6,
      "outputs": [
        {
          "output_type": "stream",
          "name": "stdout",
          "text": [
            "                Name  Age Gender   Runs  Wickets  Average  Strike Rate\n",
            "0           Joe Root   33   Male  11000       30     50.3         86.5\n",
            "1         Ben Stokes   32   Male   5700      197     38.4         93.2\n",
            "2        Jos Buttler   34   Male   4600        0     41.1        118.7\n",
            "3     Jonny Bairstow   35   Male   5100        0     39.9         97.5\n",
            "4          Moeen Ali   37   Male   3000       99     29.2        102.1\n",
            "5       Jofra Archer   30   Male    200       42     12.5         91.4\n",
            "6       Chris Woakes   35   Male   1500      150     24.8         88.0\n",
            "7          Mark Wood   34   Male    400      120     13.7         95.3\n",
            "8        Adil Rashid   36   Male    600      170     20.1         84.5\n",
            "9        Dawid Malan   36   Male   2000        0     41.9         92.0\n",
            "10        Sam Curran   26   Male   1000       70     23.3         89.8\n",
            "11  Liam Livingstone   31   Male    900       25     29.8        130.4\n",
            "12         Jason Roy   34   Male   4300        0     40.6        105.6\n",
            "13      Reece Topley   30   Male    150       65     11.2         85.0\n",
            "14      David Willey   35   Male    800       90     20.4         91.1\n",
            "15         Phil Salt   29   Male    700        0     32.7        121.8\n",
            "16       Harry Brook   26   Male    950        5     37.5         98.9\n",
            "17      Brydon Carse   29   Male    300       40     16.9         87.6\n",
            "18     Craig Overton   30   Male    350       45     19.7         83.4\n",
            "19        Tom Curran   30   Male    550       60     21.6         90.2\n",
            "20       Ben Duckett   30   Male   1100        0     33.5        100.7\n",
            "21        Olly Stone   32   Male    250       35     14.3         89.9\n",
            "22    Matt Parkinson   29   Male    100       30      9.2         76.1\n",
            "23     Jamie Overton   31   Male    400       25     22.5         92.3\n",
            "24        Will Jacks   27   Male    650       15     28.9        105.0\n"
          ]
        }
      ]
    }
  ]
}