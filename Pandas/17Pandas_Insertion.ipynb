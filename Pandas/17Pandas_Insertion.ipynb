{
  "nbformat": 4,
  "nbformat_minor": 0,
  "metadata": {
    "colab": {
      "provenance": []
    },
    "kernelspec": {
      "name": "python3",
      "display_name": "Python 3"
    },
    "language_info": {
      "name": "python"
    }
  },
  "cells": [
    {
      "cell_type": "code",
      "execution_count": 1,
      "metadata": {
        "id": "sqlzSGwc-9uU"
      },
      "outputs": [],
      "source": [
        "import pandas"
      ]
    },
    {
      "cell_type": "code",
      "source": [
        "df=pandas.DataFrame(columns=['name','science','english','maths'])\n",
        "print(df)"
      ],
      "metadata": {
        "colab": {
          "base_uri": "https://localhost:8080/"
        },
        "id": "BfSh2Ntl_FNn",
        "outputId": "0e1b3cb4-45f0-4e58-b5de-f1c3f2958761"
      },
      "execution_count": 2,
      "outputs": [
        {
          "output_type": "stream",
          "name": "stdout",
          "text": [
            "Empty DataFrame\n",
            "Columns: [name, science, english, maths]\n",
            "Index: []\n"
          ]
        }
      ]
    },
    {
      "cell_type": "code",
      "source": [
        "df.loc[0]=['Swami',94,86,98]\n",
        "print(df)"
      ],
      "metadata": {
        "colab": {
          "base_uri": "https://localhost:8080/"
        },
        "id": "NXa3PMyp_R4N",
        "outputId": "98354e31-4253-49ed-b4e6-cf37dc781e34"
      },
      "execution_count": 3,
      "outputs": [
        {
          "output_type": "stream",
          "name": "stdout",
          "text": [
            "    name  science  english  maths\n",
            "0  Swami       94       86     98\n"
          ]
        }
      ]
    },
    {
      "cell_type": "code",
      "source": [
        "df.loc[1]=['praffull',79,72,37]\n",
        "print(df)"
      ],
      "metadata": {
        "colab": {
          "base_uri": "https://localhost:8080/"
        },
        "id": "XRZRQGv3_szz",
        "outputId": "22484e30-0b5d-43ff-8096-cc025633ab1d"
      },
      "execution_count": 4,
      "outputs": [
        {
          "output_type": "stream",
          "name": "stdout",
          "text": [
            "       name  science  english  maths\n",
            "0     Swami       94       86     98\n",
            "1  praffull       79       72     37\n"
          ]
        }
      ]
    },
    {
      "cell_type": "code",
      "source": [
        "df.loc[2,['name','maths']]=['ajinkya',91]"
      ],
      "metadata": {
        "id": "7N7n-yRDAFXO"
      },
      "execution_count": 5,
      "outputs": []
    },
    {
      "cell_type": "code",
      "source": [
        "print(df)"
      ],
      "metadata": {
        "id": "HE7qRQVdAXn5",
        "outputId": "c3e5960b-8448-418f-9b51-012858b6a4ad",
        "colab": {
          "base_uri": "https://localhost:8080/"
        }
      },
      "execution_count": 6,
      "outputs": [
        {
          "output_type": "stream",
          "name": "stdout",
          "text": [
            "       name  science  english  maths\n",
            "0     Swami     94.0     86.0   98.0\n",
            "1  praffull     79.0     72.0   37.0\n",
            "2   ajinkya      NaN      NaN   91.0\n"
          ]
        }
      ]
    },
    {
      "cell_type": "code",
      "source": [
        "df.loc[2,'science']=67\n",
        "print(df)"
      ],
      "metadata": {
        "colab": {
          "base_uri": "https://localhost:8080/"
        },
        "id": "0o4eOCf_9lYI",
        "outputId": "837e8c8f-4457-4ddd-e70e-0fe47cf2419e"
      },
      "execution_count": 7,
      "outputs": [
        {
          "output_type": "stream",
          "name": "stdout",
          "text": [
            "       name  science  english  maths\n",
            "0     Swami     94.0     86.0   98.0\n",
            "1  praffull     79.0     72.0   37.0\n",
            "2   ajinkya     67.0      NaN   91.0\n"
          ]
        }
      ]
    },
    {
      "cell_type": "code",
      "source": [
        "df.loc[1,'name']='jonty'\n",
        "print(df)"
      ],
      "metadata": {
        "colab": {
          "base_uri": "https://localhost:8080/"
        },
        "id": "1iqiW86w-E5n",
        "outputId": "9b5e1bbf-4771-4965-c361-df95088281c9"
      },
      "execution_count": 8,
      "outputs": [
        {
          "output_type": "stream",
          "name": "stdout",
          "text": [
            "      name  science  english  maths\n",
            "0    Swami     94.0     86.0   98.0\n",
            "1    jonty     79.0     72.0   37.0\n",
            "2  ajinkya     67.0      NaN   91.0\n"
          ]
        }
      ]
    },
    {
      "cell_type": "code",
      "source": [
        "dic={\n",
        "    'country':['usa','england','france','germany','japan'],\n",
        "    'capital':['washington','london','paris','berlin','tokyo']\n",
        "}\n",
        "df=pandas.DataFrame(dic)\n",
        "print(df)"
      ],
      "metadata": {
        "colab": {
          "base_uri": "https://localhost:8080/"
        },
        "id": "x23ZSrF2-YXP",
        "outputId": "d9aa30c7-d020-4fd8-bbc9-9b8fb8e31e0a"
      },
      "execution_count": 12,
      "outputs": [
        {
          "output_type": "stream",
          "name": "stdout",
          "text": [
            "   country     capital\n",
            "0      usa  washington\n",
            "1  england      london\n",
            "2   france       paris\n",
            "3  germany      berlin\n",
            "4    japan       tokyo\n"
          ]
        }
      ]
    },
    {
      "cell_type": "code",
      "source": [
        "#df.insert(0,'code',[101,102,103,104,105])\n",
        "df.insert(0,'code',[x for x in range(131,136)])\n",
        "print(df)"
      ],
      "metadata": {
        "colab": {
          "base_uri": "https://localhost:8080/"
        },
        "id": "g022WdP3-84B",
        "outputId": "42aedf83-3419-444a-c2df-17e85f96a827"
      },
      "execution_count": 13,
      "outputs": [
        {
          "output_type": "stream",
          "name": "stdout",
          "text": [
            "   code  country     capital\n",
            "0   131      usa  washington\n",
            "1   132  england      london\n",
            "2   133   france       paris\n",
            "3   134  germany      berlin\n",
            "4   135    japan       tokyo\n"
          ]
        }
      ]
    },
    {
      "cell_type": "code",
      "source": [
        "lst=['USD','pounds','euro','euro','yen']\n",
        "df.insert(3,'currency',lst)"
      ],
      "metadata": {
        "id": "8WP3LeQT_21w"
      },
      "execution_count": 14,
      "outputs": []
    },
    {
      "cell_type": "code",
      "source": [
        "print(df)"
      ],
      "metadata": {
        "colab": {
          "base_uri": "https://localhost:8080/"
        },
        "id": "vYLMiIq8ARLT",
        "outputId": "34941f2e-ae8b-4409-aaeb-71ec7d8962d3"
      },
      "execution_count": 15,
      "outputs": [
        {
          "output_type": "stream",
          "name": "stdout",
          "text": [
            "   code  country     capital currency\n",
            "0   131      usa  washington      USD\n",
            "1   132  england      london   pounds\n",
            "2   133   france       paris     euro\n",
            "3   134  germany      berlin     euro\n",
            "4   135    japan       tokyo      yen\n"
          ]
        }
      ]
    }
  ]
}