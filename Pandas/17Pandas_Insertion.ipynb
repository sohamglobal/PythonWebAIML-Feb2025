{
  "nbformat": 4,
  "nbformat_minor": 0,
  "metadata": {
    "colab": {
      "provenance": []
    },
    "kernelspec": {
      "name": "python3",
      "display_name": "Python 3"
    },
    "language_info": {
      "name": "python"
    }
  },
  "cells": [
    {
      "cell_type": "code",
      "execution_count": 1,
      "metadata": {
        "id": "sqlzSGwc-9uU"
      },
      "outputs": [],
      "source": [
        "import pandas"
      ]
    },
    {
      "cell_type": "code",
      "source": [
        "df=pandas.DataFrame(columns=['name','science','english','maths'])\n",
        "print(df)"
      ],
      "metadata": {
        "colab": {
          "base_uri": "https://localhost:8080/"
        },
        "id": "BfSh2Ntl_FNn",
        "outputId": "d82996ac-a69e-48b4-ba6e-e18cb535402f"
      },
      "execution_count": 2,
      "outputs": [
        {
          "output_type": "stream",
          "name": "stdout",
          "text": [
            "Empty DataFrame\n",
            "Columns: [name, science, english, maths]\n",
            "Index: []\n"
          ]
        }
      ]
    },
    {
      "cell_type": "code",
      "source": [
        "df.loc[0]=['Swami',94,86,98]\n",
        "print(df)"
      ],
      "metadata": {
        "colab": {
          "base_uri": "https://localhost:8080/"
        },
        "id": "NXa3PMyp_R4N",
        "outputId": "ddbba8e0-1a15-4cc3-f616-77d34eaeefad"
      },
      "execution_count": 3,
      "outputs": [
        {
          "output_type": "stream",
          "name": "stdout",
          "text": [
            "    name  science  english  maths\n",
            "0  Swami       94       86     98\n"
          ]
        }
      ]
    },
    {
      "cell_type": "code",
      "source": [
        "df.loc[1]=['praffull',79,72,37]\n",
        "print(df)"
      ],
      "metadata": {
        "colab": {
          "base_uri": "https://localhost:8080/"
        },
        "id": "XRZRQGv3_szz",
        "outputId": "c7094b08-c2e0-4842-d2fa-1d6b12c6eed2"
      },
      "execution_count": 4,
      "outputs": [
        {
          "output_type": "stream",
          "name": "stdout",
          "text": [
            "       name  science  english  maths\n",
            "0     Swami       94       86     98\n",
            "1  praffull       79       72     37\n"
          ]
        }
      ]
    },
    {
      "cell_type": "code",
      "source": [
        "df.loc[2,['name','maths']]=['ajinkya',91]"
      ],
      "metadata": {
        "id": "7N7n-yRDAFXO"
      },
      "execution_count": 5,
      "outputs": []
    },
    {
      "cell_type": "code",
      "source": [
        "print(df)"
      ],
      "metadata": {
        "colab": {
          "base_uri": "https://localhost:8080/"
        },
        "id": "HE7qRQVdAXn5",
        "outputId": "649bc574-4cbc-478c-baaf-290cff6cf049"
      },
      "execution_count": 6,
      "outputs": [
        {
          "output_type": "stream",
          "name": "stdout",
          "text": [
            "       name  science  english  maths\n",
            "0     Swami     94.0     86.0   98.0\n",
            "1  praffull     79.0     72.0   37.0\n",
            "2   ajinkya      NaN      NaN   91.0\n"
          ]
        }
      ]
    }
  ]
}