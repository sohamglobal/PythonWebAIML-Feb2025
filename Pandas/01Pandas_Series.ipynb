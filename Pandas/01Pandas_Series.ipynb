{
  "nbformat": 4,
  "nbformat_minor": 0,
  "metadata": {
    "colab": {
      "provenance": []
    },
    "kernelspec": {
      "name": "python3",
      "display_name": "Python 3"
    },
    "language_info": {
      "name": "python"
    }
  },
  "cells": [
    {
      "cell_type": "code",
      "execution_count": null,
      "metadata": {
        "id": "7-2FNGwGzGxo"
      },
      "outputs": [],
      "source": [
        "import numpy\n",
        "import pandas"
      ]
    },
    {
      "cell_type": "code",
      "source": [
        "lst=['java','python','sql',9,'microsoft','volkswagen',26.13]"
      ],
      "metadata": {
        "id": "iTmMqIa_43W_"
      },
      "execution_count": null,
      "outputs": []
    },
    {
      "cell_type": "code",
      "source": [
        "arr=numpy.array(lst)\n",
        "print(arr)"
      ],
      "metadata": {
        "colab": {
          "base_uri": "https://localhost:8080/"
        },
        "id": "VVlWsGPV5GEF",
        "outputId": "c591a7da-f00b-4d7e-c2b7-913c9c2f390e"
      },
      "execution_count": null,
      "outputs": [
        {
          "output_type": "stream",
          "name": "stdout",
          "text": [
            "['java' 'python' 'sql' '9' 'microsoft' 'volkswagen' '26.13']\n"
          ]
        }
      ]
    },
    {
      "cell_type": "code",
      "source": [
        "ser=pandas.Series(lst)\n",
        "print(ser)"
      ],
      "metadata": {
        "colab": {
          "base_uri": "https://localhost:8080/"
        },
        "id": "U523E8Kw5YZY",
        "outputId": "fa58d986-bd3a-4063-a52b-018d8ed85760"
      },
      "execution_count": null,
      "outputs": [
        {
          "output_type": "stream",
          "name": "stdout",
          "text": [
            "0          java\n",
            "1        python\n",
            "2           sql\n",
            "3             9\n",
            "4     microsoft\n",
            "5    volkswagen\n",
            "6         26.13\n",
            "dtype: object\n"
          ]
        }
      ]
    },
    {
      "cell_type": "code",
      "source": [
        "print(ser[4])"
      ],
      "metadata": {
        "colab": {
          "base_uri": "https://localhost:8080/"
        },
        "id": "Yi4Kn3ni5qn0",
        "outputId": "c586e0c7-8b90-4bad-ad8c-62aa672eb6ea"
      },
      "execution_count": null,
      "outputs": [
        {
          "output_type": "stream",
          "name": "stdout",
          "text": [
            "microsoft\n"
          ]
        }
      ]
    },
    {
      "cell_type": "code",
      "source": [
        "ser=pandas.Series(arr)\n",
        "print(ser)"
      ],
      "metadata": {
        "colab": {
          "base_uri": "https://localhost:8080/"
        },
        "id": "jO4qRBih53Y2",
        "outputId": "dec8318f-1cb4-40ff-9232-8f870e15a0ae"
      },
      "execution_count": null,
      "outputs": [
        {
          "output_type": "stream",
          "name": "stdout",
          "text": [
            "0          java\n",
            "1        python\n",
            "2           sql\n",
            "3             9\n",
            "4     microsoft\n",
            "5    volkswagen\n",
            "6         26.13\n",
            "dtype: object\n"
          ]
        }
      ]
    }
  ]
}