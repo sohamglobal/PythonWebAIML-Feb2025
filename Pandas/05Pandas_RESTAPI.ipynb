{
  "nbformat": 4,
  "nbformat_minor": 0,
  "metadata": {
    "colab": {
      "provenance": []
    },
    "kernelspec": {
      "name": "python3",
      "display_name": "Python 3"
    },
    "language_info": {
      "name": "python"
    }
  },
  "cells": [
    {
      "cell_type": "code",
      "execution_count": 1,
      "metadata": {
        "id": "3adbr2yqJD2B"
      },
      "outputs": [],
      "source": [
        "import pandas"
      ]
    },
    {
      "cell_type": "code",
      "source": [
        "url=\"http://sohamspring.azurewebsites.net/api/players/all\""
      ],
      "metadata": {
        "id": "4G09S9YMJxCH"
      },
      "execution_count": 2,
      "outputs": []
    },
    {
      "cell_type": "code",
      "source": [
        "df=pandas.read_json(url)\n",
        "print(df)"
      ],
      "metadata": {
        "colab": {
          "base_uri": "https://localhost:8080/"
        },
        "id": "YbFSd8HaJ2Gu",
        "outputId": "6b29f802-4a12-4c88-e2d1-bd67ab8b680b"
      },
      "execution_count": 3,
      "outputs": [
        {
          "output_type": "stream",
          "name": "stdout",
          "text": [
            "     playerno          playernm    position  country         club\n",
            "0         913       Will Dennis  Goalkeeper  England  Bournemouth\n",
            "1         914      Mark Travers  Goalkeeper  Ireland  Bournemouth\n",
            "2         915       Lloyd Kelly    Defender  England  Bournemouth\n",
            "3         916      Chris Mepham    Defender    Wales  Bournemouth\n",
            "4         917        Adam Smith    Defender  England  Bournemouth\n",
            "..        ...               ...         ...      ...          ...\n",
            "446      1360       Diego Costa     Forward    Spain       Wolves\n",
            "447      1361     Chem Campbell  Midfielder    Wales       Wolves\n",
            "448      1362  Harvey Griffiths  Midfielder  England       Wolves\n",
            "449      1363     Nathan Fraser     Forward  Ireland       Wolves\n",
            "450      1364  Dexter Lembikisa    Defender  Jamaica       Wolves\n",
            "\n",
            "[451 rows x 5 columns]\n"
          ]
        }
      ]
    },
    {
      "cell_type": "code",
      "source": [
        "url=\"http://sohamspring.azurewebsites.net/api/accounts/type/current\""
      ],
      "metadata": {
        "id": "Vn5d6haRKXXM"
      },
      "execution_count": 5,
      "outputs": []
    },
    {
      "cell_type": "code",
      "source": [
        "df=pandas.read_json(url)\n",
        "print(df)"
      ],
      "metadata": {
        "colab": {
          "base_uri": "https://localhost:8080/"
        },
        "id": "Rf3CB3OSKma_",
        "outputId": "ac597949-8071-4298-a108-d04053461a29"
      },
      "execution_count": 6,
      "outputs": [
        {
          "output_type": "stream",
          "name": "stdout",
          "text": [
            "    accno                    accnm  acctype  balance\n",
            "0    1003         mitchell johnson  current    15300\n",
            "1    1009               david luiz  current    28400\n",
            "2    1016             garry cahill  current    39550\n",
            "3    1018        cesar azpilicueta  current    82716\n",
            "4    1019            cesc fabregas  current    82716\n",
            "5    1021           james anderson  current    63228\n",
            "6    1023                 moin ali  current    26551\n",
            "7    1027         liam livingstone  current    49668\n",
            "8    1032  alex oxlade chamberlain  current    58449\n",
            "9    1035               harry kane  current    78751\n",
            "10   1038               bill gates  current    93119\n"
          ]
        }
      ]
    },
    {
      "cell_type": "code",
      "source": [
        "url=\"http://sohamspring.azurewebsites.net/api/products/search/volkswagen\""
      ],
      "metadata": {
        "id": "PyMaYJoSLfHt"
      },
      "execution_count": 9,
      "outputs": []
    },
    {
      "cell_type": "code",
      "source": [
        "df=pandas.read_json(url)\n",
        "print(df)"
      ],
      "metadata": {
        "colab": {
          "base_uri": "https://localhost:8080/"
        },
        "id": "ATveGtu5Lq8f",
        "outputId": "16f7401d-cef1-4b7d-a7b8-44dedcf222a5"
      },
      "execution_count": 10,
      "outputs": [
        {
          "output_type": "stream",
          "name": "stdout",
          "text": [
            "  prodid  prodnm     company    price\n",
            "0  vw171  Virtus  Volkswagen  1132000\n",
            "1  vw172  Taigun  Volkswagen  1256000\n",
            "2  vw173  Tiguan  Volkswagen  3375000\n"
          ]
        }
      ]
    }
  ]
}