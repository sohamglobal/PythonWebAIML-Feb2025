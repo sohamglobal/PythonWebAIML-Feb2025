{
  "nbformat": 4,
  "nbformat_minor": 0,
  "metadata": {
    "colab": {
      "provenance": []
    },
    "kernelspec": {
      "name": "python3",
      "display_name": "Python 3"
    },
    "language_info": {
      "name": "python"
    }
  },
  "cells": [
    {
      "cell_type": "code",
      "execution_count": 1,
      "metadata": {
        "colab": {
          "base_uri": "https://localhost:8080/"
        },
        "id": "46H6bf4zAi3X",
        "outputId": "bbaf3781-e0b0-456a-aa0a-b090b3a7008d"
      },
      "outputs": [
        {
          "output_type": "stream",
          "name": "stdout",
          "text": [
            "Collecting pymysql\n",
            "  Downloading PyMySQL-1.1.1-py3-none-any.whl.metadata (4.4 kB)\n",
            "Downloading PyMySQL-1.1.1-py3-none-any.whl (44 kB)\n",
            "\u001b[?25l   \u001b[90m━━━━━━━━━━━━━━━━━━━━━━━━━━━━━━━━━━━━━━━━\u001b[0m \u001b[32m0.0/45.0 kB\u001b[0m \u001b[31m?\u001b[0m eta \u001b[36m-:--:--\u001b[0m\r\u001b[2K   \u001b[90m━━━━━━━━━━━━━━━━━━━━━━━━━━━━━━━━━━━━━━━━\u001b[0m \u001b[32m45.0/45.0 kB\u001b[0m \u001b[31m2.3 MB/s\u001b[0m eta \u001b[36m0:00:00\u001b[0m\n",
            "\u001b[?25hInstalling collected packages: pymysql\n",
            "Successfully installed pymysql-1.1.1\n"
          ]
        }
      ],
      "source": [
        "pip install pymysql"
      ]
    },
    {
      "cell_type": "code",
      "source": [
        "import pymysql\n",
        "import pandas"
      ],
      "metadata": {
        "id": "3mO-cpLdEp9X"
      },
      "execution_count": 2,
      "outputs": []
    },
    {
      "cell_type": "code",
      "source": [
        "con=pymysql.connect(host='mysql-ethan-python-mysql.h.aivencloud.com',port=10413,user='praffull',password='AVNS_owESNvPFD5fnVDwuWUq',database='sharayudb')\n",
        "print('python connected to cloud mysql database successfully')"
      ],
      "metadata": {
        "colab": {
          "base_uri": "https://localhost:8080/"
        },
        "id": "VNFUtFkdEt40",
        "outputId": "d6028387-eaca-463d-d9e1-c14940fe42a9"
      },
      "execution_count": 3,
      "outputs": [
        {
          "output_type": "stream",
          "name": "stdout",
          "text": [
            "python connected to cloud mysql database successfully\n"
          ]
        }
      ]
    },
    {
      "cell_type": "code",
      "source": [
        "dfcust=pandas.read_sql(\"select * from customers\",con)\n",
        "dfcars=pandas.read_sql(\"select * from cars\",con)"
      ],
      "metadata": {
        "colab": {
          "base_uri": "https://localhost:8080/"
        },
        "id": "bCqkrjyIE9Yn",
        "outputId": "94ee25dc-e8f9-40a2-edbf-eaa508476392"
      },
      "execution_count": 4,
      "outputs": [
        {
          "output_type": "stream",
          "name": "stderr",
          "text": [
            "<ipython-input-4-3237978650>:1: UserWarning: pandas only supports SQLAlchemy connectable (engine/connection) or database string URI or sqlite3 DBAPI2 connection. Other DBAPI2 objects are not tested. Please consider using SQLAlchemy.\n",
            "  dfcust=pandas.read_sql(\"select * from customers\",con)\n",
            "<ipython-input-4-3237978650>:2: UserWarning: pandas only supports SQLAlchemy connectable (engine/connection) or database string URI or sqlite3 DBAPI2 connection. Other DBAPI2 objects are not tested. Please consider using SQLAlchemy.\n",
            "  dfcars=pandas.read_sql(\"select * from cars\",con)\n"
          ]
        }
      ]
    },
    {
      "cell_type": "code",
      "source": [
        "print(dfcust)"
      ],
      "metadata": {
        "colab": {
          "base_uri": "https://localhost:8080/"
        },
        "id": "jOkT7BpIFK-Z",
        "outputId": "f93f7abc-8cbc-4096-979f-f913e76f348e"
      },
      "execution_count": 5,
      "outputs": [
        {
          "output_type": "stream",
          "name": "stdout",
          "text": [
            "    custno                 custnm         city  carid      paymode\n",
            "0        1               Joe Root       london  sk181   netbanking\n",
            "1        2           Boris Becker       berlin  ho162         cash\n",
            "2        3     Michael Schumacher       berlin  bm201  credit card\n",
            "3        4  Arnold Schwarzenegger   los angles  to191  credit card\n",
            "4        5            Jos Buttler   manchester  vw173  credit card\n",
            "5        6       Rebecca Ferguson     new york  bm185   netbanking\n",
            "6        7            Steffi Graf    stuttgart  vw171   debit card\n",
            "7        8           Keanu Reeves        tokyo  to191  credit card\n",
            "8        9       Sabastian Vettel   heppenheim  sk183  credit card\n",
            "9       10             Tom Cruise      chicago  bm201         cash\n",
            "10      11          Roger Federer    amsterdam  ho161  credit card\n",
            "11      12            Emily Blunt       london  vw172  credit card\n",
            "12      13         Shah Rukh Khan    new delhi  tt153   debit card\n",
            "13      14             A R Rahman      chennai  hd142         cash\n",
            "14      15                   Tabu    hyderabad  vw173   debit card\n",
            "15      16           Shabana Azmi       mumbai  ss210   debit card\n",
            "16      17                  Rekha      chennai  hd141         cash\n",
            "17      18       Amitabh Bachchan    allahabad  cs682         cash\n",
            "18      19             Imran Khan       lahore  to191   netbanking\n",
            "19      20           Dipika Singh       mumbai  to193   netbanking\n",
            "20      21              Alia Bhat      lucknow  hd142         cash\n",
            "21      22        Serena Williams     new york  ss210   netbanking\n",
            "22      23         Max Verstappen       berlin  rb739         cash\n",
            "23      24        Charles Leclerc  monte carlo  fr133   debit card\n",
            "24      25     Sylvester Stallone      Kolkata  ms134         cash\n",
            "25      26            Emily Blunt         Agra  ms131   netbanking\n"
          ]
        }
      ]
    },
    {
      "cell_type": "code",
      "source": [
        "print(dfcars)"
      ],
      "metadata": {
        "colab": {
          "base_uri": "https://localhost:8080/"
        },
        "id": "-FExUV1KFO5y",
        "outputId": "19b9ed82-d0c1-497a-8fc4-341355cd1eb3"
      },
      "execution_count": 6,
      "outputs": [
        {
          "output_type": "stream",
          "name": "stdout",
          "text": [
            "    carid       modelnm        company       price\n",
            "0   bm201            XM            BMW  12500000.0\n",
            "1   bm202            X1            BMW   4145000.0\n",
            "2   hd141         Venue        Hyundai    753000.0\n",
            "3   hd142         Creta        Hyundai   1044000.0\n",
            "4   hd143           i20        Hyundai    707000.0\n",
            "5   hd144           i10        Hyundai    542000.0\n",
            "6   ho161          City          Honda    950000.0\n",
            "7   ho162         Amaze          Honda    665000.0\n",
            "8   ms131         Swift  Maruti Suzuki    591000.0\n",
            "9   ms132  Grand Vitara  Maruti Suzuki   1035000.0\n",
            "10  ms133        Brezza  Maruti Suzuki    799000.0\n",
            "11  ms134        Baleno  Maruti Suzuki    642000.0\n",
            "12  ms135        WagonR  Maruti Suzuki    547000.0\n",
            "13  sk181        Kushaq          Skoda   1158000.0\n",
            "14  sk182        Superb          Skoda   3416000.0\n",
            "15  sk183        Kodiaq          Skoda   3749000.0\n",
            "16  to191      Fortuner         Toyota   3258000.0\n",
            "17  to192        Glanza         Toyota    659000.0\n",
            "18  to193        Innova         Toyota   1809000.0\n",
            "19  tt151         Nexon           Tata    769000.0\n",
            "20  tt152         Punch           Tata    600000.0\n",
            "21  tt153        Safari           Tata   1545000.0\n",
            "22  vw171        Virtus     Volkswagen   1132000.0\n",
            "23  vw172        Taigun     Volkswagen   1256000.0\n",
            "24  vw173        Tiguan     Volkswagen   3375000.0\n"
          ]
        }
      ]
    },
    {
      "cell_type": "code",
      "source": [
        "res=dfcust.merge(dfcars,on=\"carid\",how=\"inner\")\n",
        "print(res[['custnm','city','modelnm','company','price']])"
      ],
      "metadata": {
        "colab": {
          "base_uri": "https://localhost:8080/"
        },
        "id": "seXpRVxfFZJT",
        "outputId": "5486ef38-19fa-4207-b0ac-f15eb164b794"
      },
      "execution_count": 8,
      "outputs": [
        {
          "output_type": "stream",
          "name": "stdout",
          "text": [
            "                   custnm        city   modelnm        company       price\n",
            "0                Joe Root      london    Kushaq          Skoda   1158000.0\n",
            "1            Boris Becker      berlin     Amaze          Honda    665000.0\n",
            "2      Michael Schumacher      berlin        XM            BMW  12500000.0\n",
            "3   Arnold Schwarzenegger  los angles  Fortuner         Toyota   3258000.0\n",
            "4             Jos Buttler  manchester    Tiguan     Volkswagen   3375000.0\n",
            "5             Steffi Graf   stuttgart    Virtus     Volkswagen   1132000.0\n",
            "6            Keanu Reeves       tokyo  Fortuner         Toyota   3258000.0\n",
            "7        Sabastian Vettel  heppenheim    Kodiaq          Skoda   3749000.0\n",
            "8              Tom Cruise     chicago        XM            BMW  12500000.0\n",
            "9           Roger Federer   amsterdam      City          Honda    950000.0\n",
            "10            Emily Blunt      london    Taigun     Volkswagen   1256000.0\n",
            "11         Shah Rukh Khan   new delhi    Safari           Tata   1545000.0\n",
            "12             A R Rahman     chennai     Creta        Hyundai   1044000.0\n",
            "13                   Tabu   hyderabad    Tiguan     Volkswagen   3375000.0\n",
            "14                  Rekha     chennai     Venue        Hyundai    753000.0\n",
            "15             Imran Khan      lahore  Fortuner         Toyota   3258000.0\n",
            "16           Dipika Singh      mumbai    Innova         Toyota   1809000.0\n",
            "17              Alia Bhat     lucknow     Creta        Hyundai   1044000.0\n",
            "18     Sylvester Stallone     Kolkata    Baleno  Maruti Suzuki    642000.0\n",
            "19            Emily Blunt        Agra     Swift  Maruti Suzuki    591000.0\n"
          ]
        }
      ]
    },
    {
      "cell_type": "code",
      "source": [
        "res=dfcust.merge(dfcars,on=\"carid\",how=\"left\")\n",
        "print(res[['custnm','city','modelnm','company','price']])"
      ],
      "metadata": {
        "colab": {
          "base_uri": "https://localhost:8080/"
        },
        "id": "NvH6f-dHGsCB",
        "outputId": "cc6db379-cf0e-4a7b-967f-63bc75f0c17d"
      },
      "execution_count": 9,
      "outputs": [
        {
          "output_type": "stream",
          "name": "stdout",
          "text": [
            "                   custnm         city   modelnm        company       price\n",
            "0                Joe Root       london    Kushaq          Skoda   1158000.0\n",
            "1            Boris Becker       berlin     Amaze          Honda    665000.0\n",
            "2      Michael Schumacher       berlin        XM            BMW  12500000.0\n",
            "3   Arnold Schwarzenegger   los angles  Fortuner         Toyota   3258000.0\n",
            "4             Jos Buttler   manchester    Tiguan     Volkswagen   3375000.0\n",
            "5        Rebecca Ferguson     new york       NaN            NaN         NaN\n",
            "6             Steffi Graf    stuttgart    Virtus     Volkswagen   1132000.0\n",
            "7            Keanu Reeves        tokyo  Fortuner         Toyota   3258000.0\n",
            "8        Sabastian Vettel   heppenheim    Kodiaq          Skoda   3749000.0\n",
            "9              Tom Cruise      chicago        XM            BMW  12500000.0\n",
            "10          Roger Federer    amsterdam      City          Honda    950000.0\n",
            "11            Emily Blunt       london    Taigun     Volkswagen   1256000.0\n",
            "12         Shah Rukh Khan    new delhi    Safari           Tata   1545000.0\n",
            "13             A R Rahman      chennai     Creta        Hyundai   1044000.0\n",
            "14                   Tabu    hyderabad    Tiguan     Volkswagen   3375000.0\n",
            "15           Shabana Azmi       mumbai       NaN            NaN         NaN\n",
            "16                  Rekha      chennai     Venue        Hyundai    753000.0\n",
            "17       Amitabh Bachchan    allahabad       NaN            NaN         NaN\n",
            "18             Imran Khan       lahore  Fortuner         Toyota   3258000.0\n",
            "19           Dipika Singh       mumbai    Innova         Toyota   1809000.0\n",
            "20              Alia Bhat      lucknow     Creta        Hyundai   1044000.0\n",
            "21        Serena Williams     new york       NaN            NaN         NaN\n",
            "22         Max Verstappen       berlin       NaN            NaN         NaN\n",
            "23        Charles Leclerc  monte carlo       NaN            NaN         NaN\n",
            "24     Sylvester Stallone      Kolkata    Baleno  Maruti Suzuki    642000.0\n",
            "25            Emily Blunt         Agra     Swift  Maruti Suzuki    591000.0\n"
          ]
        }
      ]
    },
    {
      "cell_type": "code",
      "source": [
        "res=dfcust.merge(dfcars,on=\"carid\",how=\"right\")\n",
        "print(res[['custnm','city','modelnm','company','price']])"
      ],
      "metadata": {
        "colab": {
          "base_uri": "https://localhost:8080/"
        },
        "id": "4Ljj-MTiG7VF",
        "outputId": "dfb7dbc3-108e-494b-e64d-59215c6be738"
      },
      "execution_count": 10,
      "outputs": [
        {
          "output_type": "stream",
          "name": "stdout",
          "text": [
            "                   custnm        city       modelnm        company       price\n",
            "0      Michael Schumacher      berlin            XM            BMW  12500000.0\n",
            "1              Tom Cruise     chicago            XM            BMW  12500000.0\n",
            "2                     NaN         NaN            X1            BMW   4145000.0\n",
            "3                   Rekha     chennai         Venue        Hyundai    753000.0\n",
            "4              A R Rahman     chennai         Creta        Hyundai   1044000.0\n",
            "5               Alia Bhat     lucknow         Creta        Hyundai   1044000.0\n",
            "6                     NaN         NaN           i20        Hyundai    707000.0\n",
            "7                     NaN         NaN           i10        Hyundai    542000.0\n",
            "8           Roger Federer   amsterdam          City          Honda    950000.0\n",
            "9            Boris Becker      berlin         Amaze          Honda    665000.0\n",
            "10            Emily Blunt        Agra         Swift  Maruti Suzuki    591000.0\n",
            "11                    NaN         NaN  Grand Vitara  Maruti Suzuki   1035000.0\n",
            "12                    NaN         NaN        Brezza  Maruti Suzuki    799000.0\n",
            "13     Sylvester Stallone     Kolkata        Baleno  Maruti Suzuki    642000.0\n",
            "14                    NaN         NaN        WagonR  Maruti Suzuki    547000.0\n",
            "15               Joe Root      london        Kushaq          Skoda   1158000.0\n",
            "16                    NaN         NaN        Superb          Skoda   3416000.0\n",
            "17       Sabastian Vettel  heppenheim        Kodiaq          Skoda   3749000.0\n",
            "18  Arnold Schwarzenegger  los angles      Fortuner         Toyota   3258000.0\n",
            "19           Keanu Reeves       tokyo      Fortuner         Toyota   3258000.0\n",
            "20             Imran Khan      lahore      Fortuner         Toyota   3258000.0\n",
            "21                    NaN         NaN        Glanza         Toyota    659000.0\n",
            "22           Dipika Singh      mumbai        Innova         Toyota   1809000.0\n",
            "23                    NaN         NaN         Nexon           Tata    769000.0\n",
            "24                    NaN         NaN         Punch           Tata    600000.0\n",
            "25         Shah Rukh Khan   new delhi        Safari           Tata   1545000.0\n",
            "26            Steffi Graf   stuttgart        Virtus     Volkswagen   1132000.0\n",
            "27            Emily Blunt      london        Taigun     Volkswagen   1256000.0\n",
            "28            Jos Buttler  manchester        Tiguan     Volkswagen   3375000.0\n",
            "29                   Tabu   hyderabad        Tiguan     Volkswagen   3375000.0\n"
          ]
        }
      ]
    }
  ]
}